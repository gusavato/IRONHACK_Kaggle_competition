{
 "cells": [
  {
   "cell_type": "code",
   "execution_count": 59,
   "id": "766b044e",
   "metadata": {},
   "outputs": [],
   "source": [
    "import pandas as pd\n",
    "import numpy as np\n",
    "pd.options.plotting.backend = \"plotly\"\n",
    "pd.set_option('display.max_columns', None) \n",
    "\n",
    "import warnings\n",
    "warnings.filterwarnings('ignore')\n",
    "\n",
    "import plotly.express as px\n",
    "\n",
    "from sklearn.ensemble import RandomForestRegressor as RFR\n",
    "from sklearn.model_selection import RandomizedSearchCV\n",
    "\n",
    "from sklearn.metrics import mean_squared_error as mse\n",
    "from sklearn.metrics import r2_score as r2"
   ]
  },
  {
   "cell_type": "code",
   "execution_count": 60,
   "id": "fca393ed",
   "metadata": {},
   "outputs": [],
   "source": [
    "X_train = pd.read_csv('../data/transform/X_train_transform.csv')\n",
    "X_train_no_cluster = X_train.drop(columns=['4_cluster','5_cluster'])\n",
    "X_train_5c =  X_train.drop(columns=['4_cluster'])\n",
    "X_train_4c =  X_train.drop(columns=['5_cluster'])\n",
    "\n",
    "X_test = pd.read_csv('../data/transform/X_test_transform.csv')\n",
    "X_test_no_cluster = X_test.drop(columns=['4_cluster','5_cluster'])\n",
    "X_test_5c =  X_test.drop(columns=['4_cluster'])\n",
    "X_test_4c =  X_test.drop(columns=['5_cluster'])\n",
    "\n",
    "y_train = pd.read_csv('../data/transform/y_train.csv')"
   ]
  },
  {
   "cell_type": "code",
   "execution_count": 61,
   "id": "5fabde67",
   "metadata": {},
   "outputs": [],
   "source": [
    "def corr_plot(X,y):\n",
    "    # Creamos matriz de correlación\n",
    "    corr = pd.concat([X,y],axis=1).corr()\n",
    "\n",
    "    # Creamos máscara\n",
    "    mask = np.triu(np.ones_like(corr,dtype=bool))\n",
    "    data = corr[~pd.DataFrame(mask,index=corr.index,columns=corr.columns)]\n",
    "\n",
    "    # Incializamos figura\n",
    "    return px.imshow(abs(data).round(4),text_auto=True,color_continuous_scale='reds').update_layout(width=900,height=700)"
   ]
  },
  {
   "cell_type": "code",
   "execution_count": 62,
   "id": "fd495cc4",
   "metadata": {
    "scrolled": true
   },
   "outputs": [
    {
     "data": {
      "application/vnd.plotly.v1+json": {
       "config": {
        "plotlyServerURL": "https://plot.ly"
       },
       "data": [
        {
         "coloraxis": "coloraxis",
         "hovertemplate": "x: %{x}<br>y: %{y}<br>color: %{z}<extra></extra>",
         "name": "0",
         "texttemplate": "%{z}",
         "type": "heatmap",
         "x": [
          "Screen_Size",
          "RAM",
          "GPU",
          "Weight",
          "Storage_Capacity",
          "CPU_freq",
          "CPU_cores",
          "CPU_model",
          "Screen_Resolution",
          "Screen_Model",
          "Manufacturer_Apple",
          "Manufacturer_Asus",
          "Manufacturer_Chuwi",
          "Manufacturer_Dell",
          "Manufacturer_Fujitsu",
          "Manufacturer_Google",
          "Manufacturer_HP",
          "Manufacturer_Huawei",
          "Manufacturer_LG",
          "Manufacturer_Lenovo",
          "Manufacturer_MSI",
          "Manufacturer_Mediacom",
          "Manufacturer_Microsoft",
          "Manufacturer_Razer",
          "Manufacturer_Samsung",
          "Manufacturer_Toshiba",
          "Manufacturer_Vero",
          "Manufacturer_Xiaomi",
          "Operating_System_Chrome OS",
          "Operating_System_Linux",
          "Operating_System_Mac OS",
          "Operating_System_No OS",
          "Operating_System_Windows",
          "Storage_Type_Flash Storage + HDD",
          "Storage_Type_HDD",
          "Storage_Type_Hybrid",
          "Storage_Type_SSD",
          "Storage_Type_SSD + HDD",
          "Storage_Type_SSD + Hybrid",
          "CPU_brand_Intel",
          "CPU_brand_Samsung",
          "GPU_brand_ARM",
          "GPU_brand_Intel",
          "GPU_brand_Nvidia",
          "Operating_System_Version_10 S",
          "Operating_System_Version_7",
          "Operating_System_Version_Android",
          "Operating_System_Version_Chrome OS",
          "Operating_System_Version_No OS",
          "Operating_System_Version_Ubuntu",
          "Operating_System_Version_X",
          "Price"
         ],
         "xaxis": "x",
         "y": [
          "Screen_Size",
          "RAM",
          "GPU",
          "Weight",
          "Storage_Capacity",
          "CPU_freq",
          "CPU_cores",
          "CPU_model",
          "Screen_Resolution",
          "Screen_Model",
          "Manufacturer_Apple",
          "Manufacturer_Asus",
          "Manufacturer_Chuwi",
          "Manufacturer_Dell",
          "Manufacturer_Fujitsu",
          "Manufacturer_Google",
          "Manufacturer_HP",
          "Manufacturer_Huawei",
          "Manufacturer_LG",
          "Manufacturer_Lenovo",
          "Manufacturer_MSI",
          "Manufacturer_Mediacom",
          "Manufacturer_Microsoft",
          "Manufacturer_Razer",
          "Manufacturer_Samsung",
          "Manufacturer_Toshiba",
          "Manufacturer_Vero",
          "Manufacturer_Xiaomi",
          "Operating_System_Chrome OS",
          "Operating_System_Linux",
          "Operating_System_Mac OS",
          "Operating_System_No OS",
          "Operating_System_Windows",
          "Storage_Type_Flash Storage + HDD",
          "Storage_Type_HDD",
          "Storage_Type_Hybrid",
          "Storage_Type_SSD",
          "Storage_Type_SSD + HDD",
          "Storage_Type_SSD + Hybrid",
          "CPU_brand_Intel",
          "CPU_brand_Samsung",
          "GPU_brand_ARM",
          "GPU_brand_Intel",
          "GPU_brand_Nvidia",
          "Operating_System_Version_10 S",
          "Operating_System_Version_7",
          "Operating_System_Version_Android",
          "Operating_System_Version_Chrome OS",
          "Operating_System_Version_No OS",
          "Operating_System_Version_Ubuntu",
          "Operating_System_Version_X",
          "Price"
         ],
         "yaxis": "y",
         "z": [
          [
           null,
           null,
           null,
           null,
           null,
           null,
           null,
           null,
           null,
           null,
           null,
           null,
           null,
           null,
           null,
           null,
           null,
           null,
           null,
           null,
           null,
           null,
           null,
           null,
           null,
           null,
           null,
           null,
           null,
           null,
           null,
           null,
           null,
           null,
           null,
           null,
           null,
           null,
           null,
           null,
           null,
           null,
           null,
           null,
           null,
           null,
           null,
           null,
           null,
           null,
           null,
           null
          ],
          [
           0.2323,
           null,
           null,
           null,
           null,
           null,
           null,
           null,
           null,
           null,
           null,
           null,
           null,
           null,
           null,
           null,
           null,
           null,
           null,
           null,
           null,
           null,
           null,
           null,
           null,
           null,
           null,
           null,
           null,
           null,
           null,
           null,
           null,
           null,
           null,
           null,
           null,
           null,
           null,
           null,
           null,
           null,
           null,
           null,
           null,
           null,
           null,
           null,
           null,
           null,
           null,
           null
          ],
          [
           0.1829,
           0.3725,
           null,
           null,
           null,
           null,
           null,
           null,
           null,
           null,
           null,
           null,
           null,
           null,
           null,
           null,
           null,
           null,
           null,
           null,
           null,
           null,
           null,
           null,
           null,
           null,
           null,
           null,
           null,
           null,
           null,
           null,
           null,
           null,
           null,
           null,
           null,
           null,
           null,
           null,
           null,
           null,
           null,
           null,
           null,
           null,
           null,
           null,
           null,
           null,
           null,
           null
          ],
          [
           0.8223,
           0.3902,
           0.3036,
           null,
           null,
           null,
           null,
           null,
           null,
           null,
           null,
           null,
           null,
           null,
           null,
           null,
           null,
           null,
           null,
           null,
           null,
           null,
           null,
           null,
           null,
           null,
           null,
           null,
           null,
           null,
           null,
           null,
           null,
           null,
           null,
           null,
           null,
           null,
           null,
           null,
           null,
           null,
           null,
           null,
           null,
           null,
           null,
           null,
           null,
           null,
           null,
           null
          ],
          [
           0.527,
           0.3388,
           0.1329,
           0.5341,
           null,
           null,
           null,
           null,
           null,
           null,
           null,
           null,
           null,
           null,
           null,
           null,
           null,
           null,
           null,
           null,
           null,
           null,
           null,
           null,
           null,
           null,
           null,
           null,
           null,
           null,
           null,
           null,
           null,
           null,
           null,
           null,
           null,
           null,
           null,
           null,
           null,
           null,
           null,
           null,
           null,
           null,
           null,
           null,
           null,
           null,
           null,
           null
          ],
          [
           0.2991,
           0.3741,
           0.294,
           0.3156,
           0.2175,
           null,
           null,
           null,
           null,
           null,
           null,
           null,
           null,
           null,
           null,
           null,
           null,
           null,
           null,
           null,
           null,
           null,
           null,
           null,
           null,
           null,
           null,
           null,
           null,
           null,
           null,
           null,
           null,
           null,
           null,
           null,
           null,
           null,
           null,
           null,
           null,
           null,
           null,
           null,
           null,
           null,
           null,
           null,
           null,
           null,
           null,
           null
          ],
          [
           0.2915,
           0.3454,
           0.2822,
           0.3915,
           0.3014,
           0.0592,
           null,
           null,
           null,
           null,
           null,
           null,
           null,
           null,
           null,
           null,
           null,
           null,
           null,
           null,
           null,
           null,
           null,
           null,
           null,
           null,
           null,
           null,
           null,
           null,
           null,
           null,
           null,
           null,
           null,
           null,
           null,
           null,
           null,
           null,
           null,
           null,
           null,
           null,
           null,
           null,
           null,
           null,
           null,
           null,
           null,
           null
          ],
          [
           0.1804,
           0.4502,
           0.3839,
           0.2173,
           0.2478,
           0.1982,
           0.4427,
           null,
           null,
           null,
           null,
           null,
           null,
           null,
           null,
           null,
           null,
           null,
           null,
           null,
           null,
           null,
           null,
           null,
           null,
           null,
           null,
           null,
           null,
           null,
           null,
           null,
           null,
           null,
           null,
           null,
           null,
           null,
           null,
           null,
           null,
           null,
           null,
           null,
           null,
           null,
           null,
           null,
           null,
           null,
           null,
           null
          ],
          [
           0.0621,
           0.4231,
           0.2063,
           0.0137,
           0.0735,
           0.1385,
           0.1889,
           0.2479,
           null,
           null,
           null,
           null,
           null,
           null,
           null,
           null,
           null,
           null,
           null,
           null,
           null,
           null,
           null,
           null,
           null,
           null,
           null,
           null,
           null,
           null,
           null,
           null,
           null,
           null,
           null,
           null,
           null,
           null,
           null,
           null,
           null,
           null,
           null,
           null,
           null,
           null,
           null,
           null,
           null,
           null,
           null,
           null
          ],
          [
           0.1176,
           0.3063,
           0.2113,
           0.1147,
           0.1045,
           0.2844,
           0.2672,
           0.3222,
           0.2899,
           null,
           null,
           null,
           null,
           null,
           null,
           null,
           null,
           null,
           null,
           null,
           null,
           null,
           null,
           null,
           null,
           null,
           null,
           null,
           null,
           null,
           null,
           null,
           null,
           null,
           null,
           null,
           null,
           null,
           null,
           null,
           null,
           null,
           null,
           null,
           null,
           null,
           null,
           null,
           null,
           null,
           null,
           null
          ],
          [
           0.1396,
           0.0361,
           0.0502,
           0.1267,
           0.0801,
           0.0303,
           0.1139,
           0.068,
           0.1278,
           0.0972,
           null,
           null,
           null,
           null,
           null,
           null,
           null,
           null,
           null,
           null,
           null,
           null,
           null,
           null,
           null,
           null,
           null,
           null,
           null,
           null,
           null,
           null,
           null,
           null,
           null,
           null,
           null,
           null,
           null,
           null,
           null,
           null,
           null,
           null,
           null,
           null,
           null,
           null,
           null,
           null,
           null,
           null
          ],
          [
           0.1015,
           0.0493,
           0.1116,
           0.0703,
           0.1058,
           0.003,
           0.0977,
           0.0767,
           0.0652,
           0.0306,
           0.0503,
           null,
           null,
           null,
           null,
           null,
           null,
           null,
           null,
           null,
           null,
           null,
           null,
           null,
           null,
           null,
           null,
           null,
           null,
           null,
           null,
           null,
           null,
           null,
           null,
           null,
           null,
           null,
           null,
           null,
           null,
           null,
           null,
           null,
           null,
           null,
           null,
           null,
           null,
           null,
           null,
           null
          ],
          [
           0.0216,
           0.0429,
           0.0354,
           0.0261,
           0.0624,
           0.1015,
           0.0601,
           0.1049,
           0.0332,
           0.023,
           0.0074,
           0.021,
           null,
           null,
           null,
           null,
           null,
           null,
           null,
           null,
           null,
           null,
           null,
           null,
           null,
           null,
           null,
           null,
           null,
           null,
           null,
           null,
           null,
           null,
           null,
           null,
           null,
           null,
           null,
           null,
           null,
           null,
           null,
           null,
           null,
           null,
           null,
           null,
           null,
           null,
           null,
           null
          ],
          [
           0.057,
           0.123,
           0.1095,
           0.1197,
           0.1153,
           0.0322,
           0.1345,
           0.1659,
           0.1141,
           0.0996,
           0.0743,
           0.2108,
           0.031,
           null,
           null,
           null,
           null,
           null,
           null,
           null,
           null,
           null,
           null,
           null,
           null,
           null,
           null,
           null,
           null,
           null,
           null,
           null,
           null,
           null,
           null,
           null,
           null,
           null,
           null,
           null,
           null,
           null,
           null,
           null,
           null,
           null,
           null,
           null,
           null,
           null,
           null,
           null
          ],
          [
           0.0175,
           0.0048,
           0.0041,
           0.0109,
           0.0016,
           0.0187,
           0.0386,
           0.0128,
           0.037,
           0.077,
           0.006,
           0.0171,
           0.0025,
           0.0253,
           null,
           null,
           null,
           null,
           null,
           null,
           null,
           null,
           null,
           null,
           null,
           null,
           null,
           null,
           null,
           null,
           null,
           null,
           null,
           null,
           null,
           null,
           null,
           null,
           null,
           null,
           null,
           null,
           null,
           null,
           null,
           null,
           null,
           null,
           null,
           null,
           null,
           null
          ],
          [
           0.1077,
           0.0238,
           0.0075,
           0.0783,
           0.0362,
           0.1114,
           0.0473,
           0.022,
           0.0645,
           0.0631,
           0.0074,
           0.021,
           0.0031,
           0.031,
           0.0025,
           null,
           null,
           null,
           null,
           null,
           null,
           null,
           null,
           null,
           null,
           null,
           null,
           null,
           null,
           null,
           null,
           null,
           null,
           null,
           null,
           null,
           null,
           null,
           null,
           null,
           null,
           null,
           null,
           null,
           null,
           null,
           null,
           null,
           null,
           null,
           null,
           null
          ],
          [
           0.0274,
           0.1242,
           0.0923,
           0.0496,
           0.0648,
           0.0199,
           0.086,
           0.0582,
           0.0407,
           0.0128,
           0.063,
           0.1789,
           0.0263,
           0.2643,
           0.0215,
           0.0263,
           null,
           null,
           null,
           null,
           null,
           null,
           null,
           null,
           null,
           null,
           null,
           null,
           null,
           null,
           null,
           null,
           null,
           null,
           null,
           null,
           null,
           null,
           null,
           null,
           null,
           null,
           null,
           null,
           null,
           null,
           null,
           null,
           null,
           null,
           null,
           null
          ],
          [
           0.0656,
           0.0048,
           0.0041,
           0.0673,
           0.0218,
           0.0273,
           0.0386,
           0.0083,
           0.0292,
           0.006,
           0.006,
           0.0171,
           0.0025,
           0.0253,
           0.0021,
           0.0025,
           0.0215,
           null,
           null,
           null,
           null,
           null,
           null,
           null,
           null,
           null,
           null,
           null,
           null,
           null,
           null,
           null,
           null,
           null,
           null,
           null,
           null,
           null,
           null,
           null,
           null,
           null,
           null,
           null,
           null,
           null,
           null,
           null,
           null,
           null,
           null,
           null
          ],
          [
           0.0006,
           0.0238,
           0.005,
           0.0825,
           0.0124,
           0.0123,
           0.0115,
           0.0446,
           0.005,
           0.0021,
           0.0074,
           0.021,
           0.0031,
           0.031,
           0.0025,
           0.0031,
           0.0263,
           0.0025,
           null,
           null,
           null,
           null,
           null,
           null,
           null,
           null,
           null,
           null,
           null,
           null,
           null,
           null,
           null,
           null,
           null,
           null,
           null,
           null,
           null,
           null,
           null,
           null,
           null,
           null,
           null,
           null,
           null,
           null,
           null,
           null,
           null,
           null
          ],
          [
           0.069,
           0.0706,
           0.0141,
           0.0522,
           0.0484,
           0.0573,
           0.1432,
           0.0733,
           0.0124,
           0.0489,
           0.073,
           0.2072,
           0.0304,
           0.3061,
           0.0248,
           0.0304,
           0.2598,
           0.0248,
           0.0304,
           null,
           null,
           null,
           null,
           null,
           null,
           null,
           null,
           null,
           null,
           null,
           null,
           null,
           null,
           null,
           null,
           null,
           null,
           null,
           null,
           null,
           null,
           null,
           null,
           null,
           null,
           null,
           null,
           null,
           null,
           null,
           null,
           null
          ],
          [
           0.1918,
           0.1857,
           0.1999,
           0.1887,
           0.2515,
           0.1659,
           0.2058,
           0.1219,
           0.0321,
           0.1462,
           0.0253,
           0.0717,
           0.0105,
           0.106,
           0.0086,
           0.0105,
           0.0899,
           0.0086,
           0.0105,
           0.1042,
           null,
           null,
           null,
           null,
           null,
           null,
           null,
           null,
           null,
           null,
           null,
           null,
           null,
           null,
           null,
           null,
           null,
           null,
           null,
           null,
           null,
           null,
           null,
           null,
           null,
           null,
           null,
           null,
           null,
           null,
           null,
           null
          ],
          [
           0.0956,
           0.0819,
           0.0525,
           0.0896,
           0.1011,
           0.1495,
           0.0686,
           0.158,
           0.0057,
           0.0266,
           0.0113,
           0.0321,
           0.0047,
           0.0474,
           0.0038,
           0.0047,
           0.0402,
           0.0038,
           0.0047,
           0.0466,
           0.0161,
           null,
           null,
           null,
           null,
           null,
           null,
           null,
           null,
           null,
           null,
           null,
           null,
           null,
           null,
           null,
           null,
           null,
           null,
           null,
           null,
           null,
           null,
           null,
           null,
           null,
           null,
           null,
           null,
           null,
           null,
           null
          ],
          [
           0.0861,
           0.0083,
           0.0013,
           0.093,
           0.058,
           0.0324,
           0.067,
           0.0114,
           0.0664,
           0.0894,
           0.0105,
           0.0297,
           0.0044,
           0.0439,
           0.0036,
           0.0044,
           0.0372,
           0.0036,
           0.0044,
           0.0431,
           0.0149,
           0.0067,
           null,
           null,
           null,
           null,
           null,
           null,
           null,
           null,
           null,
           null,
           null,
           null,
           null,
           null,
           null,
           null,
           null,
           null,
           null,
           null,
           null,
           null,
           null,
           null,
           null,
           null,
           null,
           null,
           null,
           null
          ],
          [
           0.0016,
           0.1992,
           0.0657,
           0.0425,
           0.0086,
           0.068,
           0.05,
           0.0615,
           0.1833,
           0.0559,
           0.0095,
           0.0271,
           0.004,
           0.04,
           0.0032,
           0.004,
           0.034,
           0.0032,
           0.004,
           0.0393,
           0.0136,
           0.0061,
           0.0056,
           null,
           null,
           null,
           null,
           null,
           null,
           null,
           null,
           null,
           null,
           null,
           null,
           null,
           null,
           null,
           null,
           null,
           null,
           null,
           null,
           null,
           null,
           null,
           null,
           null,
           null,
           null,
           null,
           null
          ],
          [
           0.0666,
           0.0541,
           0.0164,
           0.0959,
           0.0521,
           0.0462,
           0.0554,
           0.0239,
           0.0164,
           0.044,
           0.0121,
           0.0343,
           0.005,
           0.0507,
           0.0041,
           0.005,
           0.043,
           0.0041,
           0.005,
           0.0498,
           0.0173,
           0.0077,
           0.0071,
           0.0065,
           null,
           null,
           null,
           null,
           null,
           null,
           null,
           null,
           null,
           null,
           null,
           null,
           null,
           null,
           null,
           null,
           null,
           null,
           null,
           null,
           null,
           null,
           null,
           null,
           null,
           null,
           null,
           null
          ],
          [
           0.0817,
           0.0077,
           0.0252,
           0.1102,
           0.1206,
           0.0622,
           0.1737,
           0.0264,
           0.0677,
           0.0454,
           0.0271,
           0.077,
           0.0113,
           0.1138,
           0.0092,
           0.0113,
           0.0966,
           0.0092,
           0.0113,
           0.1119,
           0.0387,
           0.0173,
           0.016,
           0.0146,
           0.0185,
           null,
           null,
           null,
           null,
           null,
           null,
           null,
           null,
           null,
           null,
           null,
           null,
           null,
           null,
           null,
           null,
           null,
           null,
           null,
           null,
           null,
           null,
           null,
           null,
           null,
           null,
           null
          ],
          [
           0.0336,
           0.0411,
           0.0247,
           0.053,
           0.0539,
           0.1025,
           0.0386,
           0.076,
           0.0041,
           0.0355,
           0.006,
           0.0171,
           0.0025,
           0.0253,
           0.0021,
           0.0025,
           0.0215,
           0.0021,
           0.0025,
           0.0248,
           0.0086,
           0.0038,
           0.0036,
           0.0032,
           0.0041,
           0.0092,
           null,
           null,
           null,
           null,
           null,
           null,
           null,
           null,
           null,
           null,
           null,
           null,
           null,
           null,
           null,
           null,
           null,
           null,
           null,
           null,
           null,
           null,
           null,
           null,
           null,
           null
          ],
          [
           0.0272,
           0.0189,
           0.1048,
           0.0404,
           0.0473,
           0.0287,
           0.0074,
           0.0062,
           0.0058,
           0.0084,
           0.0085,
           0.0242,
           0.0036,
           0.0358,
           0.0029,
           0.0036,
           0.0304,
           0.0029,
           0.0036,
           0.0352,
           0.0122,
           0.0054,
           0.005,
           0.0046,
           0.0058,
           0.0131,
           0.0029,
           null,
           null,
           null,
           null,
           null,
           null,
           null,
           null,
           null,
           null,
           null,
           null,
           null,
           null,
           null,
           null,
           null,
           null,
           null,
           null,
           null,
           null,
           null,
           null,
           null
          ],
          [
           0.2566,
           0.1044,
           0.0801,
           0.1474,
           0.1699,
           0.2432,
           0.1026,
           0.2125,
           0.0679,
           0.1453,
           0.0202,
           0.0156,
           0.0084,
           0.0685,
           0.0069,
           0.3657,
           0.0184,
           0.0069,
           0.0084,
           0.0342,
           0.0288,
           0.0129,
           0.0119,
           0.0109,
           0.0628,
           0.0309,
           0.0069,
           0.0097,
           null,
           null,
           null,
           null,
           null,
           null,
           null,
           null,
           null,
           null,
           null,
           null,
           null,
           null,
           null,
           null,
           null,
           null,
           null,
           null,
           null,
           null,
           null,
           null
          ],
          [
           0.0998,
           0.0923,
           0.1225,
           0.068,
           0.0662,
           0.0256,
           0.0378,
           0.0089,
           0.0789,
           0.0174,
           0.0302,
           0.0574,
           0.0126,
           0.1736,
           0.0103,
           0.0126,
           0.1077,
           0.0103,
           0.0126,
           0.1247,
           0.0432,
           0.0193,
           0.0179,
           0.0163,
           0.0207,
           0.0463,
           0.0103,
           0.0146,
           0.0345,
           null,
           null,
           null,
           null,
           null,
           null,
           null,
           null,
           null,
           null,
           null,
           null,
           null,
           null,
           null,
           null,
           null,
           null,
           null,
           null,
           null,
           null,
           null
          ],
          [
           0.1396,
           0.0361,
           0.0502,
           0.1267,
           0.0801,
           0.0303,
           0.1139,
           0.068,
           0.1278,
           0.0972,
           1,
           0.0503,
           0.0074,
           0.0743,
           0.006,
           0.0074,
           0.063,
           0.006,
           0.0074,
           0.073,
           0.0253,
           0.0113,
           0.0105,
           0.0095,
           0.0121,
           0.0271,
           0.006,
           0.0085,
           0.0202,
           0.0302,
           null,
           null,
           null,
           null,
           null,
           null,
           null,
           null,
           null,
           null,
           null,
           null,
           null,
           null,
           null,
           null,
           null,
           null,
           null,
           null,
           null,
           null
          ],
          [
           0.1012,
           0.1017,
           0.0513,
           0.0437,
           0.0638,
           0.0407,
           0.0784,
           0.0787,
           0.0851,
           0.0684,
           0.0316,
           0.0482,
           0.0132,
           0.1323,
           0.0107,
           0.0132,
           0.0062,
           0.0107,
           0.0132,
           0.27,
           0.045,
           0.0201,
           0.0186,
           0.017,
           0.0215,
           0.0483,
           0.0107,
           0.199,
           0.036,
           0.0539,
           0.0316,
           null,
           null,
           null,
           null,
           null,
           null,
           null,
           null,
           null,
           null,
           null,
           null,
           null,
           null,
           null,
           null,
           null,
           null,
           null,
           null,
           null
          ],
          [
           0.0446,
           0.1555,
           0.0972,
           0.0456,
           0.0234,
           0.1609,
           0.0713,
           0.177,
           0.084,
           0.1541,
           0.3254,
           0.0219,
           0.0227,
           0.036,
           0.0185,
           0.1357,
           0.1031,
           0.0185,
           0.0227,
           0.0597,
           0.0777,
           0.0347,
           0.0321,
           0.0293,
           0.0047,
           0.0834,
           0.0185,
           0.111,
           0.3711,
           0.5558,
           0.3254,
           0.5797,
           null,
           null,
           null,
           null,
           null,
           null,
           null,
           null,
           null,
           null,
           null,
           null,
           null,
           null,
           null,
           null,
           null,
           null,
           null,
           null
          ],
          [
           0.0124,
           0.0034,
           0.0761,
           0.0092,
           0.03,
           0.0438,
           0.0347,
           0.0729,
           0.0029,
           0.0268,
           0.0043,
           0.0121,
           0.0018,
           0.0574,
           0.0014,
           0.0018,
           0.0152,
           0.0014,
           0.0018,
           0.0176,
           0.0061,
           0.0027,
           0.0025,
           0.0023,
           0.0029,
           0.0065,
           0.0014,
           0.0021,
           0.0049,
           0.0073,
           0.0043,
           0.0076,
           0.0131,
           null,
           null,
           null,
           null,
           null,
           null,
           null,
           null,
           null,
           null,
           null,
           null,
           null,
           null,
           null,
           null,
           null,
           null,
           null
          ],
          [
           0.271,
           0.3085,
           0.1447,
           0.1613,
           0.3667,
           0.0905,
           0.1579,
           0.1775,
           0.2668,
           0.2876,
           0.0816,
           0.0093,
           0.034,
           0.014,
           0.023,
           0.034,
           0.0955,
           0.0278,
           0.034,
           0.0096,
           0.1164,
           0.0249,
           0.0482,
           0.044,
           0.0557,
           0.0312,
           0.0278,
           0.0393,
           0.0931,
           0.1794,
           0.0816,
           0.1718,
           0.1491,
           0.0196,
           null,
           null,
           null,
           null,
           null,
           null,
           null,
           null,
           null,
           null,
           null,
           null,
           null,
           null,
           null,
           null,
           null,
           null
          ],
          [
           0.0081,
           0.0229,
           0.0125,
           0.0082,
           0.0131,
           0.023,
           0.0052,
           0.007,
           0.0205,
           0.0196,
           0.006,
           0.0171,
           0.0025,
           0.0279,
           0.0021,
           0.0025,
           0.0215,
           0.0021,
           0.0025,
           0.0289,
           0.0086,
           0.0038,
           0.0036,
           0.0032,
           0.0041,
           0.0092,
           0.0021,
           0.0029,
           0.0069,
           0.0103,
           0.006,
           0.0107,
           0.0185,
           0.0014,
           0.0278,
           null,
           null,
           null,
           null,
           null,
           null,
           null,
           null,
           null,
           null,
           null,
           null,
           null,
           null,
           null,
           null,
           null
          ],
          [
           0.382,
           0.0762,
           0.0134,
           0.4202,
           0.6631,
           0.0768,
           0.139,
           0.096,
           0.218,
           0.1972,
           0.036,
           0.139,
           0.0568,
           0.018,
           0.0011,
           0.0542,
           0.0391,
           0.0442,
           0.0542,
           0.0842,
           0.1497,
           0.0101,
           0.0768,
           0.0701,
           0.0433,
           0.1155,
           0.0464,
           0.0626,
           0.0864,
           0.0906,
           0.036,
           0.0786,
           0.1324,
           0.0328,
           0.6278,
           0.0464,
           null,
           null,
           null,
           null,
           null,
           null,
           null,
           null,
           null,
           null,
           null,
           null,
           null,
           null,
           null,
           null
          ],
          [
           0.4086,
           0.3965,
           0.2335,
           0.5268,
           0.6266,
           0.2392,
           0.4125,
           0.2814,
           0.1004,
           0.2207,
           0.0573,
           0.161,
           0.0239,
           0.0772,
           0.0195,
           0.0239,
           0.124,
           0.0195,
           0.0239,
           0.0894,
           0.3792,
           0.0366,
           0.0339,
           0.0309,
           0.0079,
           0.0879,
           0.0195,
           0.0276,
           0.0654,
           0.0589,
           0.0573,
           0.0645,
           0.128,
           0.0138,
           0.2642,
           0.0195,
           0.4412,
           null,
           null,
           null,
           null,
           null,
           null,
           null,
           null,
           null,
           null,
           null,
           null,
           null,
           null,
           null
          ],
          [
           null,
           null,
           null,
           null,
           null,
           null,
           null,
           null,
           null,
           null,
           null,
           null,
           null,
           null,
           null,
           null,
           null,
           null,
           null,
           null,
           null,
           null,
           null,
           null,
           null,
           null,
           null,
           null,
           null,
           null,
           null,
           null,
           null,
           null,
           null,
           null,
           null,
           null,
           null,
           null,
           null,
           null,
           null,
           null,
           null,
           null,
           null,
           null,
           null,
           null,
           null,
           null
          ],
          [
           0.1385,
           0.1056,
           0.3862,
           0.0756,
           0.0543,
           0.1391,
           0.0813,
           0.3174,
           0.0978,
           0.1182,
           0.0302,
           0.0717,
           0.0126,
           0.1268,
           0.0103,
           0.0126,
           0.1005,
           0.0103,
           0.0126,
           0.0213,
           0.0432,
           0.0193,
           0.0179,
           0.0163,
           0.0207,
           0.0463,
           0.0103,
           0.0146,
           0.0345,
           0.0517,
           0.0302,
           0.0117,
           0.0659,
           0.0073,
           0.105,
           0.0103,
           0.0717,
           0.0067,
           null,
           null,
           null,
           null,
           null,
           null,
           null,
           null,
           null,
           null,
           null,
           null,
           null,
           null
          ],
          [
           null,
           null,
           null,
           null,
           null,
           null,
           null,
           null,
           null,
           null,
           null,
           null,
           null,
           null,
           null,
           null,
           null,
           null,
           null,
           null,
           null,
           null,
           null,
           null,
           null,
           null,
           null,
           null,
           null,
           null,
           null,
           null,
           null,
           null,
           null,
           null,
           null,
           null,
           null,
           null,
           null,
           null,
           null,
           null,
           null,
           null,
           null,
           null,
           null,
           null,
           null,
           null
          ],
          [
           null,
           null,
           null,
           null,
           null,
           null,
           null,
           null,
           null,
           null,
           null,
           null,
           null,
           null,
           null,
           null,
           null,
           null,
           null,
           null,
           null,
           null,
           null,
           null,
           null,
           null,
           null,
           null,
           null,
           null,
           null,
           null,
           null,
           null,
           null,
           null,
           null,
           null,
           null,
           null,
           null,
           null,
           null,
           null,
           null,
           null,
           null,
           null,
           null,
           null,
           null,
           null
          ],
          [
           0.6006,
           0.3145,
           0.1979,
           0.5998,
           0.4404,
           0.35,
           0.4095,
           0.2252,
           0.0763,
           0.279,
           0.0764,
           0.0966,
           0.0515,
           0.1238,
           0.042,
           0.0515,
           0.0468,
           0.042,
           0.0515,
           0.0952,
           0.2046,
           0.0788,
           0.0729,
           0.0485,
           0.016,
           0.1368,
           0.042,
           0.0691,
           0.1408,
           0.0835,
           0.0764,
           0.0269,
           0.0221,
           0.0345,
           0.016,
           0.0034,
           0.2395,
           0.4418,
           null,
           0.245,
           null,
           null,
           null,
           null,
           null,
           null,
           null,
           null,
           null,
           null,
           null,
           null
          ],
          [
           0.4815,
           0.4105,
           0.7596,
           0.5609,
           0.3659,
           0.3683,
           0.394,
           0.3515,
           0.1514,
           0.2885,
           0.0907,
           0.1483,
           0.0378,
           0.029,
           0.0309,
           0.0378,
           0.0898,
           0.0309,
           0.0378,
           0.0454,
           0.2785,
           0.0579,
           0.0536,
           0.0744,
           0.0131,
           0.0828,
           0.0309,
           0.094,
           0.1035,
           0.0329,
           0.0907,
           0.0637,
           0.0591,
           0.047,
           0.0726,
           0.0178,
           0.1876,
           0.4445,
           null,
           0.155,
           null,
           null,
           0.7347,
           null,
           null,
           null,
           null,
           null,
           null,
           null,
           null,
           null
          ],
          [
           0.1107,
           0.0278,
           0.0273,
           0.1016,
           0.0759,
           0.0146,
           0.0554,
           0.0048,
           0.039,
           0.1161,
           0.0121,
           0.0344,
           0.005,
           0.0507,
           0.0041,
           0.005,
           0.043,
           0.0041,
           0.005,
           0.0498,
           0.0173,
           0.0077,
           0.8651,
           0.0065,
           0.0083,
           0.0185,
           0.0041,
           0.0058,
           0.0138,
           0.0207,
           0.0121,
           0.0215,
           0.0372,
           0.0029,
           0.0557,
           0.0041,
           0.066,
           0.0392,
           null,
           0.0319,
           null,
           null,
           0.0615,
           0.0619,
           null,
           null,
           null,
           null,
           null,
           null,
           null,
           null
          ],
          [
           0.0109,
           0.0218,
           0.0648,
           0.002,
           0.0492,
           0.0361,
           0.0276,
           0.0092,
           0.0209,
           0.0292,
           0.0135,
           0.0384,
           0.0056,
           0.0567,
           0.0046,
           0.0056,
           0.057,
           0.0046,
           0.0056,
           0.0648,
           0.0193,
           0.0086,
           0.008,
           0.0073,
           0.0092,
           0.0312,
           0.0046,
           0.0065,
           0.0154,
           0.0231,
           0.0135,
           0.0241,
           0.0416,
           0.0033,
           0.0395,
           0.2204,
           0.0586,
           0.0438,
           null,
           0.0231,
           null,
           null,
           0.0128,
           0.0181,
           0.0092,
           null,
           null,
           null,
           null,
           null,
           null,
           null
          ],
          [
           0.1118,
           0.029,
           0.0204,
           0.0649,
           0.036,
           0.0516,
           0.0347,
           0.063,
           0.0023,
           0.0183,
           0.0043,
           0.0121,
           0.0018,
           0.0179,
           0.0014,
           0.0018,
           0.0152,
           0.0014,
           0.0018,
           0.0583,
           0.0061,
           0.0027,
           0.0025,
           0.0023,
           0.0029,
           0.0065,
           0.0014,
           0.0021,
           0.0049,
           0.0073,
           0.0043,
           0.0076,
           0.0783,
           0.001,
           0.0196,
           0.0014,
           0.0328,
           0.0138,
           null,
           0.0073,
           null,
           null,
           0.0297,
           0.0218,
           0.0029,
           0.0033,
           null,
           null,
           null,
           null,
           null,
           null
          ],
          [
           0.2566,
           0.1044,
           0.0801,
           0.1474,
           0.1699,
           0.2432,
           0.1026,
           0.2125,
           0.0679,
           0.1453,
           0.0202,
           0.0156,
           0.0084,
           0.0685,
           0.0069,
           0.3657,
           0.0184,
           0.0069,
           0.0084,
           0.0342,
           0.0288,
           0.0129,
           0.0119,
           0.0109,
           0.0628,
           0.0309,
           0.0069,
           0.0097,
           1,
           0.0345,
           0.0202,
           0.036,
           0.3711,
           0.0049,
           0.0931,
           0.0069,
           0.0864,
           0.0654,
           null,
           0.0345,
           null,
           null,
           0.1408,
           0.1035,
           0.0138,
           0.0154,
           0.0049,
           null,
           null,
           null,
           null,
           null
          ],
          [
           0.1012,
           0.1017,
           0.0513,
           0.0437,
           0.0638,
           0.0407,
           0.0784,
           0.0787,
           0.0851,
           0.0684,
           0.0316,
           0.0482,
           0.0132,
           0.1323,
           0.0107,
           0.0132,
           0.0062,
           0.0107,
           0.0132,
           0.27,
           0.045,
           0.0201,
           0.0186,
           0.017,
           0.0215,
           0.0483,
           0.0107,
           0.199,
           0.036,
           0.0539,
           0.0316,
           1,
           0.5797,
           0.0076,
           0.1718,
           0.0107,
           0.0786,
           0.0645,
           null,
           0.0117,
           null,
           null,
           0.0269,
           0.0637,
           0.0215,
           0.0241,
           0.0076,
           0.036,
           null,
           null,
           null,
           null
          ],
          [
           0.0998,
           0.0923,
           0.1225,
           0.068,
           0.0662,
           0.0256,
           0.0378,
           0.0089,
           0.0789,
           0.0174,
           0.0302,
           0.0574,
           0.0126,
           0.1736,
           0.0103,
           0.0126,
           0.1077,
           0.0103,
           0.0126,
           0.1247,
           0.0432,
           0.0193,
           0.0179,
           0.0163,
           0.0207,
           0.0463,
           0.0103,
           0.0146,
           0.0345,
           1,
           0.0302,
           0.0539,
           0.5558,
           0.0073,
           0.1794,
           0.0103,
           0.0906,
           0.0589,
           null,
           0.0517,
           null,
           null,
           0.0835,
           0.0329,
           0.0207,
           0.0231,
           0.0073,
           0.0345,
           0.0539,
           null,
           null,
           null
          ],
          [
           0.1396,
           0.0361,
           0.0502,
           0.1267,
           0.0801,
           0.0303,
           0.1139,
           0.068,
           0.1278,
           0.0972,
           1,
           0.0503,
           0.0074,
           0.0743,
           0.006,
           0.0074,
           0.063,
           0.006,
           0.0074,
           0.073,
           0.0253,
           0.0113,
           0.0105,
           0.0095,
           0.0121,
           0.0271,
           0.006,
           0.0085,
           0.0202,
           0.0302,
           1,
           0.0316,
           0.3254,
           0.0043,
           0.0816,
           0.006,
           0.036,
           0.0573,
           null,
           0.0302,
           null,
           null,
           0.0764,
           0.0907,
           0.0121,
           0.0135,
           0.0043,
           0.0202,
           0.0316,
           0.0302,
           null,
           null
          ],
          [
           0.0752,
           0.764,
           0.4342,
           0.2244,
           0.1588,
           0.4376,
           0.2935,
           0.4924,
           0.5447,
           0.3395,
           0.0993,
           0.0295,
           0.0636,
           0.0928,
           0.0229,
           0.0431,
           0.0699,
           0.019,
           0.0761,
           0.0338,
           0.1776,
           0.0997,
           0.0538,
           0.2684,
           0.0488,
           0.0291,
           0.0572,
           0.0006,
           0.1147,
           0.157,
           0.0993,
           0.177,
           0.2251,
           0.0391,
           0.4086,
           0.0113,
           0.2457,
           0.294,
           null,
           0.1721,
           null,
           null,
           0.1848,
           0.3455,
           0.0205,
           0.1001,
           0.0365,
           0.1147,
           0.177,
           0.157,
           0.0993,
           null
          ]
         ]
        }
       ],
       "layout": {
        "coloraxis": {
         "colorscale": [
          [
           0,
           "rgb(255,245,240)"
          ],
          [
           0.125,
           "rgb(254,224,210)"
          ],
          [
           0.25,
           "rgb(252,187,161)"
          ],
          [
           0.375,
           "rgb(252,146,114)"
          ],
          [
           0.5,
           "rgb(251,106,74)"
          ],
          [
           0.625,
           "rgb(239,59,44)"
          ],
          [
           0.75,
           "rgb(203,24,29)"
          ],
          [
           0.875,
           "rgb(165,15,21)"
          ],
          [
           1,
           "rgb(103,0,13)"
          ]
         ]
        },
        "height": 700,
        "margin": {
         "t": 60
        },
        "template": {
         "data": {
          "bar": [
           {
            "error_x": {
             "color": "#2a3f5f"
            },
            "error_y": {
             "color": "#2a3f5f"
            },
            "marker": {
             "line": {
              "color": "#E5ECF6",
              "width": 0.5
             },
             "pattern": {
              "fillmode": "overlay",
              "size": 10,
              "solidity": 0.2
             }
            },
            "type": "bar"
           }
          ],
          "barpolar": [
           {
            "marker": {
             "line": {
              "color": "#E5ECF6",
              "width": 0.5
             },
             "pattern": {
              "fillmode": "overlay",
              "size": 10,
              "solidity": 0.2
             }
            },
            "type": "barpolar"
           }
          ],
          "carpet": [
           {
            "aaxis": {
             "endlinecolor": "#2a3f5f",
             "gridcolor": "white",
             "linecolor": "white",
             "minorgridcolor": "white",
             "startlinecolor": "#2a3f5f"
            },
            "baxis": {
             "endlinecolor": "#2a3f5f",
             "gridcolor": "white",
             "linecolor": "white",
             "minorgridcolor": "white",
             "startlinecolor": "#2a3f5f"
            },
            "type": "carpet"
           }
          ],
          "choropleth": [
           {
            "colorbar": {
             "outlinewidth": 0,
             "ticks": ""
            },
            "type": "choropleth"
           }
          ],
          "contour": [
           {
            "colorbar": {
             "outlinewidth": 0,
             "ticks": ""
            },
            "colorscale": [
             [
              0,
              "#0d0887"
             ],
             [
              0.1111111111111111,
              "#46039f"
             ],
             [
              0.2222222222222222,
              "#7201a8"
             ],
             [
              0.3333333333333333,
              "#9c179e"
             ],
             [
              0.4444444444444444,
              "#bd3786"
             ],
             [
              0.5555555555555556,
              "#d8576b"
             ],
             [
              0.6666666666666666,
              "#ed7953"
             ],
             [
              0.7777777777777778,
              "#fb9f3a"
             ],
             [
              0.8888888888888888,
              "#fdca26"
             ],
             [
              1,
              "#f0f921"
             ]
            ],
            "type": "contour"
           }
          ],
          "contourcarpet": [
           {
            "colorbar": {
             "outlinewidth": 0,
             "ticks": ""
            },
            "type": "contourcarpet"
           }
          ],
          "heatmap": [
           {
            "colorbar": {
             "outlinewidth": 0,
             "ticks": ""
            },
            "colorscale": [
             [
              0,
              "#0d0887"
             ],
             [
              0.1111111111111111,
              "#46039f"
             ],
             [
              0.2222222222222222,
              "#7201a8"
             ],
             [
              0.3333333333333333,
              "#9c179e"
             ],
             [
              0.4444444444444444,
              "#bd3786"
             ],
             [
              0.5555555555555556,
              "#d8576b"
             ],
             [
              0.6666666666666666,
              "#ed7953"
             ],
             [
              0.7777777777777778,
              "#fb9f3a"
             ],
             [
              0.8888888888888888,
              "#fdca26"
             ],
             [
              1,
              "#f0f921"
             ]
            ],
            "type": "heatmap"
           }
          ],
          "heatmapgl": [
           {
            "colorbar": {
             "outlinewidth": 0,
             "ticks": ""
            },
            "colorscale": [
             [
              0,
              "#0d0887"
             ],
             [
              0.1111111111111111,
              "#46039f"
             ],
             [
              0.2222222222222222,
              "#7201a8"
             ],
             [
              0.3333333333333333,
              "#9c179e"
             ],
             [
              0.4444444444444444,
              "#bd3786"
             ],
             [
              0.5555555555555556,
              "#d8576b"
             ],
             [
              0.6666666666666666,
              "#ed7953"
             ],
             [
              0.7777777777777778,
              "#fb9f3a"
             ],
             [
              0.8888888888888888,
              "#fdca26"
             ],
             [
              1,
              "#f0f921"
             ]
            ],
            "type": "heatmapgl"
           }
          ],
          "histogram": [
           {
            "marker": {
             "pattern": {
              "fillmode": "overlay",
              "size": 10,
              "solidity": 0.2
             }
            },
            "type": "histogram"
           }
          ],
          "histogram2d": [
           {
            "colorbar": {
             "outlinewidth": 0,
             "ticks": ""
            },
            "colorscale": [
             [
              0,
              "#0d0887"
             ],
             [
              0.1111111111111111,
              "#46039f"
             ],
             [
              0.2222222222222222,
              "#7201a8"
             ],
             [
              0.3333333333333333,
              "#9c179e"
             ],
             [
              0.4444444444444444,
              "#bd3786"
             ],
             [
              0.5555555555555556,
              "#d8576b"
             ],
             [
              0.6666666666666666,
              "#ed7953"
             ],
             [
              0.7777777777777778,
              "#fb9f3a"
             ],
             [
              0.8888888888888888,
              "#fdca26"
             ],
             [
              1,
              "#f0f921"
             ]
            ],
            "type": "histogram2d"
           }
          ],
          "histogram2dcontour": [
           {
            "colorbar": {
             "outlinewidth": 0,
             "ticks": ""
            },
            "colorscale": [
             [
              0,
              "#0d0887"
             ],
             [
              0.1111111111111111,
              "#46039f"
             ],
             [
              0.2222222222222222,
              "#7201a8"
             ],
             [
              0.3333333333333333,
              "#9c179e"
             ],
             [
              0.4444444444444444,
              "#bd3786"
             ],
             [
              0.5555555555555556,
              "#d8576b"
             ],
             [
              0.6666666666666666,
              "#ed7953"
             ],
             [
              0.7777777777777778,
              "#fb9f3a"
             ],
             [
              0.8888888888888888,
              "#fdca26"
             ],
             [
              1,
              "#f0f921"
             ]
            ],
            "type": "histogram2dcontour"
           }
          ],
          "mesh3d": [
           {
            "colorbar": {
             "outlinewidth": 0,
             "ticks": ""
            },
            "type": "mesh3d"
           }
          ],
          "parcoords": [
           {
            "line": {
             "colorbar": {
              "outlinewidth": 0,
              "ticks": ""
             }
            },
            "type": "parcoords"
           }
          ],
          "pie": [
           {
            "automargin": true,
            "type": "pie"
           }
          ],
          "scatter": [
           {
            "fillpattern": {
             "fillmode": "overlay",
             "size": 10,
             "solidity": 0.2
            },
            "type": "scatter"
           }
          ],
          "scatter3d": [
           {
            "line": {
             "colorbar": {
              "outlinewidth": 0,
              "ticks": ""
             }
            },
            "marker": {
             "colorbar": {
              "outlinewidth": 0,
              "ticks": ""
             }
            },
            "type": "scatter3d"
           }
          ],
          "scattercarpet": [
           {
            "marker": {
             "colorbar": {
              "outlinewidth": 0,
              "ticks": ""
             }
            },
            "type": "scattercarpet"
           }
          ],
          "scattergeo": [
           {
            "marker": {
             "colorbar": {
              "outlinewidth": 0,
              "ticks": ""
             }
            },
            "type": "scattergeo"
           }
          ],
          "scattergl": [
           {
            "marker": {
             "colorbar": {
              "outlinewidth": 0,
              "ticks": ""
             }
            },
            "type": "scattergl"
           }
          ],
          "scattermapbox": [
           {
            "marker": {
             "colorbar": {
              "outlinewidth": 0,
              "ticks": ""
             }
            },
            "type": "scattermapbox"
           }
          ],
          "scatterpolar": [
           {
            "marker": {
             "colorbar": {
              "outlinewidth": 0,
              "ticks": ""
             }
            },
            "type": "scatterpolar"
           }
          ],
          "scatterpolargl": [
           {
            "marker": {
             "colorbar": {
              "outlinewidth": 0,
              "ticks": ""
             }
            },
            "type": "scatterpolargl"
           }
          ],
          "scatterternary": [
           {
            "marker": {
             "colorbar": {
              "outlinewidth": 0,
              "ticks": ""
             }
            },
            "type": "scatterternary"
           }
          ],
          "surface": [
           {
            "colorbar": {
             "outlinewidth": 0,
             "ticks": ""
            },
            "colorscale": [
             [
              0,
              "#0d0887"
             ],
             [
              0.1111111111111111,
              "#46039f"
             ],
             [
              0.2222222222222222,
              "#7201a8"
             ],
             [
              0.3333333333333333,
              "#9c179e"
             ],
             [
              0.4444444444444444,
              "#bd3786"
             ],
             [
              0.5555555555555556,
              "#d8576b"
             ],
             [
              0.6666666666666666,
              "#ed7953"
             ],
             [
              0.7777777777777778,
              "#fb9f3a"
             ],
             [
              0.8888888888888888,
              "#fdca26"
             ],
             [
              1,
              "#f0f921"
             ]
            ],
            "type": "surface"
           }
          ],
          "table": [
           {
            "cells": {
             "fill": {
              "color": "#EBF0F8"
             },
             "line": {
              "color": "white"
             }
            },
            "header": {
             "fill": {
              "color": "#C8D4E3"
             },
             "line": {
              "color": "white"
             }
            },
            "type": "table"
           }
          ]
         },
         "layout": {
          "annotationdefaults": {
           "arrowcolor": "#2a3f5f",
           "arrowhead": 0,
           "arrowwidth": 1
          },
          "autotypenumbers": "strict",
          "coloraxis": {
           "colorbar": {
            "outlinewidth": 0,
            "ticks": ""
           }
          },
          "colorscale": {
           "diverging": [
            [
             0,
             "#8e0152"
            ],
            [
             0.1,
             "#c51b7d"
            ],
            [
             0.2,
             "#de77ae"
            ],
            [
             0.3,
             "#f1b6da"
            ],
            [
             0.4,
             "#fde0ef"
            ],
            [
             0.5,
             "#f7f7f7"
            ],
            [
             0.6,
             "#e6f5d0"
            ],
            [
             0.7,
             "#b8e186"
            ],
            [
             0.8,
             "#7fbc41"
            ],
            [
             0.9,
             "#4d9221"
            ],
            [
             1,
             "#276419"
            ]
           ],
           "sequential": [
            [
             0,
             "#0d0887"
            ],
            [
             0.1111111111111111,
             "#46039f"
            ],
            [
             0.2222222222222222,
             "#7201a8"
            ],
            [
             0.3333333333333333,
             "#9c179e"
            ],
            [
             0.4444444444444444,
             "#bd3786"
            ],
            [
             0.5555555555555556,
             "#d8576b"
            ],
            [
             0.6666666666666666,
             "#ed7953"
            ],
            [
             0.7777777777777778,
             "#fb9f3a"
            ],
            [
             0.8888888888888888,
             "#fdca26"
            ],
            [
             1,
             "#f0f921"
            ]
           ],
           "sequentialminus": [
            [
             0,
             "#0d0887"
            ],
            [
             0.1111111111111111,
             "#46039f"
            ],
            [
             0.2222222222222222,
             "#7201a8"
            ],
            [
             0.3333333333333333,
             "#9c179e"
            ],
            [
             0.4444444444444444,
             "#bd3786"
            ],
            [
             0.5555555555555556,
             "#d8576b"
            ],
            [
             0.6666666666666666,
             "#ed7953"
            ],
            [
             0.7777777777777778,
             "#fb9f3a"
            ],
            [
             0.8888888888888888,
             "#fdca26"
            ],
            [
             1,
             "#f0f921"
            ]
           ]
          },
          "colorway": [
           "#636efa",
           "#EF553B",
           "#00cc96",
           "#ab63fa",
           "#FFA15A",
           "#19d3f3",
           "#FF6692",
           "#B6E880",
           "#FF97FF",
           "#FECB52"
          ],
          "font": {
           "color": "#2a3f5f"
          },
          "geo": {
           "bgcolor": "white",
           "lakecolor": "white",
           "landcolor": "#E5ECF6",
           "showlakes": true,
           "showland": true,
           "subunitcolor": "white"
          },
          "hoverlabel": {
           "align": "left"
          },
          "hovermode": "closest",
          "mapbox": {
           "style": "light"
          },
          "paper_bgcolor": "white",
          "plot_bgcolor": "#E5ECF6",
          "polar": {
           "angularaxis": {
            "gridcolor": "white",
            "linecolor": "white",
            "ticks": ""
           },
           "bgcolor": "#E5ECF6",
           "radialaxis": {
            "gridcolor": "white",
            "linecolor": "white",
            "ticks": ""
           }
          },
          "scene": {
           "xaxis": {
            "backgroundcolor": "#E5ECF6",
            "gridcolor": "white",
            "gridwidth": 2,
            "linecolor": "white",
            "showbackground": true,
            "ticks": "",
            "zerolinecolor": "white"
           },
           "yaxis": {
            "backgroundcolor": "#E5ECF6",
            "gridcolor": "white",
            "gridwidth": 2,
            "linecolor": "white",
            "showbackground": true,
            "ticks": "",
            "zerolinecolor": "white"
           },
           "zaxis": {
            "backgroundcolor": "#E5ECF6",
            "gridcolor": "white",
            "gridwidth": 2,
            "linecolor": "white",
            "showbackground": true,
            "ticks": "",
            "zerolinecolor": "white"
           }
          },
          "shapedefaults": {
           "line": {
            "color": "#2a3f5f"
           }
          },
          "ternary": {
           "aaxis": {
            "gridcolor": "white",
            "linecolor": "white",
            "ticks": ""
           },
           "baxis": {
            "gridcolor": "white",
            "linecolor": "white",
            "ticks": ""
           },
           "bgcolor": "#E5ECF6",
           "caxis": {
            "gridcolor": "white",
            "linecolor": "white",
            "ticks": ""
           }
          },
          "title": {
           "x": 0.05
          },
          "xaxis": {
           "automargin": true,
           "gridcolor": "white",
           "linecolor": "white",
           "ticks": "",
           "title": {
            "standoff": 15
           },
           "zerolinecolor": "white",
           "zerolinewidth": 2
          },
          "yaxis": {
           "automargin": true,
           "gridcolor": "white",
           "linecolor": "white",
           "ticks": "",
           "title": {
            "standoff": 15
           },
           "zerolinecolor": "white",
           "zerolinewidth": 2
          }
         }
        },
        "width": 900,
        "xaxis": {
         "anchor": "y",
         "constrain": "domain",
         "domain": [
          0,
          1
         ],
         "scaleanchor": "y"
        },
        "yaxis": {
         "anchor": "x",
         "autorange": "reversed",
         "constrain": "domain",
         "domain": [
          0,
          1
         ]
        }
       }
      },
      "text/html": [
       "<div>                            <div id=\"4963a6ab-a36e-4a71-b31a-d6911effae42\" class=\"plotly-graph-div\" style=\"height:700px; width:900px;\"></div>            <script type=\"text/javascript\">                require([\"plotly\"], function(Plotly) {                    window.PLOTLYENV=window.PLOTLYENV || {};                                    if (document.getElementById(\"4963a6ab-a36e-4a71-b31a-d6911effae42\")) {                    Plotly.newPlot(                        \"4963a6ab-a36e-4a71-b31a-d6911effae42\",                        [{\"coloraxis\":\"coloraxis\",\"name\":\"0\",\"texttemplate\":\"%{z}\",\"x\":[\"Screen_Size\",\"RAM\",\"GPU\",\"Weight\",\"Storage_Capacity\",\"CPU_freq\",\"CPU_cores\",\"CPU_model\",\"Screen_Resolution\",\"Screen_Model\",\"Manufacturer_Apple\",\"Manufacturer_Asus\",\"Manufacturer_Chuwi\",\"Manufacturer_Dell\",\"Manufacturer_Fujitsu\",\"Manufacturer_Google\",\"Manufacturer_HP\",\"Manufacturer_Huawei\",\"Manufacturer_LG\",\"Manufacturer_Lenovo\",\"Manufacturer_MSI\",\"Manufacturer_Mediacom\",\"Manufacturer_Microsoft\",\"Manufacturer_Razer\",\"Manufacturer_Samsung\",\"Manufacturer_Toshiba\",\"Manufacturer_Vero\",\"Manufacturer_Xiaomi\",\"Operating_System_Chrome OS\",\"Operating_System_Linux\",\"Operating_System_Mac OS\",\"Operating_System_No OS\",\"Operating_System_Windows\",\"Storage_Type_Flash Storage + HDD\",\"Storage_Type_HDD\",\"Storage_Type_Hybrid\",\"Storage_Type_SSD\",\"Storage_Type_SSD + HDD\",\"Storage_Type_SSD + Hybrid\",\"CPU_brand_Intel\",\"CPU_brand_Samsung\",\"GPU_brand_ARM\",\"GPU_brand_Intel\",\"GPU_brand_Nvidia\",\"Operating_System_Version_10 S\",\"Operating_System_Version_7\",\"Operating_System_Version_Android\",\"Operating_System_Version_Chrome OS\",\"Operating_System_Version_No OS\",\"Operating_System_Version_Ubuntu\",\"Operating_System_Version_X\",\"Price\"],\"y\":[\"Screen_Size\",\"RAM\",\"GPU\",\"Weight\",\"Storage_Capacity\",\"CPU_freq\",\"CPU_cores\",\"CPU_model\",\"Screen_Resolution\",\"Screen_Model\",\"Manufacturer_Apple\",\"Manufacturer_Asus\",\"Manufacturer_Chuwi\",\"Manufacturer_Dell\",\"Manufacturer_Fujitsu\",\"Manufacturer_Google\",\"Manufacturer_HP\",\"Manufacturer_Huawei\",\"Manufacturer_LG\",\"Manufacturer_Lenovo\",\"Manufacturer_MSI\",\"Manufacturer_Mediacom\",\"Manufacturer_Microsoft\",\"Manufacturer_Razer\",\"Manufacturer_Samsung\",\"Manufacturer_Toshiba\",\"Manufacturer_Vero\",\"Manufacturer_Xiaomi\",\"Operating_System_Chrome OS\",\"Operating_System_Linux\",\"Operating_System_Mac OS\",\"Operating_System_No OS\",\"Operating_System_Windows\",\"Storage_Type_Flash Storage + HDD\",\"Storage_Type_HDD\",\"Storage_Type_Hybrid\",\"Storage_Type_SSD\",\"Storage_Type_SSD + HDD\",\"Storage_Type_SSD + Hybrid\",\"CPU_brand_Intel\",\"CPU_brand_Samsung\",\"GPU_brand_ARM\",\"GPU_brand_Intel\",\"GPU_brand_Nvidia\",\"Operating_System_Version_10 S\",\"Operating_System_Version_7\",\"Operating_System_Version_Android\",\"Operating_System_Version_Chrome OS\",\"Operating_System_Version_No OS\",\"Operating_System_Version_Ubuntu\",\"Operating_System_Version_X\",\"Price\"],\"z\":[[null,null,null,null,null,null,null,null,null,null,null,null,null,null,null,null,null,null,null,null,null,null,null,null,null,null,null,null,null,null,null,null,null,null,null,null,null,null,null,null,null,null,null,null,null,null,null,null,null,null,null,null],[0.2323,null,null,null,null,null,null,null,null,null,null,null,null,null,null,null,null,null,null,null,null,null,null,null,null,null,null,null,null,null,null,null,null,null,null,null,null,null,null,null,null,null,null,null,null,null,null,null,null,null,null,null],[0.1829,0.3725,null,null,null,null,null,null,null,null,null,null,null,null,null,null,null,null,null,null,null,null,null,null,null,null,null,null,null,null,null,null,null,null,null,null,null,null,null,null,null,null,null,null,null,null,null,null,null,null,null,null],[0.8223,0.3902,0.3036,null,null,null,null,null,null,null,null,null,null,null,null,null,null,null,null,null,null,null,null,null,null,null,null,null,null,null,null,null,null,null,null,null,null,null,null,null,null,null,null,null,null,null,null,null,null,null,null,null],[0.527,0.3388,0.1329,0.5341,null,null,null,null,null,null,null,null,null,null,null,null,null,null,null,null,null,null,null,null,null,null,null,null,null,null,null,null,null,null,null,null,null,null,null,null,null,null,null,null,null,null,null,null,null,null,null,null],[0.2991,0.3741,0.294,0.3156,0.2175,null,null,null,null,null,null,null,null,null,null,null,null,null,null,null,null,null,null,null,null,null,null,null,null,null,null,null,null,null,null,null,null,null,null,null,null,null,null,null,null,null,null,null,null,null,null,null],[0.2915,0.3454,0.2822,0.3915,0.3014,0.0592,null,null,null,null,null,null,null,null,null,null,null,null,null,null,null,null,null,null,null,null,null,null,null,null,null,null,null,null,null,null,null,null,null,null,null,null,null,null,null,null,null,null,null,null,null,null],[0.1804,0.4502,0.3839,0.2173,0.2478,0.1982,0.4427,null,null,null,null,null,null,null,null,null,null,null,null,null,null,null,null,null,null,null,null,null,null,null,null,null,null,null,null,null,null,null,null,null,null,null,null,null,null,null,null,null,null,null,null,null],[0.0621,0.4231,0.2063,0.0137,0.0735,0.1385,0.1889,0.2479,null,null,null,null,null,null,null,null,null,null,null,null,null,null,null,null,null,null,null,null,null,null,null,null,null,null,null,null,null,null,null,null,null,null,null,null,null,null,null,null,null,null,null,null],[0.1176,0.3063,0.2113,0.1147,0.1045,0.2844,0.2672,0.3222,0.2899,null,null,null,null,null,null,null,null,null,null,null,null,null,null,null,null,null,null,null,null,null,null,null,null,null,null,null,null,null,null,null,null,null,null,null,null,null,null,null,null,null,null,null],[0.1396,0.0361,0.0502,0.1267,0.0801,0.0303,0.1139,0.068,0.1278,0.0972,null,null,null,null,null,null,null,null,null,null,null,null,null,null,null,null,null,null,null,null,null,null,null,null,null,null,null,null,null,null,null,null,null,null,null,null,null,null,null,null,null,null],[0.1015,0.0493,0.1116,0.0703,0.1058,0.003,0.0977,0.0767,0.0652,0.0306,0.0503,null,null,null,null,null,null,null,null,null,null,null,null,null,null,null,null,null,null,null,null,null,null,null,null,null,null,null,null,null,null,null,null,null,null,null,null,null,null,null,null,null],[0.0216,0.0429,0.0354,0.0261,0.0624,0.1015,0.0601,0.1049,0.0332,0.023,0.0074,0.021,null,null,null,null,null,null,null,null,null,null,null,null,null,null,null,null,null,null,null,null,null,null,null,null,null,null,null,null,null,null,null,null,null,null,null,null,null,null,null,null],[0.057,0.123,0.1095,0.1197,0.1153,0.0322,0.1345,0.1659,0.1141,0.0996,0.0743,0.2108,0.031,null,null,null,null,null,null,null,null,null,null,null,null,null,null,null,null,null,null,null,null,null,null,null,null,null,null,null,null,null,null,null,null,null,null,null,null,null,null,null],[0.0175,0.0048,0.0041,0.0109,0.0016,0.0187,0.0386,0.0128,0.037,0.077,0.006,0.0171,0.0025,0.0253,null,null,null,null,null,null,null,null,null,null,null,null,null,null,null,null,null,null,null,null,null,null,null,null,null,null,null,null,null,null,null,null,null,null,null,null,null,null],[0.1077,0.0238,0.0075,0.0783,0.0362,0.1114,0.0473,0.022,0.0645,0.0631,0.0074,0.021,0.0031,0.031,0.0025,null,null,null,null,null,null,null,null,null,null,null,null,null,null,null,null,null,null,null,null,null,null,null,null,null,null,null,null,null,null,null,null,null,null,null,null,null],[0.0274,0.1242,0.0923,0.0496,0.0648,0.0199,0.086,0.0582,0.0407,0.0128,0.063,0.1789,0.0263,0.2643,0.0215,0.0263,null,null,null,null,null,null,null,null,null,null,null,null,null,null,null,null,null,null,null,null,null,null,null,null,null,null,null,null,null,null,null,null,null,null,null,null],[0.0656,0.0048,0.0041,0.0673,0.0218,0.0273,0.0386,0.0083,0.0292,0.006,0.006,0.0171,0.0025,0.0253,0.0021,0.0025,0.0215,null,null,null,null,null,null,null,null,null,null,null,null,null,null,null,null,null,null,null,null,null,null,null,null,null,null,null,null,null,null,null,null,null,null,null],[0.0006,0.0238,0.005,0.0825,0.0124,0.0123,0.0115,0.0446,0.005,0.0021,0.0074,0.021,0.0031,0.031,0.0025,0.0031,0.0263,0.0025,null,null,null,null,null,null,null,null,null,null,null,null,null,null,null,null,null,null,null,null,null,null,null,null,null,null,null,null,null,null,null,null,null,null],[0.069,0.0706,0.0141,0.0522,0.0484,0.0573,0.1432,0.0733,0.0124,0.0489,0.073,0.2072,0.0304,0.3061,0.0248,0.0304,0.2598,0.0248,0.0304,null,null,null,null,null,null,null,null,null,null,null,null,null,null,null,null,null,null,null,null,null,null,null,null,null,null,null,null,null,null,null,null,null],[0.1918,0.1857,0.1999,0.1887,0.2515,0.1659,0.2058,0.1219,0.0321,0.1462,0.0253,0.0717,0.0105,0.106,0.0086,0.0105,0.0899,0.0086,0.0105,0.1042,null,null,null,null,null,null,null,null,null,null,null,null,null,null,null,null,null,null,null,null,null,null,null,null,null,null,null,null,null,null,null,null],[0.0956,0.0819,0.0525,0.0896,0.1011,0.1495,0.0686,0.158,0.0057,0.0266,0.0113,0.0321,0.0047,0.0474,0.0038,0.0047,0.0402,0.0038,0.0047,0.0466,0.0161,null,null,null,null,null,null,null,null,null,null,null,null,null,null,null,null,null,null,null,null,null,null,null,null,null,null,null,null,null,null,null],[0.0861,0.0083,0.0013,0.093,0.058,0.0324,0.067,0.0114,0.0664,0.0894,0.0105,0.0297,0.0044,0.0439,0.0036,0.0044,0.0372,0.0036,0.0044,0.0431,0.0149,0.0067,null,null,null,null,null,null,null,null,null,null,null,null,null,null,null,null,null,null,null,null,null,null,null,null,null,null,null,null,null,null],[0.0016,0.1992,0.0657,0.0425,0.0086,0.068,0.05,0.0615,0.1833,0.0559,0.0095,0.0271,0.004,0.04,0.0032,0.004,0.034,0.0032,0.004,0.0393,0.0136,0.0061,0.0056,null,null,null,null,null,null,null,null,null,null,null,null,null,null,null,null,null,null,null,null,null,null,null,null,null,null,null,null,null],[0.0666,0.0541,0.0164,0.0959,0.0521,0.0462,0.0554,0.0239,0.0164,0.044,0.0121,0.0343,0.005,0.0507,0.0041,0.005,0.043,0.0041,0.005,0.0498,0.0173,0.0077,0.0071,0.0065,null,null,null,null,null,null,null,null,null,null,null,null,null,null,null,null,null,null,null,null,null,null,null,null,null,null,null,null],[0.0817,0.0077,0.0252,0.1102,0.1206,0.0622,0.1737,0.0264,0.0677,0.0454,0.0271,0.077,0.0113,0.1138,0.0092,0.0113,0.0966,0.0092,0.0113,0.1119,0.0387,0.0173,0.016,0.0146,0.0185,null,null,null,null,null,null,null,null,null,null,null,null,null,null,null,null,null,null,null,null,null,null,null,null,null,null,null],[0.0336,0.0411,0.0247,0.053,0.0539,0.1025,0.0386,0.076,0.0041,0.0355,0.006,0.0171,0.0025,0.0253,0.0021,0.0025,0.0215,0.0021,0.0025,0.0248,0.0086,0.0038,0.0036,0.0032,0.0041,0.0092,null,null,null,null,null,null,null,null,null,null,null,null,null,null,null,null,null,null,null,null,null,null,null,null,null,null],[0.0272,0.0189,0.1048,0.0404,0.0473,0.0287,0.0074,0.0062,0.0058,0.0084,0.0085,0.0242,0.0036,0.0358,0.0029,0.0036,0.0304,0.0029,0.0036,0.0352,0.0122,0.0054,0.005,0.0046,0.0058,0.0131,0.0029,null,null,null,null,null,null,null,null,null,null,null,null,null,null,null,null,null,null,null,null,null,null,null,null,null],[0.2566,0.1044,0.0801,0.1474,0.1699,0.2432,0.1026,0.2125,0.0679,0.1453,0.0202,0.0156,0.0084,0.0685,0.0069,0.3657,0.0184,0.0069,0.0084,0.0342,0.0288,0.0129,0.0119,0.0109,0.0628,0.0309,0.0069,0.0097,null,null,null,null,null,null,null,null,null,null,null,null,null,null,null,null,null,null,null,null,null,null,null,null],[0.0998,0.0923,0.1225,0.068,0.0662,0.0256,0.0378,0.0089,0.0789,0.0174,0.0302,0.0574,0.0126,0.1736,0.0103,0.0126,0.1077,0.0103,0.0126,0.1247,0.0432,0.0193,0.0179,0.0163,0.0207,0.0463,0.0103,0.0146,0.0345,null,null,null,null,null,null,null,null,null,null,null,null,null,null,null,null,null,null,null,null,null,null,null],[0.1396,0.0361,0.0502,0.1267,0.0801,0.0303,0.1139,0.068,0.1278,0.0972,1.0,0.0503,0.0074,0.0743,0.006,0.0074,0.063,0.006,0.0074,0.073,0.0253,0.0113,0.0105,0.0095,0.0121,0.0271,0.006,0.0085,0.0202,0.0302,null,null,null,null,null,null,null,null,null,null,null,null,null,null,null,null,null,null,null,null,null,null],[0.1012,0.1017,0.0513,0.0437,0.0638,0.0407,0.0784,0.0787,0.0851,0.0684,0.0316,0.0482,0.0132,0.1323,0.0107,0.0132,0.0062,0.0107,0.0132,0.27,0.045,0.0201,0.0186,0.017,0.0215,0.0483,0.0107,0.199,0.036,0.0539,0.0316,null,null,null,null,null,null,null,null,null,null,null,null,null,null,null,null,null,null,null,null,null],[0.0446,0.1555,0.0972,0.0456,0.0234,0.1609,0.0713,0.177,0.084,0.1541,0.3254,0.0219,0.0227,0.036,0.0185,0.1357,0.1031,0.0185,0.0227,0.0597,0.0777,0.0347,0.0321,0.0293,0.0047,0.0834,0.0185,0.111,0.3711,0.5558,0.3254,0.5797,null,null,null,null,null,null,null,null,null,null,null,null,null,null,null,null,null,null,null,null],[0.0124,0.0034,0.0761,0.0092,0.03,0.0438,0.0347,0.0729,0.0029,0.0268,0.0043,0.0121,0.0018,0.0574,0.0014,0.0018,0.0152,0.0014,0.0018,0.0176,0.0061,0.0027,0.0025,0.0023,0.0029,0.0065,0.0014,0.0021,0.0049,0.0073,0.0043,0.0076,0.0131,null,null,null,null,null,null,null,null,null,null,null,null,null,null,null,null,null,null,null],[0.271,0.3085,0.1447,0.1613,0.3667,0.0905,0.1579,0.1775,0.2668,0.2876,0.0816,0.0093,0.034,0.014,0.023,0.034,0.0955,0.0278,0.034,0.0096,0.1164,0.0249,0.0482,0.044,0.0557,0.0312,0.0278,0.0393,0.0931,0.1794,0.0816,0.1718,0.1491,0.0196,null,null,null,null,null,null,null,null,null,null,null,null,null,null,null,null,null,null],[0.0081,0.0229,0.0125,0.0082,0.0131,0.023,0.0052,0.007,0.0205,0.0196,0.006,0.0171,0.0025,0.0279,0.0021,0.0025,0.0215,0.0021,0.0025,0.0289,0.0086,0.0038,0.0036,0.0032,0.0041,0.0092,0.0021,0.0029,0.0069,0.0103,0.006,0.0107,0.0185,0.0014,0.0278,null,null,null,null,null,null,null,null,null,null,null,null,null,null,null,null,null],[0.382,0.0762,0.0134,0.4202,0.6631,0.0768,0.139,0.096,0.218,0.1972,0.036,0.139,0.0568,0.018,0.0011,0.0542,0.0391,0.0442,0.0542,0.0842,0.1497,0.0101,0.0768,0.0701,0.0433,0.1155,0.0464,0.0626,0.0864,0.0906,0.036,0.0786,0.1324,0.0328,0.6278,0.0464,null,null,null,null,null,null,null,null,null,null,null,null,null,null,null,null],[0.4086,0.3965,0.2335,0.5268,0.6266,0.2392,0.4125,0.2814,0.1004,0.2207,0.0573,0.161,0.0239,0.0772,0.0195,0.0239,0.124,0.0195,0.0239,0.0894,0.3792,0.0366,0.0339,0.0309,0.0079,0.0879,0.0195,0.0276,0.0654,0.0589,0.0573,0.0645,0.128,0.0138,0.2642,0.0195,0.4412,null,null,null,null,null,null,null,null,null,null,null,null,null,null,null],[null,null,null,null,null,null,null,null,null,null,null,null,null,null,null,null,null,null,null,null,null,null,null,null,null,null,null,null,null,null,null,null,null,null,null,null,null,null,null,null,null,null,null,null,null,null,null,null,null,null,null,null],[0.1385,0.1056,0.3862,0.0756,0.0543,0.1391,0.0813,0.3174,0.0978,0.1182,0.0302,0.0717,0.0126,0.1268,0.0103,0.0126,0.1005,0.0103,0.0126,0.0213,0.0432,0.0193,0.0179,0.0163,0.0207,0.0463,0.0103,0.0146,0.0345,0.0517,0.0302,0.0117,0.0659,0.0073,0.105,0.0103,0.0717,0.0067,null,null,null,null,null,null,null,null,null,null,null,null,null,null],[null,null,null,null,null,null,null,null,null,null,null,null,null,null,null,null,null,null,null,null,null,null,null,null,null,null,null,null,null,null,null,null,null,null,null,null,null,null,null,null,null,null,null,null,null,null,null,null,null,null,null,null],[null,null,null,null,null,null,null,null,null,null,null,null,null,null,null,null,null,null,null,null,null,null,null,null,null,null,null,null,null,null,null,null,null,null,null,null,null,null,null,null,null,null,null,null,null,null,null,null,null,null,null,null],[0.6006,0.3145,0.1979,0.5998,0.4404,0.35,0.4095,0.2252,0.0763,0.279,0.0764,0.0966,0.0515,0.1238,0.042,0.0515,0.0468,0.042,0.0515,0.0952,0.2046,0.0788,0.0729,0.0485,0.016,0.1368,0.042,0.0691,0.1408,0.0835,0.0764,0.0269,0.0221,0.0345,0.016,0.0034,0.2395,0.4418,null,0.245,null,null,null,null,null,null,null,null,null,null,null,null],[0.4815,0.4105,0.7596,0.5609,0.3659,0.3683,0.394,0.3515,0.1514,0.2885,0.0907,0.1483,0.0378,0.029,0.0309,0.0378,0.0898,0.0309,0.0378,0.0454,0.2785,0.0579,0.0536,0.0744,0.0131,0.0828,0.0309,0.094,0.1035,0.0329,0.0907,0.0637,0.0591,0.047,0.0726,0.0178,0.1876,0.4445,null,0.155,null,null,0.7347,null,null,null,null,null,null,null,null,null],[0.1107,0.0278,0.0273,0.1016,0.0759,0.0146,0.0554,0.0048,0.039,0.1161,0.0121,0.0344,0.005,0.0507,0.0041,0.005,0.043,0.0041,0.005,0.0498,0.0173,0.0077,0.8651,0.0065,0.0083,0.0185,0.0041,0.0058,0.0138,0.0207,0.0121,0.0215,0.0372,0.0029,0.0557,0.0041,0.066,0.0392,null,0.0319,null,null,0.0615,0.0619,null,null,null,null,null,null,null,null],[0.0109,0.0218,0.0648,0.002,0.0492,0.0361,0.0276,0.0092,0.0209,0.0292,0.0135,0.0384,0.0056,0.0567,0.0046,0.0056,0.057,0.0046,0.0056,0.0648,0.0193,0.0086,0.008,0.0073,0.0092,0.0312,0.0046,0.0065,0.0154,0.0231,0.0135,0.0241,0.0416,0.0033,0.0395,0.2204,0.0586,0.0438,null,0.0231,null,null,0.0128,0.0181,0.0092,null,null,null,null,null,null,null],[0.1118,0.029,0.0204,0.0649,0.036,0.0516,0.0347,0.063,0.0023,0.0183,0.0043,0.0121,0.0018,0.0179,0.0014,0.0018,0.0152,0.0014,0.0018,0.0583,0.0061,0.0027,0.0025,0.0023,0.0029,0.0065,0.0014,0.0021,0.0049,0.0073,0.0043,0.0076,0.0783,0.001,0.0196,0.0014,0.0328,0.0138,null,0.0073,null,null,0.0297,0.0218,0.0029,0.0033,null,null,null,null,null,null],[0.2566,0.1044,0.0801,0.1474,0.1699,0.2432,0.1026,0.2125,0.0679,0.1453,0.0202,0.0156,0.0084,0.0685,0.0069,0.3657,0.0184,0.0069,0.0084,0.0342,0.0288,0.0129,0.0119,0.0109,0.0628,0.0309,0.0069,0.0097,1.0,0.0345,0.0202,0.036,0.3711,0.0049,0.0931,0.0069,0.0864,0.0654,null,0.0345,null,null,0.1408,0.1035,0.0138,0.0154,0.0049,null,null,null,null,null],[0.1012,0.1017,0.0513,0.0437,0.0638,0.0407,0.0784,0.0787,0.0851,0.0684,0.0316,0.0482,0.0132,0.1323,0.0107,0.0132,0.0062,0.0107,0.0132,0.27,0.045,0.0201,0.0186,0.017,0.0215,0.0483,0.0107,0.199,0.036,0.0539,0.0316,1.0,0.5797,0.0076,0.1718,0.0107,0.0786,0.0645,null,0.0117,null,null,0.0269,0.0637,0.0215,0.0241,0.0076,0.036,null,null,null,null],[0.0998,0.0923,0.1225,0.068,0.0662,0.0256,0.0378,0.0089,0.0789,0.0174,0.0302,0.0574,0.0126,0.1736,0.0103,0.0126,0.1077,0.0103,0.0126,0.1247,0.0432,0.0193,0.0179,0.0163,0.0207,0.0463,0.0103,0.0146,0.0345,1.0,0.0302,0.0539,0.5558,0.0073,0.1794,0.0103,0.0906,0.0589,null,0.0517,null,null,0.0835,0.0329,0.0207,0.0231,0.0073,0.0345,0.0539,null,null,null],[0.1396,0.0361,0.0502,0.1267,0.0801,0.0303,0.1139,0.068,0.1278,0.0972,1.0,0.0503,0.0074,0.0743,0.006,0.0074,0.063,0.006,0.0074,0.073,0.0253,0.0113,0.0105,0.0095,0.0121,0.0271,0.006,0.0085,0.0202,0.0302,1.0,0.0316,0.3254,0.0043,0.0816,0.006,0.036,0.0573,null,0.0302,null,null,0.0764,0.0907,0.0121,0.0135,0.0043,0.0202,0.0316,0.0302,null,null],[0.0752,0.764,0.4342,0.2244,0.1588,0.4376,0.2935,0.4924,0.5447,0.3395,0.0993,0.0295,0.0636,0.0928,0.0229,0.0431,0.0699,0.019,0.0761,0.0338,0.1776,0.0997,0.0538,0.2684,0.0488,0.0291,0.0572,0.0006,0.1147,0.157,0.0993,0.177,0.2251,0.0391,0.4086,0.0113,0.2457,0.294,null,0.1721,null,null,0.1848,0.3455,0.0205,0.1001,0.0365,0.1147,0.177,0.157,0.0993,null]],\"type\":\"heatmap\",\"xaxis\":\"x\",\"yaxis\":\"y\",\"hovertemplate\":\"x: %{x}<br>y: %{y}<br>color: %{z}<extra></extra>\"}],                        {\"template\":{\"data\":{\"histogram2dcontour\":[{\"type\":\"histogram2dcontour\",\"colorbar\":{\"outlinewidth\":0,\"ticks\":\"\"},\"colorscale\":[[0.0,\"#0d0887\"],[0.1111111111111111,\"#46039f\"],[0.2222222222222222,\"#7201a8\"],[0.3333333333333333,\"#9c179e\"],[0.4444444444444444,\"#bd3786\"],[0.5555555555555556,\"#d8576b\"],[0.6666666666666666,\"#ed7953\"],[0.7777777777777778,\"#fb9f3a\"],[0.8888888888888888,\"#fdca26\"],[1.0,\"#f0f921\"]]}],\"choropleth\":[{\"type\":\"choropleth\",\"colorbar\":{\"outlinewidth\":0,\"ticks\":\"\"}}],\"histogram2d\":[{\"type\":\"histogram2d\",\"colorbar\":{\"outlinewidth\":0,\"ticks\":\"\"},\"colorscale\":[[0.0,\"#0d0887\"],[0.1111111111111111,\"#46039f\"],[0.2222222222222222,\"#7201a8\"],[0.3333333333333333,\"#9c179e\"],[0.4444444444444444,\"#bd3786\"],[0.5555555555555556,\"#d8576b\"],[0.6666666666666666,\"#ed7953\"],[0.7777777777777778,\"#fb9f3a\"],[0.8888888888888888,\"#fdca26\"],[1.0,\"#f0f921\"]]}],\"heatmap\":[{\"type\":\"heatmap\",\"colorbar\":{\"outlinewidth\":0,\"ticks\":\"\"},\"colorscale\":[[0.0,\"#0d0887\"],[0.1111111111111111,\"#46039f\"],[0.2222222222222222,\"#7201a8\"],[0.3333333333333333,\"#9c179e\"],[0.4444444444444444,\"#bd3786\"],[0.5555555555555556,\"#d8576b\"],[0.6666666666666666,\"#ed7953\"],[0.7777777777777778,\"#fb9f3a\"],[0.8888888888888888,\"#fdca26\"],[1.0,\"#f0f921\"]]}],\"heatmapgl\":[{\"type\":\"heatmapgl\",\"colorbar\":{\"outlinewidth\":0,\"ticks\":\"\"},\"colorscale\":[[0.0,\"#0d0887\"],[0.1111111111111111,\"#46039f\"],[0.2222222222222222,\"#7201a8\"],[0.3333333333333333,\"#9c179e\"],[0.4444444444444444,\"#bd3786\"],[0.5555555555555556,\"#d8576b\"],[0.6666666666666666,\"#ed7953\"],[0.7777777777777778,\"#fb9f3a\"],[0.8888888888888888,\"#fdca26\"],[1.0,\"#f0f921\"]]}],\"contourcarpet\":[{\"type\":\"contourcarpet\",\"colorbar\":{\"outlinewidth\":0,\"ticks\":\"\"}}],\"contour\":[{\"type\":\"contour\",\"colorbar\":{\"outlinewidth\":0,\"ticks\":\"\"},\"colorscale\":[[0.0,\"#0d0887\"],[0.1111111111111111,\"#46039f\"],[0.2222222222222222,\"#7201a8\"],[0.3333333333333333,\"#9c179e\"],[0.4444444444444444,\"#bd3786\"],[0.5555555555555556,\"#d8576b\"],[0.6666666666666666,\"#ed7953\"],[0.7777777777777778,\"#fb9f3a\"],[0.8888888888888888,\"#fdca26\"],[1.0,\"#f0f921\"]]}],\"surface\":[{\"type\":\"surface\",\"colorbar\":{\"outlinewidth\":0,\"ticks\":\"\"},\"colorscale\":[[0.0,\"#0d0887\"],[0.1111111111111111,\"#46039f\"],[0.2222222222222222,\"#7201a8\"],[0.3333333333333333,\"#9c179e\"],[0.4444444444444444,\"#bd3786\"],[0.5555555555555556,\"#d8576b\"],[0.6666666666666666,\"#ed7953\"],[0.7777777777777778,\"#fb9f3a\"],[0.8888888888888888,\"#fdca26\"],[1.0,\"#f0f921\"]]}],\"mesh3d\":[{\"type\":\"mesh3d\",\"colorbar\":{\"outlinewidth\":0,\"ticks\":\"\"}}],\"scatter\":[{\"fillpattern\":{\"fillmode\":\"overlay\",\"size\":10,\"solidity\":0.2},\"type\":\"scatter\"}],\"parcoords\":[{\"type\":\"parcoords\",\"line\":{\"colorbar\":{\"outlinewidth\":0,\"ticks\":\"\"}}}],\"scatterpolargl\":[{\"type\":\"scatterpolargl\",\"marker\":{\"colorbar\":{\"outlinewidth\":0,\"ticks\":\"\"}}}],\"bar\":[{\"error_x\":{\"color\":\"#2a3f5f\"},\"error_y\":{\"color\":\"#2a3f5f\"},\"marker\":{\"line\":{\"color\":\"#E5ECF6\",\"width\":0.5},\"pattern\":{\"fillmode\":\"overlay\",\"size\":10,\"solidity\":0.2}},\"type\":\"bar\"}],\"scattergeo\":[{\"type\":\"scattergeo\",\"marker\":{\"colorbar\":{\"outlinewidth\":0,\"ticks\":\"\"}}}],\"scatterpolar\":[{\"type\":\"scatterpolar\",\"marker\":{\"colorbar\":{\"outlinewidth\":0,\"ticks\":\"\"}}}],\"histogram\":[{\"marker\":{\"pattern\":{\"fillmode\":\"overlay\",\"size\":10,\"solidity\":0.2}},\"type\":\"histogram\"}],\"scattergl\":[{\"type\":\"scattergl\",\"marker\":{\"colorbar\":{\"outlinewidth\":0,\"ticks\":\"\"}}}],\"scatter3d\":[{\"type\":\"scatter3d\",\"line\":{\"colorbar\":{\"outlinewidth\":0,\"ticks\":\"\"}},\"marker\":{\"colorbar\":{\"outlinewidth\":0,\"ticks\":\"\"}}}],\"scattermapbox\":[{\"type\":\"scattermapbox\",\"marker\":{\"colorbar\":{\"outlinewidth\":0,\"ticks\":\"\"}}}],\"scatterternary\":[{\"type\":\"scatterternary\",\"marker\":{\"colorbar\":{\"outlinewidth\":0,\"ticks\":\"\"}}}],\"scattercarpet\":[{\"type\":\"scattercarpet\",\"marker\":{\"colorbar\":{\"outlinewidth\":0,\"ticks\":\"\"}}}],\"carpet\":[{\"aaxis\":{\"endlinecolor\":\"#2a3f5f\",\"gridcolor\":\"white\",\"linecolor\":\"white\",\"minorgridcolor\":\"white\",\"startlinecolor\":\"#2a3f5f\"},\"baxis\":{\"endlinecolor\":\"#2a3f5f\",\"gridcolor\":\"white\",\"linecolor\":\"white\",\"minorgridcolor\":\"white\",\"startlinecolor\":\"#2a3f5f\"},\"type\":\"carpet\"}],\"table\":[{\"cells\":{\"fill\":{\"color\":\"#EBF0F8\"},\"line\":{\"color\":\"white\"}},\"header\":{\"fill\":{\"color\":\"#C8D4E3\"},\"line\":{\"color\":\"white\"}},\"type\":\"table\"}],\"barpolar\":[{\"marker\":{\"line\":{\"color\":\"#E5ECF6\",\"width\":0.5},\"pattern\":{\"fillmode\":\"overlay\",\"size\":10,\"solidity\":0.2}},\"type\":\"barpolar\"}],\"pie\":[{\"automargin\":true,\"type\":\"pie\"}]},\"layout\":{\"autotypenumbers\":\"strict\",\"colorway\":[\"#636efa\",\"#EF553B\",\"#00cc96\",\"#ab63fa\",\"#FFA15A\",\"#19d3f3\",\"#FF6692\",\"#B6E880\",\"#FF97FF\",\"#FECB52\"],\"font\":{\"color\":\"#2a3f5f\"},\"hovermode\":\"closest\",\"hoverlabel\":{\"align\":\"left\"},\"paper_bgcolor\":\"white\",\"plot_bgcolor\":\"#E5ECF6\",\"polar\":{\"bgcolor\":\"#E5ECF6\",\"angularaxis\":{\"gridcolor\":\"white\",\"linecolor\":\"white\",\"ticks\":\"\"},\"radialaxis\":{\"gridcolor\":\"white\",\"linecolor\":\"white\",\"ticks\":\"\"}},\"ternary\":{\"bgcolor\":\"#E5ECF6\",\"aaxis\":{\"gridcolor\":\"white\",\"linecolor\":\"white\",\"ticks\":\"\"},\"baxis\":{\"gridcolor\":\"white\",\"linecolor\":\"white\",\"ticks\":\"\"},\"caxis\":{\"gridcolor\":\"white\",\"linecolor\":\"white\",\"ticks\":\"\"}},\"coloraxis\":{\"colorbar\":{\"outlinewidth\":0,\"ticks\":\"\"}},\"colorscale\":{\"sequential\":[[0.0,\"#0d0887\"],[0.1111111111111111,\"#46039f\"],[0.2222222222222222,\"#7201a8\"],[0.3333333333333333,\"#9c179e\"],[0.4444444444444444,\"#bd3786\"],[0.5555555555555556,\"#d8576b\"],[0.6666666666666666,\"#ed7953\"],[0.7777777777777778,\"#fb9f3a\"],[0.8888888888888888,\"#fdca26\"],[1.0,\"#f0f921\"]],\"sequentialminus\":[[0.0,\"#0d0887\"],[0.1111111111111111,\"#46039f\"],[0.2222222222222222,\"#7201a8\"],[0.3333333333333333,\"#9c179e\"],[0.4444444444444444,\"#bd3786\"],[0.5555555555555556,\"#d8576b\"],[0.6666666666666666,\"#ed7953\"],[0.7777777777777778,\"#fb9f3a\"],[0.8888888888888888,\"#fdca26\"],[1.0,\"#f0f921\"]],\"diverging\":[[0,\"#8e0152\"],[0.1,\"#c51b7d\"],[0.2,\"#de77ae\"],[0.3,\"#f1b6da\"],[0.4,\"#fde0ef\"],[0.5,\"#f7f7f7\"],[0.6,\"#e6f5d0\"],[0.7,\"#b8e186\"],[0.8,\"#7fbc41\"],[0.9,\"#4d9221\"],[1,\"#276419\"]]},\"xaxis\":{\"gridcolor\":\"white\",\"linecolor\":\"white\",\"ticks\":\"\",\"title\":{\"standoff\":15},\"zerolinecolor\":\"white\",\"automargin\":true,\"zerolinewidth\":2},\"yaxis\":{\"gridcolor\":\"white\",\"linecolor\":\"white\",\"ticks\":\"\",\"title\":{\"standoff\":15},\"zerolinecolor\":\"white\",\"automargin\":true,\"zerolinewidth\":2},\"scene\":{\"xaxis\":{\"backgroundcolor\":\"#E5ECF6\",\"gridcolor\":\"white\",\"linecolor\":\"white\",\"showbackground\":true,\"ticks\":\"\",\"zerolinecolor\":\"white\",\"gridwidth\":2},\"yaxis\":{\"backgroundcolor\":\"#E5ECF6\",\"gridcolor\":\"white\",\"linecolor\":\"white\",\"showbackground\":true,\"ticks\":\"\",\"zerolinecolor\":\"white\",\"gridwidth\":2},\"zaxis\":{\"backgroundcolor\":\"#E5ECF6\",\"gridcolor\":\"white\",\"linecolor\":\"white\",\"showbackground\":true,\"ticks\":\"\",\"zerolinecolor\":\"white\",\"gridwidth\":2}},\"shapedefaults\":{\"line\":{\"color\":\"#2a3f5f\"}},\"annotationdefaults\":{\"arrowcolor\":\"#2a3f5f\",\"arrowhead\":0,\"arrowwidth\":1},\"geo\":{\"bgcolor\":\"white\",\"landcolor\":\"#E5ECF6\",\"subunitcolor\":\"white\",\"showland\":true,\"showlakes\":true,\"lakecolor\":\"white\"},\"title\":{\"x\":0.05},\"mapbox\":{\"style\":\"light\"}}},\"xaxis\":{\"anchor\":\"y\",\"domain\":[0.0,1.0],\"scaleanchor\":\"y\",\"constrain\":\"domain\"},\"yaxis\":{\"anchor\":\"x\",\"domain\":[0.0,1.0],\"autorange\":\"reversed\",\"constrain\":\"domain\"},\"coloraxis\":{\"colorscale\":[[0.0,\"rgb(255,245,240)\"],[0.125,\"rgb(254,224,210)\"],[0.25,\"rgb(252,187,161)\"],[0.375,\"rgb(252,146,114)\"],[0.5,\"rgb(251,106,74)\"],[0.625,\"rgb(239,59,44)\"],[0.75,\"rgb(203,24,29)\"],[0.875,\"rgb(165,15,21)\"],[1.0,\"rgb(103,0,13)\"]]},\"margin\":{\"t\":60},\"width\":900,\"height\":700},                        {\"responsive\": true}                    ).then(function(){\n",
       "                            \n",
       "var gd = document.getElementById('4963a6ab-a36e-4a71-b31a-d6911effae42');\n",
       "var x = new MutationObserver(function (mutations, observer) {{\n",
       "        var display = window.getComputedStyle(gd).display;\n",
       "        if (!display || display === 'none') {{\n",
       "            console.log([gd, 'removed!']);\n",
       "            Plotly.purge(gd);\n",
       "            observer.disconnect();\n",
       "        }}\n",
       "}});\n",
       "\n",
       "// Listen for the removal of the full notebook cells\n",
       "var notebookContainer = gd.closest('#notebook-container');\n",
       "if (notebookContainer) {{\n",
       "    x.observe(notebookContainer, {childList: true});\n",
       "}}\n",
       "\n",
       "// Listen for the clearing of the current output cell\n",
       "var outputEl = gd.closest('.output');\n",
       "if (outputEl) {{\n",
       "    x.observe(outputEl, {childList: true});\n",
       "}}\n",
       "\n",
       "                        })                };                });            </script>        </div>"
      ]
     },
     "metadata": {},
     "output_type": "display_data"
    }
   ],
   "source": [
    "corr_plot(X_train_no_cluster,y_train)"
   ]
  },
  {
   "cell_type": "code",
   "execution_count": 63,
   "id": "d2807c40",
   "metadata": {
    "scrolled": true
   },
   "outputs": [],
   "source": [
    "def train(X,y):  \n",
    "    n_estimators=[int(x) for x in np.linspace(200, 800, 10)]  # nº de arboles del bosque\n",
    "\n",
    "    max_features=['auto']   # calculo maximo carac sqrt\n",
    "\n",
    "    min_samples_split=[2, 3, 4, 5]\n",
    "    bootstrap=[True, False]  # con o sin reemplazamiento\n",
    "\n",
    "    params={'n_estimators': n_estimators,\n",
    "            'max_features': max_features,\n",
    "            'min_samples_split':min_samples_split,\n",
    "            'bootstrap': bootstrap}\n",
    "\n",
    "    rfr = RFR()\n",
    "\n",
    "    rf_random = RandomizedSearchCV(estimator=rfr,\n",
    "                                param_distributions=params,\n",
    "                                n_iter=80,\n",
    "                                cv=5,\n",
    "                                n_jobs=-1,\n",
    "                               verbose=0,\n",
    "                              scoring='neg_root_mean_squared_error')\n",
    "\n",
    "    return rf_random.fit(X,y)"
   ]
  },
  {
   "cell_type": "code",
   "execution_count": 11,
   "id": "9ca50063",
   "metadata": {},
   "outputs": [
    {
     "name": "stderr",
     "output_type": "stream",
     "text": [
      "C:\\Users\\augus\\anaconda3\\lib\\site-packages\\sklearn\\model_selection\\_search.py:292: UserWarning:\n",
      "\n",
      "The total space of parameters 30 is smaller than n_iter=200. Running 30 iterations. For exhaustive searches, use GridSearchCV.\n",
      "\n"
     ]
    },
    {
     "name": "stdout",
     "output_type": "stream",
     "text": [
      "Fitting 4 folds for each of 30 candidates, totalling 120 fits\n"
     ]
    },
    {
     "name": "stderr",
     "output_type": "stream",
     "text": [
      "C:\\Users\\augus\\anaconda3\\lib\\site-packages\\sklearn\\model_selection\\_search.py:926: DataConversionWarning:\n",
      "\n",
      "A column-vector y was passed when a 1d array was expected. Please change the shape of y to (n_samples,), for example using ravel().\n",
      "\n"
     ]
    }
   ],
   "source": [
    "rf = train(X_train_no_cluster,y_train)"
   ]
  },
  {
   "cell_type": "code",
   "execution_count": 13,
   "id": "72e4bb84",
   "metadata": {},
   "outputs": [
    {
     "data": {
      "text/plain": [
       "RandomForestRegressor(n_estimators=600)"
      ]
     },
     "execution_count": 13,
     "metadata": {},
     "output_type": "execute_result"
    }
   ],
   "source": [
    "rf.best_estimator_"
   ]
  },
  {
   "cell_type": "code",
   "execution_count": 14,
   "id": "ab5432a8",
   "metadata": {},
   "outputs": [],
   "source": [
    "y_hat = rf.best_estimator_.predict(X_train_no_cluster)"
   ]
  },
  {
   "cell_type": "code",
   "execution_count": 19,
   "id": "8e87673c",
   "metadata": {},
   "outputs": [
    {
     "data": {
      "text/plain": [
       "0.9789582070399523"
      ]
     },
     "execution_count": 19,
     "metadata": {},
     "output_type": "execute_result"
    }
   ],
   "source": [
    "r2(y_hat,y_train)"
   ]
  },
  {
   "cell_type": "code",
   "execution_count": 15,
   "id": "f1f829cb",
   "metadata": {},
   "outputs": [
    {
     "data": {
      "text/plain": [
       "0.9794798797503215"
      ]
     },
     "execution_count": 15,
     "metadata": {},
     "output_type": "execute_result"
    }
   ],
   "source": [
    "r2(y_hat,y_train)"
   ]
  },
  {
   "cell_type": "code",
   "execution_count": 22,
   "id": "33fdec37",
   "metadata": {},
   "outputs": [
    {
     "data": {
      "text/plain": [
       "869609.2461044459"
      ]
     },
     "execution_count": 22,
     "metadata": {},
     "output_type": "execute_result"
    }
   ],
   "source": [
    "mse(y_hat,y_train,squared=False)"
   ]
  },
  {
   "cell_type": "code",
   "execution_count": 16,
   "id": "f1887aa0",
   "metadata": {},
   "outputs": [
    {
     "data": {
      "text/plain": [
       "860610.8843972833"
      ]
     },
     "execution_count": 16,
     "metadata": {},
     "output_type": "execute_result"
    }
   ],
   "source": [
    "mse(y_hat,y_train,squared=False)"
   ]
  },
  {
   "cell_type": "code",
   "execution_count": 18,
   "id": "53bbf468",
   "metadata": {},
   "outputs": [],
   "source": [
    "y_hat_test = rf.best_estimator_.predict(X_test_no_cluster)"
   ]
  },
  {
   "cell_type": "code",
   "execution_count": 19,
   "id": "c4513dbb",
   "metadata": {},
   "outputs": [],
   "source": [
    "muestra = pd.read_csv('../data/muestras/muestra.csv')"
   ]
  },
  {
   "cell_type": "code",
   "execution_count": 20,
   "id": "4f695acd",
   "metadata": {},
   "outputs": [
    {
     "data": {
      "text/html": [
       "<div>\n",
       "<style scoped>\n",
       "    .dataframe tbody tr th:only-of-type {\n",
       "        vertical-align: middle;\n",
       "    }\n",
       "\n",
       "    .dataframe tbody tr th {\n",
       "        vertical-align: top;\n",
       "    }\n",
       "\n",
       "    .dataframe thead th {\n",
       "        text-align: right;\n",
       "    }\n",
       "</style>\n",
       "<table border=\"1\" class=\"dataframe\">\n",
       "  <thead>\n",
       "    <tr style=\"text-align: right;\">\n",
       "      <th></th>\n",
       "      <th>id</th>\n",
       "      <th>Price</th>\n",
       "    </tr>\n",
       "  </thead>\n",
       "  <tbody>\n",
       "    <tr>\n",
       "      <th>0</th>\n",
       "      <td>0</td>\n",
       "      <td>2759145</td>\n",
       "    </tr>\n",
       "    <tr>\n",
       "      <th>1</th>\n",
       "      <td>1</td>\n",
       "      <td>10926785</td>\n",
       "    </tr>\n",
       "    <tr>\n",
       "      <th>2</th>\n",
       "      <td>2</td>\n",
       "      <td>20212944</td>\n",
       "    </tr>\n",
       "    <tr>\n",
       "      <th>3</th>\n",
       "      <td>3</td>\n",
       "      <td>46541311</td>\n",
       "    </tr>\n",
       "    <tr>\n",
       "      <th>4</th>\n",
       "      <td>4</td>\n",
       "      <td>46335226</td>\n",
       "    </tr>\n",
       "  </tbody>\n",
       "</table>\n",
       "</div>"
      ],
      "text/plain": [
       "   id     Price\n",
       "0   0   2759145\n",
       "1   1  10926785\n",
       "2   2  20212944\n",
       "3   3  46541311\n",
       "4   4  46335226"
      ]
     },
     "execution_count": 20,
     "metadata": {},
     "output_type": "execute_result"
    }
   ],
   "source": [
    "muestra.head()"
   ]
  },
  {
   "cell_type": "code",
   "execution_count": 21,
   "id": "bd0bc60a",
   "metadata": {},
   "outputs": [],
   "source": [
    "muestra['Price'] = y_hat_test"
   ]
  },
  {
   "cell_type": "code",
   "execution_count": 22,
   "id": "a88b0c5b",
   "metadata": {},
   "outputs": [
    {
     "data": {
      "text/html": [
       "<div>\n",
       "<style scoped>\n",
       "    .dataframe tbody tr th:only-of-type {\n",
       "        vertical-align: middle;\n",
       "    }\n",
       "\n",
       "    .dataframe tbody tr th {\n",
       "        vertical-align: top;\n",
       "    }\n",
       "\n",
       "    .dataframe thead th {\n",
       "        text-align: right;\n",
       "    }\n",
       "</style>\n",
       "<table border=\"1\" class=\"dataframe\">\n",
       "  <thead>\n",
       "    <tr style=\"text-align: right;\">\n",
       "      <th></th>\n",
       "      <th>id</th>\n",
       "      <th>Price</th>\n",
       "    </tr>\n",
       "  </thead>\n",
       "  <tbody>\n",
       "    <tr>\n",
       "      <th>0</th>\n",
       "      <td>0</td>\n",
       "      <td>7.315534e+06</td>\n",
       "    </tr>\n",
       "    <tr>\n",
       "      <th>1</th>\n",
       "      <td>1</td>\n",
       "      <td>1.379758e+07</td>\n",
       "    </tr>\n",
       "    <tr>\n",
       "      <th>2</th>\n",
       "      <td>2</td>\n",
       "      <td>1.046738e+07</td>\n",
       "    </tr>\n",
       "    <tr>\n",
       "      <th>3</th>\n",
       "      <td>3</td>\n",
       "      <td>1.153126e+07</td>\n",
       "    </tr>\n",
       "    <tr>\n",
       "      <th>4</th>\n",
       "      <td>4</td>\n",
       "      <td>4.637131e+06</td>\n",
       "    </tr>\n",
       "  </tbody>\n",
       "</table>\n",
       "</div>"
      ],
      "text/plain": [
       "   id         Price\n",
       "0   0  7.315534e+06\n",
       "1   1  1.379758e+07\n",
       "2   2  1.046738e+07\n",
       "3   3  1.153126e+07\n",
       "4   4  4.637131e+06"
      ]
     },
     "execution_count": 22,
     "metadata": {},
     "output_type": "execute_result"
    }
   ],
   "source": [
    "muestra.head()"
   ]
  },
  {
   "cell_type": "code",
   "execution_count": 23,
   "id": "71422825",
   "metadata": {},
   "outputs": [],
   "source": [
    "muestra.to_csv('../data/muestras/muestra_2.csv',index=False)"
   ]
  },
  {
   "cell_type": "code",
   "execution_count": null,
   "id": "7dc5e0bc",
   "metadata": {},
   "outputs": [],
   "source": []
  },
  {
   "cell_type": "markdown",
   "id": "d08b5c80",
   "metadata": {},
   "source": [
    "Combinaciones:\n",
    "- Con y sin outliers\n",
    "- sin cluster con clusters (4 y 5)\n",
    "- Quitando columna version y no version"
   ]
  },
  {
   "cell_type": "code",
   "execution_count": 6,
   "id": "a0656239",
   "metadata": {},
   "outputs": [],
   "source": [
    "outliers = pd.read_csv('../data/transform/outliers_index.csv')"
   ]
  },
  {
   "cell_type": "code",
   "execution_count": 64,
   "id": "1f3945bd",
   "metadata": {
    "scrolled": false
   },
   "outputs": [
    {
     "name": "stdout",
     "output_type": "stream",
     "text": [
      "0 0 0\n",
      "modelo ok\n",
      "y_hat ok\n",
      "r2 ok\n",
      "mse ok\n",
      "0 0 1\n",
      "modelo ok\n",
      "y_hat ok\n",
      "r2 ok\n",
      "mse ok\n",
      "0 4 0\n",
      "modelo ok\n",
      "y_hat ok\n",
      "r2 ok\n",
      "mse ok\n",
      "0 4 1\n",
      "modelo ok\n",
      "y_hat ok\n",
      "r2 ok\n",
      "mse ok\n",
      "0 5 0\n",
      "modelo ok\n",
      "y_hat ok\n",
      "r2 ok\n",
      "mse ok\n",
      "0 5 1\n",
      "modelo ok\n",
      "y_hat ok\n",
      "r2 ok\n",
      "mse ok\n",
      "1 0 0\n",
      "modelo ok\n",
      "y_hat ok\n",
      "r2 ok\n",
      "mse ok\n",
      "1 0 1\n",
      "modelo ok\n",
      "y_hat ok\n",
      "r2 ok\n",
      "mse ok\n",
      "1 4 0\n",
      "modelo ok\n",
      "y_hat ok\n",
      "r2 ok\n",
      "mse ok\n",
      "1 4 1\n",
      "modelo ok\n",
      "y_hat ok\n",
      "r2 ok\n",
      "mse ok\n",
      "1 5 0\n",
      "modelo ok\n",
      "y_hat ok\n",
      "r2 ok\n",
      "mse ok\n",
      "1 5 1\n",
      "modelo ok\n",
      "y_hat ok\n",
      "r2 ok\n",
      "mse ok\n",
      "CPU times: total: 42.4 s\n",
      "Wall time: 55min 8s\n"
     ]
    }
   ],
   "source": [
    "%%time\n",
    "\n",
    "modelos = []\n",
    "for out in range(2):\n",
    "    for cluster in [0,4,5]:\n",
    "        for version in range(2):\n",
    "            if not out:\n",
    "                index = outliers.iloc[:,0]\n",
    "            else:\n",
    "                index = []\n",
    "            if cluster == 0:\n",
    "                X = X_train_no_cluster.drop(index=index)\n",
    "                X_t = X_test_no_cluster\n",
    "            elif cluster == 4:\n",
    "                X = X_train_4c.drop(index=index)\n",
    "                X_t = X_test_4c\n",
    "            else:\n",
    "                X = X_train_5c.drop(index=index)\n",
    "                X_t = X_test_5c\n",
    "            if not version:\n",
    "                X = X.drop(columns=['Operating_System_Version_10 S',\n",
    "                                    'Operating_System_Version_7',\n",
    "                                    'Operating_System_Version_Android',\n",
    "                                    'Operating_System_Version_Chrome OS',\n",
    "                                    'Operating_System_Version_No OS',\n",
    "                                    'Operating_System_Version_Ubuntu',\n",
    "                                    'Operating_System_Version_X'                                   \n",
    "                                   ])\n",
    "                X_t = X_t.drop(columns=['Operating_System_Version_10 S',\n",
    "                                        'Operating_System_Version_7',\n",
    "                                        'Operating_System_Version_Android',\n",
    "                                        'Operating_System_Version_Chrome OS',\n",
    "                                        'Operating_System_Version_No OS',\n",
    "                                        'Operating_System_Version_Ubuntu',\n",
    "                                        'Operating_System_Version_X'                                   \n",
    "                                       ])\n",
    "            print(out,cluster,version)\n",
    "            modelo = train(X,y_train.drop(index=index))\n",
    "            print('modelo ok')\n",
    "            y_hat = modelo.best_estimator_.predict(X)\n",
    "            print('y_hat ok')\n",
    "            score = r2(y_hat,y_train.drop(index=index))\n",
    "            print('r2 ok')\n",
    "            mse_value = mse(y_hat,y_train.drop(index=index),squared=False)\n",
    "            print('mse ok')\n",
    "            \n",
    "            modelos.append({'outliers':out,\n",
    "                            'cluster':cluster,\n",
    "                            'version':version,\n",
    "                            'modelo': modelo,\n",
    "                            'X':X,\n",
    "                            'y':y_train.drop(index=index),\n",
    "                            'X_test':X_t,\n",
    "                            'R2':score,\n",
    "                            'mse':mse_value,\n",
    "                            'y_hat':y_hat\n",
    "                           })"
   ]
  },
  {
   "cell_type": "code",
   "execution_count": 66,
   "id": "d1d3b076",
   "metadata": {},
   "outputs": [
    {
     "data": {
      "text/plain": [
       "dict_keys(['outliers', 'cluster', 'version', 'modelo', 'X', 'y', 'X_test', 'R2', 'mse', 'y_hat'])"
      ]
     },
     "execution_count": 66,
     "metadata": {},
     "output_type": "execute_result"
    }
   ],
   "source": [
    "modelos[0].keys()"
   ]
  },
  {
   "cell_type": "code",
   "execution_count": 80,
   "id": "d6c8aacb",
   "metadata": {},
   "outputs": [],
   "source": [
    "df_models = pd.DataFrame(columns=['Outliers','Cluster','version','R2','mse'])\n",
    "for index,m in enumerate(modelos):\n",
    "    df_models.loc[index]=[m['outliers'],m['cluster'],m['version'],m['R2'],m['mse']]\n",
    "    muestra = pd.read_csv('../data/muestras/muestra.csv')\n",
    "    y_hat_test = m['modelo'].best_estimator_.predict(m['X_test'])\n",
    "    muestra['Price'] = y_hat_test\n",
    "    muestra.to_csv(f'../data/muestras/muestra{m[\"outliers\"]}_{m[\"cluster\"]}_{m[\"version\"]}.csv',index=False)\n",
    "    \n",
    "    "
   ]
  },
  {
   "cell_type": "code",
   "execution_count": 81,
   "id": "49ea01fa",
   "metadata": {},
   "outputs": [
    {
     "data": {
      "text/html": [
       "<div>\n",
       "<style scoped>\n",
       "    .dataframe tbody tr th:only-of-type {\n",
       "        vertical-align: middle;\n",
       "    }\n",
       "\n",
       "    .dataframe tbody tr th {\n",
       "        vertical-align: top;\n",
       "    }\n",
       "\n",
       "    .dataframe thead th {\n",
       "        text-align: right;\n",
       "    }\n",
       "</style>\n",
       "<table border=\"1\" class=\"dataframe\">\n",
       "  <thead>\n",
       "    <tr style=\"text-align: right;\">\n",
       "      <th></th>\n",
       "      <th>Outliers</th>\n",
       "      <th>Cluster</th>\n",
       "      <th>version</th>\n",
       "      <th>R2</th>\n",
       "      <th>mse</th>\n",
       "    </tr>\n",
       "  </thead>\n",
       "  <tbody>\n",
       "    <tr>\n",
       "      <th>0</th>\n",
       "      <td>0.0</td>\n",
       "      <td>0.0</td>\n",
       "      <td>0.0</td>\n",
       "      <td>0.976735</td>\n",
       "      <td>755969.018577</td>\n",
       "    </tr>\n",
       "    <tr>\n",
       "      <th>1</th>\n",
       "      <td>0.0</td>\n",
       "      <td>0.0</td>\n",
       "      <td>1.0</td>\n",
       "      <td>0.977759</td>\n",
       "      <td>739773.487695</td>\n",
       "    </tr>\n",
       "    <tr>\n",
       "      <th>2</th>\n",
       "      <td>0.0</td>\n",
       "      <td>4.0</td>\n",
       "      <td>0.0</td>\n",
       "      <td>0.977526</td>\n",
       "      <td>742915.688039</td>\n",
       "    </tr>\n",
       "    <tr>\n",
       "      <th>3</th>\n",
       "      <td>0.0</td>\n",
       "      <td>4.0</td>\n",
       "      <td>1.0</td>\n",
       "      <td>0.977768</td>\n",
       "      <td>739730.901528</td>\n",
       "    </tr>\n",
       "    <tr>\n",
       "      <th>4</th>\n",
       "      <td>0.0</td>\n",
       "      <td>5.0</td>\n",
       "      <td>0.0</td>\n",
       "      <td>0.968001</td>\n",
       "      <td>880399.169371</td>\n",
       "    </tr>\n",
       "    <tr>\n",
       "      <th>5</th>\n",
       "      <td>0.0</td>\n",
       "      <td>5.0</td>\n",
       "      <td>1.0</td>\n",
       "      <td>0.973802</td>\n",
       "      <td>799216.851028</td>\n",
       "    </tr>\n",
       "    <tr>\n",
       "      <th>6</th>\n",
       "      <td>1.0</td>\n",
       "      <td>0.0</td>\n",
       "      <td>0.0</td>\n",
       "      <td>0.979321</td>\n",
       "      <td>864220.493039</td>\n",
       "    </tr>\n",
       "    <tr>\n",
       "      <th>7</th>\n",
       "      <td>1.0</td>\n",
       "      <td>0.0</td>\n",
       "      <td>1.0</td>\n",
       "      <td>0.979753</td>\n",
       "      <td>855306.198935</td>\n",
       "    </tr>\n",
       "    <tr>\n",
       "      <th>8</th>\n",
       "      <td>1.0</td>\n",
       "      <td>4.0</td>\n",
       "      <td>0.0</td>\n",
       "      <td>0.979413</td>\n",
       "      <td>862522.681484</td>\n",
       "    </tr>\n",
       "    <tr>\n",
       "      <th>9</th>\n",
       "      <td>1.0</td>\n",
       "      <td>4.0</td>\n",
       "      <td>1.0</td>\n",
       "      <td>0.980012</td>\n",
       "      <td>851279.362074</td>\n",
       "    </tr>\n",
       "    <tr>\n",
       "      <th>10</th>\n",
       "      <td>1.0</td>\n",
       "      <td>5.0</td>\n",
       "      <td>0.0</td>\n",
       "      <td>0.979493</td>\n",
       "      <td>860302.941518</td>\n",
       "    </tr>\n",
       "    <tr>\n",
       "      <th>11</th>\n",
       "      <td>1.0</td>\n",
       "      <td>5.0</td>\n",
       "      <td>1.0</td>\n",
       "      <td>0.980013</td>\n",
       "      <td>852285.106940</td>\n",
       "    </tr>\n",
       "  </tbody>\n",
       "</table>\n",
       "</div>"
      ],
      "text/plain": [
       "    Outliers  Cluster  version        R2            mse\n",
       "0        0.0      0.0      0.0  0.976735  755969.018577\n",
       "1        0.0      0.0      1.0  0.977759  739773.487695\n",
       "2        0.0      4.0      0.0  0.977526  742915.688039\n",
       "3        0.0      4.0      1.0  0.977768  739730.901528\n",
       "4        0.0      5.0      0.0  0.968001  880399.169371\n",
       "5        0.0      5.0      1.0  0.973802  799216.851028\n",
       "6        1.0      0.0      0.0  0.979321  864220.493039\n",
       "7        1.0      0.0      1.0  0.979753  855306.198935\n",
       "8        1.0      4.0      0.0  0.979413  862522.681484\n",
       "9        1.0      4.0      1.0  0.980012  851279.362074\n",
       "10       1.0      5.0      0.0  0.979493  860302.941518\n",
       "11       1.0      5.0      1.0  0.980013  852285.106940"
      ]
     },
     "execution_count": 81,
     "metadata": {},
     "output_type": "execute_result"
    }
   ],
   "source": [
    "df_models"
   ]
  },
  {
   "cell_type": "code",
   "execution_count": 82,
   "id": "1690c32d",
   "metadata": {},
   "outputs": [
    {
     "data": {
      "application/vnd.plotly.v1+json": {
       "config": {
        "plotlyServerURL": "https://plot.ly"
       },
       "data": [
        {
         "hovertemplate": "version=0.0<br>Cluster=%{x}<br>R2=%{y}<br>Outliers=%{marker.color}<extra></extra>",
         "legendgroup": "0.0",
         "marker": {
          "color": [
           0,
           0,
           0,
           1,
           1,
           1
          ],
          "coloraxis": "coloraxis",
          "symbol": "circle"
         },
         "mode": "markers",
         "name": "0.0",
         "orientation": "v",
         "showlegend": true,
         "type": "scatter",
         "x": [
          0,
          4,
          5,
          0,
          4,
          5
         ],
         "xaxis": "x",
         "y": [
          0.9767351113495557,
          0.9775260959747251,
          0.968000542652692,
          0.9793207791269288,
          0.9794130107958359,
          0.9794931743464715
         ],
         "yaxis": "y"
        },
        {
         "hovertemplate": "version=1.0<br>Cluster=%{x}<br>R2=%{y}<br>Outliers=%{marker.color}<extra></extra>",
         "legendgroup": "1.0",
         "marker": {
          "color": [
           0,
           0,
           0,
           1,
           1,
           1
          ],
          "coloraxis": "coloraxis",
          "symbol": "diamond"
         },
         "mode": "markers",
         "name": "1.0",
         "orientation": "v",
         "showlegend": true,
         "type": "scatter",
         "x": [
          0,
          4,
          5,
          0,
          4,
          5
         ],
         "xaxis": "x",
         "y": [
          0.9777589433104005,
          0.977767697738997,
          0.9738015152044,
          0.9797530644166632,
          0.9800120804270172,
          0.9800134198137982
         ],
         "yaxis": "y"
        }
       ],
       "layout": {
        "coloraxis": {
         "colorbar": {
          "title": {
           "text": "Outliers"
          }
         },
         "colorscale": [
          [
           0,
           "#0d0887"
          ],
          [
           0.1111111111111111,
           "#46039f"
          ],
          [
           0.2222222222222222,
           "#7201a8"
          ],
          [
           0.3333333333333333,
           "#9c179e"
          ],
          [
           0.4444444444444444,
           "#bd3786"
          ],
          [
           0.5555555555555556,
           "#d8576b"
          ],
          [
           0.6666666666666666,
           "#ed7953"
          ],
          [
           0.7777777777777778,
           "#fb9f3a"
          ],
          [
           0.8888888888888888,
           "#fdca26"
          ],
          [
           1,
           "#f0f921"
          ]
         ]
        },
        "legend": {
         "title": {
          "text": "version"
         },
         "tracegroupgap": 0
        },
        "margin": {
         "t": 60
        },
        "template": {
         "data": {
          "bar": [
           {
            "error_x": {
             "color": "#2a3f5f"
            },
            "error_y": {
             "color": "#2a3f5f"
            },
            "marker": {
             "line": {
              "color": "#E5ECF6",
              "width": 0.5
             },
             "pattern": {
              "fillmode": "overlay",
              "size": 10,
              "solidity": 0.2
             }
            },
            "type": "bar"
           }
          ],
          "barpolar": [
           {
            "marker": {
             "line": {
              "color": "#E5ECF6",
              "width": 0.5
             },
             "pattern": {
              "fillmode": "overlay",
              "size": 10,
              "solidity": 0.2
             }
            },
            "type": "barpolar"
           }
          ],
          "carpet": [
           {
            "aaxis": {
             "endlinecolor": "#2a3f5f",
             "gridcolor": "white",
             "linecolor": "white",
             "minorgridcolor": "white",
             "startlinecolor": "#2a3f5f"
            },
            "baxis": {
             "endlinecolor": "#2a3f5f",
             "gridcolor": "white",
             "linecolor": "white",
             "minorgridcolor": "white",
             "startlinecolor": "#2a3f5f"
            },
            "type": "carpet"
           }
          ],
          "choropleth": [
           {
            "colorbar": {
             "outlinewidth": 0,
             "ticks": ""
            },
            "type": "choropleth"
           }
          ],
          "contour": [
           {
            "colorbar": {
             "outlinewidth": 0,
             "ticks": ""
            },
            "colorscale": [
             [
              0,
              "#0d0887"
             ],
             [
              0.1111111111111111,
              "#46039f"
             ],
             [
              0.2222222222222222,
              "#7201a8"
             ],
             [
              0.3333333333333333,
              "#9c179e"
             ],
             [
              0.4444444444444444,
              "#bd3786"
             ],
             [
              0.5555555555555556,
              "#d8576b"
             ],
             [
              0.6666666666666666,
              "#ed7953"
             ],
             [
              0.7777777777777778,
              "#fb9f3a"
             ],
             [
              0.8888888888888888,
              "#fdca26"
             ],
             [
              1,
              "#f0f921"
             ]
            ],
            "type": "contour"
           }
          ],
          "contourcarpet": [
           {
            "colorbar": {
             "outlinewidth": 0,
             "ticks": ""
            },
            "type": "contourcarpet"
           }
          ],
          "heatmap": [
           {
            "colorbar": {
             "outlinewidth": 0,
             "ticks": ""
            },
            "colorscale": [
             [
              0,
              "#0d0887"
             ],
             [
              0.1111111111111111,
              "#46039f"
             ],
             [
              0.2222222222222222,
              "#7201a8"
             ],
             [
              0.3333333333333333,
              "#9c179e"
             ],
             [
              0.4444444444444444,
              "#bd3786"
             ],
             [
              0.5555555555555556,
              "#d8576b"
             ],
             [
              0.6666666666666666,
              "#ed7953"
             ],
             [
              0.7777777777777778,
              "#fb9f3a"
             ],
             [
              0.8888888888888888,
              "#fdca26"
             ],
             [
              1,
              "#f0f921"
             ]
            ],
            "type": "heatmap"
           }
          ],
          "heatmapgl": [
           {
            "colorbar": {
             "outlinewidth": 0,
             "ticks": ""
            },
            "colorscale": [
             [
              0,
              "#0d0887"
             ],
             [
              0.1111111111111111,
              "#46039f"
             ],
             [
              0.2222222222222222,
              "#7201a8"
             ],
             [
              0.3333333333333333,
              "#9c179e"
             ],
             [
              0.4444444444444444,
              "#bd3786"
             ],
             [
              0.5555555555555556,
              "#d8576b"
             ],
             [
              0.6666666666666666,
              "#ed7953"
             ],
             [
              0.7777777777777778,
              "#fb9f3a"
             ],
             [
              0.8888888888888888,
              "#fdca26"
             ],
             [
              1,
              "#f0f921"
             ]
            ],
            "type": "heatmapgl"
           }
          ],
          "histogram": [
           {
            "marker": {
             "pattern": {
              "fillmode": "overlay",
              "size": 10,
              "solidity": 0.2
             }
            },
            "type": "histogram"
           }
          ],
          "histogram2d": [
           {
            "colorbar": {
             "outlinewidth": 0,
             "ticks": ""
            },
            "colorscale": [
             [
              0,
              "#0d0887"
             ],
             [
              0.1111111111111111,
              "#46039f"
             ],
             [
              0.2222222222222222,
              "#7201a8"
             ],
             [
              0.3333333333333333,
              "#9c179e"
             ],
             [
              0.4444444444444444,
              "#bd3786"
             ],
             [
              0.5555555555555556,
              "#d8576b"
             ],
             [
              0.6666666666666666,
              "#ed7953"
             ],
             [
              0.7777777777777778,
              "#fb9f3a"
             ],
             [
              0.8888888888888888,
              "#fdca26"
             ],
             [
              1,
              "#f0f921"
             ]
            ],
            "type": "histogram2d"
           }
          ],
          "histogram2dcontour": [
           {
            "colorbar": {
             "outlinewidth": 0,
             "ticks": ""
            },
            "colorscale": [
             [
              0,
              "#0d0887"
             ],
             [
              0.1111111111111111,
              "#46039f"
             ],
             [
              0.2222222222222222,
              "#7201a8"
             ],
             [
              0.3333333333333333,
              "#9c179e"
             ],
             [
              0.4444444444444444,
              "#bd3786"
             ],
             [
              0.5555555555555556,
              "#d8576b"
             ],
             [
              0.6666666666666666,
              "#ed7953"
             ],
             [
              0.7777777777777778,
              "#fb9f3a"
             ],
             [
              0.8888888888888888,
              "#fdca26"
             ],
             [
              1,
              "#f0f921"
             ]
            ],
            "type": "histogram2dcontour"
           }
          ],
          "mesh3d": [
           {
            "colorbar": {
             "outlinewidth": 0,
             "ticks": ""
            },
            "type": "mesh3d"
           }
          ],
          "parcoords": [
           {
            "line": {
             "colorbar": {
              "outlinewidth": 0,
              "ticks": ""
             }
            },
            "type": "parcoords"
           }
          ],
          "pie": [
           {
            "automargin": true,
            "type": "pie"
           }
          ],
          "scatter": [
           {
            "fillpattern": {
             "fillmode": "overlay",
             "size": 10,
             "solidity": 0.2
            },
            "type": "scatter"
           }
          ],
          "scatter3d": [
           {
            "line": {
             "colorbar": {
              "outlinewidth": 0,
              "ticks": ""
             }
            },
            "marker": {
             "colorbar": {
              "outlinewidth": 0,
              "ticks": ""
             }
            },
            "type": "scatter3d"
           }
          ],
          "scattercarpet": [
           {
            "marker": {
             "colorbar": {
              "outlinewidth": 0,
              "ticks": ""
             }
            },
            "type": "scattercarpet"
           }
          ],
          "scattergeo": [
           {
            "marker": {
             "colorbar": {
              "outlinewidth": 0,
              "ticks": ""
             }
            },
            "type": "scattergeo"
           }
          ],
          "scattergl": [
           {
            "marker": {
             "colorbar": {
              "outlinewidth": 0,
              "ticks": ""
             }
            },
            "type": "scattergl"
           }
          ],
          "scattermapbox": [
           {
            "marker": {
             "colorbar": {
              "outlinewidth": 0,
              "ticks": ""
             }
            },
            "type": "scattermapbox"
           }
          ],
          "scatterpolar": [
           {
            "marker": {
             "colorbar": {
              "outlinewidth": 0,
              "ticks": ""
             }
            },
            "type": "scatterpolar"
           }
          ],
          "scatterpolargl": [
           {
            "marker": {
             "colorbar": {
              "outlinewidth": 0,
              "ticks": ""
             }
            },
            "type": "scatterpolargl"
           }
          ],
          "scatterternary": [
           {
            "marker": {
             "colorbar": {
              "outlinewidth": 0,
              "ticks": ""
             }
            },
            "type": "scatterternary"
           }
          ],
          "surface": [
           {
            "colorbar": {
             "outlinewidth": 0,
             "ticks": ""
            },
            "colorscale": [
             [
              0,
              "#0d0887"
             ],
             [
              0.1111111111111111,
              "#46039f"
             ],
             [
              0.2222222222222222,
              "#7201a8"
             ],
             [
              0.3333333333333333,
              "#9c179e"
             ],
             [
              0.4444444444444444,
              "#bd3786"
             ],
             [
              0.5555555555555556,
              "#d8576b"
             ],
             [
              0.6666666666666666,
              "#ed7953"
             ],
             [
              0.7777777777777778,
              "#fb9f3a"
             ],
             [
              0.8888888888888888,
              "#fdca26"
             ],
             [
              1,
              "#f0f921"
             ]
            ],
            "type": "surface"
           }
          ],
          "table": [
           {
            "cells": {
             "fill": {
              "color": "#EBF0F8"
             },
             "line": {
              "color": "white"
             }
            },
            "header": {
             "fill": {
              "color": "#C8D4E3"
             },
             "line": {
              "color": "white"
             }
            },
            "type": "table"
           }
          ]
         },
         "layout": {
          "annotationdefaults": {
           "arrowcolor": "#2a3f5f",
           "arrowhead": 0,
           "arrowwidth": 1
          },
          "autotypenumbers": "strict",
          "coloraxis": {
           "colorbar": {
            "outlinewidth": 0,
            "ticks": ""
           }
          },
          "colorscale": {
           "diverging": [
            [
             0,
             "#8e0152"
            ],
            [
             0.1,
             "#c51b7d"
            ],
            [
             0.2,
             "#de77ae"
            ],
            [
             0.3,
             "#f1b6da"
            ],
            [
             0.4,
             "#fde0ef"
            ],
            [
             0.5,
             "#f7f7f7"
            ],
            [
             0.6,
             "#e6f5d0"
            ],
            [
             0.7,
             "#b8e186"
            ],
            [
             0.8,
             "#7fbc41"
            ],
            [
             0.9,
             "#4d9221"
            ],
            [
             1,
             "#276419"
            ]
           ],
           "sequential": [
            [
             0,
             "#0d0887"
            ],
            [
             0.1111111111111111,
             "#46039f"
            ],
            [
             0.2222222222222222,
             "#7201a8"
            ],
            [
             0.3333333333333333,
             "#9c179e"
            ],
            [
             0.4444444444444444,
             "#bd3786"
            ],
            [
             0.5555555555555556,
             "#d8576b"
            ],
            [
             0.6666666666666666,
             "#ed7953"
            ],
            [
             0.7777777777777778,
             "#fb9f3a"
            ],
            [
             0.8888888888888888,
             "#fdca26"
            ],
            [
             1,
             "#f0f921"
            ]
           ],
           "sequentialminus": [
            [
             0,
             "#0d0887"
            ],
            [
             0.1111111111111111,
             "#46039f"
            ],
            [
             0.2222222222222222,
             "#7201a8"
            ],
            [
             0.3333333333333333,
             "#9c179e"
            ],
            [
             0.4444444444444444,
             "#bd3786"
            ],
            [
             0.5555555555555556,
             "#d8576b"
            ],
            [
             0.6666666666666666,
             "#ed7953"
            ],
            [
             0.7777777777777778,
             "#fb9f3a"
            ],
            [
             0.8888888888888888,
             "#fdca26"
            ],
            [
             1,
             "#f0f921"
            ]
           ]
          },
          "colorway": [
           "#636efa",
           "#EF553B",
           "#00cc96",
           "#ab63fa",
           "#FFA15A",
           "#19d3f3",
           "#FF6692",
           "#B6E880",
           "#FF97FF",
           "#FECB52"
          ],
          "font": {
           "color": "#2a3f5f"
          },
          "geo": {
           "bgcolor": "white",
           "lakecolor": "white",
           "landcolor": "#E5ECF6",
           "showlakes": true,
           "showland": true,
           "subunitcolor": "white"
          },
          "hoverlabel": {
           "align": "left"
          },
          "hovermode": "closest",
          "mapbox": {
           "style": "light"
          },
          "paper_bgcolor": "white",
          "plot_bgcolor": "#E5ECF6",
          "polar": {
           "angularaxis": {
            "gridcolor": "white",
            "linecolor": "white",
            "ticks": ""
           },
           "bgcolor": "#E5ECF6",
           "radialaxis": {
            "gridcolor": "white",
            "linecolor": "white",
            "ticks": ""
           }
          },
          "scene": {
           "xaxis": {
            "backgroundcolor": "#E5ECF6",
            "gridcolor": "white",
            "gridwidth": 2,
            "linecolor": "white",
            "showbackground": true,
            "ticks": "",
            "zerolinecolor": "white"
           },
           "yaxis": {
            "backgroundcolor": "#E5ECF6",
            "gridcolor": "white",
            "gridwidth": 2,
            "linecolor": "white",
            "showbackground": true,
            "ticks": "",
            "zerolinecolor": "white"
           },
           "zaxis": {
            "backgroundcolor": "#E5ECF6",
            "gridcolor": "white",
            "gridwidth": 2,
            "linecolor": "white",
            "showbackground": true,
            "ticks": "",
            "zerolinecolor": "white"
           }
          },
          "shapedefaults": {
           "line": {
            "color": "#2a3f5f"
           }
          },
          "ternary": {
           "aaxis": {
            "gridcolor": "white",
            "linecolor": "white",
            "ticks": ""
           },
           "baxis": {
            "gridcolor": "white",
            "linecolor": "white",
            "ticks": ""
           },
           "bgcolor": "#E5ECF6",
           "caxis": {
            "gridcolor": "white",
            "linecolor": "white",
            "ticks": ""
           }
          },
          "title": {
           "x": 0.05
          },
          "xaxis": {
           "automargin": true,
           "gridcolor": "white",
           "linecolor": "white",
           "ticks": "",
           "title": {
            "standoff": 15
           },
           "zerolinecolor": "white",
           "zerolinewidth": 2
          },
          "yaxis": {
           "automargin": true,
           "gridcolor": "white",
           "linecolor": "white",
           "ticks": "",
           "title": {
            "standoff": 15
           },
           "zerolinecolor": "white",
           "zerolinewidth": 2
          }
         }
        },
        "xaxis": {
         "anchor": "y",
         "domain": [
          0,
          1
         ],
         "title": {
          "text": "Cluster"
         }
        },
        "yaxis": {
         "anchor": "x",
         "domain": [
          0,
          1
         ],
         "title": {
          "text": "R2"
         }
        }
       }
      },
      "text/html": [
       "<div>                            <div id=\"3e0086a8-cc49-4976-9e2d-33457a1afd5a\" class=\"plotly-graph-div\" style=\"height:525px; width:100%;\"></div>            <script type=\"text/javascript\">                require([\"plotly\"], function(Plotly) {                    window.PLOTLYENV=window.PLOTLYENV || {};                                    if (document.getElementById(\"3e0086a8-cc49-4976-9e2d-33457a1afd5a\")) {                    Plotly.newPlot(                        \"3e0086a8-cc49-4976-9e2d-33457a1afd5a\",                        [{\"hovertemplate\":\"version=0.0<br>Cluster=%{x}<br>R2=%{y}<br>Outliers=%{marker.color}<extra></extra>\",\"legendgroup\":\"0.0\",\"marker\":{\"color\":[0.0,0.0,0.0,1.0,1.0,1.0],\"coloraxis\":\"coloraxis\",\"symbol\":\"circle\"},\"mode\":\"markers\",\"name\":\"0.0\",\"orientation\":\"v\",\"showlegend\":true,\"x\":[0.0,4.0,5.0,0.0,4.0,5.0],\"xaxis\":\"x\",\"y\":[0.9767351113495557,0.9775260959747251,0.968000542652692,0.9793207791269288,0.9794130107958359,0.9794931743464715],\"yaxis\":\"y\",\"type\":\"scatter\"},{\"hovertemplate\":\"version=1.0<br>Cluster=%{x}<br>R2=%{y}<br>Outliers=%{marker.color}<extra></extra>\",\"legendgroup\":\"1.0\",\"marker\":{\"color\":[0.0,0.0,0.0,1.0,1.0,1.0],\"coloraxis\":\"coloraxis\",\"symbol\":\"diamond\"},\"mode\":\"markers\",\"name\":\"1.0\",\"orientation\":\"v\",\"showlegend\":true,\"x\":[0.0,4.0,5.0,0.0,4.0,5.0],\"xaxis\":\"x\",\"y\":[0.9777589433104005,0.977767697738997,0.9738015152044,0.9797530644166632,0.9800120804270172,0.9800134198137982],\"yaxis\":\"y\",\"type\":\"scatter\"}],                        {\"template\":{\"data\":{\"histogram2dcontour\":[{\"type\":\"histogram2dcontour\",\"colorbar\":{\"outlinewidth\":0,\"ticks\":\"\"},\"colorscale\":[[0.0,\"#0d0887\"],[0.1111111111111111,\"#46039f\"],[0.2222222222222222,\"#7201a8\"],[0.3333333333333333,\"#9c179e\"],[0.4444444444444444,\"#bd3786\"],[0.5555555555555556,\"#d8576b\"],[0.6666666666666666,\"#ed7953\"],[0.7777777777777778,\"#fb9f3a\"],[0.8888888888888888,\"#fdca26\"],[1.0,\"#f0f921\"]]}],\"choropleth\":[{\"type\":\"choropleth\",\"colorbar\":{\"outlinewidth\":0,\"ticks\":\"\"}}],\"histogram2d\":[{\"type\":\"histogram2d\",\"colorbar\":{\"outlinewidth\":0,\"ticks\":\"\"},\"colorscale\":[[0.0,\"#0d0887\"],[0.1111111111111111,\"#46039f\"],[0.2222222222222222,\"#7201a8\"],[0.3333333333333333,\"#9c179e\"],[0.4444444444444444,\"#bd3786\"],[0.5555555555555556,\"#d8576b\"],[0.6666666666666666,\"#ed7953\"],[0.7777777777777778,\"#fb9f3a\"],[0.8888888888888888,\"#fdca26\"],[1.0,\"#f0f921\"]]}],\"heatmap\":[{\"type\":\"heatmap\",\"colorbar\":{\"outlinewidth\":0,\"ticks\":\"\"},\"colorscale\":[[0.0,\"#0d0887\"],[0.1111111111111111,\"#46039f\"],[0.2222222222222222,\"#7201a8\"],[0.3333333333333333,\"#9c179e\"],[0.4444444444444444,\"#bd3786\"],[0.5555555555555556,\"#d8576b\"],[0.6666666666666666,\"#ed7953\"],[0.7777777777777778,\"#fb9f3a\"],[0.8888888888888888,\"#fdca26\"],[1.0,\"#f0f921\"]]}],\"heatmapgl\":[{\"type\":\"heatmapgl\",\"colorbar\":{\"outlinewidth\":0,\"ticks\":\"\"},\"colorscale\":[[0.0,\"#0d0887\"],[0.1111111111111111,\"#46039f\"],[0.2222222222222222,\"#7201a8\"],[0.3333333333333333,\"#9c179e\"],[0.4444444444444444,\"#bd3786\"],[0.5555555555555556,\"#d8576b\"],[0.6666666666666666,\"#ed7953\"],[0.7777777777777778,\"#fb9f3a\"],[0.8888888888888888,\"#fdca26\"],[1.0,\"#f0f921\"]]}],\"contourcarpet\":[{\"type\":\"contourcarpet\",\"colorbar\":{\"outlinewidth\":0,\"ticks\":\"\"}}],\"contour\":[{\"type\":\"contour\",\"colorbar\":{\"outlinewidth\":0,\"ticks\":\"\"},\"colorscale\":[[0.0,\"#0d0887\"],[0.1111111111111111,\"#46039f\"],[0.2222222222222222,\"#7201a8\"],[0.3333333333333333,\"#9c179e\"],[0.4444444444444444,\"#bd3786\"],[0.5555555555555556,\"#d8576b\"],[0.6666666666666666,\"#ed7953\"],[0.7777777777777778,\"#fb9f3a\"],[0.8888888888888888,\"#fdca26\"],[1.0,\"#f0f921\"]]}],\"surface\":[{\"type\":\"surface\",\"colorbar\":{\"outlinewidth\":0,\"ticks\":\"\"},\"colorscale\":[[0.0,\"#0d0887\"],[0.1111111111111111,\"#46039f\"],[0.2222222222222222,\"#7201a8\"],[0.3333333333333333,\"#9c179e\"],[0.4444444444444444,\"#bd3786\"],[0.5555555555555556,\"#d8576b\"],[0.6666666666666666,\"#ed7953\"],[0.7777777777777778,\"#fb9f3a\"],[0.8888888888888888,\"#fdca26\"],[1.0,\"#f0f921\"]]}],\"mesh3d\":[{\"type\":\"mesh3d\",\"colorbar\":{\"outlinewidth\":0,\"ticks\":\"\"}}],\"scatter\":[{\"fillpattern\":{\"fillmode\":\"overlay\",\"size\":10,\"solidity\":0.2},\"type\":\"scatter\"}],\"parcoords\":[{\"type\":\"parcoords\",\"line\":{\"colorbar\":{\"outlinewidth\":0,\"ticks\":\"\"}}}],\"scatterpolargl\":[{\"type\":\"scatterpolargl\",\"marker\":{\"colorbar\":{\"outlinewidth\":0,\"ticks\":\"\"}}}],\"bar\":[{\"error_x\":{\"color\":\"#2a3f5f\"},\"error_y\":{\"color\":\"#2a3f5f\"},\"marker\":{\"line\":{\"color\":\"#E5ECF6\",\"width\":0.5},\"pattern\":{\"fillmode\":\"overlay\",\"size\":10,\"solidity\":0.2}},\"type\":\"bar\"}],\"scattergeo\":[{\"type\":\"scattergeo\",\"marker\":{\"colorbar\":{\"outlinewidth\":0,\"ticks\":\"\"}}}],\"scatterpolar\":[{\"type\":\"scatterpolar\",\"marker\":{\"colorbar\":{\"outlinewidth\":0,\"ticks\":\"\"}}}],\"histogram\":[{\"marker\":{\"pattern\":{\"fillmode\":\"overlay\",\"size\":10,\"solidity\":0.2}},\"type\":\"histogram\"}],\"scattergl\":[{\"type\":\"scattergl\",\"marker\":{\"colorbar\":{\"outlinewidth\":0,\"ticks\":\"\"}}}],\"scatter3d\":[{\"type\":\"scatter3d\",\"line\":{\"colorbar\":{\"outlinewidth\":0,\"ticks\":\"\"}},\"marker\":{\"colorbar\":{\"outlinewidth\":0,\"ticks\":\"\"}}}],\"scattermapbox\":[{\"type\":\"scattermapbox\",\"marker\":{\"colorbar\":{\"outlinewidth\":0,\"ticks\":\"\"}}}],\"scatterternary\":[{\"type\":\"scatterternary\",\"marker\":{\"colorbar\":{\"outlinewidth\":0,\"ticks\":\"\"}}}],\"scattercarpet\":[{\"type\":\"scattercarpet\",\"marker\":{\"colorbar\":{\"outlinewidth\":0,\"ticks\":\"\"}}}],\"carpet\":[{\"aaxis\":{\"endlinecolor\":\"#2a3f5f\",\"gridcolor\":\"white\",\"linecolor\":\"white\",\"minorgridcolor\":\"white\",\"startlinecolor\":\"#2a3f5f\"},\"baxis\":{\"endlinecolor\":\"#2a3f5f\",\"gridcolor\":\"white\",\"linecolor\":\"white\",\"minorgridcolor\":\"white\",\"startlinecolor\":\"#2a3f5f\"},\"type\":\"carpet\"}],\"table\":[{\"cells\":{\"fill\":{\"color\":\"#EBF0F8\"},\"line\":{\"color\":\"white\"}},\"header\":{\"fill\":{\"color\":\"#C8D4E3\"},\"line\":{\"color\":\"white\"}},\"type\":\"table\"}],\"barpolar\":[{\"marker\":{\"line\":{\"color\":\"#E5ECF6\",\"width\":0.5},\"pattern\":{\"fillmode\":\"overlay\",\"size\":10,\"solidity\":0.2}},\"type\":\"barpolar\"}],\"pie\":[{\"automargin\":true,\"type\":\"pie\"}]},\"layout\":{\"autotypenumbers\":\"strict\",\"colorway\":[\"#636efa\",\"#EF553B\",\"#00cc96\",\"#ab63fa\",\"#FFA15A\",\"#19d3f3\",\"#FF6692\",\"#B6E880\",\"#FF97FF\",\"#FECB52\"],\"font\":{\"color\":\"#2a3f5f\"},\"hovermode\":\"closest\",\"hoverlabel\":{\"align\":\"left\"},\"paper_bgcolor\":\"white\",\"plot_bgcolor\":\"#E5ECF6\",\"polar\":{\"bgcolor\":\"#E5ECF6\",\"angularaxis\":{\"gridcolor\":\"white\",\"linecolor\":\"white\",\"ticks\":\"\"},\"radialaxis\":{\"gridcolor\":\"white\",\"linecolor\":\"white\",\"ticks\":\"\"}},\"ternary\":{\"bgcolor\":\"#E5ECF6\",\"aaxis\":{\"gridcolor\":\"white\",\"linecolor\":\"white\",\"ticks\":\"\"},\"baxis\":{\"gridcolor\":\"white\",\"linecolor\":\"white\",\"ticks\":\"\"},\"caxis\":{\"gridcolor\":\"white\",\"linecolor\":\"white\",\"ticks\":\"\"}},\"coloraxis\":{\"colorbar\":{\"outlinewidth\":0,\"ticks\":\"\"}},\"colorscale\":{\"sequential\":[[0.0,\"#0d0887\"],[0.1111111111111111,\"#46039f\"],[0.2222222222222222,\"#7201a8\"],[0.3333333333333333,\"#9c179e\"],[0.4444444444444444,\"#bd3786\"],[0.5555555555555556,\"#d8576b\"],[0.6666666666666666,\"#ed7953\"],[0.7777777777777778,\"#fb9f3a\"],[0.8888888888888888,\"#fdca26\"],[1.0,\"#f0f921\"]],\"sequentialminus\":[[0.0,\"#0d0887\"],[0.1111111111111111,\"#46039f\"],[0.2222222222222222,\"#7201a8\"],[0.3333333333333333,\"#9c179e\"],[0.4444444444444444,\"#bd3786\"],[0.5555555555555556,\"#d8576b\"],[0.6666666666666666,\"#ed7953\"],[0.7777777777777778,\"#fb9f3a\"],[0.8888888888888888,\"#fdca26\"],[1.0,\"#f0f921\"]],\"diverging\":[[0,\"#8e0152\"],[0.1,\"#c51b7d\"],[0.2,\"#de77ae\"],[0.3,\"#f1b6da\"],[0.4,\"#fde0ef\"],[0.5,\"#f7f7f7\"],[0.6,\"#e6f5d0\"],[0.7,\"#b8e186\"],[0.8,\"#7fbc41\"],[0.9,\"#4d9221\"],[1,\"#276419\"]]},\"xaxis\":{\"gridcolor\":\"white\",\"linecolor\":\"white\",\"ticks\":\"\",\"title\":{\"standoff\":15},\"zerolinecolor\":\"white\",\"automargin\":true,\"zerolinewidth\":2},\"yaxis\":{\"gridcolor\":\"white\",\"linecolor\":\"white\",\"ticks\":\"\",\"title\":{\"standoff\":15},\"zerolinecolor\":\"white\",\"automargin\":true,\"zerolinewidth\":2},\"scene\":{\"xaxis\":{\"backgroundcolor\":\"#E5ECF6\",\"gridcolor\":\"white\",\"linecolor\":\"white\",\"showbackground\":true,\"ticks\":\"\",\"zerolinecolor\":\"white\",\"gridwidth\":2},\"yaxis\":{\"backgroundcolor\":\"#E5ECF6\",\"gridcolor\":\"white\",\"linecolor\":\"white\",\"showbackground\":true,\"ticks\":\"\",\"zerolinecolor\":\"white\",\"gridwidth\":2},\"zaxis\":{\"backgroundcolor\":\"#E5ECF6\",\"gridcolor\":\"white\",\"linecolor\":\"white\",\"showbackground\":true,\"ticks\":\"\",\"zerolinecolor\":\"white\",\"gridwidth\":2}},\"shapedefaults\":{\"line\":{\"color\":\"#2a3f5f\"}},\"annotationdefaults\":{\"arrowcolor\":\"#2a3f5f\",\"arrowhead\":0,\"arrowwidth\":1},\"geo\":{\"bgcolor\":\"white\",\"landcolor\":\"#E5ECF6\",\"subunitcolor\":\"white\",\"showland\":true,\"showlakes\":true,\"lakecolor\":\"white\"},\"title\":{\"x\":0.05},\"mapbox\":{\"style\":\"light\"}}},\"xaxis\":{\"anchor\":\"y\",\"domain\":[0.0,1.0],\"title\":{\"text\":\"Cluster\"}},\"yaxis\":{\"anchor\":\"x\",\"domain\":[0.0,1.0],\"title\":{\"text\":\"R2\"}},\"coloraxis\":{\"colorbar\":{\"title\":{\"text\":\"Outliers\"}},\"colorscale\":[[0.0,\"#0d0887\"],[0.1111111111111111,\"#46039f\"],[0.2222222222222222,\"#7201a8\"],[0.3333333333333333,\"#9c179e\"],[0.4444444444444444,\"#bd3786\"],[0.5555555555555556,\"#d8576b\"],[0.6666666666666666,\"#ed7953\"],[0.7777777777777778,\"#fb9f3a\"],[0.8888888888888888,\"#fdca26\"],[1.0,\"#f0f921\"]]},\"legend\":{\"title\":{\"text\":\"version\"},\"tracegroupgap\":0},\"margin\":{\"t\":60}},                        {\"responsive\": true}                    ).then(function(){\n",
       "                            \n",
       "var gd = document.getElementById('3e0086a8-cc49-4976-9e2d-33457a1afd5a');\n",
       "var x = new MutationObserver(function (mutations, observer) {{\n",
       "        var display = window.getComputedStyle(gd).display;\n",
       "        if (!display || display === 'none') {{\n",
       "            console.log([gd, 'removed!']);\n",
       "            Plotly.purge(gd);\n",
       "            observer.disconnect();\n",
       "        }}\n",
       "}});\n",
       "\n",
       "// Listen for the removal of the full notebook cells\n",
       "var notebookContainer = gd.closest('#notebook-container');\n",
       "if (notebookContainer) {{\n",
       "    x.observe(notebookContainer, {childList: true});\n",
       "}}\n",
       "\n",
       "// Listen for the clearing of the current output cell\n",
       "var outputEl = gd.closest('.output');\n",
       "if (outputEl) {{\n",
       "    x.observe(outputEl, {childList: true});\n",
       "}}\n",
       "\n",
       "                        })                };                });            </script>        </div>"
      ]
     },
     "metadata": {},
     "output_type": "display_data"
    }
   ],
   "source": [
    "px.scatter(df_models,x='Cluster',y='R2',color='Outliers',symbol='version')"
   ]
  },
  {
   "cell_type": "code",
   "execution_count": 58,
   "id": "c3acf98e",
   "metadata": {},
   "outputs": [
    {
     "ename": "TypeError",
     "evalue": "'numpy.float64' object is not callable",
     "output_type": "error",
     "traceback": [
      "\u001b[1;31m---------------------------------------------------------------------------\u001b[0m",
      "\u001b[1;31mTypeError\u001b[0m                                 Traceback (most recent call last)",
      "Cell \u001b[1;32mIn [58], line 1\u001b[0m\n\u001b[1;32m----> 1\u001b[0m mse \u001b[38;5;241m=\u001b[39m \u001b[43mmse\u001b[49m\u001b[43m(\u001b[49m\u001b[43my_hat\u001b[49m\u001b[43m,\u001b[49m\u001b[43my_train\u001b[49m\u001b[38;5;241;43m.\u001b[39;49m\u001b[43mdrop\u001b[49m\u001b[43m(\u001b[49m\u001b[43mindex\u001b[49m\u001b[38;5;241;43m=\u001b[39;49m\u001b[43mindex\u001b[49m\u001b[43m)\u001b[49m\u001b[43m,\u001b[49m\u001b[43msquared\u001b[49m\u001b[38;5;241;43m=\u001b[39;49m\u001b[38;5;28;43;01mFalse\u001b[39;49;00m\u001b[43m)\u001b[49m\n",
      "\u001b[1;31mTypeError\u001b[0m: 'numpy.float64' object is not callable"
     ]
    }
   ],
   "source": [
    "mse = mse(y_hat,y_train.drop(index=index),squaredFalse)="
   ]
  },
  {
   "cell_type": "code",
   "execution_count": 103,
   "id": "a38ca1ba",
   "metadata": {
    "scrolled": false
   },
   "outputs": [
    {
     "data": {
      "text/plain": [
       "{'outliers': 0,\n",
       " 'cluster': 0,\n",
       " 'version': 0,\n",
       " 'modelo': RandomizedSearchCV(cv=5, estimator=RandomForestRegressor(), n_iter=80,\n",
       "                    n_jobs=-1,\n",
       "                    param_distributions={'bootstrap': [True, False],\n",
       "                                         'max_features': ['auto'],\n",
       "                                         'min_samples_split': [2, 3, 4, 5],\n",
       "                                         'n_estimators': [200, 266, 333, 400,\n",
       "                                                          466, 533, 600, 666,\n",
       "                                                          733, 800]},\n",
       "                    scoring='neg_root_mean_squared_error'),\n",
       " 'X':      Screen_Size       RAM       GPU    Weight  Storage_Capacity  CPU_freq   \n",
       " 0      -1.203708 -0.074079  0.158898 -1.004655         -1.026071  0.003034  \\\n",
       " 1      -1.203708 -0.074079 -0.167126 -1.049739         -1.026071 -0.984682   \n",
       " 2       0.408955 -0.074079 -0.073976 -0.268295         -0.757991  0.398121   \n",
       " 3       0.268723  1.500638 -2.123268 -0.313378         -0.221832  0.793207   \n",
       " 4      -1.203708 -0.074079  0.205473 -1.004655         -0.757991  1.583380   \n",
       " ..           ...       ...       ...       ...               ...       ...   \n",
       " 971    -0.712898 -0.074079 -0.353425 -0.809294         -0.757991  0.595664   \n",
       " 973    -0.712898 -0.074079 -0.353425 -0.133045         -0.757991  0.003034   \n",
       " 974     1.600923  1.500638  1.136969  1.039120          1.386648  0.990751   \n",
       " 975     0.408955 -0.074079  0.671221  0.002205          1.118568  0.793207   \n",
       " 976    -0.712898 -0.861438 -0.353425 -0.508739         -0.230209  0.003034   \n",
       " \n",
       "      CPU_cores  CPU_model  Screen_Resolution  Screen_Model   \n",
       " 0     1.175647  -0.582022           1.399025      0.350337  \\\n",
       " 1     1.175647  -0.582022          -0.628655      1.582402   \n",
       " 2    -0.781760  -0.230487          -0.065539     -0.881729   \n",
       " 3     1.175647   0.238227           2.186924      0.350337   \n",
       " 4     1.175647  -0.582022           1.399025      0.350337   \n",
       " ..         ...        ...                ...           ...   \n",
       " 971  -0.781760   0.413994           1.102405      1.034817   \n",
       " 973  -0.781760  -0.523433          -0.065539     -0.881729   \n",
       " 974   1.175647   0.941297          -0.065539     -0.881729   \n",
       " 975  -0.781760  -0.230487          -0.065539     -0.197248   \n",
       " 976  -0.781760  -0.523433          -0.807461      1.582402   \n",
       " \n",
       "      Manufacturer_Apple  Manufacturer_Asus  Manufacturer_Chuwi   \n",
       " 0              7.810250          -0.370294           -0.048057  \\\n",
       " 1              7.810250          -0.370294           -0.048057   \n",
       " 2             -0.128037          -0.370294           -0.048057   \n",
       " 3              7.810250          -0.370294           -0.048057   \n",
       " 4              7.810250          -0.370294           -0.048057   \n",
       " ..                  ...                ...                 ...   \n",
       " 971           -0.128037          -0.370294           -0.048057   \n",
       " 973           -0.128037          -0.370294           -0.048057   \n",
       " 974           -0.128037           2.700554           -0.048057   \n",
       " 975           -0.128037          -0.370294           -0.048057   \n",
       " 976           -0.128037          -0.370294           -0.048057   \n",
       " \n",
       "      Manufacturer_Dell  Manufacturer_Fujitsu  Manufacturer_Google   \n",
       " 0            -0.543620             -0.048057            -0.048057  \\\n",
       " 1            -0.543620             -0.048057            -0.048057   \n",
       " 2            -0.543620             -0.048057            -0.048057   \n",
       " 3            -0.543620             -0.048057            -0.048057   \n",
       " 4            -0.543620             -0.048057            -0.048057   \n",
       " ..                 ...                   ...                  ...   \n",
       " 971           1.839521             -0.048057            -0.048057   \n",
       " 973          -0.543620             -0.048057            -0.048057   \n",
       " 974          -0.543620             -0.048057            -0.048057   \n",
       " 975          -0.543620             -0.048057            -0.048057   \n",
       " 976          -0.543620             -0.048057            -0.048057   \n",
       " \n",
       "      Manufacturer_HP  Manufacturer_Huawei  Manufacturer_LG   \n",
       " 0          -0.516272            -0.039223        -0.048057  \\\n",
       " 1          -0.516272            -0.039223        -0.048057   \n",
       " 2           1.936963            -0.039223        -0.048057   \n",
       " 3          -0.516272            -0.039223        -0.048057   \n",
       " 4          -0.516272            -0.039223        -0.048057   \n",
       " ..               ...                  ...              ...   \n",
       " 971        -0.516272            -0.039223        -0.048057   \n",
       " 973        -0.516272            -0.039223        -0.048057   \n",
       " 974        -0.516272            -0.039223        -0.048057   \n",
       " 975         1.936963            -0.039223        -0.048057   \n",
       " 976        -0.516272            -0.039223        -0.048057   \n",
       " \n",
       "      Manufacturer_Lenovo  Manufacturer_MSI  Manufacturer_Mediacom   \n",
       " 0              -0.543620         -0.208013              -0.073521  \\\n",
       " 1              -0.543620         -0.208013              -0.073521   \n",
       " 2              -0.543620         -0.208013              -0.073521   \n",
       " 3              -0.543620         -0.208013              -0.073521   \n",
       " 4              -0.543620         -0.208013              -0.073521   \n",
       " ..                   ...               ...                    ...   \n",
       " 971            -0.543620         -0.208013              -0.073521   \n",
       " 973            -0.543620         -0.208013              -0.073521   \n",
       " 974            -0.543620         -0.208013              -0.073521   \n",
       " 975            -0.543620         -0.208013              -0.073521   \n",
       " 976             1.839521         -0.208013              -0.073521   \n",
       " \n",
       "      Manufacturer_Microsoft  Manufacturer_Razer  Manufacturer_Samsung   \n",
       " 0                 -0.068041           -0.073521              -0.08343  \\\n",
       " 1                 -0.068041           -0.073521              -0.08343   \n",
       " 2                 -0.068041           -0.073521              -0.08343   \n",
       " 3                 -0.068041           -0.073521              -0.08343   \n",
       " 4                 -0.068041           -0.073521              -0.08343   \n",
       " ..                      ...                 ...                   ...   \n",
       " 971               -0.068041           -0.073521              -0.08343   \n",
       " 973               -0.068041           -0.073521              -0.08343   \n",
       " 974               -0.068041           -0.073521              -0.08343   \n",
       " 975               -0.068041           -0.073521              -0.08343   \n",
       " 976               -0.068041           -0.073521              -0.08343   \n",
       " \n",
       "      Manufacturer_Toshiba  Manufacturer_Vero  Manufacturer_Xiaomi   \n",
       " 0               -0.195646          -0.055513            -0.055513  \\\n",
       " 1               -0.195646          -0.055513            -0.055513   \n",
       " 2               -0.195646          -0.055513            -0.055513   \n",
       " 3               -0.195646          -0.055513            -0.055513   \n",
       " 4               -0.195646          -0.055513            -0.055513   \n",
       " ..                    ...                ...                  ...   \n",
       " 971             -0.195646          -0.055513            -0.055513   \n",
       " 973              5.111262          -0.055513            -0.055513   \n",
       " 974             -0.195646          -0.055513            -0.055513   \n",
       " 975             -0.195646          -0.055513            -0.055513   \n",
       " 976             -0.195646          -0.055513            -0.055513   \n",
       " \n",
       "      Operating_System_Chrome OS  Operating_System_Linux   \n",
       " 0                     -0.145521               -0.223607  \\\n",
       " 1                     -0.145521               -0.223607   \n",
       " 2                     -0.145521               -0.223607   \n",
       " 3                     -0.145521               -0.223607   \n",
       " 4                     -0.145521               -0.223607   \n",
       " ..                          ...                     ...   \n",
       " 971                   -0.145521               -0.223607   \n",
       " 973                   -0.145521               -0.223607   \n",
       " 974                   -0.145521               -0.223607   \n",
       " 975                   -0.145521               -0.223607   \n",
       " 976                   -0.145521               -0.223607   \n",
       " \n",
       "      Operating_System_Mac OS  Operating_System_No OS   \n",
       " 0                   7.810250               -0.231080  \\\n",
       " 1                   7.810250               -0.231080   \n",
       " 2                  -0.128037                4.327502   \n",
       " 3                   7.810250               -0.231080   \n",
       " 4                   7.810250               -0.231080   \n",
       " ..                       ...                     ...   \n",
       " 971                -0.128037               -0.231080   \n",
       " 973                -0.128037               -0.231080   \n",
       " 974                -0.128037               -0.231080   \n",
       " 975                -0.128037               -0.231080   \n",
       " 976                -0.128037               -0.231080   \n",
       " \n",
       "      Operating_System_Windows  Storage_Type_Flash Storage + HDD   \n",
       " 0                   -2.512888                         -0.027724  \\\n",
       " 1                   -2.512888                         -0.027724   \n",
       " 2                   -2.512888                         -0.027724   \n",
       " 3                   -2.512888                         -0.027724   \n",
       " 4                   -2.512888                         -0.027724   \n",
       " ..                        ...                               ...   \n",
       " 971                  0.397948                         -0.027724   \n",
       " 973                  0.397948                         -0.027724   \n",
       " 974                  0.397948                         -0.027724   \n",
       " 975                  0.397948                         -0.027724   \n",
       " 976                  0.397948                         -0.027724   \n",
       " \n",
       "      Storage_Type_HDD  Storage_Type_Hybrid  Storage_Type_SSD   \n",
       " 0           -0.636027            -0.087977          1.015481  \\\n",
       " 1           -0.636027            -0.087977         -0.984755   \n",
       " 2           -0.636027            -0.087977          1.015481   \n",
       " 3           -0.636027            -0.087977          1.015481   \n",
       " 4           -0.636027            -0.087977          1.015481   \n",
       " ..                ...                  ...               ...   \n",
       " 971         -0.636027            -0.087977          1.015481   \n",
       " 973         -0.636027            -0.087977          1.015481   \n",
       " 974         -0.636027            -0.087977         -0.984755   \n",
       " 975         -0.636027            -0.087977         -0.984755   \n",
       " 976         -0.636027            11.366618         -0.984755   \n",
       " \n",
       "      Storage_Type_SSD + HDD  Storage_Type_SSD + Hybrid  CPU_brand_Intel   \n",
       " 0                 -0.424755                  -0.039223         0.225494  \\\n",
       " 1                 -0.424755                  -0.039223         0.225494   \n",
       " 2                 -0.424755                  -0.039223         0.225494   \n",
       " 3                 -0.424755                  -0.039223         0.225494   \n",
       " 4                 -0.424755                  -0.039223         0.225494   \n",
       " ..                      ...                        ...              ...   \n",
       " 971               -0.424755                  -0.039223         0.225494   \n",
       " 973               -0.424755                  -0.039223         0.225494   \n",
       " 974                2.354297                  -0.039223         0.225494   \n",
       " 975                2.354297                  -0.039223         0.225494   \n",
       " 976               -0.424755                  -0.039223         0.225494   \n",
       " \n",
       "      CPU_brand_Samsung  GPU_brand_ARM  GPU_brand_Intel  GPU_brand_Nvidia  \n",
       " 0            -0.027724      -0.027724         0.896283         -0.664726  \n",
       " 1            -0.027724      -0.027724         0.896283         -0.664726  \n",
       " 2            -0.027724      -0.027724         0.896283         -0.664726  \n",
       " 3            -0.027724      -0.027724        -1.115718         -0.664726  \n",
       " 4            -0.027724      -0.027724         0.896283         -0.664726  \n",
       " ..                 ...            ...              ...               ...  \n",
       " 971          -0.027724      -0.027724         0.896283         -0.664726  \n",
       " 973          -0.027724      -0.027724         0.896283         -0.664726  \n",
       " 974          -0.027724      -0.027724        -1.115718          1.504380  \n",
       " 975          -0.027724      -0.027724        -1.115718          1.504380  \n",
       " 976          -0.027724      -0.027724         0.896283         -0.664726  \n",
       " \n",
       " [948 rows x 44 columns],\n",
       " 'y':            Price\n",
       " 0    11912523.48\n",
       " 1     7993374.48\n",
       " 2     5112900.00\n",
       " 3    22563005.40\n",
       " 4    16037611.20\n",
       " ..           ...\n",
       " 971  17454818.16\n",
       " 973  10492560.00\n",
       " 974  18227710.80\n",
       " 975   8705268.00\n",
       " 976   8909784.00\n",
       " \n",
       " [948 rows x 1 columns],\n",
       " 'X_test':      Screen_Size       RAM       GPU    Weight  Storage_Capacity  CPU_freq   \n",
       " 0       0.408955 -0.467759 -0.073976  0.002205          0.850488  0.793207  \\\n",
       " 1       1.600923  1.500638  0.997245  1.429842          1.386648  0.990751   \n",
       " 2       0.408955  0.713279 -0.073976  0.227621         -0.221832  0.793207   \n",
       " 3      -1.203708 -0.861438 -0.353425 -1.260127         -1.026071  0.003034   \n",
       " 4       0.408955 -0.467759 -2.216418  0.242649         -0.757991  2.571097   \n",
       " ..           ...       ...       ...       ...               ...       ...   \n",
       " 320    -0.712898 -0.861438 -0.353425 -0.358462         -1.026071  0.398121   \n",
       " 321    -1.203708  1.500638 -0.353425 -1.109850         -0.221832  0.398121   \n",
       " 322    -0.712898 -1.255118 -0.679449 -0.809294         -1.160111 -1.379768   \n",
       " 323     0.408955 -0.467759 -1.564370  0.227621          0.850488  0.398121   \n",
       " 324     0.408955 -0.861438 -0.679449  0.242649         -0.246964 -1.379768   \n",
       " \n",
       "      CPU_cores  CPU_model  Screen_Resolution  Screen_Model   \n",
       " 0    -0.781760   0.706940          -0.807461      1.582402  \\\n",
       " 1     1.175647   0.941297          -0.065539     -0.881729   \n",
       " 2    -0.781760   0.706940          -0.065539     -0.060352   \n",
       " 3    -0.781760  -0.523433          -0.065539     -0.881729   \n",
       " 4     1.175647  -2.691232          -0.065539     -0.881729   \n",
       " ..         ...        ...                ...           ...   \n",
       " 320  -0.781760   0.296816          -0.065539     -0.060352   \n",
       " 321  -0.781760   0.296816           2.604047      0.213440   \n",
       " 322  -0.781760  -1.753805          -0.807461      1.582402   \n",
       " 323  -0.781760   0.296816          -0.807461      1.582402   \n",
       " 324  -0.781760  -1.753805          -0.807461      1.582402   \n",
       " \n",
       "      Manufacturer_Apple  Manufacturer_Asus  Manufacturer_Chuwi   \n",
       " 0             -0.128037          -0.370294           -0.048057  \\\n",
       " 1             -0.128037           2.700554           -0.048057   \n",
       " 2             -0.128037          -0.370294           -0.048057   \n",
       " 3             -0.128037          -0.370294           -0.048057   \n",
       " 4             -0.128037          -0.370294           -0.048057   \n",
       " ..                  ...                ...                 ...   \n",
       " 320           -0.128037          -0.370294           -0.048057   \n",
       " 321           -0.128037          -0.370294           -0.048057   \n",
       " 322           -0.128037          -0.370294           -0.048057   \n",
       " 323           -0.128037          -0.370294           -0.048057   \n",
       " 324           -0.128037           2.700554           -0.048057   \n",
       " \n",
       "      Manufacturer_Dell  Manufacturer_Fujitsu  Manufacturer_Google   \n",
       " 0            -0.543620             -0.048057            -0.048057  \\\n",
       " 1            -0.543620             -0.048057            -0.048057   \n",
       " 2             1.839521             -0.048057            -0.048057   \n",
       " 3            -0.543620             -0.048057            -0.048057   \n",
       " 4            -0.543620             -0.048057            -0.048057   \n",
       " ..                 ...                   ...                  ...   \n",
       " 320          -0.543620             -0.048057            -0.048057   \n",
       " 321          -0.543620             -0.048057            -0.048057   \n",
       " 322          -0.543620             -0.048057            -0.048057   \n",
       " 323          -0.543620             -0.048057            -0.048057   \n",
       " 324          -0.543620             -0.048057            -0.048057   \n",
       " \n",
       "      Manufacturer_HP  Manufacturer_Huawei  Manufacturer_LG   \n",
       " 0           1.936963            -0.039223        -0.048057  \\\n",
       " 1          -0.516272            -0.039223        -0.048057   \n",
       " 2          -0.516272            -0.039223        -0.048057   \n",
       " 3          -0.516272            -0.039223        -0.048057   \n",
       " 4          -0.516272            -0.039223        -0.048057   \n",
       " ..               ...                  ...              ...   \n",
       " 320        -0.516272            -0.039223        -0.048057   \n",
       " 321        -0.516272            -0.039223        -0.048057   \n",
       " 322        -0.516272            -0.039223        -0.048057   \n",
       " 323         1.936963            -0.039223        -0.048057   \n",
       " 324        -0.516272            -0.039223        -0.048057   \n",
       " \n",
       "      Manufacturer_Lenovo  Manufacturer_MSI  Manufacturer_Mediacom   \n",
       " 0              -0.543620         -0.208013              -0.073521  \\\n",
       " 1              -0.543620         -0.208013              -0.073521   \n",
       " 2              -0.543620         -0.208013              -0.073521   \n",
       " 3              -0.543620         -0.208013              -0.073521   \n",
       " 4               1.839521         -0.208013              -0.073521   \n",
       " ..                   ...               ...                    ...   \n",
       " 320             1.839521         -0.208013              -0.073521   \n",
       " 321             1.839521         -0.208013              -0.073521   \n",
       " 322             1.839521         -0.208013              -0.073521   \n",
       " 323            -0.543620         -0.208013              -0.073521   \n",
       " 324            -0.543620         -0.208013              -0.073521   \n",
       " \n",
       "      Manufacturer_Microsoft  Manufacturer_Razer  Manufacturer_Samsung   \n",
       " 0                 -0.068041           -0.073521              -0.08343  \\\n",
       " 1                 -0.068041           -0.073521              -0.08343   \n",
       " 2                 -0.068041           -0.073521              -0.08343   \n",
       " 3                 -0.068041           -0.073521              -0.08343   \n",
       " 4                 -0.068041           -0.073521              -0.08343   \n",
       " ..                      ...                 ...                   ...   \n",
       " 320               -0.068041           -0.073521              -0.08343   \n",
       " 321               -0.068041           -0.073521              -0.08343   \n",
       " 322               -0.068041           -0.073521              -0.08343   \n",
       " 323               -0.068041           -0.073521              -0.08343   \n",
       " 324               -0.068041           -0.073521              -0.08343   \n",
       " \n",
       "      Manufacturer_Toshiba  Manufacturer_Vero  Manufacturer_Xiaomi   \n",
       " 0               -0.195646          -0.055513            -0.055513  \\\n",
       " 1               -0.195646          -0.055513            -0.055513   \n",
       " 2               -0.195646          -0.055513            -0.055513   \n",
       " 3                5.111262          -0.055513            -0.055513   \n",
       " 4               -0.195646          -0.055513            -0.055513   \n",
       " ..                    ...                ...                  ...   \n",
       " 320             -0.195646          -0.055513            -0.055513   \n",
       " 321             -0.195646          -0.055513            -0.055513   \n",
       " 322             -0.195646          -0.055513            -0.055513   \n",
       " 323             -0.195646          -0.055513            -0.055513   \n",
       " 324             -0.195646          -0.055513            -0.055513   \n",
       " \n",
       "      Operating_System_Chrome OS  Operating_System_Linux   \n",
       " 0                     -0.145521               -0.223607  \\\n",
       " 1                     -0.145521               -0.223607   \n",
       " 2                     -0.145521               -0.223607   \n",
       " 3                     -0.145521               -0.223607   \n",
       " 4                     -0.145521               -0.223607   \n",
       " ..                          ...                     ...   \n",
       " 320                   -0.145521               -0.223607   \n",
       " 321                   -0.145521               -0.223607   \n",
       " 322                   -0.145521               -0.223607   \n",
       " 323                   -0.145521               -0.223607   \n",
       " 324                   -0.145521               -0.223607   \n",
       " \n",
       "      Operating_System_Mac OS  Operating_System_No OS   \n",
       " 0                  -0.128037                -0.23108  \\\n",
       " 1                  -0.128037                -0.23108   \n",
       " 2                  -0.128037                -0.23108   \n",
       " 3                  -0.128037                -0.23108   \n",
       " 4                  -0.128037                -0.23108   \n",
       " ..                       ...                     ...   \n",
       " 320                -0.128037                -0.23108   \n",
       " 321                -0.128037                -0.23108   \n",
       " 322                -0.128037                -0.23108   \n",
       " 323                -0.128037                -0.23108   \n",
       " 324                -0.128037                -0.23108   \n",
       " \n",
       "      Operating_System_Windows  Storage_Type_Flash Storage + HDD   \n",
       " 0                    0.397948                         -0.027724  \\\n",
       " 1                    0.397948                         -0.027724   \n",
       " 2                    0.397948                         -0.027724   \n",
       " 3                    0.397948                         -0.027724   \n",
       " 4                    0.397948                         -0.027724   \n",
       " ..                        ...                               ...   \n",
       " 320                  0.397948                         -0.027724   \n",
       " 321                  0.397948                         -0.027724   \n",
       " 322                  0.397948                         -0.027724   \n",
       " 323                  0.397948                         -0.027724   \n",
       " 324                  0.397948                         -0.027724   \n",
       " \n",
       "      Storage_Type_HDD  Storage_Type_Hybrid  Storage_Type_SSD   \n",
       " 0            1.572260            -0.087977         -0.984755  \\\n",
       " 1           -0.636027            -0.087977         -0.984755   \n",
       " 2           -0.636027            -0.087977          1.015481   \n",
       " 3           -0.636027            -0.087977          1.015481   \n",
       " 4           -0.636027            -0.087977          1.015481   \n",
       " ..                ...                  ...               ...   \n",
       " 320         -0.636027            -0.087977          1.015481   \n",
       " 321         -0.636027            -0.087977          1.015481   \n",
       " 322         -0.636027            -0.087977         -0.984755   \n",
       " 323          1.572260            -0.087977         -0.984755   \n",
       " 324          1.572260            -0.087977         -0.984755   \n",
       " \n",
       "      Storage_Type_SSD + HDD  Storage_Type_SSD + Hybrid  CPU_brand_Intel   \n",
       " 0                 -0.424755                  -0.039223         0.225494  \\\n",
       " 1                  2.354297                  -0.039223         0.225494   \n",
       " 2                 -0.424755                  -0.039223         0.225494   \n",
       " 3                 -0.424755                  -0.039223         0.225494   \n",
       " 4                 -0.424755                  -0.039223        -4.434712   \n",
       " ..                      ...                        ...              ...   \n",
       " 320               -0.424755                  -0.039223         0.225494   \n",
       " 321               -0.424755                  -0.039223         0.225494   \n",
       " 322               -0.424755                  -0.039223         0.225494   \n",
       " 323               -0.424755                  -0.039223         0.225494   \n",
       " 324               -0.424755                  -0.039223         0.225494   \n",
       " \n",
       "      CPU_brand_Samsung  GPU_brand_ARM  GPU_brand_Intel  GPU_brand_Nvidia  \n",
       " 0            -0.027724      -0.027724         0.896283         -0.664726  \n",
       " 1            -0.027724      -0.027724        -1.115718          1.504380  \n",
       " 2            -0.027724      -0.027724         0.896283         -0.664726  \n",
       " 3            -0.027724      -0.027724         0.896283         -0.664726  \n",
       " 4            -0.027724      -0.027724        -1.115718         -0.664726  \n",
       " ..                 ...            ...              ...               ...  \n",
       " 320          -0.027724      -0.027724         0.896283         -0.664726  \n",
       " 321          -0.027724      -0.027724         0.896283         -0.664726  \n",
       " 322          -0.027724      -0.027724         0.896283         -0.664726  \n",
       " 323          -0.027724      -0.027724        -1.115718         -0.664726  \n",
       " 324          -0.027724      -0.027724         0.896283         -0.664726  \n",
       " \n",
       " [325 rows x 44 columns],\n",
       " 'R2': 0.9767351113495557,\n",
       " 'mse': 755969.018577356,\n",
       " 'y_hat': array([11802794.86285714,  8650113.53142859,  5470584.04285714,\n",
       "        20994398.60142853, 16006383.73285709,  3636240.32571429,\n",
       "        19567397.79428562,  9884566.82571432, 13227886.95428572,\n",
       "         7435126.69714286,  4021922.0387755 ,  3159255.06000001,\n",
       "        20362432.62857132,  4530492.05142856, 11515359.96000001,\n",
       "        13112505.89999996,  7079815.35857143,  4820559.12      ,\n",
       "        10162739.50714285,  1934244.00000001,  8736677.31857143,\n",
       "         2540627.58857143,  7811017.27714286,  6827365.29428571,\n",
       "         4055861.94      ,  9287169.17142857,  7105365.34601299,\n",
       "        10740451.91142857,  8092321.04571429,  2256341.32285714,\n",
       "         2139114.00857143,  4110686.02285714, 17698151.97428572,\n",
       "         9439544.62285715,  2379489.17142857,  3829072.37142857,\n",
       "         8831771.74285714,  4994009.61428572,  7975923.96342857,\n",
       "         3719190.65142857, 14637831.22285715,  5243932.64571428,\n",
       "         6142738.45714286,  8563980.80571429, 12625328.59714285,\n",
       "         3543064.2       , 12068348.09142857,  5595718.88571428,\n",
       "         4230701.81485714,  2704503.47142857,  7862333.47714286,\n",
       "         3708904.01142858,  9738437.83714286,  3743084.39142857,\n",
       "         7135633.77428569,  4046525.56285714,  5460637.03714287,\n",
       "        21014894.82857143,  3694373.94857143, 11947338.50938776,\n",
       "         8385010.92      ,  6206035.34571429,  8990766.38571429,\n",
       "         7027878.44571428, 16493109.58285715,  4130273.49428572,\n",
       "         2328333.09428571,  5118819.53142857,  9050938.70571429,\n",
       "        10338197.72142857,  8832378.60514287,  7885508.16857143,\n",
       "         9653674.12842857,  4012177.70571429,  8807253.33428571,\n",
       "         4956407.15142857,  8259844.98857142,  4901481.        ,\n",
       "         8682269.14285714,  9221780.87999999, 13415158.49142857,\n",
       "         8185708.77428571,  3720277.41428572,  3609979.84285714,\n",
       "        12191928.61714286,  7350227.15142857,  6395021.09999999,\n",
       "        14096540.41714286, 14500360.34571429,  7917536.08285714,\n",
       "         6471363.48857143, 11581068.38571429, 10138947.44571429,\n",
       "        10725418.41428571,  8234815.45714286,  5766757.17428569,\n",
       "         4318515.12857143,  5134121.79428571, 11433989.80285714,\n",
       "         7760965.01142857,  3088698.04285714,  5825839.83428571,\n",
       "        10333489.14      , 12561702.77142857,  6353064.9       ,\n",
       "         3884041.47857142, 10766443.79571429, 12238996.60285714,\n",
       "        12578510.9755102 , 12284119.49142857, 13177180.49142857,\n",
       "        12589679.86714286,  6387496.67877551, 14270233.93714286,\n",
       "        12722129.0485714 ,  9585138.75428571,  9929031.83999999,\n",
       "         4990688.48571429,  9699763.32      ,  4551430.53857143,\n",
       "        20099491.50857143,  5911550.69142857, 11648631.76285714,\n",
       "         3909475.10571429,  2419788.65142857,  7028732.54571429,\n",
       "         2645944.30285715, 11947338.50938776,  8101070.50628571,\n",
       "         5575903.09714285,  4293564.04285714,  8047980.72      ,\n",
       "         5226445.15714286,  5866170.40285714,  8776450.57714286,\n",
       "         2400360.96857143,  9265706.22342857,  4445080.71428571,\n",
       "         8401394.26285714,  5621102.20285714,  9982998.92571428,\n",
       "         8297244.76285714,  6124210.11428571,  3561474.98571429,\n",
       "        10178977.71428571, 16546901.28      ,  3008128.16571429,\n",
       "        18968159.6742857 ,  4038722.22      , 11829354.30857146,\n",
       "         8839791.03428571,  5355949.78285714, 17237162.05714286,\n",
       "         8555504.99142857,  5655491.17714286,  5586365.57142857,\n",
       "        11389943.31428572,  9119629.18285714,  4053635.93142857,\n",
       "         3697801.71428571,  6665322.85714286,  6640247.61214286,\n",
       "        10358043.09428572,  3002512.83428571, 15760805.91428571,\n",
       "         3170634.47999999,  9796251.88285712,  7996646.13428571,\n",
       "         6356998.18530612, 12319404.35142857,  6053495.09142857,\n",
       "         3047936.91428571,  5126301.84857143,  8235529.38      ,\n",
       "         4470500.80285714,  4104109.28571429,  7605897.55714286,\n",
       "        13899692.26285714, 10238294.86457142, 12879081.65142858,\n",
       "        17783208.18857143,  7255328.78571428,  9164286.3       ,\n",
       "        13167175.09714286, 19675458.4037143 ,  7014689.53714286,\n",
       "        10803545.66571429,  9812712.75612245,  2334902.14285714,\n",
       "         9678415.83428572,  6274115.30571429,  7271076.98571428,\n",
       "         8229567.39428571,  8972440.84285714, 13215124.70571429,\n",
       "         8915454.26571428, 16495325.22857143,  5181944.37428571,\n",
       "         7004965.05428571, 15437722.78285714, 14100924.90857143,\n",
       "         4076598.57428572, 16192520.87142857, 13402766.90204082,\n",
       "         5966265.90857143,  7360575.06122449, 13199217.6244898 ,\n",
       "         3236354.38285714,  5367284.40857143, 14740597.33714286,\n",
       "         8832378.60514287,  5701884.35142857,  9113478.32571429,\n",
       "         9350607.57428572, 12016413.46285715,  6238128.16714288,\n",
       "         8468179.53428571, 12524528.97428571,  7098838.94571429,\n",
       "        21696697.28571431,  7748779.62857143,  8775104.96571431,\n",
       "         7461467.74285714,  9040793.58      , 10463939.12571428,\n",
       "         3709762.1897143 ,  2914335.28285714, 14573112.50571429,\n",
       "         8514493.81714286,  7262183.64857143,  9465856.92      ,\n",
       "         3565200.6       ,  4802166.72      ,  7777179.31714286,\n",
       "         5113917.9       , 10060040.41714286,  8249797.14      ,\n",
       "         8121309.85714286, 11438710.72897959,  8742721.76142857,\n",
       "         5502153.65142857,  6356998.18530612, 17539766.51142858,\n",
       "         7285909.57714286, 17172119.75142857,  4132535.27142857,\n",
       "        16312190.7       ,  5959478.90571429,  9831308.76      ,\n",
       "         4511444.78571427, 10270781.15142858, 22125800.13428571,\n",
       "        14651213.92163265,  9812712.75612245,  3882523.98857143,\n",
       "         6335776.98      ,  5860166.63142857,  5614740.74571428,\n",
       "         7819317.62485714, 13837145.4       ,  4214361.72857143,\n",
       "         8650445.14285714,  7914543.22285714, 17160942.24000004,\n",
       "        14595917.92285714,  6546842.30571431, 21743308.07999999,\n",
       "         7333821.07714286,  6297422.04000002,  9177825.31714286,\n",
       "         6682964.78571429,  4484712.51428571,  7913612.57142857,\n",
       "         7983130.62857143,  3940850.16      ,  7677467.57142857,\n",
       "         5385534.06857143,  8372052.        ,  6728540.82244898,\n",
       "        10695253.47428571,  8948400.01714285, 10650048.68571429,\n",
       "         6031899.12000001,  2228802.19714286,  9993621.80142857,\n",
       "         4566866.68285714, 15596544.50448979,  7217256.03857143,\n",
       "        12049760.24571429,  8472282.11142857,  4562112.13714286,\n",
       "        14716279.05428572,  7359121.82571429, 19765543.94816327,\n",
       "         5723437.42285714,  5033501.79428571, 11099092.34571428,\n",
       "         3043735.94571429, 16825170.62571429,  9338827.68      ,\n",
       "         7881322.07571429,  4007547.57      , 10635956.53714286,\n",
       "        20882082.        , 18534184.61142857,  5376838.71214286,\n",
       "         2551561.07142857,  7481322.30857143, 20581247.14285714,\n",
       "         3729421.46571428,  8265683.28857142,  4391968.06285714,\n",
       "        11955591.84857143,  5500627.63714286, 10099993.46571429,\n",
       "         7513747.02      ,  5969548.92857143,  2506193.82      ,\n",
       "         5038670.85428571,  9565395.50571428, 12883699.02857143,\n",
       "        22529137.91142857, 11122169.48142857,  9599876.40857143,\n",
       "        11527145.20285714,  3884041.47857142,  9895939.33714286,\n",
       "        11563601.28857143,  9436022.58857143,  9351703.02857143,\n",
       "         2402619.40285714,  9365893.62428571,  2596926.65142857,\n",
       "         8446928.65714286,  6479208.28285714, 17783208.18857143,\n",
       "        13402766.90204082, 10706283.23142857,  2423330.74285714,\n",
       "        13405534.74000004,  3359618.22857143,  6275316.06      ,\n",
       "        19675458.4037143 , 11187983.66081633, 12983468.35500002,\n",
       "        16130437.32857148, 13582550.39142857,  8920104.73714285,\n",
       "         2793025.00285715,  8536964.72571428,  5268821.21999999,\n",
       "        13384780.94571429,  3916344.23142857,  8342757.20571429,\n",
       "         6512320.28571429,  6393946.03714286,  4784002.30285714,\n",
       "         3840870.31714286,  9146418.17142857,  7414616.59714286,\n",
       "         8122425.64714286, 15001245.59142857,  9709988.61857143,\n",
       "         3860334.10285714, 17374057.74      ,  4085391.29142857,\n",
       "         8062021.38857145,  4262497.86857144,  4602619.54285714,\n",
       "         2848809.26571428,  2603885.14285714,  7360575.06122449,\n",
       "        11943366.85285714,  3611604.80571429, 13452281.28771428,\n",
       "         9579959.33142857, 16190677.28571433, 19899436.88571429,\n",
       "         5344756.89428571, 10884547.44      , 18452868.94285714,\n",
       "        21957864.79714286,  9993621.80142857, 13796704.62857143,\n",
       "         6327234.41999999, 11584144.14857143,  6970426.20857141,\n",
       "         4356069.12      , 10161524.54571428,  8596949.06571429,\n",
       "        22599161.74285715, 22169524.37142857,  2946265.92      ,\n",
       "        13199217.6244898 ,  9863537.58      ,  8044254.32571429,\n",
       "        19523050.55999999, 15864977.14285714, 15785500.93714285,\n",
       "        15705885.78      ,  3912512.76      ,  2566930.19142856,\n",
       "        16973525.4557143 , 16679643.01714285,  4364968.80857143,\n",
       "         8041863.62571431,  9205555.98857143,  5244211.43999998,\n",
       "         6257969.64      , 13909274.46734694,  5233141.56857144,\n",
       "        10560379.95257144, 18117508.21028571,  3977398.28571429,\n",
       "        12400964.94      ,  5474882.06571429, 10517684.24571428,\n",
       "         9590026.68      , 10037009.58      , 16234277.47500001,\n",
       "         2743085.05714286,  2614461.94285714, 10015178.55      ,\n",
       "         5666403.93428571, 20176739.30999999, 20568984.09428572,\n",
       "        13560599.52      ,  2996473.62857143, 19271865.37714286,\n",
       "        21541820.04      ,  4887128.77714286,  4734086.76      ,\n",
       "         6412506.91714286, 12896602.45714286,  3293648.28      ,\n",
       "        10239201.18      , 10932272.40857143,  4336887.13714286,\n",
       "        17267026.47428571,  9053413.13871428, 21830207.32285714,\n",
       "         5763435.37714286, 18120376.33714286, 12792731.08285714,\n",
       "        10971916.68857143,  8708711.31      ,  4529412.64285714,\n",
       "        15558539.37857143,  7819267.33714286, 14984745.516     ,\n",
       "         5460183.07714284,  4836364.03714286,  3672155.31428571,\n",
       "         6501971.80285714,  8354918.40857143, 17912808.30857145,\n",
       "         3038690.23714286,  4519886.72571429,  6683179.06285714,\n",
       "        15345148.03714286, 16166327.58      , 16969535.92285714,\n",
       "         9827050.29428571, 11474587.8       , 14127906.66857139,\n",
       "        12108301.25142857,  6523821.72      , 20655051.30000001,\n",
       "        11367987.42857143,  6055359.40285714, 13509869.32285714,\n",
       "        10645951.45714285,  4786571.62285716,  6479298.09428571,\n",
       "         2271131.46      ,  4681168.88571429,  9065922.50571429,\n",
       "        19210362.71142857, 15471290.75142858, 16954282.8       ,\n",
       "        16778873.05714286,  8555917.8342857 , 12896423.51877551,\n",
       "         5049025.02      , 14160477.57428572, 10178693.79428571,\n",
       "         7969586.03999998, 14605196.91428571,  8973259.84285714,\n",
       "         8214604.76571428,  2838438.38571429,  5713014.05999999,\n",
       "        12730152.46285714,  2817252.36      ,  2646413.97428571,\n",
       "         9344592.77142857, 11212666.02857143,  5574639.83142857,\n",
       "        13699289.53714286, 10100043.69214286,  8944496.34      ,\n",
       "         6186886.45714286,  6968195.07428571, 10533243.1062857 ,\n",
       "        13052152.28571432,  2339603.87142857,  5128884.09428572,\n",
       "         7788961.99714285, 15295982.96571428, 12430481.25428572,\n",
       "        12730843.54285714, 11073849.0942857 ,  5663268.33428571,\n",
       "         8103809.44285714, 11114151.91714286,  6975003.47142857,\n",
       "         4148883.18      ,  5419850.83714286, 11968024.71428571,\n",
       "         8529812.31673469, 11862688.83428571,  3315792.70285714,\n",
       "        12983810.60228571, 12691808.55428571,  7105365.34601299,\n",
       "         3642737.16857144, 14521159.04571429,  8897498.33142857,\n",
       "        13338321.58285714,  6250587.16285713, 11201721.45857143,\n",
       "         6725221.5244898 ,  3094556.06571429,  6104339.94857143,\n",
       "         7280548.63714286,  4303063.32857144,  3700134.58285714,\n",
       "        14231936.49428571,  4403068.02      ,  9320393.4942857 ,\n",
       "        23429101.91142858,  4745045.98285713, 10451264.34857143,\n",
       "         2183338.00285714,  2348426.67428571,  7983130.62857143,\n",
       "         4913773.01999999,  5338234.31142856,  3498849.9       ,\n",
       "         5581624.39714286, 17341803.84857143,  8238928.59771428,\n",
       "        13476756.98571429,  8008591.5       ,  6312657.11142857,\n",
       "         3085356.18857143,  8503269.06      , 16345776.83142854,\n",
       "         3980953.74857143,  5415853.44857142,  7982460.27428571,\n",
       "         6196035.52285714,  2256575.32285714, 16496622.25714286,\n",
       "        21671643.90857143, 23276655.59142857,  6575666.09142858,\n",
       "         3343331.16      ,  8267277.16285712,  6409588.60285714,\n",
       "        14392552.4228572 ,  2810968.45714286, 20753794.62      ,\n",
       "        13726113.84857143, 14398287.76285714,  5537310.14571429,\n",
       "        13953669.71142857,  6134291.61428571,  9051847.40571429,\n",
       "         5557412.08285714, 13931657.10857143,  4422399.09428571,\n",
       "         4266860.29714286, 17581672.79142857, 11562510.96      ,\n",
       "        14462496.58285715, 16723058.37428572, 11187983.66081633,\n",
       "         5690866.29428572,  3105679.42285714, 19615731.60857143,\n",
       "         4252205.21142857, 20553211.49142857, 11294965.22142857,\n",
       "         5241866.09142857, 12405567.49714286,  3334483.62      ,\n",
       "        11373230.0314286 ,  3813790.8342857 ,  3468166.81714285,\n",
       "         6853426.09714285, 10599631.93714286,  5129934.19714285,\n",
       "        12299015.83591837, 19687172.81142851,  3356723.31428571,\n",
       "         8743535.02285714, 12097064.57142857,  6445400.96571429,\n",
       "         6942445.71428571,  7588151.22      ,  7616465.66571429,\n",
       "         2137245.35142857,  4369923.25714286,  6013495.91142858,\n",
       "        15596544.50448979, 16893613.28571429, 12786508.57714286,\n",
       "         6942121.79142857,  4994137.86857143,  3648442.75714286,\n",
       "         7740499.25999998, 14936188.57714286,  2327959.02857143,\n",
       "        16027980.22800001, 21315565.55142858, 10392885.36      ,\n",
       "         5173774.09714284, 19674499.37142858,  9708892.20122449,\n",
       "         3877155.69428571,  2409324.17142857,  8954612.04857143,\n",
       "        20467734.63428571, 11917588.8       , 14535464.76942857,\n",
       "         6725221.5244898 , 12860850.10653064, 10752553.05428568,\n",
       "         3256410.18857142,  8529812.31673469,  7885508.16857143,\n",
       "        10533243.1062857 , 11274303.85714286, 11155873.78285714,\n",
       "         3334727.98285714,  5195263.20857143,  4689933.96857143,\n",
       "        12983468.35500002,  4305847.37142857,  7898985.9       ,\n",
       "         6899779.68244898,  9599876.40857143,  3620427.94285714,\n",
       "        17113877.48571423,  7745668.4314286 , 10259763.20571429,\n",
       "         3450000.39428571,  6101275.55142857, 11875903.81714286,\n",
       "        11014680.85714286,  6349589.44285714, 18767019.96      ,\n",
       "        12409840.33714286,  9053413.13871428,  3465063.97714286,\n",
       "        17343392.04000001,  5703510.98571428, 14288449.94571428,\n",
       "         5563615.08857141,  4817157.76285715,  5156220.42      ,\n",
       "         2964294.28285714,  3284945.48571428,  6748392.85714286,\n",
       "        16874840.80285712, 20475664.22571428,  8756472.88285714,\n",
       "         2650430.75142857, 16727550.17142857,  5252670.98571428,\n",
       "        16165366.50857143,  6320770.56      ,  7752697.01142857,\n",
       "         3767558.78571429,  4668948.51428571,  5532781.24285715,\n",
       "         3811455.06857143,  7559767.13142857,  8313195.31714286,\n",
       "        16612250.01428571, 10981939.24285714,  5532612.42857143,\n",
       "        10657739.93142857,  9537241.62857143,  6517031.04      ,\n",
       "         2674914.17142857, 13704960.13714282,  8017838.51142859,\n",
       "        10517051.10857143,  2919371.18571429,  2777261.42571429,\n",
       "        10294884.48857143, 16270757.10000005,  7851590.53714288,\n",
       "        14512416.29632653, 11594770.58999998,  4233241.18285713,\n",
       "         6953431.12285714,  5686002.10285714,  5279402.36571428,\n",
       "         4270156.02      , 17723997.38571429,  5792231.08285715,\n",
       "         5516385.86571428,  5786070.53142857,  9194528.23714286,\n",
       "         6925327.61142857, 20638921.68      ,  6583523.81142857,\n",
       "        18259556.19428566,  3877155.69428571, 10364589.24428571,\n",
       "         5784693.60857143, 13630175.29714286,  9678674.23714286,\n",
       "         2832098.65714286, 15499130.06571429,  6776097.45428571,\n",
       "         9040466.31428572,  3978030.08571429, 14168497.08857143,\n",
       "         4864338.62571428,  8798114.52      ,  7484122.95428569,\n",
       "        10992880.52571429,  9616762.57285714, 14853780.79714287,\n",
       "         5413917.04285714,  9750776.65714286, 16268665.47428572,\n",
       "        13011957.77142857, 10335295.28571429,  6808616.1       ,\n",
       "         6873580.18285714,  4230701.81485714, 13113591.32571428,\n",
       "        14445976.78457143,  2898456.04285714, 10575365.78057144,\n",
       "        14772792.26057143,  8701765.8       ,  9675009.57428571,\n",
       "        11981963.31428572,  7422660.40285714, 19800649.94142857,\n",
       "         5666377.19142857,  6647161.78285712, 18800614.00285714,\n",
       "        15874565.01428571,  3393750.13714286, 18077916.81428571,\n",
       "        17140889.77714285,  9738294.17228571,  8138331.12857143,\n",
       "        19946356.2257143 ,  8858944.71428571, 12622597.12071429,\n",
       "         2075466.34285715, 17581672.79142857,  8593227.46285714,\n",
       "        11756745.        , 18181708.07142857,  2704638.85714286,\n",
       "         6834419.61428571, 11438710.72897959,  6438506.00072727,\n",
       "        17727433.50857149,  9001798.98428571, 13387454.56285714,\n",
       "        13608516.36857143,  5814524.26285714, 12716951.63142857,\n",
       "         6124210.11428571,  5288031.95142857, 15925765.38428572,\n",
       "         5457760.84285714, 14183865.42857143, 20628353.57142856,\n",
       "        13163804.82857143,  8806635.79714286,  7244167.29771428,\n",
       "        15807899.14971429, 17388899.69142857,  3318848.74285714,\n",
       "        21470393.21142862,  7346403.25714286,  4215782.10857141,\n",
       "        10281055.75714286, 20447701.00285714,  9869369.25557143,\n",
       "        15830546.31918367,  4184181.07714286, 11239354.28571429,\n",
       "         5320699.02      ,  3190713.68571429,  6828907.24285714,\n",
       "        19799403.22285714,  4698984.42      , 11159794.28571429,\n",
       "        14640327.        , 22391551.26000001, 19765543.94816327,\n",
       "         5126301.84857143,  2984600.80285714,  6126951.36857143,\n",
       "        16395401.5457143 ,  7246262.95714286,  6495161.39999999,\n",
       "        14522832.16163266,  6364129.75714286,  4572520.45714286,\n",
       "         9970627.01142857, 17631882.61714286, 14522832.16163266,\n",
       "         2756007.20571429, 16840332.82285715,  7873486.92      ,\n",
       "        16079911.71428571,  7748193.06857143,  8950446.84857142,\n",
       "         3699019.18285714, 20127787.45714286,  6150999.54857143,\n",
       "         4021916.11714286,  7087265.64000001, 11279584.01142857,\n",
       "        11853741.34285714,  8342687.78571429, 18897085.18285714,\n",
       "         7434070.91142857, 10422831.9       , 16027980.22800001,\n",
       "         8309895.58285714, 16267422.6       ,  8001073.41428571,\n",
       "         4203094.29428571, 11858324.51142857,  6261438.85714286,\n",
       "        15950114.92285714, 13830746.50285714,  3411695.59714287,\n",
       "         9347012.77714286,  7292210.86285714,  6994955.64857143,\n",
       "        14884578.70714286,  6220997.30571427,  2911494.85714286,\n",
       "         6352593.89142857,  3421031.86285714, 14884578.70714286,\n",
       "         4192253.07428571, 11095330.94057144,  2859108.94285714,\n",
       "         3505476.11142857,  9687600.        , 15399778.68      ,\n",
       "        15179847.42857143, 14512416.29632653, 21887257.85999999,\n",
       "        13253249.65714286,  8597088.00122449,  7990843.45959184,\n",
       "         5310708.89142857,  8578745.76      , 17026502.99999995,\n",
       "        13300001.40857143, 14357349.12857143, 17871293.36571429,\n",
       "        13846219.25142854, 18308747.00571429, 13577928.22285714,\n",
       "         2960891.25428571,  8505797.70857143, 17539657.64571429,\n",
       "        11284767.        ,  6868444.88571429,  8912474.33142855,\n",
       "         4451618.67428571,  7764740.43428571,  8582631.60857143,\n",
       "        13762845.72      , 12171493.28571429,  9738294.17228571,\n",
       "         5994146.00571427, 10909752.58285712, 11128165.78714286,\n",
       "        15544106.20285714, 15678209.93142857,  6742166.00571427,\n",
       "        14535464.76942857, 10738508.70857143,  6066057.2142857 ,\n",
       "         9547870.13142857,  2938139.1       , 13112337.42      ,\n",
       "         2532164.81142857, 17608363.27714286,  9203030.90571429,\n",
       "        14096919.60857143,  4670540.04857144, 10407211.50857142,\n",
       "        14104508.78571429, 22226023.00285714, 11542968.95142857,\n",
       "         4607056.69542857,  5521582.33714286,  8495930.26285714,\n",
       "        11146835.36571429,  9997955.09142857, 13480658.10000004,\n",
       "         6144911.53714286,  5490246.39428572,  3021638.32285714,\n",
       "        18347605.04571429, 16165268.29542857, 11917588.8       ,\n",
       "        10348893.47142857, 12667846.73142854, 15570728.49428571,\n",
       "         6143466.42      , 11749473.45      ,  3294419.14285714,\n",
       "        13139041.34081633, 14827620.93428572,  9031876.84285714,\n",
       "        15419079.        ,  6814759.93714286,  4066418.57142856,\n",
       "         6724610.1       ,  6003774.43714286,  6161784.94285714,\n",
       "        17366943.13714286, 15531770.05714282, 10639234.87714286,\n",
       "        17694208.62857148,  9073010.14285714,  8368772.65714286])}"
      ]
     },
     "execution_count": 103,
     "metadata": {},
     "output_type": "execute_result"
    }
   ],
   "source": [
    "modelos[0]"
   ]
  },
  {
   "cell_type": "code",
   "execution_count": 120,
   "id": "26c27895",
   "metadata": {},
   "outputs": [
    {
     "data": {
      "text/html": [
       "<div>\n",
       "<style scoped>\n",
       "    .dataframe tbody tr th:only-of-type {\n",
       "        vertical-align: middle;\n",
       "    }\n",
       "\n",
       "    .dataframe tbody tr th {\n",
       "        vertical-align: top;\n",
       "    }\n",
       "\n",
       "    .dataframe thead th {\n",
       "        text-align: right;\n",
       "    }\n",
       "</style>\n",
       "<table border=\"1\" class=\"dataframe\">\n",
       "  <thead>\n",
       "    <tr style=\"text-align: right;\">\n",
       "      <th></th>\n",
       "      <th>R2</th>\n",
       "      <th>mse</th>\n",
       "    </tr>\n",
       "  </thead>\n",
       "  <tbody>\n",
       "    <tr>\n",
       "      <th>1</th>\n",
       "      <td>0.961361</td>\n",
       "      <td>9.625850e+05</td>\n",
       "    </tr>\n",
       "    <tr>\n",
       "      <th>0</th>\n",
       "      <td>0.961788</td>\n",
       "      <td>9.584870e+05</td>\n",
       "    </tr>\n",
       "    <tr>\n",
       "      <th>5</th>\n",
       "      <td>0.961936</td>\n",
       "      <td>9.556302e+05</td>\n",
       "    </tr>\n",
       "    <tr>\n",
       "      <th>4</th>\n",
       "      <td>0.962307</td>\n",
       "      <td>9.511917e+05</td>\n",
       "    </tr>\n",
       "    <tr>\n",
       "      <th>3</th>\n",
       "      <td>0.962352</td>\n",
       "      <td>9.497965e+05</td>\n",
       "    </tr>\n",
       "    <tr>\n",
       "      <th>6</th>\n",
       "      <td>0.965427</td>\n",
       "      <td>1.104264e+06</td>\n",
       "    </tr>\n",
       "    <tr>\n",
       "      <th>8</th>\n",
       "      <td>0.965624</td>\n",
       "      <td>1.103699e+06</td>\n",
       "    </tr>\n",
       "    <tr>\n",
       "      <th>11</th>\n",
       "      <td>0.966067</td>\n",
       "      <td>1.092704e+06</td>\n",
       "    </tr>\n",
       "    <tr>\n",
       "      <th>9</th>\n",
       "      <td>0.966252</td>\n",
       "      <td>1.091367e+06</td>\n",
       "    </tr>\n",
       "    <tr>\n",
       "      <th>2</th>\n",
       "      <td>0.968313</td>\n",
       "      <td>8.747677e+05</td>\n",
       "    </tr>\n",
       "    <tr>\n",
       "      <th>7</th>\n",
       "      <td>0.970121</td>\n",
       "      <td>1.030643e+06</td>\n",
       "    </tr>\n",
       "    <tr>\n",
       "      <th>10</th>\n",
       "      <td>0.971239</td>\n",
       "      <td>1.011894e+06</td>\n",
       "    </tr>\n",
       "  </tbody>\n",
       "</table>\n",
       "</div>"
      ],
      "text/plain": [
       "          R2           mse\n",
       "1   0.961361  9.625850e+05\n",
       "0   0.961788  9.584870e+05\n",
       "5   0.961936  9.556302e+05\n",
       "4   0.962307  9.511917e+05\n",
       "3   0.962352  9.497965e+05\n",
       "6   0.965427  1.104264e+06\n",
       "8   0.965624  1.103699e+06\n",
       "11  0.966067  1.092704e+06\n",
       "9   0.966252  1.091367e+06\n",
       "2   0.968313  8.747677e+05\n",
       "7   0.970121  1.030643e+06\n",
       "10  0.971239  1.011894e+06"
      ]
     },
     "execution_count": 120,
     "metadata": {},
     "output_type": "execute_result"
    }
   ],
   "source": [
    "df_models_m = pd.DataFrame(columns=['R2','mse'])\n",
    "for index, m in enumerate(modelos):\n",
    "    index_m = m['modelo'].cv_results_['rank_test_score'].tolist().index(40)\n",
    "    params = (m['modelo'].cv_results_['params'][index_m])\n",
    "    X = m['X']\n",
    "    y = m['y']\n",
    "    X_t = m['X_test']\n",
    "    rfr = RFR(**params)\n",
    "    rfr.fit(X,y)\n",
    "    y_hat = rfr.predict(X)\n",
    "    y_hat_test = rfr.predict(X_t)\n",
    "    muestra = pd.read_csv('../data/muestras/muestra.csv')\n",
    "    muestra['Price'] = y_hat_test\n",
    "    muestra.to_csv(f'../data/muestras/muestra_m{index}.csv',index=False)\n",
    "    df_models_m.loc[index] = [r2(y_hat,y),mse(y_hat,y,squared=False)]\n",
    "\n",
    "df_models_m.sort_values('R2')"
   ]
  },
  {
   "cell_type": "code",
   "execution_count": 132,
   "id": "836e4411",
   "metadata": {},
   "outputs": [
    {
     "data": {
      "application/vnd.plotly.v1+json": {
       "config": {
        "plotlyServerURL": "https://plot.ly"
       },
       "data": [
        {
         "hovertemplate": "color=0<br>x=%{x}<br>y=%{y}<extra></extra>",
         "legendgroup": "0",
         "marker": {
          "color": "#636efa",
          "size": 12,
          "symbol": "circle"
         },
         "mode": "markers",
         "name": "0",
         "orientation": "v",
         "showlegend": true,
         "type": "scatter",
         "x": [
          0.9617882290001937
         ],
         "xaxis": "x",
         "y": [
          958487.0324672316
         ],
         "yaxis": "y"
        },
        {
         "hovertemplate": "color=1<br>x=%{x}<br>y=%{y}<extra></extra>",
         "legendgroup": "1",
         "marker": {
          "color": "#EF553B",
          "size": 12,
          "symbol": "circle"
         },
         "mode": "markers",
         "name": "1",
         "orientation": "v",
         "showlegend": true,
         "type": "scatter",
         "x": [
          0.9613610151550064
         ],
         "xaxis": "x",
         "y": [
          962584.9533918424
         ],
         "yaxis": "y"
        },
        {
         "hovertemplate": "color=2<br>x=%{x}<br>y=%{y}<extra></extra>",
         "legendgroup": "2",
         "marker": {
          "color": "#00cc96",
          "size": 12,
          "symbol": "circle"
         },
         "mode": "markers",
         "name": "2",
         "orientation": "v",
         "showlegend": true,
         "type": "scatter",
         "x": [
          0.9683131887045843
         ],
         "xaxis": "x",
         "y": [
          874767.6560278913
         ],
         "yaxis": "y"
        },
        {
         "hovertemplate": "color=3<br>x=%{x}<br>y=%{y}<extra></extra>",
         "legendgroup": "3",
         "marker": {
          "color": "#ab63fa",
          "size": 12,
          "symbol": "circle"
         },
         "mode": "markers",
         "name": "3",
         "orientation": "v",
         "showlegend": true,
         "type": "scatter",
         "x": [
          0.9623520427341323
         ],
         "xaxis": "x",
         "y": [
          949796.4538634694
         ],
         "yaxis": "y"
        },
        {
         "hovertemplate": "color=4<br>x=%{x}<br>y=%{y}<extra></extra>",
         "legendgroup": "4",
         "marker": {
          "color": "#FFA15A",
          "size": 12,
          "symbol": "circle"
         },
         "mode": "markers",
         "name": "4",
         "orientation": "v",
         "showlegend": true,
         "type": "scatter",
         "x": [
          0.9623070785780621
         ],
         "xaxis": "x",
         "y": [
          951191.6876510704
         ],
         "yaxis": "y"
        },
        {
         "hovertemplate": "color=5<br>x=%{x}<br>y=%{y}<extra></extra>",
         "legendgroup": "5",
         "marker": {
          "color": "#19d3f3",
          "size": 12,
          "symbol": "circle"
         },
         "mode": "markers",
         "name": "5",
         "orientation": "v",
         "showlegend": true,
         "type": "scatter",
         "x": [
          0.9619355586649853
         ],
         "xaxis": "x",
         "y": [
          955630.2185157805
         ],
         "yaxis": "y"
        },
        {
         "hovertemplate": "color=6<br>x=%{x}<br>y=%{y}<extra></extra>",
         "legendgroup": "6",
         "marker": {
          "color": "#FF6692",
          "size": 12,
          "symbol": "circle"
         },
         "mode": "markers",
         "name": "6",
         "orientation": "v",
         "showlegend": true,
         "type": "scatter",
         "x": [
          0.9654271152051833
         ],
         "xaxis": "x",
         "y": [
          1104264.1719983374
         ],
         "yaxis": "y"
        },
        {
         "hovertemplate": "color=7<br>x=%{x}<br>y=%{y}<extra></extra>",
         "legendgroup": "7",
         "marker": {
          "color": "#B6E880",
          "size": 12,
          "symbol": "circle"
         },
         "mode": "markers",
         "name": "7",
         "orientation": "v",
         "showlegend": true,
         "type": "scatter",
         "x": [
          0.970121305281459
         ],
         "xaxis": "x",
         "y": [
          1030642.5259743854
         ],
         "yaxis": "y"
        },
        {
         "hovertemplate": "color=8<br>x=%{x}<br>y=%{y}<extra></extra>",
         "legendgroup": "8",
         "marker": {
          "color": "#FF97FF",
          "size": 12,
          "symbol": "circle"
         },
         "mode": "markers",
         "name": "8",
         "orientation": "v",
         "showlegend": true,
         "type": "scatter",
         "x": [
          0.965623808376372
         ],
         "xaxis": "x",
         "y": [
          1103699.094567123
         ],
         "yaxis": "y"
        },
        {
         "hovertemplate": "color=9<br>x=%{x}<br>y=%{y}<extra></extra>",
         "legendgroup": "9",
         "marker": {
          "color": "#FECB52",
          "size": 12,
          "symbol": "circle"
         },
         "mode": "markers",
         "name": "9",
         "orientation": "v",
         "showlegend": true,
         "type": "scatter",
         "x": [
          0.9662520972126146
         ],
         "xaxis": "x",
         "y": [
          1091367.1149540218
         ],
         "yaxis": "y"
        },
        {
         "hovertemplate": "color=10<br>x=%{x}<br>y=%{y}<extra></extra>",
         "legendgroup": "10",
         "marker": {
          "color": "#636efa",
          "size": 12,
          "symbol": "circle"
         },
         "mode": "markers",
         "name": "10",
         "orientation": "v",
         "showlegend": true,
         "type": "scatter",
         "x": [
          0.9712392442156839
         ],
         "xaxis": "x",
         "y": [
          1011894.0864749298
         ],
         "yaxis": "y"
        },
        {
         "hovertemplate": "color=11<br>x=%{x}<br>y=%{y}<extra></extra>",
         "legendgroup": "11",
         "marker": {
          "color": "#EF553B",
          "size": 12,
          "symbol": "circle"
         },
         "mode": "markers",
         "name": "11",
         "orientation": "v",
         "showlegend": true,
         "type": "scatter",
         "x": [
          0.9660674705789004
         ],
         "xaxis": "x",
         "y": [
          1092703.5952018488
         ],
         "yaxis": "y"
        }
       ],
       "layout": {
        "legend": {
         "title": {
          "text": "color"
         },
         "tracegroupgap": 0
        },
        "margin": {
         "t": 60
        },
        "template": {
         "data": {
          "bar": [
           {
            "error_x": {
             "color": "#2a3f5f"
            },
            "error_y": {
             "color": "#2a3f5f"
            },
            "marker": {
             "line": {
              "color": "#E5ECF6",
              "width": 0.5
             },
             "pattern": {
              "fillmode": "overlay",
              "size": 10,
              "solidity": 0.2
             }
            },
            "type": "bar"
           }
          ],
          "barpolar": [
           {
            "marker": {
             "line": {
              "color": "#E5ECF6",
              "width": 0.5
             },
             "pattern": {
              "fillmode": "overlay",
              "size": 10,
              "solidity": 0.2
             }
            },
            "type": "barpolar"
           }
          ],
          "carpet": [
           {
            "aaxis": {
             "endlinecolor": "#2a3f5f",
             "gridcolor": "white",
             "linecolor": "white",
             "minorgridcolor": "white",
             "startlinecolor": "#2a3f5f"
            },
            "baxis": {
             "endlinecolor": "#2a3f5f",
             "gridcolor": "white",
             "linecolor": "white",
             "minorgridcolor": "white",
             "startlinecolor": "#2a3f5f"
            },
            "type": "carpet"
           }
          ],
          "choropleth": [
           {
            "colorbar": {
             "outlinewidth": 0,
             "ticks": ""
            },
            "type": "choropleth"
           }
          ],
          "contour": [
           {
            "colorbar": {
             "outlinewidth": 0,
             "ticks": ""
            },
            "colorscale": [
             [
              0,
              "#0d0887"
             ],
             [
              0.1111111111111111,
              "#46039f"
             ],
             [
              0.2222222222222222,
              "#7201a8"
             ],
             [
              0.3333333333333333,
              "#9c179e"
             ],
             [
              0.4444444444444444,
              "#bd3786"
             ],
             [
              0.5555555555555556,
              "#d8576b"
             ],
             [
              0.6666666666666666,
              "#ed7953"
             ],
             [
              0.7777777777777778,
              "#fb9f3a"
             ],
             [
              0.8888888888888888,
              "#fdca26"
             ],
             [
              1,
              "#f0f921"
             ]
            ],
            "type": "contour"
           }
          ],
          "contourcarpet": [
           {
            "colorbar": {
             "outlinewidth": 0,
             "ticks": ""
            },
            "type": "contourcarpet"
           }
          ],
          "heatmap": [
           {
            "colorbar": {
             "outlinewidth": 0,
             "ticks": ""
            },
            "colorscale": [
             [
              0,
              "#0d0887"
             ],
             [
              0.1111111111111111,
              "#46039f"
             ],
             [
              0.2222222222222222,
              "#7201a8"
             ],
             [
              0.3333333333333333,
              "#9c179e"
             ],
             [
              0.4444444444444444,
              "#bd3786"
             ],
             [
              0.5555555555555556,
              "#d8576b"
             ],
             [
              0.6666666666666666,
              "#ed7953"
             ],
             [
              0.7777777777777778,
              "#fb9f3a"
             ],
             [
              0.8888888888888888,
              "#fdca26"
             ],
             [
              1,
              "#f0f921"
             ]
            ],
            "type": "heatmap"
           }
          ],
          "heatmapgl": [
           {
            "colorbar": {
             "outlinewidth": 0,
             "ticks": ""
            },
            "colorscale": [
             [
              0,
              "#0d0887"
             ],
             [
              0.1111111111111111,
              "#46039f"
             ],
             [
              0.2222222222222222,
              "#7201a8"
             ],
             [
              0.3333333333333333,
              "#9c179e"
             ],
             [
              0.4444444444444444,
              "#bd3786"
             ],
             [
              0.5555555555555556,
              "#d8576b"
             ],
             [
              0.6666666666666666,
              "#ed7953"
             ],
             [
              0.7777777777777778,
              "#fb9f3a"
             ],
             [
              0.8888888888888888,
              "#fdca26"
             ],
             [
              1,
              "#f0f921"
             ]
            ],
            "type": "heatmapgl"
           }
          ],
          "histogram": [
           {
            "marker": {
             "pattern": {
              "fillmode": "overlay",
              "size": 10,
              "solidity": 0.2
             }
            },
            "type": "histogram"
           }
          ],
          "histogram2d": [
           {
            "colorbar": {
             "outlinewidth": 0,
             "ticks": ""
            },
            "colorscale": [
             [
              0,
              "#0d0887"
             ],
             [
              0.1111111111111111,
              "#46039f"
             ],
             [
              0.2222222222222222,
              "#7201a8"
             ],
             [
              0.3333333333333333,
              "#9c179e"
             ],
             [
              0.4444444444444444,
              "#bd3786"
             ],
             [
              0.5555555555555556,
              "#d8576b"
             ],
             [
              0.6666666666666666,
              "#ed7953"
             ],
             [
              0.7777777777777778,
              "#fb9f3a"
             ],
             [
              0.8888888888888888,
              "#fdca26"
             ],
             [
              1,
              "#f0f921"
             ]
            ],
            "type": "histogram2d"
           }
          ],
          "histogram2dcontour": [
           {
            "colorbar": {
             "outlinewidth": 0,
             "ticks": ""
            },
            "colorscale": [
             [
              0,
              "#0d0887"
             ],
             [
              0.1111111111111111,
              "#46039f"
             ],
             [
              0.2222222222222222,
              "#7201a8"
             ],
             [
              0.3333333333333333,
              "#9c179e"
             ],
             [
              0.4444444444444444,
              "#bd3786"
             ],
             [
              0.5555555555555556,
              "#d8576b"
             ],
             [
              0.6666666666666666,
              "#ed7953"
             ],
             [
              0.7777777777777778,
              "#fb9f3a"
             ],
             [
              0.8888888888888888,
              "#fdca26"
             ],
             [
              1,
              "#f0f921"
             ]
            ],
            "type": "histogram2dcontour"
           }
          ],
          "mesh3d": [
           {
            "colorbar": {
             "outlinewidth": 0,
             "ticks": ""
            },
            "type": "mesh3d"
           }
          ],
          "parcoords": [
           {
            "line": {
             "colorbar": {
              "outlinewidth": 0,
              "ticks": ""
             }
            },
            "type": "parcoords"
           }
          ],
          "pie": [
           {
            "automargin": true,
            "type": "pie"
           }
          ],
          "scatter": [
           {
            "fillpattern": {
             "fillmode": "overlay",
             "size": 10,
             "solidity": 0.2
            },
            "type": "scatter"
           }
          ],
          "scatter3d": [
           {
            "line": {
             "colorbar": {
              "outlinewidth": 0,
              "ticks": ""
             }
            },
            "marker": {
             "colorbar": {
              "outlinewidth": 0,
              "ticks": ""
             }
            },
            "type": "scatter3d"
           }
          ],
          "scattercarpet": [
           {
            "marker": {
             "colorbar": {
              "outlinewidth": 0,
              "ticks": ""
             }
            },
            "type": "scattercarpet"
           }
          ],
          "scattergeo": [
           {
            "marker": {
             "colorbar": {
              "outlinewidth": 0,
              "ticks": ""
             }
            },
            "type": "scattergeo"
           }
          ],
          "scattergl": [
           {
            "marker": {
             "colorbar": {
              "outlinewidth": 0,
              "ticks": ""
             }
            },
            "type": "scattergl"
           }
          ],
          "scattermapbox": [
           {
            "marker": {
             "colorbar": {
              "outlinewidth": 0,
              "ticks": ""
             }
            },
            "type": "scattermapbox"
           }
          ],
          "scatterpolar": [
           {
            "marker": {
             "colorbar": {
              "outlinewidth": 0,
              "ticks": ""
             }
            },
            "type": "scatterpolar"
           }
          ],
          "scatterpolargl": [
           {
            "marker": {
             "colorbar": {
              "outlinewidth": 0,
              "ticks": ""
             }
            },
            "type": "scatterpolargl"
           }
          ],
          "scatterternary": [
           {
            "marker": {
             "colorbar": {
              "outlinewidth": 0,
              "ticks": ""
             }
            },
            "type": "scatterternary"
           }
          ],
          "surface": [
           {
            "colorbar": {
             "outlinewidth": 0,
             "ticks": ""
            },
            "colorscale": [
             [
              0,
              "#0d0887"
             ],
             [
              0.1111111111111111,
              "#46039f"
             ],
             [
              0.2222222222222222,
              "#7201a8"
             ],
             [
              0.3333333333333333,
              "#9c179e"
             ],
             [
              0.4444444444444444,
              "#bd3786"
             ],
             [
              0.5555555555555556,
              "#d8576b"
             ],
             [
              0.6666666666666666,
              "#ed7953"
             ],
             [
              0.7777777777777778,
              "#fb9f3a"
             ],
             [
              0.8888888888888888,
              "#fdca26"
             ],
             [
              1,
              "#f0f921"
             ]
            ],
            "type": "surface"
           }
          ],
          "table": [
           {
            "cells": {
             "fill": {
              "color": "#EBF0F8"
             },
             "line": {
              "color": "white"
             }
            },
            "header": {
             "fill": {
              "color": "#C8D4E3"
             },
             "line": {
              "color": "white"
             }
            },
            "type": "table"
           }
          ]
         },
         "layout": {
          "annotationdefaults": {
           "arrowcolor": "#2a3f5f",
           "arrowhead": 0,
           "arrowwidth": 1
          },
          "autotypenumbers": "strict",
          "coloraxis": {
           "colorbar": {
            "outlinewidth": 0,
            "ticks": ""
           }
          },
          "colorscale": {
           "diverging": [
            [
             0,
             "#8e0152"
            ],
            [
             0.1,
             "#c51b7d"
            ],
            [
             0.2,
             "#de77ae"
            ],
            [
             0.3,
             "#f1b6da"
            ],
            [
             0.4,
             "#fde0ef"
            ],
            [
             0.5,
             "#f7f7f7"
            ],
            [
             0.6,
             "#e6f5d0"
            ],
            [
             0.7,
             "#b8e186"
            ],
            [
             0.8,
             "#7fbc41"
            ],
            [
             0.9,
             "#4d9221"
            ],
            [
             1,
             "#276419"
            ]
           ],
           "sequential": [
            [
             0,
             "#0d0887"
            ],
            [
             0.1111111111111111,
             "#46039f"
            ],
            [
             0.2222222222222222,
             "#7201a8"
            ],
            [
             0.3333333333333333,
             "#9c179e"
            ],
            [
             0.4444444444444444,
             "#bd3786"
            ],
            [
             0.5555555555555556,
             "#d8576b"
            ],
            [
             0.6666666666666666,
             "#ed7953"
            ],
            [
             0.7777777777777778,
             "#fb9f3a"
            ],
            [
             0.8888888888888888,
             "#fdca26"
            ],
            [
             1,
             "#f0f921"
            ]
           ],
           "sequentialminus": [
            [
             0,
             "#0d0887"
            ],
            [
             0.1111111111111111,
             "#46039f"
            ],
            [
             0.2222222222222222,
             "#7201a8"
            ],
            [
             0.3333333333333333,
             "#9c179e"
            ],
            [
             0.4444444444444444,
             "#bd3786"
            ],
            [
             0.5555555555555556,
             "#d8576b"
            ],
            [
             0.6666666666666666,
             "#ed7953"
            ],
            [
             0.7777777777777778,
             "#fb9f3a"
            ],
            [
             0.8888888888888888,
             "#fdca26"
            ],
            [
             1,
             "#f0f921"
            ]
           ]
          },
          "colorway": [
           "#636efa",
           "#EF553B",
           "#00cc96",
           "#ab63fa",
           "#FFA15A",
           "#19d3f3",
           "#FF6692",
           "#B6E880",
           "#FF97FF",
           "#FECB52"
          ],
          "font": {
           "color": "#2a3f5f"
          },
          "geo": {
           "bgcolor": "white",
           "lakecolor": "white",
           "landcolor": "#E5ECF6",
           "showlakes": true,
           "showland": true,
           "subunitcolor": "white"
          },
          "hoverlabel": {
           "align": "left"
          },
          "hovermode": "closest",
          "mapbox": {
           "style": "light"
          },
          "paper_bgcolor": "white",
          "plot_bgcolor": "#E5ECF6",
          "polar": {
           "angularaxis": {
            "gridcolor": "white",
            "linecolor": "white",
            "ticks": ""
           },
           "bgcolor": "#E5ECF6",
           "radialaxis": {
            "gridcolor": "white",
            "linecolor": "white",
            "ticks": ""
           }
          },
          "scene": {
           "xaxis": {
            "backgroundcolor": "#E5ECF6",
            "gridcolor": "white",
            "gridwidth": 2,
            "linecolor": "white",
            "showbackground": true,
            "ticks": "",
            "zerolinecolor": "white"
           },
           "yaxis": {
            "backgroundcolor": "#E5ECF6",
            "gridcolor": "white",
            "gridwidth": 2,
            "linecolor": "white",
            "showbackground": true,
            "ticks": "",
            "zerolinecolor": "white"
           },
           "zaxis": {
            "backgroundcolor": "#E5ECF6",
            "gridcolor": "white",
            "gridwidth": 2,
            "linecolor": "white",
            "showbackground": true,
            "ticks": "",
            "zerolinecolor": "white"
           }
          },
          "shapedefaults": {
           "line": {
            "color": "#2a3f5f"
           }
          },
          "ternary": {
           "aaxis": {
            "gridcolor": "white",
            "linecolor": "white",
            "ticks": ""
           },
           "baxis": {
            "gridcolor": "white",
            "linecolor": "white",
            "ticks": ""
           },
           "bgcolor": "#E5ECF6",
           "caxis": {
            "gridcolor": "white",
            "linecolor": "white",
            "ticks": ""
           }
          },
          "title": {
           "x": 0.05
          },
          "xaxis": {
           "automargin": true,
           "gridcolor": "white",
           "linecolor": "white",
           "ticks": "",
           "title": {
            "standoff": 15
           },
           "zerolinecolor": "white",
           "zerolinewidth": 2
          },
          "yaxis": {
           "automargin": true,
           "gridcolor": "white",
           "linecolor": "white",
           "ticks": "",
           "title": {
            "standoff": 15
           },
           "zerolinecolor": "white",
           "zerolinewidth": 2
          }
         }
        },
        "xaxis": {
         "anchor": "y",
         "domain": [
          0,
          1
         ],
         "title": {
          "text": "x"
         }
        },
        "yaxis": {
         "anchor": "x",
         "domain": [
          0,
          1
         ],
         "title": {
          "text": "y"
         }
        }
       }
      },
      "text/html": [
       "<div>                            <div id=\"d7911aae-4c2e-4c1d-9a82-3998a98a0a27\" class=\"plotly-graph-div\" style=\"height:525px; width:100%;\"></div>            <script type=\"text/javascript\">                require([\"plotly\"], function(Plotly) {                    window.PLOTLYENV=window.PLOTLYENV || {};                                    if (document.getElementById(\"d7911aae-4c2e-4c1d-9a82-3998a98a0a27\")) {                    Plotly.newPlot(                        \"d7911aae-4c2e-4c1d-9a82-3998a98a0a27\",                        [{\"hovertemplate\":\"color=0<br>x=%{x}<br>y=%{y}<extra></extra>\",\"legendgroup\":\"0\",\"marker\":{\"color\":\"#636efa\",\"symbol\":\"circle\",\"size\":12},\"mode\":\"markers\",\"name\":\"0\",\"orientation\":\"v\",\"showlegend\":true,\"x\":[0.9617882290001937],\"xaxis\":\"x\",\"y\":[958487.0324672316],\"yaxis\":\"y\",\"type\":\"scatter\"},{\"hovertemplate\":\"color=1<br>x=%{x}<br>y=%{y}<extra></extra>\",\"legendgroup\":\"1\",\"marker\":{\"color\":\"#EF553B\",\"symbol\":\"circle\",\"size\":12},\"mode\":\"markers\",\"name\":\"1\",\"orientation\":\"v\",\"showlegend\":true,\"x\":[0.9613610151550064],\"xaxis\":\"x\",\"y\":[962584.9533918424],\"yaxis\":\"y\",\"type\":\"scatter\"},{\"hovertemplate\":\"color=2<br>x=%{x}<br>y=%{y}<extra></extra>\",\"legendgroup\":\"2\",\"marker\":{\"color\":\"#00cc96\",\"symbol\":\"circle\",\"size\":12},\"mode\":\"markers\",\"name\":\"2\",\"orientation\":\"v\",\"showlegend\":true,\"x\":[0.9683131887045843],\"xaxis\":\"x\",\"y\":[874767.6560278913],\"yaxis\":\"y\",\"type\":\"scatter\"},{\"hovertemplate\":\"color=3<br>x=%{x}<br>y=%{y}<extra></extra>\",\"legendgroup\":\"3\",\"marker\":{\"color\":\"#ab63fa\",\"symbol\":\"circle\",\"size\":12},\"mode\":\"markers\",\"name\":\"3\",\"orientation\":\"v\",\"showlegend\":true,\"x\":[0.9623520427341323],\"xaxis\":\"x\",\"y\":[949796.4538634694],\"yaxis\":\"y\",\"type\":\"scatter\"},{\"hovertemplate\":\"color=4<br>x=%{x}<br>y=%{y}<extra></extra>\",\"legendgroup\":\"4\",\"marker\":{\"color\":\"#FFA15A\",\"symbol\":\"circle\",\"size\":12},\"mode\":\"markers\",\"name\":\"4\",\"orientation\":\"v\",\"showlegend\":true,\"x\":[0.9623070785780621],\"xaxis\":\"x\",\"y\":[951191.6876510704],\"yaxis\":\"y\",\"type\":\"scatter\"},{\"hovertemplate\":\"color=5<br>x=%{x}<br>y=%{y}<extra></extra>\",\"legendgroup\":\"5\",\"marker\":{\"color\":\"#19d3f3\",\"symbol\":\"circle\",\"size\":12},\"mode\":\"markers\",\"name\":\"5\",\"orientation\":\"v\",\"showlegend\":true,\"x\":[0.9619355586649853],\"xaxis\":\"x\",\"y\":[955630.2185157805],\"yaxis\":\"y\",\"type\":\"scatter\"},{\"hovertemplate\":\"color=6<br>x=%{x}<br>y=%{y}<extra></extra>\",\"legendgroup\":\"6\",\"marker\":{\"color\":\"#FF6692\",\"symbol\":\"circle\",\"size\":12},\"mode\":\"markers\",\"name\":\"6\",\"orientation\":\"v\",\"showlegend\":true,\"x\":[0.9654271152051833],\"xaxis\":\"x\",\"y\":[1104264.1719983374],\"yaxis\":\"y\",\"type\":\"scatter\"},{\"hovertemplate\":\"color=7<br>x=%{x}<br>y=%{y}<extra></extra>\",\"legendgroup\":\"7\",\"marker\":{\"color\":\"#B6E880\",\"symbol\":\"circle\",\"size\":12},\"mode\":\"markers\",\"name\":\"7\",\"orientation\":\"v\",\"showlegend\":true,\"x\":[0.970121305281459],\"xaxis\":\"x\",\"y\":[1030642.5259743854],\"yaxis\":\"y\",\"type\":\"scatter\"},{\"hovertemplate\":\"color=8<br>x=%{x}<br>y=%{y}<extra></extra>\",\"legendgroup\":\"8\",\"marker\":{\"color\":\"#FF97FF\",\"symbol\":\"circle\",\"size\":12},\"mode\":\"markers\",\"name\":\"8\",\"orientation\":\"v\",\"showlegend\":true,\"x\":[0.965623808376372],\"xaxis\":\"x\",\"y\":[1103699.094567123],\"yaxis\":\"y\",\"type\":\"scatter\"},{\"hovertemplate\":\"color=9<br>x=%{x}<br>y=%{y}<extra></extra>\",\"legendgroup\":\"9\",\"marker\":{\"color\":\"#FECB52\",\"symbol\":\"circle\",\"size\":12},\"mode\":\"markers\",\"name\":\"9\",\"orientation\":\"v\",\"showlegend\":true,\"x\":[0.9662520972126146],\"xaxis\":\"x\",\"y\":[1091367.1149540218],\"yaxis\":\"y\",\"type\":\"scatter\"},{\"hovertemplate\":\"color=10<br>x=%{x}<br>y=%{y}<extra></extra>\",\"legendgroup\":\"10\",\"marker\":{\"color\":\"#636efa\",\"symbol\":\"circle\",\"size\":12},\"mode\":\"markers\",\"name\":\"10\",\"orientation\":\"v\",\"showlegend\":true,\"x\":[0.9712392442156839],\"xaxis\":\"x\",\"y\":[1011894.0864749298],\"yaxis\":\"y\",\"type\":\"scatter\"},{\"hovertemplate\":\"color=11<br>x=%{x}<br>y=%{y}<extra></extra>\",\"legendgroup\":\"11\",\"marker\":{\"color\":\"#EF553B\",\"symbol\":\"circle\",\"size\":12},\"mode\":\"markers\",\"name\":\"11\",\"orientation\":\"v\",\"showlegend\":true,\"x\":[0.9660674705789004],\"xaxis\":\"x\",\"y\":[1092703.5952018488],\"yaxis\":\"y\",\"type\":\"scatter\"}],                        {\"template\":{\"data\":{\"histogram2dcontour\":[{\"type\":\"histogram2dcontour\",\"colorbar\":{\"outlinewidth\":0,\"ticks\":\"\"},\"colorscale\":[[0.0,\"#0d0887\"],[0.1111111111111111,\"#46039f\"],[0.2222222222222222,\"#7201a8\"],[0.3333333333333333,\"#9c179e\"],[0.4444444444444444,\"#bd3786\"],[0.5555555555555556,\"#d8576b\"],[0.6666666666666666,\"#ed7953\"],[0.7777777777777778,\"#fb9f3a\"],[0.8888888888888888,\"#fdca26\"],[1.0,\"#f0f921\"]]}],\"choropleth\":[{\"type\":\"choropleth\",\"colorbar\":{\"outlinewidth\":0,\"ticks\":\"\"}}],\"histogram2d\":[{\"type\":\"histogram2d\",\"colorbar\":{\"outlinewidth\":0,\"ticks\":\"\"},\"colorscale\":[[0.0,\"#0d0887\"],[0.1111111111111111,\"#46039f\"],[0.2222222222222222,\"#7201a8\"],[0.3333333333333333,\"#9c179e\"],[0.4444444444444444,\"#bd3786\"],[0.5555555555555556,\"#d8576b\"],[0.6666666666666666,\"#ed7953\"],[0.7777777777777778,\"#fb9f3a\"],[0.8888888888888888,\"#fdca26\"],[1.0,\"#f0f921\"]]}],\"heatmap\":[{\"type\":\"heatmap\",\"colorbar\":{\"outlinewidth\":0,\"ticks\":\"\"},\"colorscale\":[[0.0,\"#0d0887\"],[0.1111111111111111,\"#46039f\"],[0.2222222222222222,\"#7201a8\"],[0.3333333333333333,\"#9c179e\"],[0.4444444444444444,\"#bd3786\"],[0.5555555555555556,\"#d8576b\"],[0.6666666666666666,\"#ed7953\"],[0.7777777777777778,\"#fb9f3a\"],[0.8888888888888888,\"#fdca26\"],[1.0,\"#f0f921\"]]}],\"heatmapgl\":[{\"type\":\"heatmapgl\",\"colorbar\":{\"outlinewidth\":0,\"ticks\":\"\"},\"colorscale\":[[0.0,\"#0d0887\"],[0.1111111111111111,\"#46039f\"],[0.2222222222222222,\"#7201a8\"],[0.3333333333333333,\"#9c179e\"],[0.4444444444444444,\"#bd3786\"],[0.5555555555555556,\"#d8576b\"],[0.6666666666666666,\"#ed7953\"],[0.7777777777777778,\"#fb9f3a\"],[0.8888888888888888,\"#fdca26\"],[1.0,\"#f0f921\"]]}],\"contourcarpet\":[{\"type\":\"contourcarpet\",\"colorbar\":{\"outlinewidth\":0,\"ticks\":\"\"}}],\"contour\":[{\"type\":\"contour\",\"colorbar\":{\"outlinewidth\":0,\"ticks\":\"\"},\"colorscale\":[[0.0,\"#0d0887\"],[0.1111111111111111,\"#46039f\"],[0.2222222222222222,\"#7201a8\"],[0.3333333333333333,\"#9c179e\"],[0.4444444444444444,\"#bd3786\"],[0.5555555555555556,\"#d8576b\"],[0.6666666666666666,\"#ed7953\"],[0.7777777777777778,\"#fb9f3a\"],[0.8888888888888888,\"#fdca26\"],[1.0,\"#f0f921\"]]}],\"surface\":[{\"type\":\"surface\",\"colorbar\":{\"outlinewidth\":0,\"ticks\":\"\"},\"colorscale\":[[0.0,\"#0d0887\"],[0.1111111111111111,\"#46039f\"],[0.2222222222222222,\"#7201a8\"],[0.3333333333333333,\"#9c179e\"],[0.4444444444444444,\"#bd3786\"],[0.5555555555555556,\"#d8576b\"],[0.6666666666666666,\"#ed7953\"],[0.7777777777777778,\"#fb9f3a\"],[0.8888888888888888,\"#fdca26\"],[1.0,\"#f0f921\"]]}],\"mesh3d\":[{\"type\":\"mesh3d\",\"colorbar\":{\"outlinewidth\":0,\"ticks\":\"\"}}],\"scatter\":[{\"fillpattern\":{\"fillmode\":\"overlay\",\"size\":10,\"solidity\":0.2},\"type\":\"scatter\"}],\"parcoords\":[{\"type\":\"parcoords\",\"line\":{\"colorbar\":{\"outlinewidth\":0,\"ticks\":\"\"}}}],\"scatterpolargl\":[{\"type\":\"scatterpolargl\",\"marker\":{\"colorbar\":{\"outlinewidth\":0,\"ticks\":\"\"}}}],\"bar\":[{\"error_x\":{\"color\":\"#2a3f5f\"},\"error_y\":{\"color\":\"#2a3f5f\"},\"marker\":{\"line\":{\"color\":\"#E5ECF6\",\"width\":0.5},\"pattern\":{\"fillmode\":\"overlay\",\"size\":10,\"solidity\":0.2}},\"type\":\"bar\"}],\"scattergeo\":[{\"type\":\"scattergeo\",\"marker\":{\"colorbar\":{\"outlinewidth\":0,\"ticks\":\"\"}}}],\"scatterpolar\":[{\"type\":\"scatterpolar\",\"marker\":{\"colorbar\":{\"outlinewidth\":0,\"ticks\":\"\"}}}],\"histogram\":[{\"marker\":{\"pattern\":{\"fillmode\":\"overlay\",\"size\":10,\"solidity\":0.2}},\"type\":\"histogram\"}],\"scattergl\":[{\"type\":\"scattergl\",\"marker\":{\"colorbar\":{\"outlinewidth\":0,\"ticks\":\"\"}}}],\"scatter3d\":[{\"type\":\"scatter3d\",\"line\":{\"colorbar\":{\"outlinewidth\":0,\"ticks\":\"\"}},\"marker\":{\"colorbar\":{\"outlinewidth\":0,\"ticks\":\"\"}}}],\"scattermapbox\":[{\"type\":\"scattermapbox\",\"marker\":{\"colorbar\":{\"outlinewidth\":0,\"ticks\":\"\"}}}],\"scatterternary\":[{\"type\":\"scatterternary\",\"marker\":{\"colorbar\":{\"outlinewidth\":0,\"ticks\":\"\"}}}],\"scattercarpet\":[{\"type\":\"scattercarpet\",\"marker\":{\"colorbar\":{\"outlinewidth\":0,\"ticks\":\"\"}}}],\"carpet\":[{\"aaxis\":{\"endlinecolor\":\"#2a3f5f\",\"gridcolor\":\"white\",\"linecolor\":\"white\",\"minorgridcolor\":\"white\",\"startlinecolor\":\"#2a3f5f\"},\"baxis\":{\"endlinecolor\":\"#2a3f5f\",\"gridcolor\":\"white\",\"linecolor\":\"white\",\"minorgridcolor\":\"white\",\"startlinecolor\":\"#2a3f5f\"},\"type\":\"carpet\"}],\"table\":[{\"cells\":{\"fill\":{\"color\":\"#EBF0F8\"},\"line\":{\"color\":\"white\"}},\"header\":{\"fill\":{\"color\":\"#C8D4E3\"},\"line\":{\"color\":\"white\"}},\"type\":\"table\"}],\"barpolar\":[{\"marker\":{\"line\":{\"color\":\"#E5ECF6\",\"width\":0.5},\"pattern\":{\"fillmode\":\"overlay\",\"size\":10,\"solidity\":0.2}},\"type\":\"barpolar\"}],\"pie\":[{\"automargin\":true,\"type\":\"pie\"}]},\"layout\":{\"autotypenumbers\":\"strict\",\"colorway\":[\"#636efa\",\"#EF553B\",\"#00cc96\",\"#ab63fa\",\"#FFA15A\",\"#19d3f3\",\"#FF6692\",\"#B6E880\",\"#FF97FF\",\"#FECB52\"],\"font\":{\"color\":\"#2a3f5f\"},\"hovermode\":\"closest\",\"hoverlabel\":{\"align\":\"left\"},\"paper_bgcolor\":\"white\",\"plot_bgcolor\":\"#E5ECF6\",\"polar\":{\"bgcolor\":\"#E5ECF6\",\"angularaxis\":{\"gridcolor\":\"white\",\"linecolor\":\"white\",\"ticks\":\"\"},\"radialaxis\":{\"gridcolor\":\"white\",\"linecolor\":\"white\",\"ticks\":\"\"}},\"ternary\":{\"bgcolor\":\"#E5ECF6\",\"aaxis\":{\"gridcolor\":\"white\",\"linecolor\":\"white\",\"ticks\":\"\"},\"baxis\":{\"gridcolor\":\"white\",\"linecolor\":\"white\",\"ticks\":\"\"},\"caxis\":{\"gridcolor\":\"white\",\"linecolor\":\"white\",\"ticks\":\"\"}},\"coloraxis\":{\"colorbar\":{\"outlinewidth\":0,\"ticks\":\"\"}},\"colorscale\":{\"sequential\":[[0.0,\"#0d0887\"],[0.1111111111111111,\"#46039f\"],[0.2222222222222222,\"#7201a8\"],[0.3333333333333333,\"#9c179e\"],[0.4444444444444444,\"#bd3786\"],[0.5555555555555556,\"#d8576b\"],[0.6666666666666666,\"#ed7953\"],[0.7777777777777778,\"#fb9f3a\"],[0.8888888888888888,\"#fdca26\"],[1.0,\"#f0f921\"]],\"sequentialminus\":[[0.0,\"#0d0887\"],[0.1111111111111111,\"#46039f\"],[0.2222222222222222,\"#7201a8\"],[0.3333333333333333,\"#9c179e\"],[0.4444444444444444,\"#bd3786\"],[0.5555555555555556,\"#d8576b\"],[0.6666666666666666,\"#ed7953\"],[0.7777777777777778,\"#fb9f3a\"],[0.8888888888888888,\"#fdca26\"],[1.0,\"#f0f921\"]],\"diverging\":[[0,\"#8e0152\"],[0.1,\"#c51b7d\"],[0.2,\"#de77ae\"],[0.3,\"#f1b6da\"],[0.4,\"#fde0ef\"],[0.5,\"#f7f7f7\"],[0.6,\"#e6f5d0\"],[0.7,\"#b8e186\"],[0.8,\"#7fbc41\"],[0.9,\"#4d9221\"],[1,\"#276419\"]]},\"xaxis\":{\"gridcolor\":\"white\",\"linecolor\":\"white\",\"ticks\":\"\",\"title\":{\"standoff\":15},\"zerolinecolor\":\"white\",\"automargin\":true,\"zerolinewidth\":2},\"yaxis\":{\"gridcolor\":\"white\",\"linecolor\":\"white\",\"ticks\":\"\",\"title\":{\"standoff\":15},\"zerolinecolor\":\"white\",\"automargin\":true,\"zerolinewidth\":2},\"scene\":{\"xaxis\":{\"backgroundcolor\":\"#E5ECF6\",\"gridcolor\":\"white\",\"linecolor\":\"white\",\"showbackground\":true,\"ticks\":\"\",\"zerolinecolor\":\"white\",\"gridwidth\":2},\"yaxis\":{\"backgroundcolor\":\"#E5ECF6\",\"gridcolor\":\"white\",\"linecolor\":\"white\",\"showbackground\":true,\"ticks\":\"\",\"zerolinecolor\":\"white\",\"gridwidth\":2},\"zaxis\":{\"backgroundcolor\":\"#E5ECF6\",\"gridcolor\":\"white\",\"linecolor\":\"white\",\"showbackground\":true,\"ticks\":\"\",\"zerolinecolor\":\"white\",\"gridwidth\":2}},\"shapedefaults\":{\"line\":{\"color\":\"#2a3f5f\"}},\"annotationdefaults\":{\"arrowcolor\":\"#2a3f5f\",\"arrowhead\":0,\"arrowwidth\":1},\"geo\":{\"bgcolor\":\"white\",\"landcolor\":\"#E5ECF6\",\"subunitcolor\":\"white\",\"showland\":true,\"showlakes\":true,\"lakecolor\":\"white\"},\"title\":{\"x\":0.05},\"mapbox\":{\"style\":\"light\"}}},\"xaxis\":{\"anchor\":\"y\",\"domain\":[0.0,1.0],\"title\":{\"text\":\"x\"}},\"yaxis\":{\"anchor\":\"x\",\"domain\":[0.0,1.0],\"title\":{\"text\":\"y\"}},\"legend\":{\"title\":{\"text\":\"color\"},\"tracegroupgap\":0},\"margin\":{\"t\":60}},                        {\"responsive\": true}                    ).then(function(){\n",
       "                            \n",
       "var gd = document.getElementById('d7911aae-4c2e-4c1d-9a82-3998a98a0a27');\n",
       "var x = new MutationObserver(function (mutations, observer) {{\n",
       "        var display = window.getComputedStyle(gd).display;\n",
       "        if (!display || display === 'none') {{\n",
       "            console.log([gd, 'removed!']);\n",
       "            Plotly.purge(gd);\n",
       "            observer.disconnect();\n",
       "        }}\n",
       "}});\n",
       "\n",
       "// Listen for the removal of the full notebook cells\n",
       "var notebookContainer = gd.closest('#notebook-container');\n",
       "if (notebookContainer) {{\n",
       "    x.observe(notebookContainer, {childList: true});\n",
       "}}\n",
       "\n",
       "// Listen for the clearing of the current output cell\n",
       "var outputEl = gd.closest('.output');\n",
       "if (outputEl) {{\n",
       "    x.observe(outputEl, {childList: true});\n",
       "}}\n",
       "\n",
       "                        })                };                });            </script>        </div>"
      ]
     },
     "metadata": {},
     "output_type": "display_data"
    }
   ],
   "source": [
    "px.scatter(x= df_models_m.R2,y = df_models_m.mse,color=df_models_m.index.astype(str)).update_traces(marker=dict(size=12))"
   ]
  }
 ],
 "metadata": {
  "kernelspec": {
   "display_name": "Python 3 (ipykernel)",
   "language": "python",
   "name": "python3"
  },
  "language_info": {
   "codemirror_mode": {
    "name": "ipython",
    "version": 3
   },
   "file_extension": ".py",
   "mimetype": "text/x-python",
   "name": "python",
   "nbconvert_exporter": "python",
   "pygments_lexer": "ipython3",
   "version": "3.9.15"
  },
  "varInspector": {
   "cols": {
    "lenName": 16,
    "lenType": 16,
    "lenVar": 40
   },
   "kernels_config": {
    "python": {
     "delete_cmd_postfix": "",
     "delete_cmd_prefix": "del ",
     "library": "var_list.py",
     "varRefreshCmd": "print(var_dic_list())"
    },
    "r": {
     "delete_cmd_postfix": ") ",
     "delete_cmd_prefix": "rm(",
     "library": "var_list.r",
     "varRefreshCmd": "cat(var_dic_list()) "
    }
   },
   "types_to_exclude": [
    "module",
    "function",
    "builtin_function_or_method",
    "instance",
    "_Feature"
   ],
   "window_display": false
  }
 },
 "nbformat": 4,
 "nbformat_minor": 5
}
