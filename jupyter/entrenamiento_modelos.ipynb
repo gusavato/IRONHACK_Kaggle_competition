{
 "cells": [
  {
   "cell_type": "code",
   "execution_count": 59,
   "id": "a587b72e",
   "metadata": {},
   "outputs": [],
   "source": [
    "import pandas as pd\n",
    "import numpy as np\n",
    "pd.options.plotting.backend = \"plotly\"\n",
    "pd.set_option('display.max_columns', None) \n",
    "\n",
    "import warnings\n",
    "warnings.filterwarnings('ignore')\n",
    "\n",
    "import plotly.express as px\n",
    "\n",
    "from sklearn.ensemble import RandomForestRegressor as RFR\n",
    "from sklearn.model_selection import RandomizedSearchCV\n",
    "\n",
    "from sklearn.metrics import mean_squared_error as mse\n",
    "from sklearn.metrics import mean_absolute_error as mae\n",
    "from sklearn.metrics import r2_score as r2\n",
    "\n",
    "from tqdm import tqdm"
   ]
  },
  {
   "cell_type": "code",
   "execution_count": 60,
   "id": "7ec7a17e",
   "metadata": {},
   "outputs": [],
   "source": [
    "X_train = pd.read_csv('../data/transform/X_train_transform.csv')\n",
    "X_train_no_cluster = X_train.drop(columns=['4_cluster','5_cluster'])\n",
    "X_train_5c =  X_train.drop(columns=['4_cluster'])\n",
    "X_train_4c =  X_train.drop(columns=['5_cluster'])\n",
    "\n",
    "X_test = pd.read_csv('../data/transform/X_test_transform.csv')\n",
    "X_test_no_cluster = X_test.drop(columns=['4_cluster','5_cluster'])\n",
    "X_test_5c =  X_test.drop(columns=['4_cluster'])\n",
    "X_test_4c =  X_test.drop(columns=['5_cluster'])\n",
    "\n",
    "y_train = pd.read_csv('../data/transform/y_train.csv')"
   ]
  },
  {
   "cell_type": "code",
   "execution_count": 61,
   "id": "23f34912",
   "metadata": {},
   "outputs": [],
   "source": [
    "def corr_plot(X,y):\n",
    "    # Creamos matriz de correlación\n",
    "    corr = pd.concat([X,y],axis=1).corr()\n",
    "\n",
    "    # Creamos máscara\n",
    "    mask = np.triu(np.ones_like(corr,dtype=bool))\n",
    "    data = corr[~pd.DataFrame(mask,index=corr.index,columns=corr.columns)]\n",
    "\n",
    "    # Incializamos figura\n",
    "    return px.imshow(abs(data).round(4),text_auto=True,color_continuous_scale='reds').update_layout(width=900,height=700)"
   ]
  },
  {
   "cell_type": "code",
   "execution_count": 62,
   "id": "aba8dfc5",
   "metadata": {},
   "outputs": [
    {
     "data": {
      "application/vnd.plotly.v1+json": {
       "config": {
        "plotlyServerURL": "https://plot.ly"
       },
       "data": [
        {
         "coloraxis": "coloraxis",
         "hovertemplate": "x: %{x}<br>y: %{y}<br>color: %{z}<extra></extra>",
         "name": "0",
         "texttemplate": "%{z}",
         "type": "heatmap",
         "x": [
          "Screen_Size",
          "RAM",
          "GPU",
          "Weight",
          "Storage_Capacity",
          "CPU_freq",
          "CPU_cores",
          "CPU_model",
          "Screen_Resolution",
          "Screen_Model",
          "Manufacturer_Apple",
          "Manufacturer_Asus",
          "Manufacturer_Chuwi",
          "Manufacturer_Dell",
          "Manufacturer_Fujitsu",
          "Manufacturer_Google",
          "Manufacturer_HP",
          "Manufacturer_Huawei",
          "Manufacturer_LG",
          "Manufacturer_Lenovo",
          "Manufacturer_MSI",
          "Manufacturer_Mediacom",
          "Manufacturer_Microsoft",
          "Manufacturer_Razer",
          "Manufacturer_Samsung",
          "Manufacturer_Toshiba",
          "Manufacturer_Vero",
          "Manufacturer_Xiaomi",
          "Operating_System_Chrome OS",
          "Operating_System_Linux",
          "Operating_System_Mac OS",
          "Operating_System_No OS",
          "Operating_System_Windows",
          "Storage_Type_Flash Storage + HDD",
          "Storage_Type_HDD",
          "Storage_Type_Hybrid",
          "Storage_Type_SSD",
          "Storage_Type_SSD + HDD",
          "Storage_Type_SSD + Hybrid",
          "CPU_brand_Intel",
          "CPU_brand_Samsung",
          "GPU_brand_ARM",
          "GPU_brand_Intel",
          "GPU_brand_Nvidia",
          "Operating_System_Version_10 S",
          "Operating_System_Version_7",
          "Operating_System_Version_Android",
          "Operating_System_Version_Chrome OS",
          "Operating_System_Version_No OS",
          "Operating_System_Version_Ubuntu",
          "Operating_System_Version_X",
          "Price"
         ],
         "xaxis": "x",
         "y": [
          "Screen_Size",
          "RAM",
          "GPU",
          "Weight",
          "Storage_Capacity",
          "CPU_freq",
          "CPU_cores",
          "CPU_model",
          "Screen_Resolution",
          "Screen_Model",
          "Manufacturer_Apple",
          "Manufacturer_Asus",
          "Manufacturer_Chuwi",
          "Manufacturer_Dell",
          "Manufacturer_Fujitsu",
          "Manufacturer_Google",
          "Manufacturer_HP",
          "Manufacturer_Huawei",
          "Manufacturer_LG",
          "Manufacturer_Lenovo",
          "Manufacturer_MSI",
          "Manufacturer_Mediacom",
          "Manufacturer_Microsoft",
          "Manufacturer_Razer",
          "Manufacturer_Samsung",
          "Manufacturer_Toshiba",
          "Manufacturer_Vero",
          "Manufacturer_Xiaomi",
          "Operating_System_Chrome OS",
          "Operating_System_Linux",
          "Operating_System_Mac OS",
          "Operating_System_No OS",
          "Operating_System_Windows",
          "Storage_Type_Flash Storage + HDD",
          "Storage_Type_HDD",
          "Storage_Type_Hybrid",
          "Storage_Type_SSD",
          "Storage_Type_SSD + HDD",
          "Storage_Type_SSD + Hybrid",
          "CPU_brand_Intel",
          "CPU_brand_Samsung",
          "GPU_brand_ARM",
          "GPU_brand_Intel",
          "GPU_brand_Nvidia",
          "Operating_System_Version_10 S",
          "Operating_System_Version_7",
          "Operating_System_Version_Android",
          "Operating_System_Version_Chrome OS",
          "Operating_System_Version_No OS",
          "Operating_System_Version_Ubuntu",
          "Operating_System_Version_X",
          "Price"
         ],
         "yaxis": "y",
         "z": [
          [
           null,
           null,
           null,
           null,
           null,
           null,
           null,
           null,
           null,
           null,
           null,
           null,
           null,
           null,
           null,
           null,
           null,
           null,
           null,
           null,
           null,
           null,
           null,
           null,
           null,
           null,
           null,
           null,
           null,
           null,
           null,
           null,
           null,
           null,
           null,
           null,
           null,
           null,
           null,
           null,
           null,
           null,
           null,
           null,
           null,
           null,
           null,
           null,
           null,
           null,
           null,
           null
          ],
          [
           0.2323,
           null,
           null,
           null,
           null,
           null,
           null,
           null,
           null,
           null,
           null,
           null,
           null,
           null,
           null,
           null,
           null,
           null,
           null,
           null,
           null,
           null,
           null,
           null,
           null,
           null,
           null,
           null,
           null,
           null,
           null,
           null,
           null,
           null,
           null,
           null,
           null,
           null,
           null,
           null,
           null,
           null,
           null,
           null,
           null,
           null,
           null,
           null,
           null,
           null,
           null,
           null
          ],
          [
           0.1829,
           0.3725,
           null,
           null,
           null,
           null,
           null,
           null,
           null,
           null,
           null,
           null,
           null,
           null,
           null,
           null,
           null,
           null,
           null,
           null,
           null,
           null,
           null,
           null,
           null,
           null,
           null,
           null,
           null,
           null,
           null,
           null,
           null,
           null,
           null,
           null,
           null,
           null,
           null,
           null,
           null,
           null,
           null,
           null,
           null,
           null,
           null,
           null,
           null,
           null,
           null,
           null
          ],
          [
           0.8223,
           0.3902,
           0.3036,
           null,
           null,
           null,
           null,
           null,
           null,
           null,
           null,
           null,
           null,
           null,
           null,
           null,
           null,
           null,
           null,
           null,
           null,
           null,
           null,
           null,
           null,
           null,
           null,
           null,
           null,
           null,
           null,
           null,
           null,
           null,
           null,
           null,
           null,
           null,
           null,
           null,
           null,
           null,
           null,
           null,
           null,
           null,
           null,
           null,
           null,
           null,
           null,
           null
          ],
          [
           0.527,
           0.3388,
           0.1329,
           0.5341,
           null,
           null,
           null,
           null,
           null,
           null,
           null,
           null,
           null,
           null,
           null,
           null,
           null,
           null,
           null,
           null,
           null,
           null,
           null,
           null,
           null,
           null,
           null,
           null,
           null,
           null,
           null,
           null,
           null,
           null,
           null,
           null,
           null,
           null,
           null,
           null,
           null,
           null,
           null,
           null,
           null,
           null,
           null,
           null,
           null,
           null,
           null,
           null
          ],
          [
           0.2991,
           0.3741,
           0.294,
           0.3156,
           0.2175,
           null,
           null,
           null,
           null,
           null,
           null,
           null,
           null,
           null,
           null,
           null,
           null,
           null,
           null,
           null,
           null,
           null,
           null,
           null,
           null,
           null,
           null,
           null,
           null,
           null,
           null,
           null,
           null,
           null,
           null,
           null,
           null,
           null,
           null,
           null,
           null,
           null,
           null,
           null,
           null,
           null,
           null,
           null,
           null,
           null,
           null,
           null
          ],
          [
           0.2915,
           0.3454,
           0.2822,
           0.3915,
           0.3014,
           0.0592,
           null,
           null,
           null,
           null,
           null,
           null,
           null,
           null,
           null,
           null,
           null,
           null,
           null,
           null,
           null,
           null,
           null,
           null,
           null,
           null,
           null,
           null,
           null,
           null,
           null,
           null,
           null,
           null,
           null,
           null,
           null,
           null,
           null,
           null,
           null,
           null,
           null,
           null,
           null,
           null,
           null,
           null,
           null,
           null,
           null,
           null
          ],
          [
           0.1804,
           0.4502,
           0.3839,
           0.2173,
           0.2478,
           0.1982,
           0.4427,
           null,
           null,
           null,
           null,
           null,
           null,
           null,
           null,
           null,
           null,
           null,
           null,
           null,
           null,
           null,
           null,
           null,
           null,
           null,
           null,
           null,
           null,
           null,
           null,
           null,
           null,
           null,
           null,
           null,
           null,
           null,
           null,
           null,
           null,
           null,
           null,
           null,
           null,
           null,
           null,
           null,
           null,
           null,
           null,
           null
          ],
          [
           0.0621,
           0.4231,
           0.2063,
           0.0137,
           0.0735,
           0.1385,
           0.1889,
           0.2479,
           null,
           null,
           null,
           null,
           null,
           null,
           null,
           null,
           null,
           null,
           null,
           null,
           null,
           null,
           null,
           null,
           null,
           null,
           null,
           null,
           null,
           null,
           null,
           null,
           null,
           null,
           null,
           null,
           null,
           null,
           null,
           null,
           null,
           null,
           null,
           null,
           null,
           null,
           null,
           null,
           null,
           null,
           null,
           null
          ],
          [
           0.1176,
           0.3063,
           0.2113,
           0.1147,
           0.1045,
           0.2844,
           0.2672,
           0.3222,
           0.2899,
           null,
           null,
           null,
           null,
           null,
           null,
           null,
           null,
           null,
           null,
           null,
           null,
           null,
           null,
           null,
           null,
           null,
           null,
           null,
           null,
           null,
           null,
           null,
           null,
           null,
           null,
           null,
           null,
           null,
           null,
           null,
           null,
           null,
           null,
           null,
           null,
           null,
           null,
           null,
           null,
           null,
           null,
           null
          ],
          [
           0.1396,
           0.0361,
           0.0502,
           0.1267,
           0.0801,
           0.0303,
           0.1139,
           0.068,
           0.1278,
           0.0972,
           null,
           null,
           null,
           null,
           null,
           null,
           null,
           null,
           null,
           null,
           null,
           null,
           null,
           null,
           null,
           null,
           null,
           null,
           null,
           null,
           null,
           null,
           null,
           null,
           null,
           null,
           null,
           null,
           null,
           null,
           null,
           null,
           null,
           null,
           null,
           null,
           null,
           null,
           null,
           null,
           null,
           null
          ],
          [
           0.1015,
           0.0493,
           0.1116,
           0.0703,
           0.1058,
           0.003,
           0.0977,
           0.0767,
           0.0652,
           0.0306,
           0.0503,
           null,
           null,
           null,
           null,
           null,
           null,
           null,
           null,
           null,
           null,
           null,
           null,
           null,
           null,
           null,
           null,
           null,
           null,
           null,
           null,
           null,
           null,
           null,
           null,
           null,
           null,
           null,
           null,
           null,
           null,
           null,
           null,
           null,
           null,
           null,
           null,
           null,
           null,
           null,
           null,
           null
          ],
          [
           0.0216,
           0.0429,
           0.0354,
           0.0261,
           0.0624,
           0.1015,
           0.0601,
           0.1049,
           0.0332,
           0.023,
           0.0074,
           0.021,
           null,
           null,
           null,
           null,
           null,
           null,
           null,
           null,
           null,
           null,
           null,
           null,
           null,
           null,
           null,
           null,
           null,
           null,
           null,
           null,
           null,
           null,
           null,
           null,
           null,
           null,
           null,
           null,
           null,
           null,
           null,
           null,
           null,
           null,
           null,
           null,
           null,
           null,
           null,
           null
          ],
          [
           0.057,
           0.123,
           0.1095,
           0.1197,
           0.1153,
           0.0322,
           0.1345,
           0.1659,
           0.1141,
           0.0996,
           0.0743,
           0.2108,
           0.031,
           null,
           null,
           null,
           null,
           null,
           null,
           null,
           null,
           null,
           null,
           null,
           null,
           null,
           null,
           null,
           null,
           null,
           null,
           null,
           null,
           null,
           null,
           null,
           null,
           null,
           null,
           null,
           null,
           null,
           null,
           null,
           null,
           null,
           null,
           null,
           null,
           null,
           null,
           null
          ],
          [
           0.0175,
           0.0048,
           0.0041,
           0.0109,
           0.0016,
           0.0187,
           0.0386,
           0.0128,
           0.037,
           0.077,
           0.006,
           0.0171,
           0.0025,
           0.0253,
           null,
           null,
           null,
           null,
           null,
           null,
           null,
           null,
           null,
           null,
           null,
           null,
           null,
           null,
           null,
           null,
           null,
           null,
           null,
           null,
           null,
           null,
           null,
           null,
           null,
           null,
           null,
           null,
           null,
           null,
           null,
           null,
           null,
           null,
           null,
           null,
           null,
           null
          ],
          [
           0.1077,
           0.0238,
           0.0075,
           0.0783,
           0.0362,
           0.1114,
           0.0473,
           0.022,
           0.0645,
           0.0631,
           0.0074,
           0.021,
           0.0031,
           0.031,
           0.0025,
           null,
           null,
           null,
           null,
           null,
           null,
           null,
           null,
           null,
           null,
           null,
           null,
           null,
           null,
           null,
           null,
           null,
           null,
           null,
           null,
           null,
           null,
           null,
           null,
           null,
           null,
           null,
           null,
           null,
           null,
           null,
           null,
           null,
           null,
           null,
           null,
           null
          ],
          [
           0.0274,
           0.1242,
           0.0923,
           0.0496,
           0.0648,
           0.0199,
           0.086,
           0.0582,
           0.0407,
           0.0128,
           0.063,
           0.1789,
           0.0263,
           0.2643,
           0.0215,
           0.0263,
           null,
           null,
           null,
           null,
           null,
           null,
           null,
           null,
           null,
           null,
           null,
           null,
           null,
           null,
           null,
           null,
           null,
           null,
           null,
           null,
           null,
           null,
           null,
           null,
           null,
           null,
           null,
           null,
           null,
           null,
           null,
           null,
           null,
           null,
           null,
           null
          ],
          [
           0.0656,
           0.0048,
           0.0041,
           0.0673,
           0.0218,
           0.0273,
           0.0386,
           0.0083,
           0.0292,
           0.006,
           0.006,
           0.0171,
           0.0025,
           0.0253,
           0.0021,
           0.0025,
           0.0215,
           null,
           null,
           null,
           null,
           null,
           null,
           null,
           null,
           null,
           null,
           null,
           null,
           null,
           null,
           null,
           null,
           null,
           null,
           null,
           null,
           null,
           null,
           null,
           null,
           null,
           null,
           null,
           null,
           null,
           null,
           null,
           null,
           null,
           null,
           null
          ],
          [
           0.0006,
           0.0238,
           0.005,
           0.0825,
           0.0124,
           0.0123,
           0.0115,
           0.0446,
           0.005,
           0.0021,
           0.0074,
           0.021,
           0.0031,
           0.031,
           0.0025,
           0.0031,
           0.0263,
           0.0025,
           null,
           null,
           null,
           null,
           null,
           null,
           null,
           null,
           null,
           null,
           null,
           null,
           null,
           null,
           null,
           null,
           null,
           null,
           null,
           null,
           null,
           null,
           null,
           null,
           null,
           null,
           null,
           null,
           null,
           null,
           null,
           null,
           null,
           null
          ],
          [
           0.069,
           0.0706,
           0.0141,
           0.0522,
           0.0484,
           0.0573,
           0.1432,
           0.0733,
           0.0124,
           0.0489,
           0.073,
           0.2072,
           0.0304,
           0.3061,
           0.0248,
           0.0304,
           0.2598,
           0.0248,
           0.0304,
           null,
           null,
           null,
           null,
           null,
           null,
           null,
           null,
           null,
           null,
           null,
           null,
           null,
           null,
           null,
           null,
           null,
           null,
           null,
           null,
           null,
           null,
           null,
           null,
           null,
           null,
           null,
           null,
           null,
           null,
           null,
           null,
           null
          ],
          [
           0.1918,
           0.1857,
           0.1999,
           0.1887,
           0.2515,
           0.1659,
           0.2058,
           0.1219,
           0.0321,
           0.1462,
           0.0253,
           0.0717,
           0.0105,
           0.106,
           0.0086,
           0.0105,
           0.0899,
           0.0086,
           0.0105,
           0.1042,
           null,
           null,
           null,
           null,
           null,
           null,
           null,
           null,
           null,
           null,
           null,
           null,
           null,
           null,
           null,
           null,
           null,
           null,
           null,
           null,
           null,
           null,
           null,
           null,
           null,
           null,
           null,
           null,
           null,
           null,
           null,
           null
          ],
          [
           0.0956,
           0.0819,
           0.0525,
           0.0896,
           0.1011,
           0.1495,
           0.0686,
           0.158,
           0.0057,
           0.0266,
           0.0113,
           0.0321,
           0.0047,
           0.0474,
           0.0038,
           0.0047,
           0.0402,
           0.0038,
           0.0047,
           0.0466,
           0.0161,
           null,
           null,
           null,
           null,
           null,
           null,
           null,
           null,
           null,
           null,
           null,
           null,
           null,
           null,
           null,
           null,
           null,
           null,
           null,
           null,
           null,
           null,
           null,
           null,
           null,
           null,
           null,
           null,
           null,
           null,
           null
          ],
          [
           0.0861,
           0.0083,
           0.0013,
           0.093,
           0.058,
           0.0324,
           0.067,
           0.0114,
           0.0664,
           0.0894,
           0.0105,
           0.0297,
           0.0044,
           0.0439,
           0.0036,
           0.0044,
           0.0372,
           0.0036,
           0.0044,
           0.0431,
           0.0149,
           0.0067,
           null,
           null,
           null,
           null,
           null,
           null,
           null,
           null,
           null,
           null,
           null,
           null,
           null,
           null,
           null,
           null,
           null,
           null,
           null,
           null,
           null,
           null,
           null,
           null,
           null,
           null,
           null,
           null,
           null,
           null
          ],
          [
           0.0016,
           0.1992,
           0.0657,
           0.0425,
           0.0086,
           0.068,
           0.05,
           0.0615,
           0.1833,
           0.0559,
           0.0095,
           0.0271,
           0.004,
           0.04,
           0.0032,
           0.004,
           0.034,
           0.0032,
           0.004,
           0.0393,
           0.0136,
           0.0061,
           0.0056,
           null,
           null,
           null,
           null,
           null,
           null,
           null,
           null,
           null,
           null,
           null,
           null,
           null,
           null,
           null,
           null,
           null,
           null,
           null,
           null,
           null,
           null,
           null,
           null,
           null,
           null,
           null,
           null,
           null
          ],
          [
           0.0666,
           0.0541,
           0.0164,
           0.0959,
           0.0521,
           0.0462,
           0.0554,
           0.0239,
           0.0164,
           0.044,
           0.0121,
           0.0343,
           0.005,
           0.0507,
           0.0041,
           0.005,
           0.043,
           0.0041,
           0.005,
           0.0498,
           0.0173,
           0.0077,
           0.0071,
           0.0065,
           null,
           null,
           null,
           null,
           null,
           null,
           null,
           null,
           null,
           null,
           null,
           null,
           null,
           null,
           null,
           null,
           null,
           null,
           null,
           null,
           null,
           null,
           null,
           null,
           null,
           null,
           null,
           null
          ],
          [
           0.0817,
           0.0077,
           0.0252,
           0.1102,
           0.1206,
           0.0622,
           0.1737,
           0.0264,
           0.0677,
           0.0454,
           0.0271,
           0.077,
           0.0113,
           0.1138,
           0.0092,
           0.0113,
           0.0966,
           0.0092,
           0.0113,
           0.1119,
           0.0387,
           0.0173,
           0.016,
           0.0146,
           0.0185,
           null,
           null,
           null,
           null,
           null,
           null,
           null,
           null,
           null,
           null,
           null,
           null,
           null,
           null,
           null,
           null,
           null,
           null,
           null,
           null,
           null,
           null,
           null,
           null,
           null,
           null,
           null
          ],
          [
           0.0336,
           0.0411,
           0.0247,
           0.053,
           0.0539,
           0.1025,
           0.0386,
           0.076,
           0.0041,
           0.0355,
           0.006,
           0.0171,
           0.0025,
           0.0253,
           0.0021,
           0.0025,
           0.0215,
           0.0021,
           0.0025,
           0.0248,
           0.0086,
           0.0038,
           0.0036,
           0.0032,
           0.0041,
           0.0092,
           null,
           null,
           null,
           null,
           null,
           null,
           null,
           null,
           null,
           null,
           null,
           null,
           null,
           null,
           null,
           null,
           null,
           null,
           null,
           null,
           null,
           null,
           null,
           null,
           null,
           null
          ],
          [
           0.0272,
           0.0189,
           0.1048,
           0.0404,
           0.0473,
           0.0287,
           0.0074,
           0.0062,
           0.0058,
           0.0084,
           0.0085,
           0.0242,
           0.0036,
           0.0358,
           0.0029,
           0.0036,
           0.0304,
           0.0029,
           0.0036,
           0.0352,
           0.0122,
           0.0054,
           0.005,
           0.0046,
           0.0058,
           0.0131,
           0.0029,
           null,
           null,
           null,
           null,
           null,
           null,
           null,
           null,
           null,
           null,
           null,
           null,
           null,
           null,
           null,
           null,
           null,
           null,
           null,
           null,
           null,
           null,
           null,
           null,
           null
          ],
          [
           0.2566,
           0.1044,
           0.0801,
           0.1474,
           0.1699,
           0.2432,
           0.1026,
           0.2125,
           0.0679,
           0.1453,
           0.0202,
           0.0156,
           0.0084,
           0.0685,
           0.0069,
           0.3657,
           0.0184,
           0.0069,
           0.0084,
           0.0342,
           0.0288,
           0.0129,
           0.0119,
           0.0109,
           0.0628,
           0.0309,
           0.0069,
           0.0097,
           null,
           null,
           null,
           null,
           null,
           null,
           null,
           null,
           null,
           null,
           null,
           null,
           null,
           null,
           null,
           null,
           null,
           null,
           null,
           null,
           null,
           null,
           null,
           null
          ],
          [
           0.0998,
           0.0923,
           0.1225,
           0.068,
           0.0662,
           0.0256,
           0.0378,
           0.0089,
           0.0789,
           0.0174,
           0.0302,
           0.0574,
           0.0126,
           0.1736,
           0.0103,
           0.0126,
           0.1077,
           0.0103,
           0.0126,
           0.1247,
           0.0432,
           0.0193,
           0.0179,
           0.0163,
           0.0207,
           0.0463,
           0.0103,
           0.0146,
           0.0345,
           null,
           null,
           null,
           null,
           null,
           null,
           null,
           null,
           null,
           null,
           null,
           null,
           null,
           null,
           null,
           null,
           null,
           null,
           null,
           null,
           null,
           null,
           null
          ],
          [
           0.1396,
           0.0361,
           0.0502,
           0.1267,
           0.0801,
           0.0303,
           0.1139,
           0.068,
           0.1278,
           0.0972,
           1,
           0.0503,
           0.0074,
           0.0743,
           0.006,
           0.0074,
           0.063,
           0.006,
           0.0074,
           0.073,
           0.0253,
           0.0113,
           0.0105,
           0.0095,
           0.0121,
           0.0271,
           0.006,
           0.0085,
           0.0202,
           0.0302,
           null,
           null,
           null,
           null,
           null,
           null,
           null,
           null,
           null,
           null,
           null,
           null,
           null,
           null,
           null,
           null,
           null,
           null,
           null,
           null,
           null,
           null
          ],
          [
           0.1012,
           0.1017,
           0.0513,
           0.0437,
           0.0638,
           0.0407,
           0.0784,
           0.0787,
           0.0851,
           0.0684,
           0.0316,
           0.0482,
           0.0132,
           0.1323,
           0.0107,
           0.0132,
           0.0062,
           0.0107,
           0.0132,
           0.27,
           0.045,
           0.0201,
           0.0186,
           0.017,
           0.0215,
           0.0483,
           0.0107,
           0.199,
           0.036,
           0.0539,
           0.0316,
           null,
           null,
           null,
           null,
           null,
           null,
           null,
           null,
           null,
           null,
           null,
           null,
           null,
           null,
           null,
           null,
           null,
           null,
           null,
           null,
           null
          ],
          [
           0.0446,
           0.1555,
           0.0972,
           0.0456,
           0.0234,
           0.1609,
           0.0713,
           0.177,
           0.084,
           0.1541,
           0.3254,
           0.0219,
           0.0227,
           0.036,
           0.0185,
           0.1357,
           0.1031,
           0.0185,
           0.0227,
           0.0597,
           0.0777,
           0.0347,
           0.0321,
           0.0293,
           0.0047,
           0.0834,
           0.0185,
           0.111,
           0.3711,
           0.5558,
           0.3254,
           0.5797,
           null,
           null,
           null,
           null,
           null,
           null,
           null,
           null,
           null,
           null,
           null,
           null,
           null,
           null,
           null,
           null,
           null,
           null,
           null,
           null
          ],
          [
           0.0124,
           0.0034,
           0.0761,
           0.0092,
           0.03,
           0.0438,
           0.0347,
           0.0729,
           0.0029,
           0.0268,
           0.0043,
           0.0121,
           0.0018,
           0.0574,
           0.0014,
           0.0018,
           0.0152,
           0.0014,
           0.0018,
           0.0176,
           0.0061,
           0.0027,
           0.0025,
           0.0023,
           0.0029,
           0.0065,
           0.0014,
           0.0021,
           0.0049,
           0.0073,
           0.0043,
           0.0076,
           0.0131,
           null,
           null,
           null,
           null,
           null,
           null,
           null,
           null,
           null,
           null,
           null,
           null,
           null,
           null,
           null,
           null,
           null,
           null,
           null
          ],
          [
           0.271,
           0.3085,
           0.1447,
           0.1613,
           0.3667,
           0.0905,
           0.1579,
           0.1775,
           0.2668,
           0.2876,
           0.0816,
           0.0093,
           0.034,
           0.014,
           0.023,
           0.034,
           0.0955,
           0.0278,
           0.034,
           0.0096,
           0.1164,
           0.0249,
           0.0482,
           0.044,
           0.0557,
           0.0312,
           0.0278,
           0.0393,
           0.0931,
           0.1794,
           0.0816,
           0.1718,
           0.1491,
           0.0196,
           null,
           null,
           null,
           null,
           null,
           null,
           null,
           null,
           null,
           null,
           null,
           null,
           null,
           null,
           null,
           null,
           null,
           null
          ],
          [
           0.0081,
           0.0229,
           0.0125,
           0.0082,
           0.0131,
           0.023,
           0.0052,
           0.007,
           0.0205,
           0.0196,
           0.006,
           0.0171,
           0.0025,
           0.0279,
           0.0021,
           0.0025,
           0.0215,
           0.0021,
           0.0025,
           0.0289,
           0.0086,
           0.0038,
           0.0036,
           0.0032,
           0.0041,
           0.0092,
           0.0021,
           0.0029,
           0.0069,
           0.0103,
           0.006,
           0.0107,
           0.0185,
           0.0014,
           0.0278,
           null,
           null,
           null,
           null,
           null,
           null,
           null,
           null,
           null,
           null,
           null,
           null,
           null,
           null,
           null,
           null,
           null
          ],
          [
           0.382,
           0.0762,
           0.0134,
           0.4202,
           0.6631,
           0.0768,
           0.139,
           0.096,
           0.218,
           0.1972,
           0.036,
           0.139,
           0.0568,
           0.018,
           0.0011,
           0.0542,
           0.0391,
           0.0442,
           0.0542,
           0.0842,
           0.1497,
           0.0101,
           0.0768,
           0.0701,
           0.0433,
           0.1155,
           0.0464,
           0.0626,
           0.0864,
           0.0906,
           0.036,
           0.0786,
           0.1324,
           0.0328,
           0.6278,
           0.0464,
           null,
           null,
           null,
           null,
           null,
           null,
           null,
           null,
           null,
           null,
           null,
           null,
           null,
           null,
           null,
           null
          ],
          [
           0.4086,
           0.3965,
           0.2335,
           0.5268,
           0.6266,
           0.2392,
           0.4125,
           0.2814,
           0.1004,
           0.2207,
           0.0573,
           0.161,
           0.0239,
           0.0772,
           0.0195,
           0.0239,
           0.124,
           0.0195,
           0.0239,
           0.0894,
           0.3792,
           0.0366,
           0.0339,
           0.0309,
           0.0079,
           0.0879,
           0.0195,
           0.0276,
           0.0654,
           0.0589,
           0.0573,
           0.0645,
           0.128,
           0.0138,
           0.2642,
           0.0195,
           0.4412,
           null,
           null,
           null,
           null,
           null,
           null,
           null,
           null,
           null,
           null,
           null,
           null,
           null,
           null,
           null
          ],
          [
           null,
           null,
           null,
           null,
           null,
           null,
           null,
           null,
           null,
           null,
           null,
           null,
           null,
           null,
           null,
           null,
           null,
           null,
           null,
           null,
           null,
           null,
           null,
           null,
           null,
           null,
           null,
           null,
           null,
           null,
           null,
           null,
           null,
           null,
           null,
           null,
           null,
           null,
           null,
           null,
           null,
           null,
           null,
           null,
           null,
           null,
           null,
           null,
           null,
           null,
           null,
           null
          ],
          [
           0.1385,
           0.1056,
           0.3862,
           0.0756,
           0.0543,
           0.1391,
           0.0813,
           0.3174,
           0.0978,
           0.1182,
           0.0302,
           0.0717,
           0.0126,
           0.1268,
           0.0103,
           0.0126,
           0.1005,
           0.0103,
           0.0126,
           0.0213,
           0.0432,
           0.0193,
           0.0179,
           0.0163,
           0.0207,
           0.0463,
           0.0103,
           0.0146,
           0.0345,
           0.0517,
           0.0302,
           0.0117,
           0.0659,
           0.0073,
           0.105,
           0.0103,
           0.0717,
           0.0067,
           null,
           null,
           null,
           null,
           null,
           null,
           null,
           null,
           null,
           null,
           null,
           null,
           null,
           null
          ],
          [
           null,
           null,
           null,
           null,
           null,
           null,
           null,
           null,
           null,
           null,
           null,
           null,
           null,
           null,
           null,
           null,
           null,
           null,
           null,
           null,
           null,
           null,
           null,
           null,
           null,
           null,
           null,
           null,
           null,
           null,
           null,
           null,
           null,
           null,
           null,
           null,
           null,
           null,
           null,
           null,
           null,
           null,
           null,
           null,
           null,
           null,
           null,
           null,
           null,
           null,
           null,
           null
          ],
          [
           null,
           null,
           null,
           null,
           null,
           null,
           null,
           null,
           null,
           null,
           null,
           null,
           null,
           null,
           null,
           null,
           null,
           null,
           null,
           null,
           null,
           null,
           null,
           null,
           null,
           null,
           null,
           null,
           null,
           null,
           null,
           null,
           null,
           null,
           null,
           null,
           null,
           null,
           null,
           null,
           null,
           null,
           null,
           null,
           null,
           null,
           null,
           null,
           null,
           null,
           null,
           null
          ],
          [
           0.6006,
           0.3145,
           0.1979,
           0.5998,
           0.4404,
           0.35,
           0.4095,
           0.2252,
           0.0763,
           0.279,
           0.0764,
           0.0966,
           0.0515,
           0.1238,
           0.042,
           0.0515,
           0.0468,
           0.042,
           0.0515,
           0.0952,
           0.2046,
           0.0788,
           0.0729,
           0.0485,
           0.016,
           0.1368,
           0.042,
           0.0691,
           0.1408,
           0.0835,
           0.0764,
           0.0269,
           0.0221,
           0.0345,
           0.016,
           0.0034,
           0.2395,
           0.4418,
           null,
           0.245,
           null,
           null,
           null,
           null,
           null,
           null,
           null,
           null,
           null,
           null,
           null,
           null
          ],
          [
           0.4815,
           0.4105,
           0.7596,
           0.5609,
           0.3659,
           0.3683,
           0.394,
           0.3515,
           0.1514,
           0.2885,
           0.0907,
           0.1483,
           0.0378,
           0.029,
           0.0309,
           0.0378,
           0.0898,
           0.0309,
           0.0378,
           0.0454,
           0.2785,
           0.0579,
           0.0536,
           0.0744,
           0.0131,
           0.0828,
           0.0309,
           0.094,
           0.1035,
           0.0329,
           0.0907,
           0.0637,
           0.0591,
           0.047,
           0.0726,
           0.0178,
           0.1876,
           0.4445,
           null,
           0.155,
           null,
           null,
           0.7347,
           null,
           null,
           null,
           null,
           null,
           null,
           null,
           null,
           null
          ],
          [
           0.1107,
           0.0278,
           0.0273,
           0.1016,
           0.0759,
           0.0146,
           0.0554,
           0.0048,
           0.039,
           0.1161,
           0.0121,
           0.0344,
           0.005,
           0.0507,
           0.0041,
           0.005,
           0.043,
           0.0041,
           0.005,
           0.0498,
           0.0173,
           0.0077,
           0.8651,
           0.0065,
           0.0083,
           0.0185,
           0.0041,
           0.0058,
           0.0138,
           0.0207,
           0.0121,
           0.0215,
           0.0372,
           0.0029,
           0.0557,
           0.0041,
           0.066,
           0.0392,
           null,
           0.0319,
           null,
           null,
           0.0615,
           0.0619,
           null,
           null,
           null,
           null,
           null,
           null,
           null,
           null
          ],
          [
           0.0109,
           0.0218,
           0.0648,
           0.002,
           0.0492,
           0.0361,
           0.0276,
           0.0092,
           0.0209,
           0.0292,
           0.0135,
           0.0384,
           0.0056,
           0.0567,
           0.0046,
           0.0056,
           0.057,
           0.0046,
           0.0056,
           0.0648,
           0.0193,
           0.0086,
           0.008,
           0.0073,
           0.0092,
           0.0312,
           0.0046,
           0.0065,
           0.0154,
           0.0231,
           0.0135,
           0.0241,
           0.0416,
           0.0033,
           0.0395,
           0.2204,
           0.0586,
           0.0438,
           null,
           0.0231,
           null,
           null,
           0.0128,
           0.0181,
           0.0092,
           null,
           null,
           null,
           null,
           null,
           null,
           null
          ],
          [
           0.1118,
           0.029,
           0.0204,
           0.0649,
           0.036,
           0.0516,
           0.0347,
           0.063,
           0.0023,
           0.0183,
           0.0043,
           0.0121,
           0.0018,
           0.0179,
           0.0014,
           0.0018,
           0.0152,
           0.0014,
           0.0018,
           0.0583,
           0.0061,
           0.0027,
           0.0025,
           0.0023,
           0.0029,
           0.0065,
           0.0014,
           0.0021,
           0.0049,
           0.0073,
           0.0043,
           0.0076,
           0.0783,
           0.001,
           0.0196,
           0.0014,
           0.0328,
           0.0138,
           null,
           0.0073,
           null,
           null,
           0.0297,
           0.0218,
           0.0029,
           0.0033,
           null,
           null,
           null,
           null,
           null,
           null
          ],
          [
           0.2566,
           0.1044,
           0.0801,
           0.1474,
           0.1699,
           0.2432,
           0.1026,
           0.2125,
           0.0679,
           0.1453,
           0.0202,
           0.0156,
           0.0084,
           0.0685,
           0.0069,
           0.3657,
           0.0184,
           0.0069,
           0.0084,
           0.0342,
           0.0288,
           0.0129,
           0.0119,
           0.0109,
           0.0628,
           0.0309,
           0.0069,
           0.0097,
           1,
           0.0345,
           0.0202,
           0.036,
           0.3711,
           0.0049,
           0.0931,
           0.0069,
           0.0864,
           0.0654,
           null,
           0.0345,
           null,
           null,
           0.1408,
           0.1035,
           0.0138,
           0.0154,
           0.0049,
           null,
           null,
           null,
           null,
           null
          ],
          [
           0.1012,
           0.1017,
           0.0513,
           0.0437,
           0.0638,
           0.0407,
           0.0784,
           0.0787,
           0.0851,
           0.0684,
           0.0316,
           0.0482,
           0.0132,
           0.1323,
           0.0107,
           0.0132,
           0.0062,
           0.0107,
           0.0132,
           0.27,
           0.045,
           0.0201,
           0.0186,
           0.017,
           0.0215,
           0.0483,
           0.0107,
           0.199,
           0.036,
           0.0539,
           0.0316,
           1,
           0.5797,
           0.0076,
           0.1718,
           0.0107,
           0.0786,
           0.0645,
           null,
           0.0117,
           null,
           null,
           0.0269,
           0.0637,
           0.0215,
           0.0241,
           0.0076,
           0.036,
           null,
           null,
           null,
           null
          ],
          [
           0.0998,
           0.0923,
           0.1225,
           0.068,
           0.0662,
           0.0256,
           0.0378,
           0.0089,
           0.0789,
           0.0174,
           0.0302,
           0.0574,
           0.0126,
           0.1736,
           0.0103,
           0.0126,
           0.1077,
           0.0103,
           0.0126,
           0.1247,
           0.0432,
           0.0193,
           0.0179,
           0.0163,
           0.0207,
           0.0463,
           0.0103,
           0.0146,
           0.0345,
           1,
           0.0302,
           0.0539,
           0.5558,
           0.0073,
           0.1794,
           0.0103,
           0.0906,
           0.0589,
           null,
           0.0517,
           null,
           null,
           0.0835,
           0.0329,
           0.0207,
           0.0231,
           0.0073,
           0.0345,
           0.0539,
           null,
           null,
           null
          ],
          [
           0.1396,
           0.0361,
           0.0502,
           0.1267,
           0.0801,
           0.0303,
           0.1139,
           0.068,
           0.1278,
           0.0972,
           1,
           0.0503,
           0.0074,
           0.0743,
           0.006,
           0.0074,
           0.063,
           0.006,
           0.0074,
           0.073,
           0.0253,
           0.0113,
           0.0105,
           0.0095,
           0.0121,
           0.0271,
           0.006,
           0.0085,
           0.0202,
           0.0302,
           1,
           0.0316,
           0.3254,
           0.0043,
           0.0816,
           0.006,
           0.036,
           0.0573,
           null,
           0.0302,
           null,
           null,
           0.0764,
           0.0907,
           0.0121,
           0.0135,
           0.0043,
           0.0202,
           0.0316,
           0.0302,
           null,
           null
          ],
          [
           0.0752,
           0.764,
           0.4342,
           0.2244,
           0.1588,
           0.4376,
           0.2935,
           0.4924,
           0.5447,
           0.3395,
           0.0993,
           0.0295,
           0.0636,
           0.0928,
           0.0229,
           0.0431,
           0.0699,
           0.019,
           0.0761,
           0.0338,
           0.1776,
           0.0997,
           0.0538,
           0.2684,
           0.0488,
           0.0291,
           0.0572,
           0.0006,
           0.1147,
           0.157,
           0.0993,
           0.177,
           0.2251,
           0.0391,
           0.4086,
           0.0113,
           0.2457,
           0.294,
           null,
           0.1721,
           null,
           null,
           0.1848,
           0.3455,
           0.0205,
           0.1001,
           0.0365,
           0.1147,
           0.177,
           0.157,
           0.0993,
           null
          ]
         ]
        }
       ],
       "layout": {
        "coloraxis": {
         "colorscale": [
          [
           0,
           "rgb(255,245,240)"
          ],
          [
           0.125,
           "rgb(254,224,210)"
          ],
          [
           0.25,
           "rgb(252,187,161)"
          ],
          [
           0.375,
           "rgb(252,146,114)"
          ],
          [
           0.5,
           "rgb(251,106,74)"
          ],
          [
           0.625,
           "rgb(239,59,44)"
          ],
          [
           0.75,
           "rgb(203,24,29)"
          ],
          [
           0.875,
           "rgb(165,15,21)"
          ],
          [
           1,
           "rgb(103,0,13)"
          ]
         ]
        },
        "height": 700,
        "margin": {
         "t": 60
        },
        "template": {
         "data": {
          "bar": [
           {
            "error_x": {
             "color": "#2a3f5f"
            },
            "error_y": {
             "color": "#2a3f5f"
            },
            "marker": {
             "line": {
              "color": "#E5ECF6",
              "width": 0.5
             },
             "pattern": {
              "fillmode": "overlay",
              "size": 10,
              "solidity": 0.2
             }
            },
            "type": "bar"
           }
          ],
          "barpolar": [
           {
            "marker": {
             "line": {
              "color": "#E5ECF6",
              "width": 0.5
             },
             "pattern": {
              "fillmode": "overlay",
              "size": 10,
              "solidity": 0.2
             }
            },
            "type": "barpolar"
           }
          ],
          "carpet": [
           {
            "aaxis": {
             "endlinecolor": "#2a3f5f",
             "gridcolor": "white",
             "linecolor": "white",
             "minorgridcolor": "white",
             "startlinecolor": "#2a3f5f"
            },
            "baxis": {
             "endlinecolor": "#2a3f5f",
             "gridcolor": "white",
             "linecolor": "white",
             "minorgridcolor": "white",
             "startlinecolor": "#2a3f5f"
            },
            "type": "carpet"
           }
          ],
          "choropleth": [
           {
            "colorbar": {
             "outlinewidth": 0,
             "ticks": ""
            },
            "type": "choropleth"
           }
          ],
          "contour": [
           {
            "colorbar": {
             "outlinewidth": 0,
             "ticks": ""
            },
            "colorscale": [
             [
              0,
              "#0d0887"
             ],
             [
              0.1111111111111111,
              "#46039f"
             ],
             [
              0.2222222222222222,
              "#7201a8"
             ],
             [
              0.3333333333333333,
              "#9c179e"
             ],
             [
              0.4444444444444444,
              "#bd3786"
             ],
             [
              0.5555555555555556,
              "#d8576b"
             ],
             [
              0.6666666666666666,
              "#ed7953"
             ],
             [
              0.7777777777777778,
              "#fb9f3a"
             ],
             [
              0.8888888888888888,
              "#fdca26"
             ],
             [
              1,
              "#f0f921"
             ]
            ],
            "type": "contour"
           }
          ],
          "contourcarpet": [
           {
            "colorbar": {
             "outlinewidth": 0,
             "ticks": ""
            },
            "type": "contourcarpet"
           }
          ],
          "heatmap": [
           {
            "colorbar": {
             "outlinewidth": 0,
             "ticks": ""
            },
            "colorscale": [
             [
              0,
              "#0d0887"
             ],
             [
              0.1111111111111111,
              "#46039f"
             ],
             [
              0.2222222222222222,
              "#7201a8"
             ],
             [
              0.3333333333333333,
              "#9c179e"
             ],
             [
              0.4444444444444444,
              "#bd3786"
             ],
             [
              0.5555555555555556,
              "#d8576b"
             ],
             [
              0.6666666666666666,
              "#ed7953"
             ],
             [
              0.7777777777777778,
              "#fb9f3a"
             ],
             [
              0.8888888888888888,
              "#fdca26"
             ],
             [
              1,
              "#f0f921"
             ]
            ],
            "type": "heatmap"
           }
          ],
          "heatmapgl": [
           {
            "colorbar": {
             "outlinewidth": 0,
             "ticks": ""
            },
            "colorscale": [
             [
              0,
              "#0d0887"
             ],
             [
              0.1111111111111111,
              "#46039f"
             ],
             [
              0.2222222222222222,
              "#7201a8"
             ],
             [
              0.3333333333333333,
              "#9c179e"
             ],
             [
              0.4444444444444444,
              "#bd3786"
             ],
             [
              0.5555555555555556,
              "#d8576b"
             ],
             [
              0.6666666666666666,
              "#ed7953"
             ],
             [
              0.7777777777777778,
              "#fb9f3a"
             ],
             [
              0.8888888888888888,
              "#fdca26"
             ],
             [
              1,
              "#f0f921"
             ]
            ],
            "type": "heatmapgl"
           }
          ],
          "histogram": [
           {
            "marker": {
             "pattern": {
              "fillmode": "overlay",
              "size": 10,
              "solidity": 0.2
             }
            },
            "type": "histogram"
           }
          ],
          "histogram2d": [
           {
            "colorbar": {
             "outlinewidth": 0,
             "ticks": ""
            },
            "colorscale": [
             [
              0,
              "#0d0887"
             ],
             [
              0.1111111111111111,
              "#46039f"
             ],
             [
              0.2222222222222222,
              "#7201a8"
             ],
             [
              0.3333333333333333,
              "#9c179e"
             ],
             [
              0.4444444444444444,
              "#bd3786"
             ],
             [
              0.5555555555555556,
              "#d8576b"
             ],
             [
              0.6666666666666666,
              "#ed7953"
             ],
             [
              0.7777777777777778,
              "#fb9f3a"
             ],
             [
              0.8888888888888888,
              "#fdca26"
             ],
             [
              1,
              "#f0f921"
             ]
            ],
            "type": "histogram2d"
           }
          ],
          "histogram2dcontour": [
           {
            "colorbar": {
             "outlinewidth": 0,
             "ticks": ""
            },
            "colorscale": [
             [
              0,
              "#0d0887"
             ],
             [
              0.1111111111111111,
              "#46039f"
             ],
             [
              0.2222222222222222,
              "#7201a8"
             ],
             [
              0.3333333333333333,
              "#9c179e"
             ],
             [
              0.4444444444444444,
              "#bd3786"
             ],
             [
              0.5555555555555556,
              "#d8576b"
             ],
             [
              0.6666666666666666,
              "#ed7953"
             ],
             [
              0.7777777777777778,
              "#fb9f3a"
             ],
             [
              0.8888888888888888,
              "#fdca26"
             ],
             [
              1,
              "#f0f921"
             ]
            ],
            "type": "histogram2dcontour"
           }
          ],
          "mesh3d": [
           {
            "colorbar": {
             "outlinewidth": 0,
             "ticks": ""
            },
            "type": "mesh3d"
           }
          ],
          "parcoords": [
           {
            "line": {
             "colorbar": {
              "outlinewidth": 0,
              "ticks": ""
             }
            },
            "type": "parcoords"
           }
          ],
          "pie": [
           {
            "automargin": true,
            "type": "pie"
           }
          ],
          "scatter": [
           {
            "fillpattern": {
             "fillmode": "overlay",
             "size": 10,
             "solidity": 0.2
            },
            "type": "scatter"
           }
          ],
          "scatter3d": [
           {
            "line": {
             "colorbar": {
              "outlinewidth": 0,
              "ticks": ""
             }
            },
            "marker": {
             "colorbar": {
              "outlinewidth": 0,
              "ticks": ""
             }
            },
            "type": "scatter3d"
           }
          ],
          "scattercarpet": [
           {
            "marker": {
             "colorbar": {
              "outlinewidth": 0,
              "ticks": ""
             }
            },
            "type": "scattercarpet"
           }
          ],
          "scattergeo": [
           {
            "marker": {
             "colorbar": {
              "outlinewidth": 0,
              "ticks": ""
             }
            },
            "type": "scattergeo"
           }
          ],
          "scattergl": [
           {
            "marker": {
             "colorbar": {
              "outlinewidth": 0,
              "ticks": ""
             }
            },
            "type": "scattergl"
           }
          ],
          "scattermapbox": [
           {
            "marker": {
             "colorbar": {
              "outlinewidth": 0,
              "ticks": ""
             }
            },
            "type": "scattermapbox"
           }
          ],
          "scatterpolar": [
           {
            "marker": {
             "colorbar": {
              "outlinewidth": 0,
              "ticks": ""
             }
            },
            "type": "scatterpolar"
           }
          ],
          "scatterpolargl": [
           {
            "marker": {
             "colorbar": {
              "outlinewidth": 0,
              "ticks": ""
             }
            },
            "type": "scatterpolargl"
           }
          ],
          "scatterternary": [
           {
            "marker": {
             "colorbar": {
              "outlinewidth": 0,
              "ticks": ""
             }
            },
            "type": "scatterternary"
           }
          ],
          "surface": [
           {
            "colorbar": {
             "outlinewidth": 0,
             "ticks": ""
            },
            "colorscale": [
             [
              0,
              "#0d0887"
             ],
             [
              0.1111111111111111,
              "#46039f"
             ],
             [
              0.2222222222222222,
              "#7201a8"
             ],
             [
              0.3333333333333333,
              "#9c179e"
             ],
             [
              0.4444444444444444,
              "#bd3786"
             ],
             [
              0.5555555555555556,
              "#d8576b"
             ],
             [
              0.6666666666666666,
              "#ed7953"
             ],
             [
              0.7777777777777778,
              "#fb9f3a"
             ],
             [
              0.8888888888888888,
              "#fdca26"
             ],
             [
              1,
              "#f0f921"
             ]
            ],
            "type": "surface"
           }
          ],
          "table": [
           {
            "cells": {
             "fill": {
              "color": "#EBF0F8"
             },
             "line": {
              "color": "white"
             }
            },
            "header": {
             "fill": {
              "color": "#C8D4E3"
             },
             "line": {
              "color": "white"
             }
            },
            "type": "table"
           }
          ]
         },
         "layout": {
          "annotationdefaults": {
           "arrowcolor": "#2a3f5f",
           "arrowhead": 0,
           "arrowwidth": 1
          },
          "autotypenumbers": "strict",
          "coloraxis": {
           "colorbar": {
            "outlinewidth": 0,
            "ticks": ""
           }
          },
          "colorscale": {
           "diverging": [
            [
             0,
             "#8e0152"
            ],
            [
             0.1,
             "#c51b7d"
            ],
            [
             0.2,
             "#de77ae"
            ],
            [
             0.3,
             "#f1b6da"
            ],
            [
             0.4,
             "#fde0ef"
            ],
            [
             0.5,
             "#f7f7f7"
            ],
            [
             0.6,
             "#e6f5d0"
            ],
            [
             0.7,
             "#b8e186"
            ],
            [
             0.8,
             "#7fbc41"
            ],
            [
             0.9,
             "#4d9221"
            ],
            [
             1,
             "#276419"
            ]
           ],
           "sequential": [
            [
             0,
             "#0d0887"
            ],
            [
             0.1111111111111111,
             "#46039f"
            ],
            [
             0.2222222222222222,
             "#7201a8"
            ],
            [
             0.3333333333333333,
             "#9c179e"
            ],
            [
             0.4444444444444444,
             "#bd3786"
            ],
            [
             0.5555555555555556,
             "#d8576b"
            ],
            [
             0.6666666666666666,
             "#ed7953"
            ],
            [
             0.7777777777777778,
             "#fb9f3a"
            ],
            [
             0.8888888888888888,
             "#fdca26"
            ],
            [
             1,
             "#f0f921"
            ]
           ],
           "sequentialminus": [
            [
             0,
             "#0d0887"
            ],
            [
             0.1111111111111111,
             "#46039f"
            ],
            [
             0.2222222222222222,
             "#7201a8"
            ],
            [
             0.3333333333333333,
             "#9c179e"
            ],
            [
             0.4444444444444444,
             "#bd3786"
            ],
            [
             0.5555555555555556,
             "#d8576b"
            ],
            [
             0.6666666666666666,
             "#ed7953"
            ],
            [
             0.7777777777777778,
             "#fb9f3a"
            ],
            [
             0.8888888888888888,
             "#fdca26"
            ],
            [
             1,
             "#f0f921"
            ]
           ]
          },
          "colorway": [
           "#636efa",
           "#EF553B",
           "#00cc96",
           "#ab63fa",
           "#FFA15A",
           "#19d3f3",
           "#FF6692",
           "#B6E880",
           "#FF97FF",
           "#FECB52"
          ],
          "font": {
           "color": "#2a3f5f"
          },
          "geo": {
           "bgcolor": "white",
           "lakecolor": "white",
           "landcolor": "#E5ECF6",
           "showlakes": true,
           "showland": true,
           "subunitcolor": "white"
          },
          "hoverlabel": {
           "align": "left"
          },
          "hovermode": "closest",
          "mapbox": {
           "style": "light"
          },
          "paper_bgcolor": "white",
          "plot_bgcolor": "#E5ECF6",
          "polar": {
           "angularaxis": {
            "gridcolor": "white",
            "linecolor": "white",
            "ticks": ""
           },
           "bgcolor": "#E5ECF6",
           "radialaxis": {
            "gridcolor": "white",
            "linecolor": "white",
            "ticks": ""
           }
          },
          "scene": {
           "xaxis": {
            "backgroundcolor": "#E5ECF6",
            "gridcolor": "white",
            "gridwidth": 2,
            "linecolor": "white",
            "showbackground": true,
            "ticks": "",
            "zerolinecolor": "white"
           },
           "yaxis": {
            "backgroundcolor": "#E5ECF6",
            "gridcolor": "white",
            "gridwidth": 2,
            "linecolor": "white",
            "showbackground": true,
            "ticks": "",
            "zerolinecolor": "white"
           },
           "zaxis": {
            "backgroundcolor": "#E5ECF6",
            "gridcolor": "white",
            "gridwidth": 2,
            "linecolor": "white",
            "showbackground": true,
            "ticks": "",
            "zerolinecolor": "white"
           }
          },
          "shapedefaults": {
           "line": {
            "color": "#2a3f5f"
           }
          },
          "ternary": {
           "aaxis": {
            "gridcolor": "white",
            "linecolor": "white",
            "ticks": ""
           },
           "baxis": {
            "gridcolor": "white",
            "linecolor": "white",
            "ticks": ""
           },
           "bgcolor": "#E5ECF6",
           "caxis": {
            "gridcolor": "white",
            "linecolor": "white",
            "ticks": ""
           }
          },
          "title": {
           "x": 0.05
          },
          "xaxis": {
           "automargin": true,
           "gridcolor": "white",
           "linecolor": "white",
           "ticks": "",
           "title": {
            "standoff": 15
           },
           "zerolinecolor": "white",
           "zerolinewidth": 2
          },
          "yaxis": {
           "automargin": true,
           "gridcolor": "white",
           "linecolor": "white",
           "ticks": "",
           "title": {
            "standoff": 15
           },
           "zerolinecolor": "white",
           "zerolinewidth": 2
          }
         }
        },
        "width": 900,
        "xaxis": {
         "anchor": "y",
         "constrain": "domain",
         "domain": [
          0,
          1
         ],
         "scaleanchor": "y"
        },
        "yaxis": {
         "anchor": "x",
         "autorange": "reversed",
         "constrain": "domain",
         "domain": [
          0,
          1
         ]
        }
       }
      },
      "text/html": [
       "<div>                            <div id=\"4963a6ab-a36e-4a71-b31a-d6911effae42\" class=\"plotly-graph-div\" style=\"height:700px; width:900px;\"></div>            <script type=\"text/javascript\">                require([\"plotly\"], function(Plotly) {                    window.PLOTLYENV=window.PLOTLYENV || {};                                    if (document.getElementById(\"4963a6ab-a36e-4a71-b31a-d6911effae42\")) {                    Plotly.newPlot(                        \"4963a6ab-a36e-4a71-b31a-d6911effae42\",                        [{\"coloraxis\":\"coloraxis\",\"name\":\"0\",\"texttemplate\":\"%{z}\",\"x\":[\"Screen_Size\",\"RAM\",\"GPU\",\"Weight\",\"Storage_Capacity\",\"CPU_freq\",\"CPU_cores\",\"CPU_model\",\"Screen_Resolution\",\"Screen_Model\",\"Manufacturer_Apple\",\"Manufacturer_Asus\",\"Manufacturer_Chuwi\",\"Manufacturer_Dell\",\"Manufacturer_Fujitsu\",\"Manufacturer_Google\",\"Manufacturer_HP\",\"Manufacturer_Huawei\",\"Manufacturer_LG\",\"Manufacturer_Lenovo\",\"Manufacturer_MSI\",\"Manufacturer_Mediacom\",\"Manufacturer_Microsoft\",\"Manufacturer_Razer\",\"Manufacturer_Samsung\",\"Manufacturer_Toshiba\",\"Manufacturer_Vero\",\"Manufacturer_Xiaomi\",\"Operating_System_Chrome OS\",\"Operating_System_Linux\",\"Operating_System_Mac OS\",\"Operating_System_No OS\",\"Operating_System_Windows\",\"Storage_Type_Flash Storage + HDD\",\"Storage_Type_HDD\",\"Storage_Type_Hybrid\",\"Storage_Type_SSD\",\"Storage_Type_SSD + HDD\",\"Storage_Type_SSD + Hybrid\",\"CPU_brand_Intel\",\"CPU_brand_Samsung\",\"GPU_brand_ARM\",\"GPU_brand_Intel\",\"GPU_brand_Nvidia\",\"Operating_System_Version_10 S\",\"Operating_System_Version_7\",\"Operating_System_Version_Android\",\"Operating_System_Version_Chrome OS\",\"Operating_System_Version_No OS\",\"Operating_System_Version_Ubuntu\",\"Operating_System_Version_X\",\"Price\"],\"y\":[\"Screen_Size\",\"RAM\",\"GPU\",\"Weight\",\"Storage_Capacity\",\"CPU_freq\",\"CPU_cores\",\"CPU_model\",\"Screen_Resolution\",\"Screen_Model\",\"Manufacturer_Apple\",\"Manufacturer_Asus\",\"Manufacturer_Chuwi\",\"Manufacturer_Dell\",\"Manufacturer_Fujitsu\",\"Manufacturer_Google\",\"Manufacturer_HP\",\"Manufacturer_Huawei\",\"Manufacturer_LG\",\"Manufacturer_Lenovo\",\"Manufacturer_MSI\",\"Manufacturer_Mediacom\",\"Manufacturer_Microsoft\",\"Manufacturer_Razer\",\"Manufacturer_Samsung\",\"Manufacturer_Toshiba\",\"Manufacturer_Vero\",\"Manufacturer_Xiaomi\",\"Operating_System_Chrome OS\",\"Operating_System_Linux\",\"Operating_System_Mac OS\",\"Operating_System_No OS\",\"Operating_System_Windows\",\"Storage_Type_Flash Storage + HDD\",\"Storage_Type_HDD\",\"Storage_Type_Hybrid\",\"Storage_Type_SSD\",\"Storage_Type_SSD + HDD\",\"Storage_Type_SSD + Hybrid\",\"CPU_brand_Intel\",\"CPU_brand_Samsung\",\"GPU_brand_ARM\",\"GPU_brand_Intel\",\"GPU_brand_Nvidia\",\"Operating_System_Version_10 S\",\"Operating_System_Version_7\",\"Operating_System_Version_Android\",\"Operating_System_Version_Chrome OS\",\"Operating_System_Version_No OS\",\"Operating_System_Version_Ubuntu\",\"Operating_System_Version_X\",\"Price\"],\"z\":[[null,null,null,null,null,null,null,null,null,null,null,null,null,null,null,null,null,null,null,null,null,null,null,null,null,null,null,null,null,null,null,null,null,null,null,null,null,null,null,null,null,null,null,null,null,null,null,null,null,null,null,null],[0.2323,null,null,null,null,null,null,null,null,null,null,null,null,null,null,null,null,null,null,null,null,null,null,null,null,null,null,null,null,null,null,null,null,null,null,null,null,null,null,null,null,null,null,null,null,null,null,null,null,null,null,null],[0.1829,0.3725,null,null,null,null,null,null,null,null,null,null,null,null,null,null,null,null,null,null,null,null,null,null,null,null,null,null,null,null,null,null,null,null,null,null,null,null,null,null,null,null,null,null,null,null,null,null,null,null,null,null],[0.8223,0.3902,0.3036,null,null,null,null,null,null,null,null,null,null,null,null,null,null,null,null,null,null,null,null,null,null,null,null,null,null,null,null,null,null,null,null,null,null,null,null,null,null,null,null,null,null,null,null,null,null,null,null,null],[0.527,0.3388,0.1329,0.5341,null,null,null,null,null,null,null,null,null,null,null,null,null,null,null,null,null,null,null,null,null,null,null,null,null,null,null,null,null,null,null,null,null,null,null,null,null,null,null,null,null,null,null,null,null,null,null,null],[0.2991,0.3741,0.294,0.3156,0.2175,null,null,null,null,null,null,null,null,null,null,null,null,null,null,null,null,null,null,null,null,null,null,null,null,null,null,null,null,null,null,null,null,null,null,null,null,null,null,null,null,null,null,null,null,null,null,null],[0.2915,0.3454,0.2822,0.3915,0.3014,0.0592,null,null,null,null,null,null,null,null,null,null,null,null,null,null,null,null,null,null,null,null,null,null,null,null,null,null,null,null,null,null,null,null,null,null,null,null,null,null,null,null,null,null,null,null,null,null],[0.1804,0.4502,0.3839,0.2173,0.2478,0.1982,0.4427,null,null,null,null,null,null,null,null,null,null,null,null,null,null,null,null,null,null,null,null,null,null,null,null,null,null,null,null,null,null,null,null,null,null,null,null,null,null,null,null,null,null,null,null,null],[0.0621,0.4231,0.2063,0.0137,0.0735,0.1385,0.1889,0.2479,null,null,null,null,null,null,null,null,null,null,null,null,null,null,null,null,null,null,null,null,null,null,null,null,null,null,null,null,null,null,null,null,null,null,null,null,null,null,null,null,null,null,null,null],[0.1176,0.3063,0.2113,0.1147,0.1045,0.2844,0.2672,0.3222,0.2899,null,null,null,null,null,null,null,null,null,null,null,null,null,null,null,null,null,null,null,null,null,null,null,null,null,null,null,null,null,null,null,null,null,null,null,null,null,null,null,null,null,null,null],[0.1396,0.0361,0.0502,0.1267,0.0801,0.0303,0.1139,0.068,0.1278,0.0972,null,null,null,null,null,null,null,null,null,null,null,null,null,null,null,null,null,null,null,null,null,null,null,null,null,null,null,null,null,null,null,null,null,null,null,null,null,null,null,null,null,null],[0.1015,0.0493,0.1116,0.0703,0.1058,0.003,0.0977,0.0767,0.0652,0.0306,0.0503,null,null,null,null,null,null,null,null,null,null,null,null,null,null,null,null,null,null,null,null,null,null,null,null,null,null,null,null,null,null,null,null,null,null,null,null,null,null,null,null,null],[0.0216,0.0429,0.0354,0.0261,0.0624,0.1015,0.0601,0.1049,0.0332,0.023,0.0074,0.021,null,null,null,null,null,null,null,null,null,null,null,null,null,null,null,null,null,null,null,null,null,null,null,null,null,null,null,null,null,null,null,null,null,null,null,null,null,null,null,null],[0.057,0.123,0.1095,0.1197,0.1153,0.0322,0.1345,0.1659,0.1141,0.0996,0.0743,0.2108,0.031,null,null,null,null,null,null,null,null,null,null,null,null,null,null,null,null,null,null,null,null,null,null,null,null,null,null,null,null,null,null,null,null,null,null,null,null,null,null,null],[0.0175,0.0048,0.0041,0.0109,0.0016,0.0187,0.0386,0.0128,0.037,0.077,0.006,0.0171,0.0025,0.0253,null,null,null,null,null,null,null,null,null,null,null,null,null,null,null,null,null,null,null,null,null,null,null,null,null,null,null,null,null,null,null,null,null,null,null,null,null,null],[0.1077,0.0238,0.0075,0.0783,0.0362,0.1114,0.0473,0.022,0.0645,0.0631,0.0074,0.021,0.0031,0.031,0.0025,null,null,null,null,null,null,null,null,null,null,null,null,null,null,null,null,null,null,null,null,null,null,null,null,null,null,null,null,null,null,null,null,null,null,null,null,null],[0.0274,0.1242,0.0923,0.0496,0.0648,0.0199,0.086,0.0582,0.0407,0.0128,0.063,0.1789,0.0263,0.2643,0.0215,0.0263,null,null,null,null,null,null,null,null,null,null,null,null,null,null,null,null,null,null,null,null,null,null,null,null,null,null,null,null,null,null,null,null,null,null,null,null],[0.0656,0.0048,0.0041,0.0673,0.0218,0.0273,0.0386,0.0083,0.0292,0.006,0.006,0.0171,0.0025,0.0253,0.0021,0.0025,0.0215,null,null,null,null,null,null,null,null,null,null,null,null,null,null,null,null,null,null,null,null,null,null,null,null,null,null,null,null,null,null,null,null,null,null,null],[0.0006,0.0238,0.005,0.0825,0.0124,0.0123,0.0115,0.0446,0.005,0.0021,0.0074,0.021,0.0031,0.031,0.0025,0.0031,0.0263,0.0025,null,null,null,null,null,null,null,null,null,null,null,null,null,null,null,null,null,null,null,null,null,null,null,null,null,null,null,null,null,null,null,null,null,null],[0.069,0.0706,0.0141,0.0522,0.0484,0.0573,0.1432,0.0733,0.0124,0.0489,0.073,0.2072,0.0304,0.3061,0.0248,0.0304,0.2598,0.0248,0.0304,null,null,null,null,null,null,null,null,null,null,null,null,null,null,null,null,null,null,null,null,null,null,null,null,null,null,null,null,null,null,null,null,null],[0.1918,0.1857,0.1999,0.1887,0.2515,0.1659,0.2058,0.1219,0.0321,0.1462,0.0253,0.0717,0.0105,0.106,0.0086,0.0105,0.0899,0.0086,0.0105,0.1042,null,null,null,null,null,null,null,null,null,null,null,null,null,null,null,null,null,null,null,null,null,null,null,null,null,null,null,null,null,null,null,null],[0.0956,0.0819,0.0525,0.0896,0.1011,0.1495,0.0686,0.158,0.0057,0.0266,0.0113,0.0321,0.0047,0.0474,0.0038,0.0047,0.0402,0.0038,0.0047,0.0466,0.0161,null,null,null,null,null,null,null,null,null,null,null,null,null,null,null,null,null,null,null,null,null,null,null,null,null,null,null,null,null,null,null],[0.0861,0.0083,0.0013,0.093,0.058,0.0324,0.067,0.0114,0.0664,0.0894,0.0105,0.0297,0.0044,0.0439,0.0036,0.0044,0.0372,0.0036,0.0044,0.0431,0.0149,0.0067,null,null,null,null,null,null,null,null,null,null,null,null,null,null,null,null,null,null,null,null,null,null,null,null,null,null,null,null,null,null],[0.0016,0.1992,0.0657,0.0425,0.0086,0.068,0.05,0.0615,0.1833,0.0559,0.0095,0.0271,0.004,0.04,0.0032,0.004,0.034,0.0032,0.004,0.0393,0.0136,0.0061,0.0056,null,null,null,null,null,null,null,null,null,null,null,null,null,null,null,null,null,null,null,null,null,null,null,null,null,null,null,null,null],[0.0666,0.0541,0.0164,0.0959,0.0521,0.0462,0.0554,0.0239,0.0164,0.044,0.0121,0.0343,0.005,0.0507,0.0041,0.005,0.043,0.0041,0.005,0.0498,0.0173,0.0077,0.0071,0.0065,null,null,null,null,null,null,null,null,null,null,null,null,null,null,null,null,null,null,null,null,null,null,null,null,null,null,null,null],[0.0817,0.0077,0.0252,0.1102,0.1206,0.0622,0.1737,0.0264,0.0677,0.0454,0.0271,0.077,0.0113,0.1138,0.0092,0.0113,0.0966,0.0092,0.0113,0.1119,0.0387,0.0173,0.016,0.0146,0.0185,null,null,null,null,null,null,null,null,null,null,null,null,null,null,null,null,null,null,null,null,null,null,null,null,null,null,null],[0.0336,0.0411,0.0247,0.053,0.0539,0.1025,0.0386,0.076,0.0041,0.0355,0.006,0.0171,0.0025,0.0253,0.0021,0.0025,0.0215,0.0021,0.0025,0.0248,0.0086,0.0038,0.0036,0.0032,0.0041,0.0092,null,null,null,null,null,null,null,null,null,null,null,null,null,null,null,null,null,null,null,null,null,null,null,null,null,null],[0.0272,0.0189,0.1048,0.0404,0.0473,0.0287,0.0074,0.0062,0.0058,0.0084,0.0085,0.0242,0.0036,0.0358,0.0029,0.0036,0.0304,0.0029,0.0036,0.0352,0.0122,0.0054,0.005,0.0046,0.0058,0.0131,0.0029,null,null,null,null,null,null,null,null,null,null,null,null,null,null,null,null,null,null,null,null,null,null,null,null,null],[0.2566,0.1044,0.0801,0.1474,0.1699,0.2432,0.1026,0.2125,0.0679,0.1453,0.0202,0.0156,0.0084,0.0685,0.0069,0.3657,0.0184,0.0069,0.0084,0.0342,0.0288,0.0129,0.0119,0.0109,0.0628,0.0309,0.0069,0.0097,null,null,null,null,null,null,null,null,null,null,null,null,null,null,null,null,null,null,null,null,null,null,null,null],[0.0998,0.0923,0.1225,0.068,0.0662,0.0256,0.0378,0.0089,0.0789,0.0174,0.0302,0.0574,0.0126,0.1736,0.0103,0.0126,0.1077,0.0103,0.0126,0.1247,0.0432,0.0193,0.0179,0.0163,0.0207,0.0463,0.0103,0.0146,0.0345,null,null,null,null,null,null,null,null,null,null,null,null,null,null,null,null,null,null,null,null,null,null,null],[0.1396,0.0361,0.0502,0.1267,0.0801,0.0303,0.1139,0.068,0.1278,0.0972,1.0,0.0503,0.0074,0.0743,0.006,0.0074,0.063,0.006,0.0074,0.073,0.0253,0.0113,0.0105,0.0095,0.0121,0.0271,0.006,0.0085,0.0202,0.0302,null,null,null,null,null,null,null,null,null,null,null,null,null,null,null,null,null,null,null,null,null,null],[0.1012,0.1017,0.0513,0.0437,0.0638,0.0407,0.0784,0.0787,0.0851,0.0684,0.0316,0.0482,0.0132,0.1323,0.0107,0.0132,0.0062,0.0107,0.0132,0.27,0.045,0.0201,0.0186,0.017,0.0215,0.0483,0.0107,0.199,0.036,0.0539,0.0316,null,null,null,null,null,null,null,null,null,null,null,null,null,null,null,null,null,null,null,null,null],[0.0446,0.1555,0.0972,0.0456,0.0234,0.1609,0.0713,0.177,0.084,0.1541,0.3254,0.0219,0.0227,0.036,0.0185,0.1357,0.1031,0.0185,0.0227,0.0597,0.0777,0.0347,0.0321,0.0293,0.0047,0.0834,0.0185,0.111,0.3711,0.5558,0.3254,0.5797,null,null,null,null,null,null,null,null,null,null,null,null,null,null,null,null,null,null,null,null],[0.0124,0.0034,0.0761,0.0092,0.03,0.0438,0.0347,0.0729,0.0029,0.0268,0.0043,0.0121,0.0018,0.0574,0.0014,0.0018,0.0152,0.0014,0.0018,0.0176,0.0061,0.0027,0.0025,0.0023,0.0029,0.0065,0.0014,0.0021,0.0049,0.0073,0.0043,0.0076,0.0131,null,null,null,null,null,null,null,null,null,null,null,null,null,null,null,null,null,null,null],[0.271,0.3085,0.1447,0.1613,0.3667,0.0905,0.1579,0.1775,0.2668,0.2876,0.0816,0.0093,0.034,0.014,0.023,0.034,0.0955,0.0278,0.034,0.0096,0.1164,0.0249,0.0482,0.044,0.0557,0.0312,0.0278,0.0393,0.0931,0.1794,0.0816,0.1718,0.1491,0.0196,null,null,null,null,null,null,null,null,null,null,null,null,null,null,null,null,null,null],[0.0081,0.0229,0.0125,0.0082,0.0131,0.023,0.0052,0.007,0.0205,0.0196,0.006,0.0171,0.0025,0.0279,0.0021,0.0025,0.0215,0.0021,0.0025,0.0289,0.0086,0.0038,0.0036,0.0032,0.0041,0.0092,0.0021,0.0029,0.0069,0.0103,0.006,0.0107,0.0185,0.0014,0.0278,null,null,null,null,null,null,null,null,null,null,null,null,null,null,null,null,null],[0.382,0.0762,0.0134,0.4202,0.6631,0.0768,0.139,0.096,0.218,0.1972,0.036,0.139,0.0568,0.018,0.0011,0.0542,0.0391,0.0442,0.0542,0.0842,0.1497,0.0101,0.0768,0.0701,0.0433,0.1155,0.0464,0.0626,0.0864,0.0906,0.036,0.0786,0.1324,0.0328,0.6278,0.0464,null,null,null,null,null,null,null,null,null,null,null,null,null,null,null,null],[0.4086,0.3965,0.2335,0.5268,0.6266,0.2392,0.4125,0.2814,0.1004,0.2207,0.0573,0.161,0.0239,0.0772,0.0195,0.0239,0.124,0.0195,0.0239,0.0894,0.3792,0.0366,0.0339,0.0309,0.0079,0.0879,0.0195,0.0276,0.0654,0.0589,0.0573,0.0645,0.128,0.0138,0.2642,0.0195,0.4412,null,null,null,null,null,null,null,null,null,null,null,null,null,null,null],[null,null,null,null,null,null,null,null,null,null,null,null,null,null,null,null,null,null,null,null,null,null,null,null,null,null,null,null,null,null,null,null,null,null,null,null,null,null,null,null,null,null,null,null,null,null,null,null,null,null,null,null],[0.1385,0.1056,0.3862,0.0756,0.0543,0.1391,0.0813,0.3174,0.0978,0.1182,0.0302,0.0717,0.0126,0.1268,0.0103,0.0126,0.1005,0.0103,0.0126,0.0213,0.0432,0.0193,0.0179,0.0163,0.0207,0.0463,0.0103,0.0146,0.0345,0.0517,0.0302,0.0117,0.0659,0.0073,0.105,0.0103,0.0717,0.0067,null,null,null,null,null,null,null,null,null,null,null,null,null,null],[null,null,null,null,null,null,null,null,null,null,null,null,null,null,null,null,null,null,null,null,null,null,null,null,null,null,null,null,null,null,null,null,null,null,null,null,null,null,null,null,null,null,null,null,null,null,null,null,null,null,null,null],[null,null,null,null,null,null,null,null,null,null,null,null,null,null,null,null,null,null,null,null,null,null,null,null,null,null,null,null,null,null,null,null,null,null,null,null,null,null,null,null,null,null,null,null,null,null,null,null,null,null,null,null],[0.6006,0.3145,0.1979,0.5998,0.4404,0.35,0.4095,0.2252,0.0763,0.279,0.0764,0.0966,0.0515,0.1238,0.042,0.0515,0.0468,0.042,0.0515,0.0952,0.2046,0.0788,0.0729,0.0485,0.016,0.1368,0.042,0.0691,0.1408,0.0835,0.0764,0.0269,0.0221,0.0345,0.016,0.0034,0.2395,0.4418,null,0.245,null,null,null,null,null,null,null,null,null,null,null,null],[0.4815,0.4105,0.7596,0.5609,0.3659,0.3683,0.394,0.3515,0.1514,0.2885,0.0907,0.1483,0.0378,0.029,0.0309,0.0378,0.0898,0.0309,0.0378,0.0454,0.2785,0.0579,0.0536,0.0744,0.0131,0.0828,0.0309,0.094,0.1035,0.0329,0.0907,0.0637,0.0591,0.047,0.0726,0.0178,0.1876,0.4445,null,0.155,null,null,0.7347,null,null,null,null,null,null,null,null,null],[0.1107,0.0278,0.0273,0.1016,0.0759,0.0146,0.0554,0.0048,0.039,0.1161,0.0121,0.0344,0.005,0.0507,0.0041,0.005,0.043,0.0041,0.005,0.0498,0.0173,0.0077,0.8651,0.0065,0.0083,0.0185,0.0041,0.0058,0.0138,0.0207,0.0121,0.0215,0.0372,0.0029,0.0557,0.0041,0.066,0.0392,null,0.0319,null,null,0.0615,0.0619,null,null,null,null,null,null,null,null],[0.0109,0.0218,0.0648,0.002,0.0492,0.0361,0.0276,0.0092,0.0209,0.0292,0.0135,0.0384,0.0056,0.0567,0.0046,0.0056,0.057,0.0046,0.0056,0.0648,0.0193,0.0086,0.008,0.0073,0.0092,0.0312,0.0046,0.0065,0.0154,0.0231,0.0135,0.0241,0.0416,0.0033,0.0395,0.2204,0.0586,0.0438,null,0.0231,null,null,0.0128,0.0181,0.0092,null,null,null,null,null,null,null],[0.1118,0.029,0.0204,0.0649,0.036,0.0516,0.0347,0.063,0.0023,0.0183,0.0043,0.0121,0.0018,0.0179,0.0014,0.0018,0.0152,0.0014,0.0018,0.0583,0.0061,0.0027,0.0025,0.0023,0.0029,0.0065,0.0014,0.0021,0.0049,0.0073,0.0043,0.0076,0.0783,0.001,0.0196,0.0014,0.0328,0.0138,null,0.0073,null,null,0.0297,0.0218,0.0029,0.0033,null,null,null,null,null,null],[0.2566,0.1044,0.0801,0.1474,0.1699,0.2432,0.1026,0.2125,0.0679,0.1453,0.0202,0.0156,0.0084,0.0685,0.0069,0.3657,0.0184,0.0069,0.0084,0.0342,0.0288,0.0129,0.0119,0.0109,0.0628,0.0309,0.0069,0.0097,1.0,0.0345,0.0202,0.036,0.3711,0.0049,0.0931,0.0069,0.0864,0.0654,null,0.0345,null,null,0.1408,0.1035,0.0138,0.0154,0.0049,null,null,null,null,null],[0.1012,0.1017,0.0513,0.0437,0.0638,0.0407,0.0784,0.0787,0.0851,0.0684,0.0316,0.0482,0.0132,0.1323,0.0107,0.0132,0.0062,0.0107,0.0132,0.27,0.045,0.0201,0.0186,0.017,0.0215,0.0483,0.0107,0.199,0.036,0.0539,0.0316,1.0,0.5797,0.0076,0.1718,0.0107,0.0786,0.0645,null,0.0117,null,null,0.0269,0.0637,0.0215,0.0241,0.0076,0.036,null,null,null,null],[0.0998,0.0923,0.1225,0.068,0.0662,0.0256,0.0378,0.0089,0.0789,0.0174,0.0302,0.0574,0.0126,0.1736,0.0103,0.0126,0.1077,0.0103,0.0126,0.1247,0.0432,0.0193,0.0179,0.0163,0.0207,0.0463,0.0103,0.0146,0.0345,1.0,0.0302,0.0539,0.5558,0.0073,0.1794,0.0103,0.0906,0.0589,null,0.0517,null,null,0.0835,0.0329,0.0207,0.0231,0.0073,0.0345,0.0539,null,null,null],[0.1396,0.0361,0.0502,0.1267,0.0801,0.0303,0.1139,0.068,0.1278,0.0972,1.0,0.0503,0.0074,0.0743,0.006,0.0074,0.063,0.006,0.0074,0.073,0.0253,0.0113,0.0105,0.0095,0.0121,0.0271,0.006,0.0085,0.0202,0.0302,1.0,0.0316,0.3254,0.0043,0.0816,0.006,0.036,0.0573,null,0.0302,null,null,0.0764,0.0907,0.0121,0.0135,0.0043,0.0202,0.0316,0.0302,null,null],[0.0752,0.764,0.4342,0.2244,0.1588,0.4376,0.2935,0.4924,0.5447,0.3395,0.0993,0.0295,0.0636,0.0928,0.0229,0.0431,0.0699,0.019,0.0761,0.0338,0.1776,0.0997,0.0538,0.2684,0.0488,0.0291,0.0572,0.0006,0.1147,0.157,0.0993,0.177,0.2251,0.0391,0.4086,0.0113,0.2457,0.294,null,0.1721,null,null,0.1848,0.3455,0.0205,0.1001,0.0365,0.1147,0.177,0.157,0.0993,null]],\"type\":\"heatmap\",\"xaxis\":\"x\",\"yaxis\":\"y\",\"hovertemplate\":\"x: %{x}<br>y: %{y}<br>color: %{z}<extra></extra>\"}],                        {\"template\":{\"data\":{\"histogram2dcontour\":[{\"type\":\"histogram2dcontour\",\"colorbar\":{\"outlinewidth\":0,\"ticks\":\"\"},\"colorscale\":[[0.0,\"#0d0887\"],[0.1111111111111111,\"#46039f\"],[0.2222222222222222,\"#7201a8\"],[0.3333333333333333,\"#9c179e\"],[0.4444444444444444,\"#bd3786\"],[0.5555555555555556,\"#d8576b\"],[0.6666666666666666,\"#ed7953\"],[0.7777777777777778,\"#fb9f3a\"],[0.8888888888888888,\"#fdca26\"],[1.0,\"#f0f921\"]]}],\"choropleth\":[{\"type\":\"choropleth\",\"colorbar\":{\"outlinewidth\":0,\"ticks\":\"\"}}],\"histogram2d\":[{\"type\":\"histogram2d\",\"colorbar\":{\"outlinewidth\":0,\"ticks\":\"\"},\"colorscale\":[[0.0,\"#0d0887\"],[0.1111111111111111,\"#46039f\"],[0.2222222222222222,\"#7201a8\"],[0.3333333333333333,\"#9c179e\"],[0.4444444444444444,\"#bd3786\"],[0.5555555555555556,\"#d8576b\"],[0.6666666666666666,\"#ed7953\"],[0.7777777777777778,\"#fb9f3a\"],[0.8888888888888888,\"#fdca26\"],[1.0,\"#f0f921\"]]}],\"heatmap\":[{\"type\":\"heatmap\",\"colorbar\":{\"outlinewidth\":0,\"ticks\":\"\"},\"colorscale\":[[0.0,\"#0d0887\"],[0.1111111111111111,\"#46039f\"],[0.2222222222222222,\"#7201a8\"],[0.3333333333333333,\"#9c179e\"],[0.4444444444444444,\"#bd3786\"],[0.5555555555555556,\"#d8576b\"],[0.6666666666666666,\"#ed7953\"],[0.7777777777777778,\"#fb9f3a\"],[0.8888888888888888,\"#fdca26\"],[1.0,\"#f0f921\"]]}],\"heatmapgl\":[{\"type\":\"heatmapgl\",\"colorbar\":{\"outlinewidth\":0,\"ticks\":\"\"},\"colorscale\":[[0.0,\"#0d0887\"],[0.1111111111111111,\"#46039f\"],[0.2222222222222222,\"#7201a8\"],[0.3333333333333333,\"#9c179e\"],[0.4444444444444444,\"#bd3786\"],[0.5555555555555556,\"#d8576b\"],[0.6666666666666666,\"#ed7953\"],[0.7777777777777778,\"#fb9f3a\"],[0.8888888888888888,\"#fdca26\"],[1.0,\"#f0f921\"]]}],\"contourcarpet\":[{\"type\":\"contourcarpet\",\"colorbar\":{\"outlinewidth\":0,\"ticks\":\"\"}}],\"contour\":[{\"type\":\"contour\",\"colorbar\":{\"outlinewidth\":0,\"ticks\":\"\"},\"colorscale\":[[0.0,\"#0d0887\"],[0.1111111111111111,\"#46039f\"],[0.2222222222222222,\"#7201a8\"],[0.3333333333333333,\"#9c179e\"],[0.4444444444444444,\"#bd3786\"],[0.5555555555555556,\"#d8576b\"],[0.6666666666666666,\"#ed7953\"],[0.7777777777777778,\"#fb9f3a\"],[0.8888888888888888,\"#fdca26\"],[1.0,\"#f0f921\"]]}],\"surface\":[{\"type\":\"surface\",\"colorbar\":{\"outlinewidth\":0,\"ticks\":\"\"},\"colorscale\":[[0.0,\"#0d0887\"],[0.1111111111111111,\"#46039f\"],[0.2222222222222222,\"#7201a8\"],[0.3333333333333333,\"#9c179e\"],[0.4444444444444444,\"#bd3786\"],[0.5555555555555556,\"#d8576b\"],[0.6666666666666666,\"#ed7953\"],[0.7777777777777778,\"#fb9f3a\"],[0.8888888888888888,\"#fdca26\"],[1.0,\"#f0f921\"]]}],\"mesh3d\":[{\"type\":\"mesh3d\",\"colorbar\":{\"outlinewidth\":0,\"ticks\":\"\"}}],\"scatter\":[{\"fillpattern\":{\"fillmode\":\"overlay\",\"size\":10,\"solidity\":0.2},\"type\":\"scatter\"}],\"parcoords\":[{\"type\":\"parcoords\",\"line\":{\"colorbar\":{\"outlinewidth\":0,\"ticks\":\"\"}}}],\"scatterpolargl\":[{\"type\":\"scatterpolargl\",\"marker\":{\"colorbar\":{\"outlinewidth\":0,\"ticks\":\"\"}}}],\"bar\":[{\"error_x\":{\"color\":\"#2a3f5f\"},\"error_y\":{\"color\":\"#2a3f5f\"},\"marker\":{\"line\":{\"color\":\"#E5ECF6\",\"width\":0.5},\"pattern\":{\"fillmode\":\"overlay\",\"size\":10,\"solidity\":0.2}},\"type\":\"bar\"}],\"scattergeo\":[{\"type\":\"scattergeo\",\"marker\":{\"colorbar\":{\"outlinewidth\":0,\"ticks\":\"\"}}}],\"scatterpolar\":[{\"type\":\"scatterpolar\",\"marker\":{\"colorbar\":{\"outlinewidth\":0,\"ticks\":\"\"}}}],\"histogram\":[{\"marker\":{\"pattern\":{\"fillmode\":\"overlay\",\"size\":10,\"solidity\":0.2}},\"type\":\"histogram\"}],\"scattergl\":[{\"type\":\"scattergl\",\"marker\":{\"colorbar\":{\"outlinewidth\":0,\"ticks\":\"\"}}}],\"scatter3d\":[{\"type\":\"scatter3d\",\"line\":{\"colorbar\":{\"outlinewidth\":0,\"ticks\":\"\"}},\"marker\":{\"colorbar\":{\"outlinewidth\":0,\"ticks\":\"\"}}}],\"scattermapbox\":[{\"type\":\"scattermapbox\",\"marker\":{\"colorbar\":{\"outlinewidth\":0,\"ticks\":\"\"}}}],\"scatterternary\":[{\"type\":\"scatterternary\",\"marker\":{\"colorbar\":{\"outlinewidth\":0,\"ticks\":\"\"}}}],\"scattercarpet\":[{\"type\":\"scattercarpet\",\"marker\":{\"colorbar\":{\"outlinewidth\":0,\"ticks\":\"\"}}}],\"carpet\":[{\"aaxis\":{\"endlinecolor\":\"#2a3f5f\",\"gridcolor\":\"white\",\"linecolor\":\"white\",\"minorgridcolor\":\"white\",\"startlinecolor\":\"#2a3f5f\"},\"baxis\":{\"endlinecolor\":\"#2a3f5f\",\"gridcolor\":\"white\",\"linecolor\":\"white\",\"minorgridcolor\":\"white\",\"startlinecolor\":\"#2a3f5f\"},\"type\":\"carpet\"}],\"table\":[{\"cells\":{\"fill\":{\"color\":\"#EBF0F8\"},\"line\":{\"color\":\"white\"}},\"header\":{\"fill\":{\"color\":\"#C8D4E3\"},\"line\":{\"color\":\"white\"}},\"type\":\"table\"}],\"barpolar\":[{\"marker\":{\"line\":{\"color\":\"#E5ECF6\",\"width\":0.5},\"pattern\":{\"fillmode\":\"overlay\",\"size\":10,\"solidity\":0.2}},\"type\":\"barpolar\"}],\"pie\":[{\"automargin\":true,\"type\":\"pie\"}]},\"layout\":{\"autotypenumbers\":\"strict\",\"colorway\":[\"#636efa\",\"#EF553B\",\"#00cc96\",\"#ab63fa\",\"#FFA15A\",\"#19d3f3\",\"#FF6692\",\"#B6E880\",\"#FF97FF\",\"#FECB52\"],\"font\":{\"color\":\"#2a3f5f\"},\"hovermode\":\"closest\",\"hoverlabel\":{\"align\":\"left\"},\"paper_bgcolor\":\"white\",\"plot_bgcolor\":\"#E5ECF6\",\"polar\":{\"bgcolor\":\"#E5ECF6\",\"angularaxis\":{\"gridcolor\":\"white\",\"linecolor\":\"white\",\"ticks\":\"\"},\"radialaxis\":{\"gridcolor\":\"white\",\"linecolor\":\"white\",\"ticks\":\"\"}},\"ternary\":{\"bgcolor\":\"#E5ECF6\",\"aaxis\":{\"gridcolor\":\"white\",\"linecolor\":\"white\",\"ticks\":\"\"},\"baxis\":{\"gridcolor\":\"white\",\"linecolor\":\"white\",\"ticks\":\"\"},\"caxis\":{\"gridcolor\":\"white\",\"linecolor\":\"white\",\"ticks\":\"\"}},\"coloraxis\":{\"colorbar\":{\"outlinewidth\":0,\"ticks\":\"\"}},\"colorscale\":{\"sequential\":[[0.0,\"#0d0887\"],[0.1111111111111111,\"#46039f\"],[0.2222222222222222,\"#7201a8\"],[0.3333333333333333,\"#9c179e\"],[0.4444444444444444,\"#bd3786\"],[0.5555555555555556,\"#d8576b\"],[0.6666666666666666,\"#ed7953\"],[0.7777777777777778,\"#fb9f3a\"],[0.8888888888888888,\"#fdca26\"],[1.0,\"#f0f921\"]],\"sequentialminus\":[[0.0,\"#0d0887\"],[0.1111111111111111,\"#46039f\"],[0.2222222222222222,\"#7201a8\"],[0.3333333333333333,\"#9c179e\"],[0.4444444444444444,\"#bd3786\"],[0.5555555555555556,\"#d8576b\"],[0.6666666666666666,\"#ed7953\"],[0.7777777777777778,\"#fb9f3a\"],[0.8888888888888888,\"#fdca26\"],[1.0,\"#f0f921\"]],\"diverging\":[[0,\"#8e0152\"],[0.1,\"#c51b7d\"],[0.2,\"#de77ae\"],[0.3,\"#f1b6da\"],[0.4,\"#fde0ef\"],[0.5,\"#f7f7f7\"],[0.6,\"#e6f5d0\"],[0.7,\"#b8e186\"],[0.8,\"#7fbc41\"],[0.9,\"#4d9221\"],[1,\"#276419\"]]},\"xaxis\":{\"gridcolor\":\"white\",\"linecolor\":\"white\",\"ticks\":\"\",\"title\":{\"standoff\":15},\"zerolinecolor\":\"white\",\"automargin\":true,\"zerolinewidth\":2},\"yaxis\":{\"gridcolor\":\"white\",\"linecolor\":\"white\",\"ticks\":\"\",\"title\":{\"standoff\":15},\"zerolinecolor\":\"white\",\"automargin\":true,\"zerolinewidth\":2},\"scene\":{\"xaxis\":{\"backgroundcolor\":\"#E5ECF6\",\"gridcolor\":\"white\",\"linecolor\":\"white\",\"showbackground\":true,\"ticks\":\"\",\"zerolinecolor\":\"white\",\"gridwidth\":2},\"yaxis\":{\"backgroundcolor\":\"#E5ECF6\",\"gridcolor\":\"white\",\"linecolor\":\"white\",\"showbackground\":true,\"ticks\":\"\",\"zerolinecolor\":\"white\",\"gridwidth\":2},\"zaxis\":{\"backgroundcolor\":\"#E5ECF6\",\"gridcolor\":\"white\",\"linecolor\":\"white\",\"showbackground\":true,\"ticks\":\"\",\"zerolinecolor\":\"white\",\"gridwidth\":2}},\"shapedefaults\":{\"line\":{\"color\":\"#2a3f5f\"}},\"annotationdefaults\":{\"arrowcolor\":\"#2a3f5f\",\"arrowhead\":0,\"arrowwidth\":1},\"geo\":{\"bgcolor\":\"white\",\"landcolor\":\"#E5ECF6\",\"subunitcolor\":\"white\",\"showland\":true,\"showlakes\":true,\"lakecolor\":\"white\"},\"title\":{\"x\":0.05},\"mapbox\":{\"style\":\"light\"}}},\"xaxis\":{\"anchor\":\"y\",\"domain\":[0.0,1.0],\"scaleanchor\":\"y\",\"constrain\":\"domain\"},\"yaxis\":{\"anchor\":\"x\",\"domain\":[0.0,1.0],\"autorange\":\"reversed\",\"constrain\":\"domain\"},\"coloraxis\":{\"colorscale\":[[0.0,\"rgb(255,245,240)\"],[0.125,\"rgb(254,224,210)\"],[0.25,\"rgb(252,187,161)\"],[0.375,\"rgb(252,146,114)\"],[0.5,\"rgb(251,106,74)\"],[0.625,\"rgb(239,59,44)\"],[0.75,\"rgb(203,24,29)\"],[0.875,\"rgb(165,15,21)\"],[1.0,\"rgb(103,0,13)\"]]},\"margin\":{\"t\":60},\"width\":900,\"height\":700},                        {\"responsive\": true}                    ).then(function(){\n",
       "                            \n",
       "var gd = document.getElementById('4963a6ab-a36e-4a71-b31a-d6911effae42');\n",
       "var x = new MutationObserver(function (mutations, observer) {{\n",
       "        var display = window.getComputedStyle(gd).display;\n",
       "        if (!display || display === 'none') {{\n",
       "            console.log([gd, 'removed!']);\n",
       "            Plotly.purge(gd);\n",
       "            observer.disconnect();\n",
       "        }}\n",
       "}});\n",
       "\n",
       "// Listen for the removal of the full notebook cells\n",
       "var notebookContainer = gd.closest('#notebook-container');\n",
       "if (notebookContainer) {{\n",
       "    x.observe(notebookContainer, {childList: true});\n",
       "}}\n",
       "\n",
       "// Listen for the clearing of the current output cell\n",
       "var outputEl = gd.closest('.output');\n",
       "if (outputEl) {{\n",
       "    x.observe(outputEl, {childList: true});\n",
       "}}\n",
       "\n",
       "                        })                };                });            </script>        </div>"
      ]
     },
     "metadata": {},
     "output_type": "display_data"
    }
   ],
   "source": [
    "corr_plot(X_train_no_cluster,y_train)"
   ]
  },
  {
   "cell_type": "code",
   "execution_count": 63,
   "id": "c157495f",
   "metadata": {
    "scrolled": true
   },
   "outputs": [],
   "source": [
    "def train(X,y):  \n",
    "    n_estimators=[int(x) for x in np.linspace(200, 800, 10)]  # nº de arboles del bosque\n",
    "\n",
    "    max_features=['auto']   # calculo maximo carac sqrt\n",
    "\n",
    "    min_samples_split=[2, 3, 4, 5]\n",
    "    bootstrap=[True, False]  # con o sin reemplazamiento\n",
    "\n",
    "    params={'n_estimators': n_estimators,\n",
    "            'max_features': max_features,\n",
    "            'min_samples_split':min_samples_split,\n",
    "            'bootstrap': bootstrap}\n",
    "\n",
    "    rfr = RFR()\n",
    "\n",
    "    rf_random = RandomizedSearchCV(estimator=rfr,\n",
    "                                param_distributions=params,\n",
    "                                n_iter=80,\n",
    "                                cv=5,\n",
    "                                n_jobs=-1,\n",
    "                               verbose=0,\n",
    "                              scoring='neg_root_mean_squared_error')\n",
    "\n",
    "    return rf_random.fit(X,y)"
   ]
  },
  {
   "cell_type": "code",
   "execution_count": 11,
   "id": "ee07b0dc",
   "metadata": {},
   "outputs": [
    {
     "name": "stderr",
     "output_type": "stream",
     "text": [
      "C:\\Users\\augus\\anaconda3\\lib\\site-packages\\sklearn\\model_selection\\_search.py:292: UserWarning:\n",
      "\n",
      "The total space of parameters 30 is smaller than n_iter=200. Running 30 iterations. For exhaustive searches, use GridSearchCV.\n",
      "\n"
     ]
    },
    {
     "name": "stdout",
     "output_type": "stream",
     "text": [
      "Fitting 4 folds for each of 30 candidates, totalling 120 fits\n"
     ]
    },
    {
     "name": "stderr",
     "output_type": "stream",
     "text": [
      "C:\\Users\\augus\\anaconda3\\lib\\site-packages\\sklearn\\model_selection\\_search.py:926: DataConversionWarning:\n",
      "\n",
      "A column-vector y was passed when a 1d array was expected. Please change the shape of y to (n_samples,), for example using ravel().\n",
      "\n"
     ]
    }
   ],
   "source": [
    "rf = train(X_train_no_cluster,y_train)"
   ]
  },
  {
   "cell_type": "code",
   "execution_count": 13,
   "id": "80072da3",
   "metadata": {},
   "outputs": [
    {
     "data": {
      "text/plain": [
       "RandomForestRegressor(n_estimators=600)"
      ]
     },
     "execution_count": 13,
     "metadata": {},
     "output_type": "execute_result"
    }
   ],
   "source": [
    "rf.best_estimator_"
   ]
  },
  {
   "cell_type": "code",
   "execution_count": 14,
   "id": "ac68d758",
   "metadata": {},
   "outputs": [],
   "source": [
    "y_hat = rf.best_estimator_.predict(X_train_no_cluster)"
   ]
  },
  {
   "cell_type": "code",
   "execution_count": 19,
   "id": "ee4bf927",
   "metadata": {},
   "outputs": [
    {
     "data": {
      "text/plain": [
       "0.9789582070399523"
      ]
     },
     "execution_count": 19,
     "metadata": {},
     "output_type": "execute_result"
    }
   ],
   "source": [
    "r2(y_hat,y_train)"
   ]
  },
  {
   "cell_type": "code",
   "execution_count": 15,
   "id": "5daf612a",
   "metadata": {},
   "outputs": [
    {
     "data": {
      "text/plain": [
       "0.9794798797503215"
      ]
     },
     "execution_count": 15,
     "metadata": {},
     "output_type": "execute_result"
    }
   ],
   "source": [
    "r2(y_hat,y_train)"
   ]
  },
  {
   "cell_type": "code",
   "execution_count": 22,
   "id": "b95aea62",
   "metadata": {},
   "outputs": [
    {
     "data": {
      "text/plain": [
       "869609.2461044459"
      ]
     },
     "execution_count": 22,
     "metadata": {},
     "output_type": "execute_result"
    }
   ],
   "source": [
    "mse(y_hat,y_train,squared=False)"
   ]
  },
  {
   "cell_type": "code",
   "execution_count": 16,
   "id": "98412197",
   "metadata": {},
   "outputs": [
    {
     "data": {
      "text/plain": [
       "860610.8843972833"
      ]
     },
     "execution_count": 16,
     "metadata": {},
     "output_type": "execute_result"
    }
   ],
   "source": [
    "mse(y_hat,y_train,squared=False)"
   ]
  },
  {
   "cell_type": "code",
   "execution_count": 18,
   "id": "6fd44ca6",
   "metadata": {},
   "outputs": [],
   "source": [
    "y_hat_test = rf.best_estimator_.predict(X_test_no_cluster)"
   ]
  },
  {
   "cell_type": "code",
   "execution_count": 19,
   "id": "a472e20e",
   "metadata": {},
   "outputs": [],
   "source": [
    "muestra = pd.read_csv('../data/muestra.csv')"
   ]
  },
  {
   "cell_type": "code",
   "execution_count": 20,
   "id": "7f205304",
   "metadata": {},
   "outputs": [
    {
     "data": {
      "text/html": [
       "<div>\n",
       "<style scoped>\n",
       "    .dataframe tbody tr th:only-of-type {\n",
       "        vertical-align: middle;\n",
       "    }\n",
       "\n",
       "    .dataframe tbody tr th {\n",
       "        vertical-align: top;\n",
       "    }\n",
       "\n",
       "    .dataframe thead th {\n",
       "        text-align: right;\n",
       "    }\n",
       "</style>\n",
       "<table border=\"1\" class=\"dataframe\">\n",
       "  <thead>\n",
       "    <tr style=\"text-align: right;\">\n",
       "      <th></th>\n",
       "      <th>id</th>\n",
       "      <th>Price</th>\n",
       "    </tr>\n",
       "  </thead>\n",
       "  <tbody>\n",
       "    <tr>\n",
       "      <th>0</th>\n",
       "      <td>0</td>\n",
       "      <td>2759145</td>\n",
       "    </tr>\n",
       "    <tr>\n",
       "      <th>1</th>\n",
       "      <td>1</td>\n",
       "      <td>10926785</td>\n",
       "    </tr>\n",
       "    <tr>\n",
       "      <th>2</th>\n",
       "      <td>2</td>\n",
       "      <td>20212944</td>\n",
       "    </tr>\n",
       "    <tr>\n",
       "      <th>3</th>\n",
       "      <td>3</td>\n",
       "      <td>46541311</td>\n",
       "    </tr>\n",
       "    <tr>\n",
       "      <th>4</th>\n",
       "      <td>4</td>\n",
       "      <td>46335226</td>\n",
       "    </tr>\n",
       "  </tbody>\n",
       "</table>\n",
       "</div>"
      ],
      "text/plain": [
       "   id     Price\n",
       "0   0   2759145\n",
       "1   1  10926785\n",
       "2   2  20212944\n",
       "3   3  46541311\n",
       "4   4  46335226"
      ]
     },
     "execution_count": 20,
     "metadata": {},
     "output_type": "execute_result"
    }
   ],
   "source": [
    "muestra.head()"
   ]
  },
  {
   "cell_type": "code",
   "execution_count": 21,
   "id": "49d8dc71",
   "metadata": {},
   "outputs": [],
   "source": [
    "muestra['Price'] = y_hat_test"
   ]
  },
  {
   "cell_type": "code",
   "execution_count": 22,
   "id": "9788eabf",
   "metadata": {},
   "outputs": [
    {
     "data": {
      "text/html": [
       "<div>\n",
       "<style scoped>\n",
       "    .dataframe tbody tr th:only-of-type {\n",
       "        vertical-align: middle;\n",
       "    }\n",
       "\n",
       "    .dataframe tbody tr th {\n",
       "        vertical-align: top;\n",
       "    }\n",
       "\n",
       "    .dataframe thead th {\n",
       "        text-align: right;\n",
       "    }\n",
       "</style>\n",
       "<table border=\"1\" class=\"dataframe\">\n",
       "  <thead>\n",
       "    <tr style=\"text-align: right;\">\n",
       "      <th></th>\n",
       "      <th>id</th>\n",
       "      <th>Price</th>\n",
       "    </tr>\n",
       "  </thead>\n",
       "  <tbody>\n",
       "    <tr>\n",
       "      <th>0</th>\n",
       "      <td>0</td>\n",
       "      <td>7.315534e+06</td>\n",
       "    </tr>\n",
       "    <tr>\n",
       "      <th>1</th>\n",
       "      <td>1</td>\n",
       "      <td>1.379758e+07</td>\n",
       "    </tr>\n",
       "    <tr>\n",
       "      <th>2</th>\n",
       "      <td>2</td>\n",
       "      <td>1.046738e+07</td>\n",
       "    </tr>\n",
       "    <tr>\n",
       "      <th>3</th>\n",
       "      <td>3</td>\n",
       "      <td>1.153126e+07</td>\n",
       "    </tr>\n",
       "    <tr>\n",
       "      <th>4</th>\n",
       "      <td>4</td>\n",
       "      <td>4.637131e+06</td>\n",
       "    </tr>\n",
       "  </tbody>\n",
       "</table>\n",
       "</div>"
      ],
      "text/plain": [
       "   id         Price\n",
       "0   0  7.315534e+06\n",
       "1   1  1.379758e+07\n",
       "2   2  1.046738e+07\n",
       "3   3  1.153126e+07\n",
       "4   4  4.637131e+06"
      ]
     },
     "execution_count": 22,
     "metadata": {},
     "output_type": "execute_result"
    }
   ],
   "source": [
    "muestra.head()"
   ]
  },
  {
   "cell_type": "code",
   "execution_count": 23,
   "id": "e00c0701",
   "metadata": {},
   "outputs": [],
   "source": [
    "muestra.to_csv('../data/muestra_2.csv',index=False)"
   ]
  },
  {
   "cell_type": "code",
   "execution_count": null,
   "id": "ce0b73ea",
   "metadata": {},
   "outputs": [],
   "source": []
  },
  {
   "cell_type": "markdown",
   "id": "b547bc70",
   "metadata": {},
   "source": [
    "Combinaciones:\n",
    "- Con y sin outliers\n",
    "- sin cluster con clusters (4 y 5)\n",
    "- Quitando columna version y no version"
   ]
  },
  {
   "cell_type": "code",
   "execution_count": 6,
   "id": "e759e440",
   "metadata": {},
   "outputs": [],
   "source": [
    "outliers = pd.read_csv('../data/transform/outliers_index.csv')"
   ]
  },
  {
   "cell_type": "code",
   "execution_count": 64,
   "id": "69d7fa66",
   "metadata": {
    "scrolled": false
   },
   "outputs": [
    {
     "name": "stdout",
     "output_type": "stream",
     "text": [
      "0 0 0\n",
      "modelo ok\n",
      "y_hat ok\n",
      "r2 ok\n",
      "mse ok\n",
      "0 0 1\n",
      "modelo ok\n",
      "y_hat ok\n",
      "r2 ok\n",
      "mse ok\n",
      "0 4 0\n",
      "modelo ok\n",
      "y_hat ok\n",
      "r2 ok\n",
      "mse ok\n",
      "0 4 1\n",
      "modelo ok\n",
      "y_hat ok\n",
      "r2 ok\n",
      "mse ok\n",
      "0 5 0\n",
      "modelo ok\n",
      "y_hat ok\n",
      "r2 ok\n",
      "mse ok\n",
      "0 5 1\n",
      "modelo ok\n",
      "y_hat ok\n",
      "r2 ok\n",
      "mse ok\n",
      "1 0 0\n",
      "modelo ok\n",
      "y_hat ok\n",
      "r2 ok\n",
      "mse ok\n",
      "1 0 1\n",
      "modelo ok\n",
      "y_hat ok\n",
      "r2 ok\n",
      "mse ok\n",
      "1 4 0\n",
      "modelo ok\n",
      "y_hat ok\n",
      "r2 ok\n",
      "mse ok\n",
      "1 4 1\n",
      "modelo ok\n",
      "y_hat ok\n",
      "r2 ok\n",
      "mse ok\n",
      "1 5 0\n",
      "modelo ok\n",
      "y_hat ok\n",
      "r2 ok\n",
      "mse ok\n",
      "1 5 1\n",
      "modelo ok\n",
      "y_hat ok\n",
      "r2 ok\n",
      "mse ok\n",
      "CPU times: total: 42.4 s\n",
      "Wall time: 55min 8s\n"
     ]
    }
   ],
   "source": [
    "%%time\n",
    "\n",
    "modelos = []\n",
    "for out in range(2):\n",
    "    for cluster in [0,4,5]:\n",
    "        for version in range(2):\n",
    "            if not out:\n",
    "                index = outliers.iloc[:,0]\n",
    "            else:\n",
    "                index = []\n",
    "            if cluster == 0:\n",
    "                X = X_train_no_cluster.drop(index=index)\n",
    "                X_t = X_test_no_cluster\n",
    "            elif cluster == 4:\n",
    "                X = X_train_4c.drop(index=index)\n",
    "                X_t = X_test_4c\n",
    "            else:\n",
    "                X = X_train_5c.drop(index=index)\n",
    "                X_t = X_test_5c\n",
    "            if not version:\n",
    "                X = X.drop(columns=['Operating_System_Version_10 S',\n",
    "                                    'Operating_System_Version_7',\n",
    "                                    'Operating_System_Version_Android',\n",
    "                                    'Operating_System_Version_Chrome OS',\n",
    "                                    'Operating_System_Version_No OS',\n",
    "                                    'Operating_System_Version_Ubuntu',\n",
    "                                    'Operating_System_Version_X'                                   \n",
    "                                   ])\n",
    "                X_t = X_t.drop(columns=['Operating_System_Version_10 S',\n",
    "                                        'Operating_System_Version_7',\n",
    "                                        'Operating_System_Version_Android',\n",
    "                                        'Operating_System_Version_Chrome OS',\n",
    "                                        'Operating_System_Version_No OS',\n",
    "                                        'Operating_System_Version_Ubuntu',\n",
    "                                        'Operating_System_Version_X'                                   \n",
    "                                       ])\n",
    "            print(out,cluster,version)\n",
    "            modelo = train(X,y_train.drop(index=index))\n",
    "            print('modelo ok')\n",
    "            y_hat = modelo.best_estimator_.predict(X)\n",
    "            print('y_hat ok')\n",
    "            score = r2(y_hat,y_train.drop(index=index))\n",
    "            print('r2 ok')\n",
    "            mse_value = mse(y_hat,y_train.drop(index=index),squared=False)\n",
    "            print('mse ok')\n",
    "            \n",
    "            modelos.append({'outliers':out,\n",
    "                            'cluster':cluster,\n",
    "                            'version':version,\n",
    "                            'modelo': modelo,\n",
    "                            'X':X,\n",
    "                            'y':y_train.drop(index=index),\n",
    "                            'X_test':X_t,\n",
    "                            'R2':score,\n",
    "                            'mse':mse_value,\n",
    "                            'y_hat':y_hat\n",
    "                           })"
   ]
  },
  {
   "cell_type": "code",
   "execution_count": 66,
   "id": "289469c3",
   "metadata": {},
   "outputs": [
    {
     "data": {
      "text/plain": [
       "dict_keys(['outliers', 'cluster', 'version', 'modelo', 'X', 'y', 'X_test', 'R2', 'mse', 'y_hat'])"
      ]
     },
     "execution_count": 66,
     "metadata": {},
     "output_type": "execute_result"
    }
   ],
   "source": [
    "modelos[0].keys()"
   ]
  },
  {
   "cell_type": "code",
   "execution_count": 80,
   "id": "ee3195bf",
   "metadata": {},
   "outputs": [],
   "source": [
    "df_models = pd.DataFrame(columns=['Outliers','Cluster','version','R2','mse'])\n",
    "for index,m in enumerate(modelos):\n",
    "    df_models.loc[index]=[m['outliers'],m['cluster'],m['version'],m['R2'],m['mse']]\n",
    "    muestra = pd.read_csv('../data/muestra.csv')\n",
    "    y_hat_test = m['modelo'].best_estimator_.predict(m['X_test'])\n",
    "    muestra['Price'] = y_hat_test\n",
    "    muestra.to_csv(f'../data/muestra{m[\"outliers\"]}_{m[\"cluster\"]}_{m[\"version\"]}.csv',index=False)\n",
    "    \n",
    "    "
   ]
  },
  {
   "cell_type": "code",
   "execution_count": 81,
   "id": "3301c2d7",
   "metadata": {},
   "outputs": [
    {
     "data": {
      "text/html": [
       "<div>\n",
       "<style scoped>\n",
       "    .dataframe tbody tr th:only-of-type {\n",
       "        vertical-align: middle;\n",
       "    }\n",
       "\n",
       "    .dataframe tbody tr th {\n",
       "        vertical-align: top;\n",
       "    }\n",
       "\n",
       "    .dataframe thead th {\n",
       "        text-align: right;\n",
       "    }\n",
       "</style>\n",
       "<table border=\"1\" class=\"dataframe\">\n",
       "  <thead>\n",
       "    <tr style=\"text-align: right;\">\n",
       "      <th></th>\n",
       "      <th>Outliers</th>\n",
       "      <th>Cluster</th>\n",
       "      <th>version</th>\n",
       "      <th>R2</th>\n",
       "      <th>mse</th>\n",
       "    </tr>\n",
       "  </thead>\n",
       "  <tbody>\n",
       "    <tr>\n",
       "      <th>0</th>\n",
       "      <td>0.0</td>\n",
       "      <td>0.0</td>\n",
       "      <td>0.0</td>\n",
       "      <td>0.976735</td>\n",
       "      <td>755969.018577</td>\n",
       "    </tr>\n",
       "    <tr>\n",
       "      <th>1</th>\n",
       "      <td>0.0</td>\n",
       "      <td>0.0</td>\n",
       "      <td>1.0</td>\n",
       "      <td>0.977759</td>\n",
       "      <td>739773.487695</td>\n",
       "    </tr>\n",
       "    <tr>\n",
       "      <th>2</th>\n",
       "      <td>0.0</td>\n",
       "      <td>4.0</td>\n",
       "      <td>0.0</td>\n",
       "      <td>0.977526</td>\n",
       "      <td>742915.688039</td>\n",
       "    </tr>\n",
       "    <tr>\n",
       "      <th>3</th>\n",
       "      <td>0.0</td>\n",
       "      <td>4.0</td>\n",
       "      <td>1.0</td>\n",
       "      <td>0.977768</td>\n",
       "      <td>739730.901528</td>\n",
       "    </tr>\n",
       "    <tr>\n",
       "      <th>4</th>\n",
       "      <td>0.0</td>\n",
       "      <td>5.0</td>\n",
       "      <td>0.0</td>\n",
       "      <td>0.968001</td>\n",
       "      <td>880399.169371</td>\n",
       "    </tr>\n",
       "    <tr>\n",
       "      <th>5</th>\n",
       "      <td>0.0</td>\n",
       "      <td>5.0</td>\n",
       "      <td>1.0</td>\n",
       "      <td>0.973802</td>\n",
       "      <td>799216.851028</td>\n",
       "    </tr>\n",
       "    <tr>\n",
       "      <th>6</th>\n",
       "      <td>1.0</td>\n",
       "      <td>0.0</td>\n",
       "      <td>0.0</td>\n",
       "      <td>0.979321</td>\n",
       "      <td>864220.493039</td>\n",
       "    </tr>\n",
       "    <tr>\n",
       "      <th>7</th>\n",
       "      <td>1.0</td>\n",
       "      <td>0.0</td>\n",
       "      <td>1.0</td>\n",
       "      <td>0.979753</td>\n",
       "      <td>855306.198935</td>\n",
       "    </tr>\n",
       "    <tr>\n",
       "      <th>8</th>\n",
       "      <td>1.0</td>\n",
       "      <td>4.0</td>\n",
       "      <td>0.0</td>\n",
       "      <td>0.979413</td>\n",
       "      <td>862522.681484</td>\n",
       "    </tr>\n",
       "    <tr>\n",
       "      <th>9</th>\n",
       "      <td>1.0</td>\n",
       "      <td>4.0</td>\n",
       "      <td>1.0</td>\n",
       "      <td>0.980012</td>\n",
       "      <td>851279.362074</td>\n",
       "    </tr>\n",
       "    <tr>\n",
       "      <th>10</th>\n",
       "      <td>1.0</td>\n",
       "      <td>5.0</td>\n",
       "      <td>0.0</td>\n",
       "      <td>0.979493</td>\n",
       "      <td>860302.941518</td>\n",
       "    </tr>\n",
       "    <tr>\n",
       "      <th>11</th>\n",
       "      <td>1.0</td>\n",
       "      <td>5.0</td>\n",
       "      <td>1.0</td>\n",
       "      <td>0.980013</td>\n",
       "      <td>852285.106940</td>\n",
       "    </tr>\n",
       "  </tbody>\n",
       "</table>\n",
       "</div>"
      ],
      "text/plain": [
       "    Outliers  Cluster  version        R2            mse\n",
       "0        0.0      0.0      0.0  0.976735  755969.018577\n",
       "1        0.0      0.0      1.0  0.977759  739773.487695\n",
       "2        0.0      4.0      0.0  0.977526  742915.688039\n",
       "3        0.0      4.0      1.0  0.977768  739730.901528\n",
       "4        0.0      5.0      0.0  0.968001  880399.169371\n",
       "5        0.0      5.0      1.0  0.973802  799216.851028\n",
       "6        1.0      0.0      0.0  0.979321  864220.493039\n",
       "7        1.0      0.0      1.0  0.979753  855306.198935\n",
       "8        1.0      4.0      0.0  0.979413  862522.681484\n",
       "9        1.0      4.0      1.0  0.980012  851279.362074\n",
       "10       1.0      5.0      0.0  0.979493  860302.941518\n",
       "11       1.0      5.0      1.0  0.980013  852285.106940"
      ]
     },
     "execution_count": 81,
     "metadata": {},
     "output_type": "execute_result"
    }
   ],
   "source": [
    "df_models"
   ]
  },
  {
   "cell_type": "code",
   "execution_count": 82,
   "id": "c87a1057",
   "metadata": {},
   "outputs": [
    {
     "data": {
      "application/vnd.plotly.v1+json": {
       "config": {
        "plotlyServerURL": "https://plot.ly"
       },
       "data": [
        {
         "hovertemplate": "version=0.0<br>Cluster=%{x}<br>R2=%{y}<br>Outliers=%{marker.color}<extra></extra>",
         "legendgroup": "0.0",
         "marker": {
          "color": [
           0,
           0,
           0,
           1,
           1,
           1
          ],
          "coloraxis": "coloraxis",
          "symbol": "circle"
         },
         "mode": "markers",
         "name": "0.0",
         "orientation": "v",
         "showlegend": true,
         "type": "scatter",
         "x": [
          0,
          4,
          5,
          0,
          4,
          5
         ],
         "xaxis": "x",
         "y": [
          0.9767351113495557,
          0.9775260959747251,
          0.968000542652692,
          0.9793207791269288,
          0.9794130107958359,
          0.9794931743464715
         ],
         "yaxis": "y"
        },
        {
         "hovertemplate": "version=1.0<br>Cluster=%{x}<br>R2=%{y}<br>Outliers=%{marker.color}<extra></extra>",
         "legendgroup": "1.0",
         "marker": {
          "color": [
           0,
           0,
           0,
           1,
           1,
           1
          ],
          "coloraxis": "coloraxis",
          "symbol": "diamond"
         },
         "mode": "markers",
         "name": "1.0",
         "orientation": "v",
         "showlegend": true,
         "type": "scatter",
         "x": [
          0,
          4,
          5,
          0,
          4,
          5
         ],
         "xaxis": "x",
         "y": [
          0.9777589433104005,
          0.977767697738997,
          0.9738015152044,
          0.9797530644166632,
          0.9800120804270172,
          0.9800134198137982
         ],
         "yaxis": "y"
        }
       ],
       "layout": {
        "coloraxis": {
         "colorbar": {
          "title": {
           "text": "Outliers"
          }
         },
         "colorscale": [
          [
           0,
           "#0d0887"
          ],
          [
           0.1111111111111111,
           "#46039f"
          ],
          [
           0.2222222222222222,
           "#7201a8"
          ],
          [
           0.3333333333333333,
           "#9c179e"
          ],
          [
           0.4444444444444444,
           "#bd3786"
          ],
          [
           0.5555555555555556,
           "#d8576b"
          ],
          [
           0.6666666666666666,
           "#ed7953"
          ],
          [
           0.7777777777777778,
           "#fb9f3a"
          ],
          [
           0.8888888888888888,
           "#fdca26"
          ],
          [
           1,
           "#f0f921"
          ]
         ]
        },
        "legend": {
         "title": {
          "text": "version"
         },
         "tracegroupgap": 0
        },
        "margin": {
         "t": 60
        },
        "template": {
         "data": {
          "bar": [
           {
            "error_x": {
             "color": "#2a3f5f"
            },
            "error_y": {
             "color": "#2a3f5f"
            },
            "marker": {
             "line": {
              "color": "#E5ECF6",
              "width": 0.5
             },
             "pattern": {
              "fillmode": "overlay",
              "size": 10,
              "solidity": 0.2
             }
            },
            "type": "bar"
           }
          ],
          "barpolar": [
           {
            "marker": {
             "line": {
              "color": "#E5ECF6",
              "width": 0.5
             },
             "pattern": {
              "fillmode": "overlay",
              "size": 10,
              "solidity": 0.2
             }
            },
            "type": "barpolar"
           }
          ],
          "carpet": [
           {
            "aaxis": {
             "endlinecolor": "#2a3f5f",
             "gridcolor": "white",
             "linecolor": "white",
             "minorgridcolor": "white",
             "startlinecolor": "#2a3f5f"
            },
            "baxis": {
             "endlinecolor": "#2a3f5f",
             "gridcolor": "white",
             "linecolor": "white",
             "minorgridcolor": "white",
             "startlinecolor": "#2a3f5f"
            },
            "type": "carpet"
           }
          ],
          "choropleth": [
           {
            "colorbar": {
             "outlinewidth": 0,
             "ticks": ""
            },
            "type": "choropleth"
           }
          ],
          "contour": [
           {
            "colorbar": {
             "outlinewidth": 0,
             "ticks": ""
            },
            "colorscale": [
             [
              0,
              "#0d0887"
             ],
             [
              0.1111111111111111,
              "#46039f"
             ],
             [
              0.2222222222222222,
              "#7201a8"
             ],
             [
              0.3333333333333333,
              "#9c179e"
             ],
             [
              0.4444444444444444,
              "#bd3786"
             ],
             [
              0.5555555555555556,
              "#d8576b"
             ],
             [
              0.6666666666666666,
              "#ed7953"
             ],
             [
              0.7777777777777778,
              "#fb9f3a"
             ],
             [
              0.8888888888888888,
              "#fdca26"
             ],
             [
              1,
              "#f0f921"
             ]
            ],
            "type": "contour"
           }
          ],
          "contourcarpet": [
           {
            "colorbar": {
             "outlinewidth": 0,
             "ticks": ""
            },
            "type": "contourcarpet"
           }
          ],
          "heatmap": [
           {
            "colorbar": {
             "outlinewidth": 0,
             "ticks": ""
            },
            "colorscale": [
             [
              0,
              "#0d0887"
             ],
             [
              0.1111111111111111,
              "#46039f"
             ],
             [
              0.2222222222222222,
              "#7201a8"
             ],
             [
              0.3333333333333333,
              "#9c179e"
             ],
             [
              0.4444444444444444,
              "#bd3786"
             ],
             [
              0.5555555555555556,
              "#d8576b"
             ],
             [
              0.6666666666666666,
              "#ed7953"
             ],
             [
              0.7777777777777778,
              "#fb9f3a"
             ],
             [
              0.8888888888888888,
              "#fdca26"
             ],
             [
              1,
              "#f0f921"
             ]
            ],
            "type": "heatmap"
           }
          ],
          "heatmapgl": [
           {
            "colorbar": {
             "outlinewidth": 0,
             "ticks": ""
            },
            "colorscale": [
             [
              0,
              "#0d0887"
             ],
             [
              0.1111111111111111,
              "#46039f"
             ],
             [
              0.2222222222222222,
              "#7201a8"
             ],
             [
              0.3333333333333333,
              "#9c179e"
             ],
             [
              0.4444444444444444,
              "#bd3786"
             ],
             [
              0.5555555555555556,
              "#d8576b"
             ],
             [
              0.6666666666666666,
              "#ed7953"
             ],
             [
              0.7777777777777778,
              "#fb9f3a"
             ],
             [
              0.8888888888888888,
              "#fdca26"
             ],
             [
              1,
              "#f0f921"
             ]
            ],
            "type": "heatmapgl"
           }
          ],
          "histogram": [
           {
            "marker": {
             "pattern": {
              "fillmode": "overlay",
              "size": 10,
              "solidity": 0.2
             }
            },
            "type": "histogram"
           }
          ],
          "histogram2d": [
           {
            "colorbar": {
             "outlinewidth": 0,
             "ticks": ""
            },
            "colorscale": [
             [
              0,
              "#0d0887"
             ],
             [
              0.1111111111111111,
              "#46039f"
             ],
             [
              0.2222222222222222,
              "#7201a8"
             ],
             [
              0.3333333333333333,
              "#9c179e"
             ],
             [
              0.4444444444444444,
              "#bd3786"
             ],
             [
              0.5555555555555556,
              "#d8576b"
             ],
             [
              0.6666666666666666,
              "#ed7953"
             ],
             [
              0.7777777777777778,
              "#fb9f3a"
             ],
             [
              0.8888888888888888,
              "#fdca26"
             ],
             [
              1,
              "#f0f921"
             ]
            ],
            "type": "histogram2d"
           }
          ],
          "histogram2dcontour": [
           {
            "colorbar": {
             "outlinewidth": 0,
             "ticks": ""
            },
            "colorscale": [
             [
              0,
              "#0d0887"
             ],
             [
              0.1111111111111111,
              "#46039f"
             ],
             [
              0.2222222222222222,
              "#7201a8"
             ],
             [
              0.3333333333333333,
              "#9c179e"
             ],
             [
              0.4444444444444444,
              "#bd3786"
             ],
             [
              0.5555555555555556,
              "#d8576b"
             ],
             [
              0.6666666666666666,
              "#ed7953"
             ],
             [
              0.7777777777777778,
              "#fb9f3a"
             ],
             [
              0.8888888888888888,
              "#fdca26"
             ],
             [
              1,
              "#f0f921"
             ]
            ],
            "type": "histogram2dcontour"
           }
          ],
          "mesh3d": [
           {
            "colorbar": {
             "outlinewidth": 0,
             "ticks": ""
            },
            "type": "mesh3d"
           }
          ],
          "parcoords": [
           {
            "line": {
             "colorbar": {
              "outlinewidth": 0,
              "ticks": ""
             }
            },
            "type": "parcoords"
           }
          ],
          "pie": [
           {
            "automargin": true,
            "type": "pie"
           }
          ],
          "scatter": [
           {
            "fillpattern": {
             "fillmode": "overlay",
             "size": 10,
             "solidity": 0.2
            },
            "type": "scatter"
           }
          ],
          "scatter3d": [
           {
            "line": {
             "colorbar": {
              "outlinewidth": 0,
              "ticks": ""
             }
            },
            "marker": {
             "colorbar": {
              "outlinewidth": 0,
              "ticks": ""
             }
            },
            "type": "scatter3d"
           }
          ],
          "scattercarpet": [
           {
            "marker": {
             "colorbar": {
              "outlinewidth": 0,
              "ticks": ""
             }
            },
            "type": "scattercarpet"
           }
          ],
          "scattergeo": [
           {
            "marker": {
             "colorbar": {
              "outlinewidth": 0,
              "ticks": ""
             }
            },
            "type": "scattergeo"
           }
          ],
          "scattergl": [
           {
            "marker": {
             "colorbar": {
              "outlinewidth": 0,
              "ticks": ""
             }
            },
            "type": "scattergl"
           }
          ],
          "scattermapbox": [
           {
            "marker": {
             "colorbar": {
              "outlinewidth": 0,
              "ticks": ""
             }
            },
            "type": "scattermapbox"
           }
          ],
          "scatterpolar": [
           {
            "marker": {
             "colorbar": {
              "outlinewidth": 0,
              "ticks": ""
             }
            },
            "type": "scatterpolar"
           }
          ],
          "scatterpolargl": [
           {
            "marker": {
             "colorbar": {
              "outlinewidth": 0,
              "ticks": ""
             }
            },
            "type": "scatterpolargl"
           }
          ],
          "scatterternary": [
           {
            "marker": {
             "colorbar": {
              "outlinewidth": 0,
              "ticks": ""
             }
            },
            "type": "scatterternary"
           }
          ],
          "surface": [
           {
            "colorbar": {
             "outlinewidth": 0,
             "ticks": ""
            },
            "colorscale": [
             [
              0,
              "#0d0887"
             ],
             [
              0.1111111111111111,
              "#46039f"
             ],
             [
              0.2222222222222222,
              "#7201a8"
             ],
             [
              0.3333333333333333,
              "#9c179e"
             ],
             [
              0.4444444444444444,
              "#bd3786"
             ],
             [
              0.5555555555555556,
              "#d8576b"
             ],
             [
              0.6666666666666666,
              "#ed7953"
             ],
             [
              0.7777777777777778,
              "#fb9f3a"
             ],
             [
              0.8888888888888888,
              "#fdca26"
             ],
             [
              1,
              "#f0f921"
             ]
            ],
            "type": "surface"
           }
          ],
          "table": [
           {
            "cells": {
             "fill": {
              "color": "#EBF0F8"
             },
             "line": {
              "color": "white"
             }
            },
            "header": {
             "fill": {
              "color": "#C8D4E3"
             },
             "line": {
              "color": "white"
             }
            },
            "type": "table"
           }
          ]
         },
         "layout": {
          "annotationdefaults": {
           "arrowcolor": "#2a3f5f",
           "arrowhead": 0,
           "arrowwidth": 1
          },
          "autotypenumbers": "strict",
          "coloraxis": {
           "colorbar": {
            "outlinewidth": 0,
            "ticks": ""
           }
          },
          "colorscale": {
           "diverging": [
            [
             0,
             "#8e0152"
            ],
            [
             0.1,
             "#c51b7d"
            ],
            [
             0.2,
             "#de77ae"
            ],
            [
             0.3,
             "#f1b6da"
            ],
            [
             0.4,
             "#fde0ef"
            ],
            [
             0.5,
             "#f7f7f7"
            ],
            [
             0.6,
             "#e6f5d0"
            ],
            [
             0.7,
             "#b8e186"
            ],
            [
             0.8,
             "#7fbc41"
            ],
            [
             0.9,
             "#4d9221"
            ],
            [
             1,
             "#276419"
            ]
           ],
           "sequential": [
            [
             0,
             "#0d0887"
            ],
            [
             0.1111111111111111,
             "#46039f"
            ],
            [
             0.2222222222222222,
             "#7201a8"
            ],
            [
             0.3333333333333333,
             "#9c179e"
            ],
            [
             0.4444444444444444,
             "#bd3786"
            ],
            [
             0.5555555555555556,
             "#d8576b"
            ],
            [
             0.6666666666666666,
             "#ed7953"
            ],
            [
             0.7777777777777778,
             "#fb9f3a"
            ],
            [
             0.8888888888888888,
             "#fdca26"
            ],
            [
             1,
             "#f0f921"
            ]
           ],
           "sequentialminus": [
            [
             0,
             "#0d0887"
            ],
            [
             0.1111111111111111,
             "#46039f"
            ],
            [
             0.2222222222222222,
             "#7201a8"
            ],
            [
             0.3333333333333333,
             "#9c179e"
            ],
            [
             0.4444444444444444,
             "#bd3786"
            ],
            [
             0.5555555555555556,
             "#d8576b"
            ],
            [
             0.6666666666666666,
             "#ed7953"
            ],
            [
             0.7777777777777778,
             "#fb9f3a"
            ],
            [
             0.8888888888888888,
             "#fdca26"
            ],
            [
             1,
             "#f0f921"
            ]
           ]
          },
          "colorway": [
           "#636efa",
           "#EF553B",
           "#00cc96",
           "#ab63fa",
           "#FFA15A",
           "#19d3f3",
           "#FF6692",
           "#B6E880",
           "#FF97FF",
           "#FECB52"
          ],
          "font": {
           "color": "#2a3f5f"
          },
          "geo": {
           "bgcolor": "white",
           "lakecolor": "white",
           "landcolor": "#E5ECF6",
           "showlakes": true,
           "showland": true,
           "subunitcolor": "white"
          },
          "hoverlabel": {
           "align": "left"
          },
          "hovermode": "closest",
          "mapbox": {
           "style": "light"
          },
          "paper_bgcolor": "white",
          "plot_bgcolor": "#E5ECF6",
          "polar": {
           "angularaxis": {
            "gridcolor": "white",
            "linecolor": "white",
            "ticks": ""
           },
           "bgcolor": "#E5ECF6",
           "radialaxis": {
            "gridcolor": "white",
            "linecolor": "white",
            "ticks": ""
           }
          },
          "scene": {
           "xaxis": {
            "backgroundcolor": "#E5ECF6",
            "gridcolor": "white",
            "gridwidth": 2,
            "linecolor": "white",
            "showbackground": true,
            "ticks": "",
            "zerolinecolor": "white"
           },
           "yaxis": {
            "backgroundcolor": "#E5ECF6",
            "gridcolor": "white",
            "gridwidth": 2,
            "linecolor": "white",
            "showbackground": true,
            "ticks": "",
            "zerolinecolor": "white"
           },
           "zaxis": {
            "backgroundcolor": "#E5ECF6",
            "gridcolor": "white",
            "gridwidth": 2,
            "linecolor": "white",
            "showbackground": true,
            "ticks": "",
            "zerolinecolor": "white"
           }
          },
          "shapedefaults": {
           "line": {
            "color": "#2a3f5f"
           }
          },
          "ternary": {
           "aaxis": {
            "gridcolor": "white",
            "linecolor": "white",
            "ticks": ""
           },
           "baxis": {
            "gridcolor": "white",
            "linecolor": "white",
            "ticks": ""
           },
           "bgcolor": "#E5ECF6",
           "caxis": {
            "gridcolor": "white",
            "linecolor": "white",
            "ticks": ""
           }
          },
          "title": {
           "x": 0.05
          },
          "xaxis": {
           "automargin": true,
           "gridcolor": "white",
           "linecolor": "white",
           "ticks": "",
           "title": {
            "standoff": 15
           },
           "zerolinecolor": "white",
           "zerolinewidth": 2
          },
          "yaxis": {
           "automargin": true,
           "gridcolor": "white",
           "linecolor": "white",
           "ticks": "",
           "title": {
            "standoff": 15
           },
           "zerolinecolor": "white",
           "zerolinewidth": 2
          }
         }
        },
        "xaxis": {
         "anchor": "y",
         "domain": [
          0,
          1
         ],
         "title": {
          "text": "Cluster"
         }
        },
        "yaxis": {
         "anchor": "x",
         "domain": [
          0,
          1
         ],
         "title": {
          "text": "R2"
         }
        }
       }
      },
      "text/html": [
       "<div>                            <div id=\"3e0086a8-cc49-4976-9e2d-33457a1afd5a\" class=\"plotly-graph-div\" style=\"height:525px; width:100%;\"></div>            <script type=\"text/javascript\">                require([\"plotly\"], function(Plotly) {                    window.PLOTLYENV=window.PLOTLYENV || {};                                    if (document.getElementById(\"3e0086a8-cc49-4976-9e2d-33457a1afd5a\")) {                    Plotly.newPlot(                        \"3e0086a8-cc49-4976-9e2d-33457a1afd5a\",                        [{\"hovertemplate\":\"version=0.0<br>Cluster=%{x}<br>R2=%{y}<br>Outliers=%{marker.color}<extra></extra>\",\"legendgroup\":\"0.0\",\"marker\":{\"color\":[0.0,0.0,0.0,1.0,1.0,1.0],\"coloraxis\":\"coloraxis\",\"symbol\":\"circle\"},\"mode\":\"markers\",\"name\":\"0.0\",\"orientation\":\"v\",\"showlegend\":true,\"x\":[0.0,4.0,5.0,0.0,4.0,5.0],\"xaxis\":\"x\",\"y\":[0.9767351113495557,0.9775260959747251,0.968000542652692,0.9793207791269288,0.9794130107958359,0.9794931743464715],\"yaxis\":\"y\",\"type\":\"scatter\"},{\"hovertemplate\":\"version=1.0<br>Cluster=%{x}<br>R2=%{y}<br>Outliers=%{marker.color}<extra></extra>\",\"legendgroup\":\"1.0\",\"marker\":{\"color\":[0.0,0.0,0.0,1.0,1.0,1.0],\"coloraxis\":\"coloraxis\",\"symbol\":\"diamond\"},\"mode\":\"markers\",\"name\":\"1.0\",\"orientation\":\"v\",\"showlegend\":true,\"x\":[0.0,4.0,5.0,0.0,4.0,5.0],\"xaxis\":\"x\",\"y\":[0.9777589433104005,0.977767697738997,0.9738015152044,0.9797530644166632,0.9800120804270172,0.9800134198137982],\"yaxis\":\"y\",\"type\":\"scatter\"}],                        {\"template\":{\"data\":{\"histogram2dcontour\":[{\"type\":\"histogram2dcontour\",\"colorbar\":{\"outlinewidth\":0,\"ticks\":\"\"},\"colorscale\":[[0.0,\"#0d0887\"],[0.1111111111111111,\"#46039f\"],[0.2222222222222222,\"#7201a8\"],[0.3333333333333333,\"#9c179e\"],[0.4444444444444444,\"#bd3786\"],[0.5555555555555556,\"#d8576b\"],[0.6666666666666666,\"#ed7953\"],[0.7777777777777778,\"#fb9f3a\"],[0.8888888888888888,\"#fdca26\"],[1.0,\"#f0f921\"]]}],\"choropleth\":[{\"type\":\"choropleth\",\"colorbar\":{\"outlinewidth\":0,\"ticks\":\"\"}}],\"histogram2d\":[{\"type\":\"histogram2d\",\"colorbar\":{\"outlinewidth\":0,\"ticks\":\"\"},\"colorscale\":[[0.0,\"#0d0887\"],[0.1111111111111111,\"#46039f\"],[0.2222222222222222,\"#7201a8\"],[0.3333333333333333,\"#9c179e\"],[0.4444444444444444,\"#bd3786\"],[0.5555555555555556,\"#d8576b\"],[0.6666666666666666,\"#ed7953\"],[0.7777777777777778,\"#fb9f3a\"],[0.8888888888888888,\"#fdca26\"],[1.0,\"#f0f921\"]]}],\"heatmap\":[{\"type\":\"heatmap\",\"colorbar\":{\"outlinewidth\":0,\"ticks\":\"\"},\"colorscale\":[[0.0,\"#0d0887\"],[0.1111111111111111,\"#46039f\"],[0.2222222222222222,\"#7201a8\"],[0.3333333333333333,\"#9c179e\"],[0.4444444444444444,\"#bd3786\"],[0.5555555555555556,\"#d8576b\"],[0.6666666666666666,\"#ed7953\"],[0.7777777777777778,\"#fb9f3a\"],[0.8888888888888888,\"#fdca26\"],[1.0,\"#f0f921\"]]}],\"heatmapgl\":[{\"type\":\"heatmapgl\",\"colorbar\":{\"outlinewidth\":0,\"ticks\":\"\"},\"colorscale\":[[0.0,\"#0d0887\"],[0.1111111111111111,\"#46039f\"],[0.2222222222222222,\"#7201a8\"],[0.3333333333333333,\"#9c179e\"],[0.4444444444444444,\"#bd3786\"],[0.5555555555555556,\"#d8576b\"],[0.6666666666666666,\"#ed7953\"],[0.7777777777777778,\"#fb9f3a\"],[0.8888888888888888,\"#fdca26\"],[1.0,\"#f0f921\"]]}],\"contourcarpet\":[{\"type\":\"contourcarpet\",\"colorbar\":{\"outlinewidth\":0,\"ticks\":\"\"}}],\"contour\":[{\"type\":\"contour\",\"colorbar\":{\"outlinewidth\":0,\"ticks\":\"\"},\"colorscale\":[[0.0,\"#0d0887\"],[0.1111111111111111,\"#46039f\"],[0.2222222222222222,\"#7201a8\"],[0.3333333333333333,\"#9c179e\"],[0.4444444444444444,\"#bd3786\"],[0.5555555555555556,\"#d8576b\"],[0.6666666666666666,\"#ed7953\"],[0.7777777777777778,\"#fb9f3a\"],[0.8888888888888888,\"#fdca26\"],[1.0,\"#f0f921\"]]}],\"surface\":[{\"type\":\"surface\",\"colorbar\":{\"outlinewidth\":0,\"ticks\":\"\"},\"colorscale\":[[0.0,\"#0d0887\"],[0.1111111111111111,\"#46039f\"],[0.2222222222222222,\"#7201a8\"],[0.3333333333333333,\"#9c179e\"],[0.4444444444444444,\"#bd3786\"],[0.5555555555555556,\"#d8576b\"],[0.6666666666666666,\"#ed7953\"],[0.7777777777777778,\"#fb9f3a\"],[0.8888888888888888,\"#fdca26\"],[1.0,\"#f0f921\"]]}],\"mesh3d\":[{\"type\":\"mesh3d\",\"colorbar\":{\"outlinewidth\":0,\"ticks\":\"\"}}],\"scatter\":[{\"fillpattern\":{\"fillmode\":\"overlay\",\"size\":10,\"solidity\":0.2},\"type\":\"scatter\"}],\"parcoords\":[{\"type\":\"parcoords\",\"line\":{\"colorbar\":{\"outlinewidth\":0,\"ticks\":\"\"}}}],\"scatterpolargl\":[{\"type\":\"scatterpolargl\",\"marker\":{\"colorbar\":{\"outlinewidth\":0,\"ticks\":\"\"}}}],\"bar\":[{\"error_x\":{\"color\":\"#2a3f5f\"},\"error_y\":{\"color\":\"#2a3f5f\"},\"marker\":{\"line\":{\"color\":\"#E5ECF6\",\"width\":0.5},\"pattern\":{\"fillmode\":\"overlay\",\"size\":10,\"solidity\":0.2}},\"type\":\"bar\"}],\"scattergeo\":[{\"type\":\"scattergeo\",\"marker\":{\"colorbar\":{\"outlinewidth\":0,\"ticks\":\"\"}}}],\"scatterpolar\":[{\"type\":\"scatterpolar\",\"marker\":{\"colorbar\":{\"outlinewidth\":0,\"ticks\":\"\"}}}],\"histogram\":[{\"marker\":{\"pattern\":{\"fillmode\":\"overlay\",\"size\":10,\"solidity\":0.2}},\"type\":\"histogram\"}],\"scattergl\":[{\"type\":\"scattergl\",\"marker\":{\"colorbar\":{\"outlinewidth\":0,\"ticks\":\"\"}}}],\"scatter3d\":[{\"type\":\"scatter3d\",\"line\":{\"colorbar\":{\"outlinewidth\":0,\"ticks\":\"\"}},\"marker\":{\"colorbar\":{\"outlinewidth\":0,\"ticks\":\"\"}}}],\"scattermapbox\":[{\"type\":\"scattermapbox\",\"marker\":{\"colorbar\":{\"outlinewidth\":0,\"ticks\":\"\"}}}],\"scatterternary\":[{\"type\":\"scatterternary\",\"marker\":{\"colorbar\":{\"outlinewidth\":0,\"ticks\":\"\"}}}],\"scattercarpet\":[{\"type\":\"scattercarpet\",\"marker\":{\"colorbar\":{\"outlinewidth\":0,\"ticks\":\"\"}}}],\"carpet\":[{\"aaxis\":{\"endlinecolor\":\"#2a3f5f\",\"gridcolor\":\"white\",\"linecolor\":\"white\",\"minorgridcolor\":\"white\",\"startlinecolor\":\"#2a3f5f\"},\"baxis\":{\"endlinecolor\":\"#2a3f5f\",\"gridcolor\":\"white\",\"linecolor\":\"white\",\"minorgridcolor\":\"white\",\"startlinecolor\":\"#2a3f5f\"},\"type\":\"carpet\"}],\"table\":[{\"cells\":{\"fill\":{\"color\":\"#EBF0F8\"},\"line\":{\"color\":\"white\"}},\"header\":{\"fill\":{\"color\":\"#C8D4E3\"},\"line\":{\"color\":\"white\"}},\"type\":\"table\"}],\"barpolar\":[{\"marker\":{\"line\":{\"color\":\"#E5ECF6\",\"width\":0.5},\"pattern\":{\"fillmode\":\"overlay\",\"size\":10,\"solidity\":0.2}},\"type\":\"barpolar\"}],\"pie\":[{\"automargin\":true,\"type\":\"pie\"}]},\"layout\":{\"autotypenumbers\":\"strict\",\"colorway\":[\"#636efa\",\"#EF553B\",\"#00cc96\",\"#ab63fa\",\"#FFA15A\",\"#19d3f3\",\"#FF6692\",\"#B6E880\",\"#FF97FF\",\"#FECB52\"],\"font\":{\"color\":\"#2a3f5f\"},\"hovermode\":\"closest\",\"hoverlabel\":{\"align\":\"left\"},\"paper_bgcolor\":\"white\",\"plot_bgcolor\":\"#E5ECF6\",\"polar\":{\"bgcolor\":\"#E5ECF6\",\"angularaxis\":{\"gridcolor\":\"white\",\"linecolor\":\"white\",\"ticks\":\"\"},\"radialaxis\":{\"gridcolor\":\"white\",\"linecolor\":\"white\",\"ticks\":\"\"}},\"ternary\":{\"bgcolor\":\"#E5ECF6\",\"aaxis\":{\"gridcolor\":\"white\",\"linecolor\":\"white\",\"ticks\":\"\"},\"baxis\":{\"gridcolor\":\"white\",\"linecolor\":\"white\",\"ticks\":\"\"},\"caxis\":{\"gridcolor\":\"white\",\"linecolor\":\"white\",\"ticks\":\"\"}},\"coloraxis\":{\"colorbar\":{\"outlinewidth\":0,\"ticks\":\"\"}},\"colorscale\":{\"sequential\":[[0.0,\"#0d0887\"],[0.1111111111111111,\"#46039f\"],[0.2222222222222222,\"#7201a8\"],[0.3333333333333333,\"#9c179e\"],[0.4444444444444444,\"#bd3786\"],[0.5555555555555556,\"#d8576b\"],[0.6666666666666666,\"#ed7953\"],[0.7777777777777778,\"#fb9f3a\"],[0.8888888888888888,\"#fdca26\"],[1.0,\"#f0f921\"]],\"sequentialminus\":[[0.0,\"#0d0887\"],[0.1111111111111111,\"#46039f\"],[0.2222222222222222,\"#7201a8\"],[0.3333333333333333,\"#9c179e\"],[0.4444444444444444,\"#bd3786\"],[0.5555555555555556,\"#d8576b\"],[0.6666666666666666,\"#ed7953\"],[0.7777777777777778,\"#fb9f3a\"],[0.8888888888888888,\"#fdca26\"],[1.0,\"#f0f921\"]],\"diverging\":[[0,\"#8e0152\"],[0.1,\"#c51b7d\"],[0.2,\"#de77ae\"],[0.3,\"#f1b6da\"],[0.4,\"#fde0ef\"],[0.5,\"#f7f7f7\"],[0.6,\"#e6f5d0\"],[0.7,\"#b8e186\"],[0.8,\"#7fbc41\"],[0.9,\"#4d9221\"],[1,\"#276419\"]]},\"xaxis\":{\"gridcolor\":\"white\",\"linecolor\":\"white\",\"ticks\":\"\",\"title\":{\"standoff\":15},\"zerolinecolor\":\"white\",\"automargin\":true,\"zerolinewidth\":2},\"yaxis\":{\"gridcolor\":\"white\",\"linecolor\":\"white\",\"ticks\":\"\",\"title\":{\"standoff\":15},\"zerolinecolor\":\"white\",\"automargin\":true,\"zerolinewidth\":2},\"scene\":{\"xaxis\":{\"backgroundcolor\":\"#E5ECF6\",\"gridcolor\":\"white\",\"linecolor\":\"white\",\"showbackground\":true,\"ticks\":\"\",\"zerolinecolor\":\"white\",\"gridwidth\":2},\"yaxis\":{\"backgroundcolor\":\"#E5ECF6\",\"gridcolor\":\"white\",\"linecolor\":\"white\",\"showbackground\":true,\"ticks\":\"\",\"zerolinecolor\":\"white\",\"gridwidth\":2},\"zaxis\":{\"backgroundcolor\":\"#E5ECF6\",\"gridcolor\":\"white\",\"linecolor\":\"white\",\"showbackground\":true,\"ticks\":\"\",\"zerolinecolor\":\"white\",\"gridwidth\":2}},\"shapedefaults\":{\"line\":{\"color\":\"#2a3f5f\"}},\"annotationdefaults\":{\"arrowcolor\":\"#2a3f5f\",\"arrowhead\":0,\"arrowwidth\":1},\"geo\":{\"bgcolor\":\"white\",\"landcolor\":\"#E5ECF6\",\"subunitcolor\":\"white\",\"showland\":true,\"showlakes\":true,\"lakecolor\":\"white\"},\"title\":{\"x\":0.05},\"mapbox\":{\"style\":\"light\"}}},\"xaxis\":{\"anchor\":\"y\",\"domain\":[0.0,1.0],\"title\":{\"text\":\"Cluster\"}},\"yaxis\":{\"anchor\":\"x\",\"domain\":[0.0,1.0],\"title\":{\"text\":\"R2\"}},\"coloraxis\":{\"colorbar\":{\"title\":{\"text\":\"Outliers\"}},\"colorscale\":[[0.0,\"#0d0887\"],[0.1111111111111111,\"#46039f\"],[0.2222222222222222,\"#7201a8\"],[0.3333333333333333,\"#9c179e\"],[0.4444444444444444,\"#bd3786\"],[0.5555555555555556,\"#d8576b\"],[0.6666666666666666,\"#ed7953\"],[0.7777777777777778,\"#fb9f3a\"],[0.8888888888888888,\"#fdca26\"],[1.0,\"#f0f921\"]]},\"legend\":{\"title\":{\"text\":\"version\"},\"tracegroupgap\":0},\"margin\":{\"t\":60}},                        {\"responsive\": true}                    ).then(function(){\n",
       "                            \n",
       "var gd = document.getElementById('3e0086a8-cc49-4976-9e2d-33457a1afd5a');\n",
       "var x = new MutationObserver(function (mutations, observer) {{\n",
       "        var display = window.getComputedStyle(gd).display;\n",
       "        if (!display || display === 'none') {{\n",
       "            console.log([gd, 'removed!']);\n",
       "            Plotly.purge(gd);\n",
       "            observer.disconnect();\n",
       "        }}\n",
       "}});\n",
       "\n",
       "// Listen for the removal of the full notebook cells\n",
       "var notebookContainer = gd.closest('#notebook-container');\n",
       "if (notebookContainer) {{\n",
       "    x.observe(notebookContainer, {childList: true});\n",
       "}}\n",
       "\n",
       "// Listen for the clearing of the current output cell\n",
       "var outputEl = gd.closest('.output');\n",
       "if (outputEl) {{\n",
       "    x.observe(outputEl, {childList: true});\n",
       "}}\n",
       "\n",
       "                        })                };                });            </script>        </div>"
      ]
     },
     "metadata": {},
     "output_type": "display_data"
    }
   ],
   "source": [
    "px.scatter(df_models,x='Cluster',y='R2',color='Outliers',symbol='version')"
   ]
  },
  {
   "cell_type": "code",
   "execution_count": 58,
   "id": "30c38408",
   "metadata": {},
   "outputs": [
    {
     "ename": "TypeError",
     "evalue": "'numpy.float64' object is not callable",
     "output_type": "error",
     "traceback": [
      "\u001b[1;31m---------------------------------------------------------------------------\u001b[0m",
      "\u001b[1;31mTypeError\u001b[0m                                 Traceback (most recent call last)",
      "Cell \u001b[1;32mIn [58], line 1\u001b[0m\n\u001b[1;32m----> 1\u001b[0m mse \u001b[38;5;241m=\u001b[39m \u001b[43mmse\u001b[49m\u001b[43m(\u001b[49m\u001b[43my_hat\u001b[49m\u001b[43m,\u001b[49m\u001b[43my_train\u001b[49m\u001b[38;5;241;43m.\u001b[39;49m\u001b[43mdrop\u001b[49m\u001b[43m(\u001b[49m\u001b[43mindex\u001b[49m\u001b[38;5;241;43m=\u001b[39;49m\u001b[43mindex\u001b[49m\u001b[43m)\u001b[49m\u001b[43m,\u001b[49m\u001b[43msquared\u001b[49m\u001b[38;5;241;43m=\u001b[39;49m\u001b[38;5;28;43;01mFalse\u001b[39;49;00m\u001b[43m)\u001b[49m\n",
      "\u001b[1;31mTypeError\u001b[0m: 'numpy.float64' object is not callable"
     ]
    }
   ],
   "source": [
    "mse = mse(y_hat,y_train.drop(index=index),squared=False)"
   ]
  },
  {
   "cell_type": "code",
   "execution_count": 39,
   "id": "aff3a5fa",
   "metadata": {},
   "outputs": [],
   "source": [
    "modelos_2 = modelos[:]"
   ]
  },
  {
   "cell_type": "code",
   "execution_count": 34,
   "id": "134afe2b",
   "metadata": {},
   "outputs": [
    {
     "data": {
      "text/plain": [
       "{'outliers': 0,\n",
       " 'cluster': 0,\n",
       " 'version': 0,\n",
       " 'modelo': RandomizedSearchCV(cv=4, estimator=RandomForestRegressor(), n_iter=200,\n",
       "                    n_jobs=-1,\n",
       "                    param_distributions={'bootstrap': [True, False],\n",
       "                                         'max_features': ['auto'],\n",
       "                                         'min_samples_split': [2, 5, 10],\n",
       "                                         'n_estimators': [200, 300, 400, 500,\n",
       "                                                          600]},\n",
       "                    scoring='neg_root_mean_squared_error', verbose=100)}"
      ]
     },
     "execution_count": 34,
     "metadata": {},
     "output_type": "execute_result"
    }
   ],
   "source": [
    "modelos[0]"
   ]
  },
  {
   "cell_type": "code",
   "execution_count": 35,
   "id": "bff5e96e",
   "metadata": {},
   "outputs": [
    {
     "name": "stdout",
     "output_type": "stream",
     "text": [
      "RandomForestRegressor(n_estimators=600)\n",
      "{'n_estimators': 600, 'min_samples_split': 2, 'max_features': 'auto', 'bootstrap': True}\n",
      "RandomForestRegressor(n_estimators=300)\n",
      "{'n_estimators': 300, 'min_samples_split': 2, 'max_features': 'auto', 'bootstrap': True}\n",
      "RandomForestRegressor(n_estimators=500)\n",
      "{'n_estimators': 500, 'min_samples_split': 2, 'max_features': 'auto', 'bootstrap': True}\n",
      "RandomForestRegressor(n_estimators=600)\n",
      "{'n_estimators': 600, 'min_samples_split': 2, 'max_features': 'auto', 'bootstrap': True}\n",
      "RandomForestRegressor(n_estimators=500)\n",
      "{'n_estimators': 500, 'min_samples_split': 2, 'max_features': 'auto', 'bootstrap': True}\n",
      "RandomForestRegressor(n_estimators=600)\n",
      "{'n_estimators': 600, 'min_samples_split': 2, 'max_features': 'auto', 'bootstrap': True}\n",
      "RandomForestRegressor(n_estimators=300)\n",
      "{'n_estimators': 300, 'min_samples_split': 2, 'max_features': 'auto', 'bootstrap': True}\n",
      "RandomForestRegressor(n_estimators=400)\n",
      "{'n_estimators': 400, 'min_samples_split': 2, 'max_features': 'auto', 'bootstrap': True}\n",
      "RandomForestRegressor(n_estimators=600)\n",
      "{'n_estimators': 600, 'min_samples_split': 2, 'max_features': 'auto', 'bootstrap': True}\n",
      "RandomForestRegressor(n_estimators=500)\n",
      "{'n_estimators': 500, 'min_samples_split': 2, 'max_features': 'auto', 'bootstrap': True}\n",
      "RandomForestRegressor(n_estimators=200)\n",
      "{'n_estimators': 200, 'min_samples_split': 2, 'max_features': 'auto', 'bootstrap': True}\n",
      "RandomForestRegressor(n_estimators=300)\n",
      "{'n_estimators': 300, 'min_samples_split': 2, 'max_features': 'auto', 'bootstrap': True}\n"
     ]
    }
   ],
   "source": [
    "for modelo in modelos:\n",
    "    print(modelo['modelo'].best_estimator_)\n",
    "    print(modelo['modelo'].best_params_)"
   ]
  },
  {
   "cell_type": "code",
   "execution_count": null,
   "id": "847ab2d3",
   "metadata": {},
   "outputs": [],
   "source": []
  }
 ],
 "metadata": {
  "kernelspec": {
   "display_name": "Python 3 (ipykernel)",
   "language": "python",
   "name": "python3"
  },
  "language_info": {
   "codemirror_mode": {
    "name": "ipython",
    "version": 3
   },
   "file_extension": ".py",
   "mimetype": "text/x-python",
   "name": "python",
   "nbconvert_exporter": "python",
   "pygments_lexer": "ipython3",
   "version": "3.9.15"
  },
  "varInspector": {
   "cols": {
    "lenName": 16,
    "lenType": 16,
    "lenVar": 40
   },
   "kernels_config": {
    "python": {
     "delete_cmd_postfix": "",
     "delete_cmd_prefix": "del ",
     "library": "var_list.py",
     "varRefreshCmd": "print(var_dic_list())"
    },
    "r": {
     "delete_cmd_postfix": ") ",
     "delete_cmd_prefix": "rm(",
     "library": "var_list.r",
     "varRefreshCmd": "cat(var_dic_list()) "
    }
   },
   "types_to_exclude": [
    "module",
    "function",
    "builtin_function_or_method",
    "instance",
    "_Feature"
   ],
   "window_display": false
  }
 },
 "nbformat": 4,
 "nbformat_minor": 5
}
